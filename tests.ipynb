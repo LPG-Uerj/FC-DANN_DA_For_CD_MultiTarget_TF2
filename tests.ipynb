{
 "cells": [
  {
   "cell_type": "code",
   "execution_count": 2,
   "metadata": {},
   "outputs": [],
   "source": [
    "import tensorflow as tf"
   ]
  },
  {
   "cell_type": "code",
   "execution_count": 11,
   "metadata": {},
   "outputs": [
    {
     "name": "stdout",
     "output_type": "stream",
     "text": [
      "(1, 4, 4, 1)\n",
      "tf.Tensor(\n",
      "[[[[1.8174407 ]\n",
      "   [0.98337185]]\n",
      "\n",
      "  [[0.78887016]\n",
      "   [0.79055876]]]], shape=(1, 2, 2, 1), dtype=float32)\n",
      "tf.Tensor(\n",
      "[[[[1.8174407 ]\n",
      "   [0.98337185]]\n",
      "\n",
      "  [[0.78887016]\n",
      "   [0.79055876]]]], shape=(1, 2, 2, 1), dtype=float32)\n"
     ]
    }
   ],
   "source": [
    "x = tf.random.normal([1,4,4,1], 0, 1, tf.float32)\n",
    "\n",
    "\n",
    "print(x.shape)\n",
    "\n",
    "y = tf.keras.layers.MaxPooling2D((2, 2))(x)\n",
    "y2 = tf.keras.layers.MaxPooling2D(2, 2)(x)\n",
    "\n",
    "print(y)\n",
    "print(y2)"
   ]
  },
  {
   "cell_type": "code",
   "execution_count": 14,
   "metadata": {},
   "outputs": [
    {
     "name": "stdout",
     "output_type": "stream",
     "text": [
      "(10, 8, 8, 2048)\n",
      "(10, 1, 1, 2048)\n",
      "(10, 8, 8, 256)\n",
      "(10, 8, 8, 1280)\n",
      "(10, 8, 8, 256)\n"
     ]
    }
   ],
   "source": [
    "import tensorflow as tf\n",
    "import numpy as np\n",
    "from layers import ReshapeTensor, ExpandDimensions\n",
    "\n",
    "inputs = tf.random.normal([10,8,8,2048])\n",
    "\n",
    "depth = 256\n",
    "atrous_rates = (1,2,3)\n",
    "kernel_size = 3\n",
    "stride = 1\n",
    "rate = 1\n",
    "\n",
    "depth_padding = 'same'\n",
    "\n",
    "inputs_size = tf.shape(inputs)[1:3]\n",
    "\n",
    "conv_1x1 = tf.keras.layers.Conv2D(depth, 1, strides=1, padding=depth_padding, dilation_rate=1, use_bias = False)(inputs)\n",
    "conv_3x3_1 = tf.keras.layers.Conv2D(depth, 3, strides=1, padding=depth_padding, dilation_rate=atrous_rates[0], use_bias = False)(inputs)\n",
    "conv_3x3_2 = tf.keras.layers.Conv2D(depth, 3, strides=1, padding=depth_padding, dilation_rate=atrous_rates[1], use_bias = False)(inputs)\n",
    "conv_3x3_3 = tf.keras.layers.Conv2D(depth, 3, strides=1, padding=depth_padding, dilation_rate=atrous_rates[2], use_bias = False)(inputs)\n",
    "\n",
    "print(np.shape(inputs))\n",
    "# global average pooling\n",
    "\n",
    "\n",
    "image_level_features = tf.keras.layers.GlobalAveragePooling2D(keepdims=True)(inputs)\n",
    "print(np.shape(image_level_features))\n",
    "\n",
    "image_level_features = tf.keras.layers.Conv2D(depth, 1, strides=1)(image_level_features)\n",
    "        \n",
    "#bilinearly upsample features\n",
    "image_level_features = ReshapeTensor(inputs_size)(image_level_features)\n",
    "\n",
    "print(np.shape(image_level_features))\n",
    "\n",
    "net = tf.keras.layers.Concatenate(axis=3)([conv_1x1, conv_3x3_1, conv_3x3_2, conv_3x3_3, image_level_features])        \n",
    "print(net.shape)\n",
    "net = tf.keras.layers.Conv2D(depth, 1, strides=1)(net)\n",
    "print(net.shape)\n",
    " "
   ]
  }
 ],
 "metadata": {
  "kernelspec": {
   "display_name": "tf2env",
   "language": "python",
   "name": "python3"
  },
  "language_info": {
   "codemirror_mode": {
    "name": "ipython",
    "version": 3
   },
   "file_extension": ".py",
   "mimetype": "text/x-python",
   "name": "python",
   "nbconvert_exporter": "python",
   "pygments_lexer": "ipython3",
   "version": "3.9.15"
  },
  "orig_nbformat": 4,
  "vscode": {
   "interpreter": {
    "hash": "13610f3a927a141f8009e4e8714644d2f09f59444a92c80791a037b1b8540b5f"
   }
  }
 },
 "nbformat": 4,
 "nbformat_minor": 2
}
