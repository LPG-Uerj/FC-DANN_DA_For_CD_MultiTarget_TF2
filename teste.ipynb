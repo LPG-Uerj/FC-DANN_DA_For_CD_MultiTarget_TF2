{
 "cells": [
  {
   "cell_type": "code",
   "execution_count": 9,
   "metadata": {},
   "outputs": [
    {
     "name": "stdout",
     "output_type": "stream",
     "text": [
      "[4.7693458 3.2580965 4.7693458 3.2580965 4.7693458 3.2580965]\n"
     ]
    }
   ],
   "source": [
    "import tensorflow as tf\n",
    "\n",
    "y_true = [[0, 1], [0, 1],[0, 1], [0, 1],[0, 1], [0, 1]]\n",
    "y_pred = [[111, 0.95], [20, 0.8],[111, 0.95], [20, 0.8], [111, 0.95], [20, 0.8]]\n",
    "loss = tf.keras.losses.categorical_crossentropy(y_true, y_pred)\n",
    "#assert loss.shape == (2,)\n",
    "print(loss.numpy())"
   ]
  },
  {
   "cell_type": "code",
   "execution_count": 2,
   "metadata": {},
   "outputs": [
    {
     "name": "stdout",
     "output_type": "stream",
     "text": [
      "Random array with shape (32, 2):\n",
      "[[1 1]\n",
      " [1 0]\n",
      " [1 1]\n",
      " [0 0]\n",
      " [0 1]\n",
      " [0 0]\n",
      " [1 0]\n",
      " [1 1]\n",
      " [0 0]\n",
      " [1 1]\n",
      " [1 1]\n",
      " [0 0]\n",
      " [1 1]\n",
      " [1 0]\n",
      " [1 1]\n",
      " [0 1]\n",
      " [0 0]\n",
      " [0 0]\n",
      " [0 0]\n",
      " [0 0]\n",
      " [1 1]\n",
      " [0 1]\n",
      " [1 1]\n",
      " [1 1]\n",
      " [0 1]\n",
      " [0 0]\n",
      " [0 0]\n",
      " [1 1]\n",
      " [0 1]\n",
      " [0 0]\n",
      " [0 0]\n",
      " [1 0]]\n"
     ]
    }
   ],
   "source": [
    "import numpy as np\n",
    "\n",
    "# Create a random array with shape (32, 2) containing only 0s and 1s\n",
    "random_array = np.random.randint(2, size=(32, 2))\n",
    "\n",
    "print(\"Random array with shape (32, 2):\")\n",
    "print(random_array)\n"
   ]
  },
  {
   "cell_type": "code",
   "execution_count": null,
   "metadata": {},
   "outputs": [],
   "source": [
    "import numpy as np\n",
    "\n",
    "# Create a random array with shape (32, 2) containing only 0s and 1s\n",
    "random_array = np.random.randint(2, size=(32, 2))\n",
    "\n",
    "print(\"Random array with shape (32, 2):\")\n",
    "print(random_array)\n"
   ]
  },
  {
   "cell_type": "code",
   "execution_count": 10,
   "metadata": {},
   "outputs": [
    {
     "name": "stdout",
     "output_type": "stream",
     "text": [
      "Original array: [1 2 3 1 2 1 3 4 5 4 5 5]\n",
      "Unique elements: [1 2 3 4 5]\n",
      "Counts: [3 2 2 2 3]\n",
      "Frequency array: [3 2 2 2 3]\n"
     ]
    }
   ],
   "source": [
    "import numpy as np\n",
    "\n",
    "# Example 1D array\n",
    "original_array = np.array([1, 2, 3, 1, 2, 1, 3, 4, 5, 4, 5, 5])\n",
    "\n",
    "# Calculate the frequency of each unique element\n",
    "unique_elements, counts = np.unique(original_array, return_counts=True)\n",
    "\n",
    "# Create a frequency array based on the occurrences\n",
    "frequency_array = np.zeros_like(unique_elements)\n",
    "\n",
    "for element, count in zip(unique_elements, counts):\n",
    "    frequency_array[element - 1] = count\n",
    "\n",
    "print(\"Original array:\", original_array)\n",
    "print(\"Unique elements:\", unique_elements)\n",
    "print(\"Counts:\", counts)\n",
    "print(\"Frequency array:\", frequency_array)\n"
   ]
  },
  {
   "cell_type": "code",
   "execution_count": 10,
   "metadata": {},
   "outputs": [
    {
     "name": "stdout",
     "output_type": "stream",
     "text": [
      "(150, 4)\n",
      "(150,)\n"
     ]
    }
   ],
   "source": [
    "from sklearn import datasets\n",
    "\n",
    "iris = datasets.load_iris()\n",
    "x, y = iris[\"data\"], iris[\"target\"]\n",
    "\n",
    "print(np.shape(x))\n",
    "print(np.shape(y))"
   ]
  },
  {
   "cell_type": "code",
   "execution_count": 11,
   "metadata": {},
   "outputs": [],
   "source": [
    "from openTSNE import TSNE\n",
    "\n",
    "embedding = TSNE().fit(x)"
   ]
  },
  {
   "cell_type": "code",
   "execution_count": 13,
   "metadata": {},
   "outputs": [
    {
     "data": {
      "text/plain": [
       "([],\n",
       " [],\n",
       " (-8.577521949700085,\n",
       "  7.5330015394576995,\n",
       "  -14.223160873491842,\n",
       "  22.11578590622979))"
      ]
     },
     "execution_count": 13,
     "metadata": {},
     "output_type": "execute_result"
    },
    {
     "data": {
      "image/png": "[encoded data removed]",
      "text/plain": [
       "<Figure size 800x800 with 1 Axes>"
      ]
     },
     "metadata": {},
     "output_type": "display_data"
    }
   ],
   "source": [
    "import numpy as np\n",
    "import matplotlib.pyplot as plt\n",
    "#np.shape(embedding)\n",
    "\n",
    "_, ax = plt.subplots(figsize=(8, 8))\n",
    "ax.scatter(embedding[:, 0], embedding[:, 1], s=10)\n",
    "\n",
    "ax.set_xticks([]), ax.set_yticks([]), ax.axis('off')"
   ]
  },
  {
   "cell_type": "code",
   "execution_count": 3,
   "metadata": {},
   "outputs": [
    {
     "ename": "ModuleNotFoundError",
     "evalue": "No module named 'examples'",
     "output_type": "error",
     "traceback": [
      "\u001b[0;31m---------------------------------------------------------------------------\u001b[0m",
      "\u001b[0;31mModuleNotFoundError\u001b[0m                       Traceback (most recent call last)",
      "\u001b[1;32m/Users/luizm/workspace/GitHub/FC-DANN_DA_For_CD_MultiTarget_TF2/teste.ipynb Cell 8\u001b[0m line \u001b[0;36m3\n\u001b[1;32m      <a href='vscode-notebook-cell:/Users/luizm/workspace/GitHub/FC-DANN_DA_For_CD_MultiTarget_TF2/teste.ipynb#W6sZmlsZQ%3D%3D?line=0'>1</a>\u001b[0m \u001b[39mfrom\u001b[39;00m \u001b[39mopenTSNE\u001b[39;00m \u001b[39mimport\u001b[39;00m TSNE\n\u001b[0;32m----> <a href='vscode-notebook-cell:/Users/luizm/workspace/GitHub/FC-DANN_DA_For_CD_MultiTarget_TF2/teste.ipynb#W6sZmlsZQ%3D%3D?line=2'>3</a>\u001b[0m \u001b[39mfrom\u001b[39;00m \u001b[39mexamples\u001b[39;00m \u001b[39mimport\u001b[39;00m utils\n\u001b[1;32m      <a href='vscode-notebook-cell:/Users/luizm/workspace/GitHub/FC-DANN_DA_For_CD_MultiTarget_TF2/teste.ipynb#W6sZmlsZQ%3D%3D?line=4'>5</a>\u001b[0m \u001b[39mimport\u001b[39;00m \u001b[39mnumpy\u001b[39;00m \u001b[39mas\u001b[39;00m \u001b[39mnp\u001b[39;00m\n\u001b[1;32m      <a href='vscode-notebook-cell:/Users/luizm/workspace/GitHub/FC-DANN_DA_For_CD_MultiTarget_TF2/teste.ipynb#W6sZmlsZQ%3D%3D?line=5'>6</a>\u001b[0m \u001b[39mfrom\u001b[39;00m \u001b[39msklearn\u001b[39;00m\u001b[39m.\u001b[39;00m\u001b[39mmodel_selection\u001b[39;00m \u001b[39mimport\u001b[39;00m train_test_split\n",
      "\u001b[0;31mModuleNotFoundError\u001b[0m: No module named 'examples'"
     ]
    }
   ],
   "source": [
    "from openTSNE import TSNE\n",
    "\n",
    "from examples import utils\n",
    "\n",
    "import numpy as np\n",
    "from sklearn.model_selection import train_test_split\n",
    "\n",
    "import matplotlib.pyplot as plt"
   ]
  },
  {
   "cell_type": "code",
   "execution_count": 22,
   "metadata": {},
   "outputs": [
    {
     "name": "stdout",
     "output_type": "stream",
     "text": [
      "tf.Tensor(nan, shape=(), dtype=float64)\n",
      "tf.Tensor(0.0, shape=(), dtype=float64)\n",
      "tf.Tensor(nan, shape=(), dtype=float64)\n"
     ]
    }
   ],
   "source": [
    "import tensorflow as tf\n",
    "import numpy as np\n",
    "\n",
    "loss = 5\n",
    "\n",
    "mask = np.zeros(10)\n",
    "\n",
    "classifier_loss = 2\n",
    "\n",
    "safe_classifier = tf.math.divide_no_nan(tf.reduce_sum(mask * loss), tf.reduce_sum(mask))\n",
    "classifier_loss +=  tf.reduce_sum(mask * loss) / tf.reduce_sum(mask)\n",
    "\n",
    "print(classifier_loss)\n",
    "print(safe_classifier)\n",
    "print(tf.reduce_sum(classifier_loss))"
   ]
  },
  {
   "cell_type": "code",
   "execution_count": 24,
   "metadata": {},
   "outputs": [
    {
     "ename": "ValueError",
     "evalue": "Shapes (150,) and (150, 2) are incompatible",
     "output_type": "error",
     "traceback": [
      "\u001b[0;31m---------------------------------------------------------------------------\u001b[0m",
      "\u001b[0;31mValueError\u001b[0m                                Traceback (most recent call last)",
      "\u001b[1;32m/Users/luizm/workspace/GitHub/FC-DANN_DA_For_CD_MultiTarget_TF2/teste.ipynb Cell 10\u001b[0m line \u001b[0;36m6\n\u001b[1;32m      <a href='vscode-notebook-cell:/Users/luizm/workspace/GitHub/FC-DANN_DA_For_CD_MultiTarget_TF2/teste.ipynb#X12sZmlsZQ%3D%3D?line=3'>4</a>\u001b[0m \u001b[39mwith\u001b[39;00m tf\u001b[39m.\u001b[39mGradientTape() \u001b[39mas\u001b[39;00m g:\n\u001b[1;32m      <a href='vscode-notebook-cell:/Users/luizm/workspace/GitHub/FC-DANN_DA_For_CD_MultiTarget_TF2/teste.ipynb#X12sZmlsZQ%3D%3D?line=4'>5</a>\u001b[0m   z \u001b[39m=\u001b[39m tf\u001b[39m.\u001b[39mkeras\u001b[39m.\u001b[39mSequential(tf\u001b[39m.\u001b[39mkeras\u001b[39m.\u001b[39mlayers\u001b[39m.\u001b[39mDense(\u001b[39m2\u001b[39m, activation \u001b[39m=\u001b[39m \u001b[39m\"\u001b[39m\u001b[39msoftmax\u001b[39m\u001b[39m\"\u001b[39m, use_bias \u001b[39m=\u001b[39m \u001b[39mFalse\u001b[39;00m))(x)\n\u001b[0;32m----> <a href='vscode-notebook-cell:/Users/luizm/workspace/GitHub/FC-DANN_DA_For_CD_MultiTarget_TF2/teste.ipynb#X12sZmlsZQ%3D%3D?line=5'>6</a>\u001b[0m   z \u001b[39m=\u001b[39m tf\u001b[39m.\u001b[39mlosses\u001b[39m.\u001b[39mcategorical_crossentropy(y, z)\n\u001b[1;32m      <a href='vscode-notebook-cell:/Users/luizm/workspace/GitHub/FC-DANN_DA_For_CD_MultiTarget_TF2/teste.ipynb#X12sZmlsZQ%3D%3D?line=6'>7</a>\u001b[0m dz_dx \u001b[39m=\u001b[39m g\u001b[39m.\u001b[39mgradient(z, x)\n",
      "File \u001b[0;32m~/miniconda3/envs/tf2env/lib/python3.11/site-packages/tensorflow/python/util/traceback_utils.py:153\u001b[0m, in \u001b[0;36mfilter_traceback.<locals>.error_handler\u001b[0;34m(*args, **kwargs)\u001b[0m\n\u001b[1;32m    151\u001b[0m \u001b[39mexcept\u001b[39;00m \u001b[39mException\u001b[39;00m \u001b[39mas\u001b[39;00m e:\n\u001b[1;32m    152\u001b[0m   filtered_tb \u001b[39m=\u001b[39m _process_traceback_frames(e\u001b[39m.\u001b[39m__traceback__)\n\u001b[0;32m--> 153\u001b[0m   \u001b[39mraise\u001b[39;00m e\u001b[39m.\u001b[39mwith_traceback(filtered_tb) \u001b[39mfrom\u001b[39;00m \u001b[39mNone\u001b[39;00m\n\u001b[1;32m    154\u001b[0m \u001b[39mfinally\u001b[39;00m:\n\u001b[1;32m    155\u001b[0m   \u001b[39mdel\u001b[39;00m filtered_tb\n",
      "File \u001b[0;32m~/miniconda3/envs/tf2env/lib/python3.11/site-packages/keras/src/losses.py:2122\u001b[0m, in \u001b[0;36mcategorical_crossentropy\u001b[0;34m(y_true, y_pred, from_logits, label_smoothing, axis)\u001b[0m\n\u001b[1;32m   2114\u001b[0m     \u001b[39mreturn\u001b[39;00m y_true \u001b[39m*\u001b[39m (\u001b[39m1.0\u001b[39m \u001b[39m-\u001b[39m label_smoothing) \u001b[39m+\u001b[39m (\n\u001b[1;32m   2115\u001b[0m         label_smoothing \u001b[39m/\u001b[39m num_classes\n\u001b[1;32m   2116\u001b[0m     )\n\u001b[1;32m   2118\u001b[0m y_true \u001b[39m=\u001b[39m tf\u001b[39m.\u001b[39m__internal__\u001b[39m.\u001b[39msmart_cond\u001b[39m.\u001b[39msmart_cond(\n\u001b[1;32m   2119\u001b[0m     label_smoothing, _smooth_labels, \u001b[39mlambda\u001b[39;00m: y_true\n\u001b[1;32m   2120\u001b[0m )\n\u001b[0;32m-> 2122\u001b[0m \u001b[39mreturn\u001b[39;00m backend\u001b[39m.\u001b[39mcategorical_crossentropy(\n\u001b[1;32m   2123\u001b[0m     y_true, y_pred, from_logits\u001b[39m=\u001b[39mfrom_logits, axis\u001b[39m=\u001b[39maxis\n\u001b[1;32m   2124\u001b[0m )\n",
      "File \u001b[0;32m~/miniconda3/envs/tf2env/lib/python3.11/site-packages/keras/src/backend.py:5560\u001b[0m, in \u001b[0;36mcategorical_crossentropy\u001b[0;34m(target, output, from_logits, axis)\u001b[0m\n\u001b[1;32m   5558\u001b[0m target \u001b[39m=\u001b[39m tf\u001b[39m.\u001b[39mconvert_to_tensor(target)\n\u001b[1;32m   5559\u001b[0m output \u001b[39m=\u001b[39m tf\u001b[39m.\u001b[39mconvert_to_tensor(output)\n\u001b[0;32m-> 5560\u001b[0m target\u001b[39m.\u001b[39mshape\u001b[39m.\u001b[39massert_is_compatible_with(output\u001b[39m.\u001b[39mshape)\n\u001b[1;32m   5562\u001b[0m output, from_logits \u001b[39m=\u001b[39m _get_logits(\n\u001b[1;32m   5563\u001b[0m     output, from_logits, \u001b[39m\"\u001b[39m\u001b[39mSoftmax\u001b[39m\u001b[39m\"\u001b[39m, \u001b[39m\"\u001b[39m\u001b[39mcategorical_crossentropy\u001b[39m\u001b[39m\"\u001b[39m\n\u001b[1;32m   5564\u001b[0m )\n\u001b[1;32m   5565\u001b[0m \u001b[39mif\u001b[39;00m from_logits:\n",
      "\u001b[0;31mValueError\u001b[0m: Shapes (150,) and (150, 2) are incompatible"
     ]
    }
   ],
   "source": [
    "import tensorflow as tf\n",
    "import numpy as np\n",
    "\n",
    "with tf.GradientTape() as g:\n",
    "  z = tf.keras.Sequential(tf.keras.layers.Dense(2, activation = \"softmax\", use_bias = False))(x)\n",
    "  z = tf.losses.categorical_crossentropy(y, z)\n",
    "dz_dx = g.gradient(z, x)"
   ]
  }
 ],
 "metadata": {
  "kernelspec": {
   "display_name": "tf2env",
   "language": "python",
   "name": "python3"
  },
  "language_info": {
   "codemirror_mode": {
    "name": "ipython",
    "version": 3
   },
   "file_extension": ".py",
   "mimetype": "text/x-python",
   "name": "python",
   "nbconvert_exporter": "python",
   "pygments_lexer": "ipython3",
   "version": "3.11.4"
  }
 },
 "nbformat": 4,
 "nbformat_minor": 2
}
