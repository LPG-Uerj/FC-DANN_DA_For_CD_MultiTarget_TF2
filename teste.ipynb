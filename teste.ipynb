{
 "cells": [
  {
   "cell_type": "code",
   "execution_count": 9,
   "metadata": {},
   "outputs": [
    {
     "name": "stdout",
     "output_type": "stream",
     "text": [
      "[4.7693458 3.2580965 4.7693458 3.2580965 4.7693458 3.2580965]\n"
     ]
    }
   ],
   "source": [
    "import tensorflow as tf\n",
    "\n",
    "y_true = [[0, 1], [0, 1],[0, 1], [0, 1],[0, 1], [0, 1]]\n",
    "y_pred = [[111, 0.95], [20, 0.8],[111, 0.95], [20, 0.8], [111, 0.95], [20, 0.8]]\n",
    "loss = tf.keras.losses.categorical_crossentropy(y_true, y_pred)\n",
    "#assert loss.shape == (2,)\n",
    "print(loss.numpy())"
   ]
  },
  {
   "cell_type": "code",
   "execution_count": 19,
   "metadata": {},
   "outputs": [
    {
     "name": "stdout",
     "output_type": "stream",
     "text": [
      "1.1588303\n",
      "0.56368005\n"
     ]
    }
   ],
   "source": [
    "import tensorflow as tf\n",
    "import numpy as np\n",
    "\n",
    "a = tf.keras.utils.to_categorical([0, 1, 2, 3], num_classes=4)\n",
    "\n",
    "y_true = tf.keras.utils.to_categorical([0, 0, 0, 0], num_classes=2)\n",
    "\n",
    "y_pred = [[0.01, 0.99], [0.99, 0.01], [0.99, 0.01], [0.99, 0.01]]\n",
    "\n",
    "cce = tf.keras.losses.CategoricalCrossentropy()\n",
    "print(cce(y_true, y_pred).numpy())\n",
    "\n",
    "\n",
    "domainregressor_loss = tf.reduce_mean(tf.compat.v1.losses.softmax_cross_entropy(y_true, y_pred)).numpy()\n",
    "\n",
    "print(domainregressor_loss)"
   ]
  },
  {
   "cell_type": "code",
   "execution_count": 27,
   "metadata": {},
   "outputs": [
    {
     "name": "stdout",
     "output_type": "stream",
     "text": [
      "1.3877425\n",
      "1.3877425\n",
      "1.3877425\n"
     ]
    }
   ],
   "source": [
    "import tensorflow as tf\n",
    "from keras.losses import CategoricalCrossentropy\n",
    "\n",
    "\n",
    "logits = [[4.0, 2.0], [1.0, 5.0,], [1.0, 5.0]]\n",
    "labels = [[1, 0], [0, 1], [1, 0]]\n",
    "\n",
    "#logits = [[-1000.0, 1000.0]]\n",
    "#labels = [[1.0, 0.0]]\n",
    "\n",
    "cce = tf.keras.losses.CategoricalCrossentropy(from_logits=True)\n",
    "result = cce(labels, logits).numpy()\n",
    "\n",
    "print(result)\n",
    "\n",
    "\n",
    "domainregressor_loss = tf.reduce_mean(tf.nn.softmax_cross_entropy_with_logits(logits = logits, labels = labels)).numpy()\n",
    "\n",
    "print(domainregressor_loss)\n",
    "\n",
    "softmax = tf.nn.softmax(logits)\n",
    "\n",
    "#print(softmax)\n",
    "\n",
    "cce2 = tf.keras.losses.CategoricalCrossentropy(from_logits=False)\n",
    "result2 = cce2(labels, softmax).numpy()\n",
    "\n",
    "print(result2)"
   ]
  },
  {
   "cell_type": "code",
   "execution_count": 1,
   "metadata": {},
   "outputs": [
    {
     "ename": "ModuleNotFoundError",
     "evalue": "No module named 'tensorflow'",
     "output_type": "error",
     "traceback": [
      "\u001b[0;31m---------------------------------------------------------------------------\u001b[0m",
      "\u001b[0;31mModuleNotFoundError\u001b[0m                       Traceback (most recent call last)",
      "Cell \u001b[0;32mIn[1], line 1\u001b[0m\n\u001b[0;32m----> 1\u001b[0m \u001b[38;5;28;01mimport\u001b[39;00m \u001b[38;5;21;01mtensorflow\u001b[39;00m \u001b[38;5;28;01mas\u001b[39;00m \u001b[38;5;21;01mtf\u001b[39;00m\n\u001b[1;32m      2\u001b[0m \u001b[38;5;28;01mfrom\u001b[39;00m \u001b[38;5;21;01mkeras\u001b[39;00m\u001b[38;5;21;01m.\u001b[39;00m\u001b[38;5;21;01mlosses\u001b[39;00m \u001b[38;5;28;01mimport\u001b[39;00m CategoricalCrossentropy\n\u001b[1;32m      5\u001b[0m logits \u001b[38;5;241m=\u001b[39m [[\u001b[38;5;241m4.0\u001b[39m, \u001b[38;5;241m2.0\u001b[39m], [\u001b[38;5;241m1.0\u001b[39m, \u001b[38;5;241m5.0\u001b[39m,], [\u001b[38;5;241m1.0\u001b[39m, \u001b[38;5;241m5.0\u001b[39m]]\n",
      "\u001b[0;31mModuleNotFoundError\u001b[0m: No module named 'tensorflow'"
     ]
    }
   ],
   "source": [
    "import tensorflow as tf\n",
    "from keras.losses import CategoricalCrossentropy\n",
    "\n",
    "\n",
    "logits = [[4.0, 2.0], [1.0, 5.0,], [1.0, 5.0]]\n",
    "labels = [[1, 0], [0, 1], [1, 0]]\n",
    "\n",
    "#logits = [[-1000.0, 1000.0]]\n",
    "#labels = [[1.0, 0.0]]\n",
    "\n",
    "cce = tf.keras.losses.CategoricalCrossentropy(from_logits=True)\n",
    "result = cce(labels, logits).numpy()\n",
    "\n",
    "print(result)\n",
    "\n",
    "\n",
    "domainregressor_loss = tf.reduce_mean(tf.nn.softmax_cross_entropy_with_logits(logits = logits, labels = labels)).numpy()\n",
    "\n",
    "print(domainregressor_loss)\n",
    "\n",
    "softmax = tf.nn.softmax(logits)\n",
    "\n",
    "#print(softmax)\n",
    "\n",
    "cce2 = tf.keras.losses.CategoricalCrossentropy(from_logits=False)\n",
    "result2 = cce2(labels, softmax).numpy()\n",
    "\n",
    "print(result2)"
   ]
  },
  {
   "cell_type": "code",
   "execution_count": 10,
   "metadata": {},
   "outputs": [
    {
     "name": "stdout",
     "output_type": "stream",
     "text": [
      "1e-06\n"
     ]
    }
   ],
   "source": [
    "lambd = 1.e-6\n",
    "\n",
    "print(lambd)"
   ]
  },
  {
   "cell_type": "code",
   "execution_count": 2,
   "metadata": {},
   "outputs": [
    {
     "name": "stdout",
     "output_type": "stream",
     "text": [
      "Random array with shape (32, 2):\n",
      "[[1 1]\n",
      " [1 0]\n",
      " [1 1]\n",
      " [0 0]\n",
      " [0 1]\n",
      " [0 0]\n",
      " [1 0]\n",
      " [1 1]\n",
      " [0 0]\n",
      " [1 1]\n",
      " [1 1]\n",
      " [0 0]\n",
      " [1 1]\n",
      " [1 0]\n",
      " [1 1]\n",
      " [0 1]\n",
      " [0 0]\n",
      " [0 0]\n",
      " [0 0]\n",
      " [0 0]\n",
      " [1 1]\n",
      " [0 1]\n",
      " [1 1]\n",
      " [1 1]\n",
      " [0 1]\n",
      " [0 0]\n",
      " [0 0]\n",
      " [1 1]\n",
      " [0 1]\n",
      " [0 0]\n",
      " [0 0]\n",
      " [1 0]]\n"
     ]
    }
   ],
   "source": [
    "import numpy as np\n",
    "\n",
    "# Create a random array with shape (32, 2) containing only 0s and 1s\n",
    "random_array = np.random.randint(2, size=(32, 2))\n",
    "\n",
    "print(\"Random array with shape (32, 2):\")\n",
    "print(random_array)\n"
   ]
  },
  {
   "cell_type": "code",
   "execution_count": null,
   "metadata": {},
   "outputs": [],
   "source": [
    "import numpy as np\n",
    "\n",
    "# Create a random array with shape (32, 2) containing only 0s and 1s\n",
    "random_array = np.random.randint(2, size=(32, 2))\n",
    "\n",
    "print(\"Random array with shape (32, 2):\")\n",
    "print(random_array)\n"
   ]
  },
  {
   "cell_type": "code",
   "execution_count": 10,
   "metadata": {},
   "outputs": [
    {
     "name": "stdout",
     "output_type": "stream",
     "text": [
      "Original array: [1 2 3 1 2 1 3 4 5 4 5 5]\n",
      "Unique elements: [1 2 3 4 5]\n",
      "Counts: [3 2 2 2 3]\n",
      "Frequency array: [3 2 2 2 3]\n"
     ]
    }
   ],
   "source": [
    "import numpy as np\n",
    "\n",
    "# Example 1D array\n",
    "original_array = np.array([1, 2, 3, 1, 2, 1, 3, 4, 5, 4, 5, 5])\n",
    "\n",
    "# Calculate the frequency of each unique element\n",
    "unique_elements, counts = np.unique(original_array, return_counts=True)\n",
    "\n",
    "# Create a frequency array based on the occurrences\n",
    "frequency_array = np.zeros_like(unique_elements)\n",
    "\n",
    "for element, count in zip(unique_elements, counts):\n",
    "    frequency_array[element - 1] = count\n",
    "\n",
    "print(\"Original array:\", original_array)\n",
    "print(\"Unique elements:\", unique_elements)\n",
    "print(\"Counts:\", counts)\n",
    "print(\"Frequency array:\", frequency_array)\n"
   ]
  },
  {
   "cell_type": "code",
   "execution_count": 10,
   "metadata": {},
   "outputs": [
    {
     "name": "stdout",
     "output_type": "stream",
     "text": [
      "(150, 4)\n",
      "(150,)\n"
     ]
    }
   ],
   "source": [
    "from sklearn import datasets\n",
    "\n",
    "iris = datasets.load_iris()\n",
    "x, y = iris[\"data\"], iris[\"target\"]\n",
    "\n",
    "print(np.shape(x))\n",
    "print(np.shape(y))"
   ]
  },
  {
   "cell_type": "code",
   "execution_count": 11,
   "metadata": {},
   "outputs": [],
   "source": [
    "from openTSNE import TSNE\n",
    "\n",
    "embedding = TSNE().fit(x)"
   ]
  },
  {
   "cell_type": "code",
   "execution_count": 13,
   "metadata": {},
   "outputs": [
    {
     "data": {
      "text/plain": [
       "([],\n",
       " [],\n",
       " (-8.577521949700085,\n",
       "  7.5330015394576995,\n",
       "  -14.223160873491842,\n",
       "  22.11578590622979))"
      ]
     },
     "execution_count": 13,
     "metadata": {},
     "output_type": "execute_result"
    },
    {
     "data": {
      "image/png": "[encoded data removed]",
      "text/plain": [
       "<Figure size 800x800 with 1 Axes>"
      ]
     },
     "metadata": {},
     "output_type": "display_data"
    }
   ],
   "source": [
    "import numpy as np\n",
    "import matplotlib.pyplot as plt\n",
    "#np.shape(embedding)\n",
    "\n",
    "_, ax = plt.subplots(figsize=(8, 8))\n",
    "ax.scatter(embedding[:, 0], embedding[:, 1], s=10)\n",
    "\n",
    "ax.set_xticks([]), ax.set_yticks([]), ax.axis('off')"
   ]
  },
  {
   "cell_type": "code",
   "execution_count": 3,
   "metadata": {},
   "outputs": [
    {
     "ename": "ModuleNotFoundError",
     "evalue": "No module named 'examples'",
     "output_type": "error",
     "traceback": [
      "\u001b[0;31m---------------------------------------------------------------------------\u001b[0m",
      "\u001b[0;31mModuleNotFoundError\u001b[0m                       Traceback (most recent call last)",
      "\u001b[1;32m/Users/luizm/workspace/GitHub/FC-DANN_DA_For_CD_MultiTarget_TF2/teste.ipynb Cell 8\u001b[0m line \u001b[0;36m3\n\u001b[1;32m      <a href='vscode-notebook-cell:/Users/luizm/workspace/GitHub/FC-DANN_DA_For_CD_MultiTarget_TF2/teste.ipynb#W6sZmlsZQ%3D%3D?line=0'>1</a>\u001b[0m \u001b[39mfrom\u001b[39;00m \u001b[39mopenTSNE\u001b[39;00m \u001b[39mimport\u001b[39;00m TSNE\n\u001b[0;32m----> <a href='vscode-notebook-cell:/Users/luizm/workspace/GitHub/FC-DANN_DA_For_CD_MultiTarget_TF2/teste.ipynb#W6sZmlsZQ%3D%3D?line=2'>3</a>\u001b[0m \u001b[39mfrom\u001b[39;00m \u001b[39mexamples\u001b[39;00m \u001b[39mimport\u001b[39;00m utils\n\u001b[1;32m      <a href='vscode-notebook-cell:/Users/luizm/workspace/GitHub/FC-DANN_DA_For_CD_MultiTarget_TF2/teste.ipynb#W6sZmlsZQ%3D%3D?line=4'>5</a>\u001b[0m \u001b[39mimport\u001b[39;00m \u001b[39mnumpy\u001b[39;00m \u001b[39mas\u001b[39;00m \u001b[39mnp\u001b[39;00m\n\u001b[1;32m      <a href='vscode-notebook-cell:/Users/luizm/workspace/GitHub/FC-DANN_DA_For_CD_MultiTarget_TF2/teste.ipynb#W6sZmlsZQ%3D%3D?line=5'>6</a>\u001b[0m \u001b[39mfrom\u001b[39;00m \u001b[39msklearn\u001b[39;00m\u001b[39m.\u001b[39;00m\u001b[39mmodel_selection\u001b[39;00m \u001b[39mimport\u001b[39;00m train_test_split\n",
      "\u001b[0;31mModuleNotFoundError\u001b[0m: No module named 'examples'"
     ]
    }
   ],
   "source": [
    "from openTSNE import TSNE\n",
    "\n",
    "from examples import utils\n",
    "\n",
    "import numpy as np\n",
    "from sklearn.model_selection import train_test_split\n",
    "\n",
    "import matplotlib.pyplot as plt"
   ]
  },
  {
   "cell_type": "code",
   "execution_count": 22,
   "metadata": {},
   "outputs": [
    {
     "name": "stdout",
     "output_type": "stream",
     "text": [
      "tf.Tensor(nan, shape=(), dtype=float64)\n",
      "tf.Tensor(0.0, shape=(), dtype=float64)\n",
      "tf.Tensor(nan, shape=(), dtype=float64)\n"
     ]
    }
   ],
   "source": [
    "import tensorflow as tf\n",
    "import numpy as np\n",
    "\n",
    "loss = 5\n",
    "\n",
    "mask = np.zeros(10)\n",
    "\n",
    "classifier_loss = 2\n",
    "\n",
    "safe_classifier = tf.math.divide_no_nan(tf.reduce_sum(mask * loss), tf.reduce_sum(mask))\n",
    "classifier_loss +=  tf.reduce_sum(mask * loss) / tf.reduce_sum(mask)\n",
    "\n",
    "print(classifier_loss)\n",
    "print(safe_classifier)\n",
    "print(tf.reduce_sum(classifier_loss))"
   ]
  },
  {
   "cell_type": "code",
   "execution_count": 24,
   "metadata": {},
   "outputs": [
    {
     "ename": "ValueError",
     "evalue": "Shapes (150,) and (150, 2) are incompatible",
     "output_type": "error",
     "traceback": [
      "\u001b[0;31m---------------------------------------------------------------------------\u001b[0m",
      "\u001b[0;31mValueError\u001b[0m                                Traceback (most recent call last)",
      "\u001b[1;32m/Users/luizm/workspace/GitHub/FC-DANN_DA_For_CD_MultiTarget_TF2/teste.ipynb Cell 10\u001b[0m line \u001b[0;36m6\n\u001b[1;32m      <a href='vscode-notebook-cell:/Users/luizm/workspace/GitHub/FC-DANN_DA_For_CD_MultiTarget_TF2/teste.ipynb#X12sZmlsZQ%3D%3D?line=3'>4</a>\u001b[0m \u001b[39mwith\u001b[39;00m tf\u001b[39m.\u001b[39mGradientTape() \u001b[39mas\u001b[39;00m g:\n\u001b[1;32m      <a href='vscode-notebook-cell:/Users/luizm/workspace/GitHub/FC-DANN_DA_For_CD_MultiTarget_TF2/teste.ipynb#X12sZmlsZQ%3D%3D?line=4'>5</a>\u001b[0m   z \u001b[39m=\u001b[39m tf\u001b[39m.\u001b[39mkeras\u001b[39m.\u001b[39mSequential(tf\u001b[39m.\u001b[39mkeras\u001b[39m.\u001b[39mlayers\u001b[39m.\u001b[39mDense(\u001b[39m2\u001b[39m, activation \u001b[39m=\u001b[39m \u001b[39m\"\u001b[39m\u001b[39msoftmax\u001b[39m\u001b[39m\"\u001b[39m, use_bias \u001b[39m=\u001b[39m \u001b[39mFalse\u001b[39;00m))(x)\n\u001b[0;32m----> <a href='vscode-notebook-cell:/Users/luizm/workspace/GitHub/FC-DANN_DA_For_CD_MultiTarget_TF2/teste.ipynb#X12sZmlsZQ%3D%3D?line=5'>6</a>\u001b[0m   z \u001b[39m=\u001b[39m tf\u001b[39m.\u001b[39mlosses\u001b[39m.\u001b[39mcategorical_crossentropy(y, z)\n\u001b[1;32m      <a href='vscode-notebook-cell:/Users/luizm/workspace/GitHub/FC-DANN_DA_For_CD_MultiTarget_TF2/teste.ipynb#X12sZmlsZQ%3D%3D?line=6'>7</a>\u001b[0m dz_dx \u001b[39m=\u001b[39m g\u001b[39m.\u001b[39mgradient(z, x)\n",
      "File \u001b[0;32m~/miniconda3/envs/tf2env/lib/python3.11/site-packages/tensorflow/python/util/traceback_utils.py:153\u001b[0m, in \u001b[0;36mfilter_traceback.<locals>.error_handler\u001b[0;34m(*args, **kwargs)\u001b[0m\n\u001b[1;32m    151\u001b[0m \u001b[39mexcept\u001b[39;00m \u001b[39mException\u001b[39;00m \u001b[39mas\u001b[39;00m e:\n\u001b[1;32m    152\u001b[0m   filtered_tb \u001b[39m=\u001b[39m _process_traceback_frames(e\u001b[39m.\u001b[39m__traceback__)\n\u001b[0;32m--> 153\u001b[0m   \u001b[39mraise\u001b[39;00m e\u001b[39m.\u001b[39mwith_traceback(filtered_tb) \u001b[39mfrom\u001b[39;00m \u001b[39mNone\u001b[39;00m\n\u001b[1;32m    154\u001b[0m \u001b[39mfinally\u001b[39;00m:\n\u001b[1;32m    155\u001b[0m   \u001b[39mdel\u001b[39;00m filtered_tb\n",
      "File \u001b[0;32m~/miniconda3/envs/tf2env/lib/python3.11/site-packages/keras/src/losses.py:2122\u001b[0m, in \u001b[0;36mcategorical_crossentropy\u001b[0;34m(y_true, y_pred, from_logits, label_smoothing, axis)\u001b[0m\n\u001b[1;32m   2114\u001b[0m     \u001b[39mreturn\u001b[39;00m y_true \u001b[39m*\u001b[39m (\u001b[39m1.0\u001b[39m \u001b[39m-\u001b[39m label_smoothing) \u001b[39m+\u001b[39m (\n\u001b[1;32m   2115\u001b[0m         label_smoothing \u001b[39m/\u001b[39m num_classes\n\u001b[1;32m   2116\u001b[0m     )\n\u001b[1;32m   2118\u001b[0m y_true \u001b[39m=\u001b[39m tf\u001b[39m.\u001b[39m__internal__\u001b[39m.\u001b[39msmart_cond\u001b[39m.\u001b[39msmart_cond(\n\u001b[1;32m   2119\u001b[0m     label_smoothing, _smooth_labels, \u001b[39mlambda\u001b[39;00m: y_true\n\u001b[1;32m   2120\u001b[0m )\n\u001b[0;32m-> 2122\u001b[0m \u001b[39mreturn\u001b[39;00m backend\u001b[39m.\u001b[39mcategorical_crossentropy(\n\u001b[1;32m   2123\u001b[0m     y_true, y_pred, from_logits\u001b[39m=\u001b[39mfrom_logits, axis\u001b[39m=\u001b[39maxis\n\u001b[1;32m   2124\u001b[0m )\n",
      "File \u001b[0;32m~/miniconda3/envs/tf2env/lib/python3.11/site-packages/keras/src/backend.py:5560\u001b[0m, in \u001b[0;36mcategorical_crossentropy\u001b[0;34m(target, output, from_logits, axis)\u001b[0m\n\u001b[1;32m   5558\u001b[0m target \u001b[39m=\u001b[39m tf\u001b[39m.\u001b[39mconvert_to_tensor(target)\n\u001b[1;32m   5559\u001b[0m output \u001b[39m=\u001b[39m tf\u001b[39m.\u001b[39mconvert_to_tensor(output)\n\u001b[0;32m-> 5560\u001b[0m target\u001b[39m.\u001b[39mshape\u001b[39m.\u001b[39massert_is_compatible_with(output\u001b[39m.\u001b[39mshape)\n\u001b[1;32m   5562\u001b[0m output, from_logits \u001b[39m=\u001b[39m _get_logits(\n\u001b[1;32m   5563\u001b[0m     output, from_logits, \u001b[39m\"\u001b[39m\u001b[39mSoftmax\u001b[39m\u001b[39m\"\u001b[39m, \u001b[39m\"\u001b[39m\u001b[39mcategorical_crossentropy\u001b[39m\u001b[39m\"\u001b[39m\n\u001b[1;32m   5564\u001b[0m )\n\u001b[1;32m   5565\u001b[0m \u001b[39mif\u001b[39;00m from_logits:\n",
      "\u001b[0;31mValueError\u001b[0m: Shapes (150,) and (150, 2) are incompatible"
     ]
    }
   ],
   "source": [
    "import tensorflow as tf\n",
    "import numpy as np\n",
    "\n",
    "with tf.GradientTape() as g:\n",
    "  z = tf.keras.Sequential(tf.keras.layers.Dense(2, activation = \"softmax\", use_bias = False))(x)\n",
    "  z = tf.losses.categorical_crossentropy(y, z)\n",
    "dz_dx = g.gradient(z, x)"
   ]
  },
  {
   "cell_type": "code",
   "execution_count": 7,
   "metadata": {},
   "outputs": [
    {
     "name": "stdout",
     "output_type": "stream",
     "text": [
      "INFO:tensorflow:Enabled check-numerics callback in thread MainThread\n"
     ]
    },
    {
     "ename": "InvalidArgumentError",
     "evalue": "{{function_node __wrapped__CheckNumericsV2_device_/job:localhost/replica:0/task:0/device:CPU:0}} \n\n!!! Detected Infinity or NaN in output 0 of eagerly-executing op \"Sqrt\" (# of outputs: 1) !!!\n  dtype: <dtype: 'float64'>\n  shape: (2, 2)\n  # of +NaN elements: 1\n\n  Input tensor: tf.Tensor(\n[[ 0. -2.]\n [ 4.  3.]], shape=(2, 2), dtype=float64)\n\n : Tensor had NaN values [Op:CheckNumericsV2] name: ",
     "output_type": "error",
     "traceback": [
      "\u001b[0;31m---------------------------------------------------------------------------\u001b[0m",
      "\u001b[0;31mInvalidArgumentError\u001b[0m                      Traceback (most recent call last)",
      "Cell \u001b[0;32mIn[7], line 12\u001b[0m\n\u001b[1;32m      6\u001b[0m x \u001b[38;5;241m=\u001b[39m np\u001b[38;5;241m.\u001b[39marray([[\u001b[38;5;241m0.0\u001b[39m, \u001b[38;5;241m-\u001b[39m\u001b[38;5;241m2.0\u001b[39m], [\u001b[38;5;241m4.0\u001b[39m, \u001b[38;5;241m3.0\u001b[39m]])\n\u001b[1;32m      8\u001b[0m \u001b[38;5;66;03m# The following line executes the Sqrt op eagerly. Due to the negative\u001b[39;00m\n\u001b[1;32m      9\u001b[0m \u001b[38;5;66;03m# element in the input array, a NaN is generated. Due to the\u001b[39;00m\n\u001b[1;32m     10\u001b[0m \u001b[38;5;66;03m# `enable_check_numerics()` call above, the program errors immediately\u001b[39;00m\n\u001b[1;32m     11\u001b[0m \u001b[38;5;66;03m# at this line, printing an error message.\u001b[39;00m\n\u001b[0;32m---> 12\u001b[0m y \u001b[38;5;241m=\u001b[39m tf\u001b[38;5;241m.\u001b[39mmath\u001b[38;5;241m.\u001b[39msqrt(x)\n\u001b[1;32m     13\u001b[0m z \u001b[38;5;241m=\u001b[39m tf\u001b[38;5;241m.\u001b[39mmatmul(y, y)\n",
      "File \u001b[0;32m~/miniconda3/envs/tf2env/lib/python3.11/site-packages/tensorflow/python/util/traceback_utils.py:153\u001b[0m, in \u001b[0;36mfilter_traceback.<locals>.error_handler\u001b[0;34m(*args, **kwargs)\u001b[0m\n\u001b[1;32m    151\u001b[0m \u001b[38;5;28;01mexcept\u001b[39;00m \u001b[38;5;167;01mException\u001b[39;00m \u001b[38;5;28;01mas\u001b[39;00m e:\n\u001b[1;32m    152\u001b[0m   filtered_tb \u001b[38;5;241m=\u001b[39m _process_traceback_frames(e\u001b[38;5;241m.\u001b[39m__traceback__)\n\u001b[0;32m--> 153\u001b[0m   \u001b[38;5;28;01mraise\u001b[39;00m e\u001b[38;5;241m.\u001b[39mwith_traceback(filtered_tb) \u001b[38;5;28;01mfrom\u001b[39;00m \u001b[38;5;28;01mNone\u001b[39;00m\n\u001b[1;32m    154\u001b[0m \u001b[38;5;28;01mfinally\u001b[39;00m:\n\u001b[1;32m    155\u001b[0m   \u001b[38;5;28;01mdel\u001b[39;00m filtered_tb\n",
      "File \u001b[0;32m~/miniconda3/envs/tf2env/lib/python3.11/site-packages/tensorflow/python/framework/ops.py:6656\u001b[0m, in \u001b[0;36mraise_from_not_ok_status\u001b[0;34m(e, name)\u001b[0m\n\u001b[1;32m   6654\u001b[0m \u001b[38;5;28;01mdef\u001b[39;00m \u001b[38;5;21mraise_from_not_ok_status\u001b[39m(e, name):\n\u001b[1;32m   6655\u001b[0m   e\u001b[38;5;241m.\u001b[39mmessage \u001b[38;5;241m+\u001b[39m\u001b[38;5;241m=\u001b[39m (\u001b[38;5;124m\"\u001b[39m\u001b[38;5;124m name: \u001b[39m\u001b[38;5;124m\"\u001b[39m \u001b[38;5;241m+\u001b[39m \u001b[38;5;28mstr\u001b[39m(name \u001b[38;5;28;01mif\u001b[39;00m name \u001b[38;5;129;01mis\u001b[39;00m \u001b[38;5;129;01mnot\u001b[39;00m \u001b[38;5;28;01mNone\u001b[39;00m \u001b[38;5;28;01melse\u001b[39;00m \u001b[38;5;124m\"\u001b[39m\u001b[38;5;124m\"\u001b[39m))\n\u001b[0;32m-> 6656\u001b[0m   \u001b[38;5;28;01mraise\u001b[39;00m core\u001b[38;5;241m.\u001b[39m_status_to_exception(e) \u001b[38;5;28;01mfrom\u001b[39;00m \u001b[38;5;28;01mNone\u001b[39;00m\n",
      "\u001b[0;31mInvalidArgumentError\u001b[0m: {{function_node __wrapped__CheckNumericsV2_device_/job:localhost/replica:0/task:0/device:CPU:0}} \n\n!!! Detected Infinity or NaN in output 0 of eagerly-executing op \"Sqrt\" (# of outputs: 1) !!!\n  dtype: <dtype: 'float64'>\n  shape: (2, 2)\n  # of +NaN elements: 1\n\n  Input tensor: tf.Tensor(\n[[ 0. -2.]\n [ 4.  3.]], shape=(2, 2), dtype=float64)\n\n : Tensor had NaN values [Op:CheckNumericsV2] name: "
     ]
    }
   ],
   "source": [
    "import numpy as np\n",
    "import tensorflow as tf\n",
    "\n",
    "tf.debugging.enable_check_numerics()\n",
    "\n",
    "x = np.array([[0.0, -2.0], [4.0, 3.0]])\n",
    "\n",
    "# The following line executes the Sqrt op eagerly. Due to the negative\n",
    "# element in the input array, a NaN is generated. Due to the\n",
    "# `enable_check_numerics()` call above, the program errors immediately\n",
    "# at this line, printing an error message.\n",
    "y = tf.math.sqrt(x)\n",
    "z = tf.matmul(y, y)"
   ]
  },
  {
   "cell_type": "code",
   "execution_count": 8,
   "metadata": {},
   "outputs": [
    {
     "name": "stdout",
     "output_type": "stream",
     "text": [
      "INFO:tensorflow:Enabled check-numerics callback in thread MainThread\n"
     ]
    },
    {
     "name": "stderr",
     "output_type": "stream",
     "text": [
      "2024-02-18 13:09:51.164191: I tensorflow/core/grappler/optimizers/custom_graph_optimizer_registry.cc:114] Plugin optimizer for device_type GPU is enabled.\n",
      "2024-02-18 13:09:51.345239: I tensorflow/core/framework/local_rendezvous.cc:405] Local rendezvous recv item cancelled. Key hash: 11670938625498693336\n"
     ]
    },
    {
     "ename": "InvalidArgumentError",
     "evalue": "Graph execution error:\n\nDetected at node 'Log/CheckNumericsV2_1' defined at (most recent call last):\n    File \"<frozen runpy>\", line 198, in _run_module_as_main\n    File \"<frozen runpy>\", line 88, in _run_code\n    File \"/Users/luizm/miniconda3/envs/tf2env/lib/python3.11/site-packages/ipykernel_launcher.py\", line 17, in <module>\n      app.launch_new_instance()\n    File \"/Users/luizm/miniconda3/envs/tf2env/lib/python3.11/site-packages/traitlets/config/application.py\", line 992, in launch_instance\n      app.start()\n    File \"/Users/luizm/miniconda3/envs/tf2env/lib/python3.11/site-packages/ipykernel/kernelapp.py\", line 736, in start\n      self.io_loop.start()\n    File \"/Users/luizm/miniconda3/envs/tf2env/lib/python3.11/site-packages/tornado/platform/asyncio.py\", line 195, in start\n      self.asyncio_loop.run_forever()\n    File \"/Users/luizm/miniconda3/envs/tf2env/lib/python3.11/asyncio/base_events.py\", line 607, in run_forever\n      self._run_once()\n    File \"/Users/luizm/miniconda3/envs/tf2env/lib/python3.11/asyncio/base_events.py\", line 1922, in _run_once\n      handle._run()\n    File \"/Users/luizm/miniconda3/envs/tf2env/lib/python3.11/asyncio/events.py\", line 80, in _run\n      self._context.run(self._callback, *self._args)\n    File \"/Users/luizm/miniconda3/envs/tf2env/lib/python3.11/site-packages/ipykernel/kernelbase.py\", line 516, in dispatch_queue\n      await self.process_one()\n    File \"/Users/luizm/miniconda3/envs/tf2env/lib/python3.11/site-packages/ipykernel/kernelbase.py\", line 505, in process_one\n      await dispatch(*args)\n    File \"/Users/luizm/miniconda3/envs/tf2env/lib/python3.11/site-packages/ipykernel/kernelbase.py\", line 412, in dispatch_shell\n      await result\n    File \"/Users/luizm/miniconda3/envs/tf2env/lib/python3.11/site-packages/ipykernel/kernelbase.py\", line 740, in execute_request\n      reply_content = await reply_content\n    File \"/Users/luizm/miniconda3/envs/tf2env/lib/python3.11/site-packages/ipykernel/ipkernel.py\", line 422, in do_execute\n      res = shell.run_cell(\n    File \"/Users/luizm/miniconda3/envs/tf2env/lib/python3.11/site-packages/ipykernel/zmqshell.py\", line 546, in run_cell\n      return super().run_cell(*args, **kwargs)\n    File \"/Users/luizm/miniconda3/envs/tf2env/lib/python3.11/site-packages/IPython/core/interactiveshell.py\", line 3009, in run_cell\n      result = self._run_cell(\n    File \"/Users/luizm/miniconda3/envs/tf2env/lib/python3.11/site-packages/IPython/core/interactiveshell.py\", line 3064, in _run_cell\n      result = runner(coro)\n    File \"/Users/luizm/miniconda3/envs/tf2env/lib/python3.11/site-packages/IPython/core/async_helpers.py\", line 129, in _pseudo_sync_runner\n      coro.send(None)\n    File \"/Users/luizm/miniconda3/envs/tf2env/lib/python3.11/site-packages/IPython/core/interactiveshell.py\", line 3269, in run_cell_async\n      has_raised = await self.run_ast_nodes(code_ast.body, cell_name,\n    File \"/Users/luizm/miniconda3/envs/tf2env/lib/python3.11/site-packages/IPython/core/interactiveshell.py\", line 3448, in run_ast_nodes\n      if await self.run_code(code, result, async_=asy):\n    File \"/Users/luizm/miniconda3/envs/tf2env/lib/python3.11/site-packages/IPython/core/interactiveshell.py\", line 3508, in run_code\n      exec(code_obj, self.user_global_ns, self.user_ns)\n    File \"/var/folders/l_/3f9qvn851p3d5d6p6qrcs9w80000gn/T/ipykernel_38652/2798990969.py\", line 19, in <module>\n      y = square_log_x_plus_1(x)\n    File \"/var/folders/l_/3f9qvn851p3d5d6p6qrcs9w80000gn/T/ipykernel_38652/2798990969.py\", line 7, in square_log_x_plus_1\n      v = tf.math.log(x + 1)\nNode: 'Log/CheckNumericsV2_1'\n2 root error(s) found.\n  (0) INVALID_ARGUMENT:  \n\n!!! Detected Infinity or NaN in output 0 of graph op \"Log\" (# of outputs: 1) !!!\n  dtype: <dtype: 'float32'>\n  shape: ()\n\n  Input tensor: Tensor(\"Log/x:0\", shape=(), dtype=float32)\n  Graph name: \"square_log_x_plus_1\"\n\n  Stack trace of op's creation (\"->\": inferred user code):\n    + ... (Omitted 8 frames)\n    + ...onda3/envs/tf2env/lib/python3.11/asyncio/events.py (L80) _run\n -> |   self._context.run(self._callback, *self._args)\n    + ...b/python3.11/site-packages/ipykernel/kernelbase.py (L516) dispatch_queue\n -> |   await self.process_one()\n    + ...b/python3.11/site-packages/ipykernel/kernelbase.py (L505) process_one\n -> |   await dispatch(*args)\n    + ...b/python3.11/site-packages/ipykernel/kernelbase.py (L412) dispatch_shell\n -> |   await result\n    + ...b/python3.11/site-packages/ipykernel/kernelbase.py (L740) execute_request\n -> |   reply_content = await reply_content\n    + ...lib/python3.11/site-packages/ipykernel/ipkernel.py (L422) do_execute\n -> |   res = shell.run_cell(\n    + ...lib/python3.11/site-packages/ipykernel/zmqshell.py (L546) run_cell\n -> |   return super().run_cell(*args, **kwargs)\n    + ....11/site-packages/IPython/core/interactiveshell.py (L3009) run_cell\n -> |   result = self._run_cell(\n    + ....11/site-packages/IPython/core/interactiveshell.py (L3064) _run_cell\n -> |   result = runner(coro)\n    + ...on3.11/site-packages/IPython/core/async_helpers.py (L129) _pseudo_sync_runner\n -> |   coro.send(None)\n    + ....11/site-packages/IPython/core/interactiveshell.py (L3269) run_cell_async\n -> |   has_raised = await self.run_ast_nodes(code_ast.body, cell_name,\n    + ....11/site-packages/IPython/core/interactiveshell.py (L3448) run_ast_nodes\n -> |   if await self.run_code(code, result, async_=asy):\n    + ....11/site-packages/IPython/core/interactiveshell.py (L3508) run_code\n -> |   exec(code_obj, self.user_global_ns, self.user_ns)\n    + ...5d6p6qrcs9w80000gn/T/ipykernel_38652/2798990969.py (L19) <module>\n -> |   y = square_log_x_plus_1(x)\n    + ...packages/tensorflow/python/util/traceback_utils.py (L150) error_handler\n    |   return fn(*args, **kwargs)\n    + ...eager/polymorphic_function/polymorphic_function.py (L825) __call__\n    |   result = self._call(*args, **kwds)\n    + ...eager/polymorphic_function/polymorphic_function.py (L873) _call\n    |   self._initialize(args, kwds, add_initializers_to=initializers)\n    + ...eager/polymorphic_function/polymorphic_function.py (L694) _initialize\n    |   self._variable_creation_fn    # pylint: disable=protected-access\n    + ...hon/eager/polymorphic_function/tracing_compiler.py (L176) _get_concrete_function_internal_garbage_collected\n    |   concrete_function, _ = self._maybe_define_concrete_function(args, kwargs)\n    + ...hon/eager/polymorphic_function/tracing_compiler.py (L171) _maybe_define_concrete_function\n    |   return self._maybe_define_function(args, kwargs)\n    + ...hon/eager/polymorphic_function/tracing_compiler.py (L398) _maybe_define_function\n    |   concrete_function = self._create_concrete_function(\n    + ...hon/eager/polymorphic_function/tracing_compiler.py (L305) _create_concrete_function\n    |   func_graph_module.func_graph_from_py_func(\n    + ...packages/tensorflow/python/framework/func_graph.py (L1055) func_graph_from_py_func\n    |   func_outputs = python_func(*func_args, **func_kwargs)\n    + ...eager/polymorphic_function/polymorphic_function.py (L597) wrapped_fn\n    |   out = weak_wrapped_fn().__wrapped__(*args, **kwds)\n    + ...ython/eager/polymorphic_function/autograph_util.py (L41) autograph_handler\n    |   return api.converted_call(\n    + ...5d6p6qrcs9w80000gn/T/ipykernel_38652/2798990969.py (L7) square_log_x_plus_1\n -> |   v = tf.math.log(x + 1)\n    + ...ite-packages/tensorflow/python/ops/gen_math_ops.py (L5497) log\n    |   _, _, _op, _outputs = _op_def_library._apply_op_helper(\n    + ...ages/tensorflow/python/framework/op_def_library.py (L795) _apply_op_helper\n    |   op = g._create_op_internal(op_type_name, inputs, dtypes=None,\n    + ...packages/tensorflow/python/framework/func_graph.py (L670) _create_op_internal\n    |   return super()._create_op_internal(  # pylint: disable=protected-access\n    + ...1/site-packages/tensorflow/python/framework/ops.py (L3381) _create_op_internal\n    |   ret = Operation.from_node_def(\n\n : Tensor had -Inf values\n\t [[{{node Log/CheckNumericsV2_1}}]]\n\t [[Square/CheckNumericsV2/_3]]\n  (1) INVALID_ARGUMENT:  \n\n!!! Detected Infinity or NaN in output 0 of graph op \"Log\" (# of outputs: 1) !!!\n  dtype: <dtype: 'float32'>\n  shape: ()\n\n  Input tensor: Tensor(\"Log/x:0\", shape=(), dtype=float32)\n  Graph name: \"square_log_x_plus_1\"\n\n  Stack trace of op's creation (\"->\": inferred user code):\n    + ... (Omitted 8 frames)\n    + ...onda3/envs/tf2env/lib/python3.11/asyncio/events.py (L80) _run\n -> |   self._context.run(self._callback, *self._args)\n    + ...b/python3.11/site-packages/ipykernel/kernelbase.py (L516) dispatch_queue\n -> |   await self.process_one()\n    + ...b/python3.11/site-packages/ipykernel/kernelbase.py (L505) process_one\n -> |   await dispatch(*args)\n    + ...b/python3.11/site-packages/ipykernel/kernelbase.py (L412) dispatch_shell\n -> |   await result\n    + ...b/python3.11/site-packages/ipykernel/kernelbase.py (L740) execute_request\n -> |   reply_content = await reply_content\n    + ...lib/python3.11/site-packages/ipykernel/ipkernel.py (L422) do_execute\n -> |   res = shell.run_cell(\n    + ...lib/python3.11/site-packages/ipykernel/zmqshell.py (L546) run_cell\n -> |   return super().run_cell(*args, **kwargs)\n    + ....11/site-packages/IPython/core/interactiveshell.py (L3009) run_cell\n -> |   result = self._run_cell(\n    + ....11/site-packages/IPython/core/interactiveshell.py (L3064) _run_cell\n -> |   result = runner(coro)\n    + ...on3.11/site-packages/IPython/core/async_helpers.py (L129) _pseudo_sync_runner\n -> |   coro.send(None)\n    + ....11/site-packages/IPython/core/interactiveshell.py (L3269) run_cell_async\n -> |   has_raised = await self.run_ast_nodes(code_ast.body, cell_name,\n    + ....11/site-packages/IPython/core/interactiveshell.py (L3448) run_ast_nodes\n -> |   if await self.run_code(code, result, async_=asy):\n    + ....11/site-packages/IPython/core/interactiveshell.py (L3508) run_code\n -> |   exec(code_obj, self.user_global_ns, self.user_ns)\n    + ...5d6p6qrcs9w80000gn/T/ipykernel_38652/2798990969.py (L19) <module>\n -> |   y = square_log_x_plus_1(x)\n    + ...packages/tensorflow/python/util/traceback_utils.py (L150) error_handler\n    |   return fn(*args, **kwargs)\n    + ...eager/polymorphic_function/polymorphic_function.py (L825) __call__\n    |   result = self._call(*args, **kwds)\n    + ...eager/polymorphic_function/polymorphic_function.py (L873) _call\n    |   self._initialize(args, kwds, add_initializers_to=initializers)\n    + ...eager/polymorphic_function/polymorphic_function.py (L694) _initialize\n    |   self._variable_creation_fn    # pylint: disable=protected-access\n    + ...hon/eager/polymorphic_function/tracing_compiler.py (L176) _get_concrete_function_internal_garbage_collected\n    |   concrete_function, _ = self._maybe_define_concrete_function(args, kwargs)\n    + ...hon/eager/polymorphic_function/tracing_compiler.py (L171) _maybe_define_concrete_function\n    |   return self._maybe_define_function(args, kwargs)\n    + ...hon/eager/polymorphic_function/tracing_compiler.py (L398) _maybe_define_function\n    |   concrete_function = self._create_concrete_function(\n    + ...hon/eager/polymorphic_function/tracing_compiler.py (L305) _create_concrete_function\n    |   func_graph_module.func_graph_from_py_func(\n    + ...packages/tensorflow/python/framework/func_graph.py (L1055) func_graph_from_py_func\n    |   func_outputs = python_func(*func_args, **func_kwargs)\n    + ...eager/polymorphic_function/polymorphic_function.py (L597) wrapped_fn\n    |   out = weak_wrapped_fn().__wrapped__(*args, **kwds)\n    + ...ython/eager/polymorphic_function/autograph_util.py (L41) autograph_handler\n    |   return api.converted_call(\n    + ...5d6p6qrcs9w80000gn/T/ipykernel_38652/2798990969.py [Op:__inference_square_log_x_plus_1_35]",
     "output_type": "error",
     "traceback": [
      "\u001b[0;31m---------------------------------------------------------------------------\u001b[0m",
      "\u001b[0;31mInvalidArgumentError\u001b[0m                      Traceback (most recent call last)",
      "Cell \u001b[0;32mIn[8], line 19\u001b[0m\n\u001b[1;32m     10\u001b[0m x \u001b[38;5;241m=\u001b[39m \u001b[38;5;241m-\u001b[39m\u001b[38;5;241m1.0\u001b[39m\n\u001b[1;32m     12\u001b[0m \u001b[38;5;66;03m# When the following line runs, a function graph will be compiled\u001b[39;00m\n\u001b[1;32m     13\u001b[0m \u001b[38;5;66;03m# from the Python function `square_log_x_plus_1()`. Due to the\u001b[39;00m\n\u001b[1;32m     14\u001b[0m \u001b[38;5;66;03m# `enable_check_numerics()` call above, the graph will contain\u001b[39;00m\n\u001b[0;32m   (...)\u001b[0m\n\u001b[1;32m     17\u001b[0m \u001b[38;5;66;03m# (logarithm) op operates on the output tensor of the Add op.\u001b[39;00m\n\u001b[1;32m     18\u001b[0m \u001b[38;5;66;03m# The program errors out at this line, printing an error message.\u001b[39;00m\n\u001b[0;32m---> 19\u001b[0m y \u001b[38;5;241m=\u001b[39m square_log_x_plus_1(x)\n\u001b[1;32m     20\u001b[0m z \u001b[38;5;241m=\u001b[39m \u001b[38;5;241m-\u001b[39my\n",
      "File \u001b[0;32m~/miniconda3/envs/tf2env/lib/python3.11/site-packages/tensorflow/python/util/traceback_utils.py:153\u001b[0m, in \u001b[0;36mfilter_traceback.<locals>.error_handler\u001b[0;34m(*args, **kwargs)\u001b[0m\n\u001b[1;32m    151\u001b[0m \u001b[38;5;28;01mexcept\u001b[39;00m \u001b[38;5;167;01mException\u001b[39;00m \u001b[38;5;28;01mas\u001b[39;00m e:\n\u001b[1;32m    152\u001b[0m   filtered_tb \u001b[38;5;241m=\u001b[39m _process_traceback_frames(e\u001b[38;5;241m.\u001b[39m__traceback__)\n\u001b[0;32m--> 153\u001b[0m   \u001b[38;5;28;01mraise\u001b[39;00m e\u001b[38;5;241m.\u001b[39mwith_traceback(filtered_tb) \u001b[38;5;28;01mfrom\u001b[39;00m \u001b[38;5;28;01mNone\u001b[39;00m\n\u001b[1;32m    154\u001b[0m \u001b[38;5;28;01mfinally\u001b[39;00m:\n\u001b[1;32m    155\u001b[0m   \u001b[38;5;28;01mdel\u001b[39;00m filtered_tb\n",
      "File \u001b[0;32m~/miniconda3/envs/tf2env/lib/python3.11/site-packages/tensorflow/python/eager/execute.py:53\u001b[0m, in \u001b[0;36mquick_execute\u001b[0;34m(op_name, num_outputs, inputs, attrs, ctx, name)\u001b[0m\n\u001b[1;32m     51\u001b[0m \u001b[38;5;28;01mtry\u001b[39;00m:\n\u001b[1;32m     52\u001b[0m   ctx\u001b[38;5;241m.\u001b[39mensure_initialized()\n\u001b[0;32m---> 53\u001b[0m   tensors \u001b[38;5;241m=\u001b[39m pywrap_tfe\u001b[38;5;241m.\u001b[39mTFE_Py_Execute(ctx\u001b[38;5;241m.\u001b[39m_handle, device_name, op_name,\n\u001b[1;32m     54\u001b[0m                                       inputs, attrs, num_outputs)\n\u001b[1;32m     55\u001b[0m \u001b[38;5;28;01mexcept\u001b[39;00m core\u001b[38;5;241m.\u001b[39m_NotOkStatusException \u001b[38;5;28;01mas\u001b[39;00m e:\n\u001b[1;32m     56\u001b[0m   \u001b[38;5;28;01mif\u001b[39;00m name \u001b[38;5;129;01mis\u001b[39;00m \u001b[38;5;129;01mnot\u001b[39;00m \u001b[38;5;28;01mNone\u001b[39;00m:\n",
      "\u001b[0;31mInvalidArgumentError\u001b[0m: Graph execution error:\n\nDetected at node 'Log/CheckNumericsV2_1' defined at (most recent call last):\n    File \"<frozen runpy>\", line 198, in _run_module_as_main\n    File \"<frozen runpy>\", line 88, in _run_code\n    File \"/Users/luizm/miniconda3/envs/tf2env/lib/python3.11/site-packages/ipykernel_launcher.py\", line 17, in <module>\n      app.launch_new_instance()\n    File \"/Users/luizm/miniconda3/envs/tf2env/lib/python3.11/site-packages/traitlets/config/application.py\", line 992, in launch_instance\n      app.start()\n    File \"/Users/luizm/miniconda3/envs/tf2env/lib/python3.11/site-packages/ipykernel/kernelapp.py\", line 736, in start\n      self.io_loop.start()\n    File \"/Users/luizm/miniconda3/envs/tf2env/lib/python3.11/site-packages/tornado/platform/asyncio.py\", line 195, in start\n      self.asyncio_loop.run_forever()\n    File \"/Users/luizm/miniconda3/envs/tf2env/lib/python3.11/asyncio/base_events.py\", line 607, in run_forever\n      self._run_once()\n    File \"/Users/luizm/miniconda3/envs/tf2env/lib/python3.11/asyncio/base_events.py\", line 1922, in _run_once\n      handle._run()\n    File \"/Users/luizm/miniconda3/envs/tf2env/lib/python3.11/asyncio/events.py\", line 80, in _run\n      self._context.run(self._callback, *self._args)\n    File \"/Users/luizm/miniconda3/envs/tf2env/lib/python3.11/site-packages/ipykernel/kernelbase.py\", line 516, in dispatch_queue\n      await self.process_one()\n    File \"/Users/luizm/miniconda3/envs/tf2env/lib/python3.11/site-packages/ipykernel/kernelbase.py\", line 505, in process_one\n      await dispatch(*args)\n    File \"/Users/luizm/miniconda3/envs/tf2env/lib/python3.11/site-packages/ipykernel/kernelbase.py\", line 412, in dispatch_shell\n      await result\n    File \"/Users/luizm/miniconda3/envs/tf2env/lib/python3.11/site-packages/ipykernel/kernelbase.py\", line 740, in execute_request\n      reply_content = await reply_content\n    File \"/Users/luizm/miniconda3/envs/tf2env/lib/python3.11/site-packages/ipykernel/ipkernel.py\", line 422, in do_execute\n      res = shell.run_cell(\n    File \"/Users/luizm/miniconda3/envs/tf2env/lib/python3.11/site-packages/ipykernel/zmqshell.py\", line 546, in run_cell\n      return super().run_cell(*args, **kwargs)\n    File \"/Users/luizm/miniconda3/envs/tf2env/lib/python3.11/site-packages/IPython/core/interactiveshell.py\", line 3009, in run_cell\n      result = self._run_cell(\n    File \"/Users/luizm/miniconda3/envs/tf2env/lib/python3.11/site-packages/IPython/core/interactiveshell.py\", line 3064, in _run_cell\n      result = runner(coro)\n    File \"/Users/luizm/miniconda3/envs/tf2env/lib/python3.11/site-packages/IPython/core/async_helpers.py\", line 129, in _pseudo_sync_runner\n      coro.send(None)\n    File \"/Users/luizm/miniconda3/envs/tf2env/lib/python3.11/site-packages/IPython/core/interactiveshell.py\", line 3269, in run_cell_async\n      has_raised = await self.run_ast_nodes(code_ast.body, cell_name,\n    File \"/Users/luizm/miniconda3/envs/tf2env/lib/python3.11/site-packages/IPython/core/interactiveshell.py\", line 3448, in run_ast_nodes\n      if await self.run_code(code, result, async_=asy):\n    File \"/Users/luizm/miniconda3/envs/tf2env/lib/python3.11/site-packages/IPython/core/interactiveshell.py\", line 3508, in run_code\n      exec(code_obj, self.user_global_ns, self.user_ns)\n    File \"/var/folders/l_/3f9qvn851p3d5d6p6qrcs9w80000gn/T/ipykernel_38652/2798990969.py\", line 19, in <module>\n      y = square_log_x_plus_1(x)\n    File \"/var/folders/l_/3f9qvn851p3d5d6p6qrcs9w80000gn/T/ipykernel_38652/2798990969.py\", line 7, in square_log_x_plus_1\n      v = tf.math.log(x + 1)\nNode: 'Log/CheckNumericsV2_1'\n2 root error(s) found.\n  (0) INVALID_ARGUMENT:  \n\n!!! Detected Infinity or NaN in output 0 of graph op \"Log\" (# of outputs: 1) !!!\n  dtype: <dtype: 'float32'>\n  shape: ()\n\n  Input tensor: Tensor(\"Log/x:0\", shape=(), dtype=float32)\n  Graph name: \"square_log_x_plus_1\"\n\n  Stack trace of op's creation (\"->\": inferred user code):\n    + ... (Omitted 8 frames)\n    + ...onda3/envs/tf2env/lib/python3.11/asyncio/events.py (L80) _run\n -> |   self._context.run(self._callback, *self._args)\n    + ...b/python3.11/site-packages/ipykernel/kernelbase.py (L516) dispatch_queue\n -> |   await self.process_one()\n    + ...b/python3.11/site-packages/ipykernel/kernelbase.py (L505) process_one\n -> |   await dispatch(*args)\n    + ...b/python3.11/site-packages/ipykernel/kernelbase.py (L412) dispatch_shell\n -> |   await result\n    + ...b/python3.11/site-packages/ipykernel/kernelbase.py (L740) execute_request\n -> |   reply_content = await reply_content\n    + ...lib/python3.11/site-packages/ipykernel/ipkernel.py (L422) do_execute\n -> |   res = shell.run_cell(\n    + ...lib/python3.11/site-packages/ipykernel/zmqshell.py (L546) run_cell\n -> |   return super().run_cell(*args, **kwargs)\n    + ....11/site-packages/IPython/core/interactiveshell.py (L3009) run_cell\n -> |   result = self._run_cell(\n    + ....11/site-packages/IPython/core/interactiveshell.py (L3064) _run_cell\n -> |   result = runner(coro)\n    + ...on3.11/site-packages/IPython/core/async_helpers.py (L129) _pseudo_sync_runner\n -> |   coro.send(None)\n    + ....11/site-packages/IPython/core/interactiveshell.py (L3269) run_cell_async\n -> |   has_raised = await self.run_ast_nodes(code_ast.body, cell_name,\n    + ....11/site-packages/IPython/core/interactiveshell.py (L3448) run_ast_nodes\n -> |   if await self.run_code(code, result, async_=asy):\n    + ....11/site-packages/IPython/core/interactiveshell.py (L3508) run_code\n -> |   exec(code_obj, self.user_global_ns, self.user_ns)\n    + ...5d6p6qrcs9w80000gn/T/ipykernel_38652/2798990969.py (L19) <module>\n -> |   y = square_log_x_plus_1(x)\n    + ...packages/tensorflow/python/util/traceback_utils.py (L150) error_handler\n    |   return fn(*args, **kwargs)\n    + ...eager/polymorphic_function/polymorphic_function.py (L825) __call__\n    |   result = self._call(*args, **kwds)\n    + ...eager/polymorphic_function/polymorphic_function.py (L873) _call\n    |   self._initialize(args, kwds, add_initializers_to=initializers)\n    + ...eager/polymorphic_function/polymorphic_function.py (L694) _initialize\n    |   self._variable_creation_fn    # pylint: disable=protected-access\n    + ...hon/eager/polymorphic_function/tracing_compiler.py (L176) _get_concrete_function_internal_garbage_collected\n    |   concrete_function, _ = self._maybe_define_concrete_function(args, kwargs)\n    + ...hon/eager/polymorphic_function/tracing_compiler.py (L171) _maybe_define_concrete_function\n    |   return self._maybe_define_function(args, kwargs)\n    + ...hon/eager/polymorphic_function/tracing_compiler.py (L398) _maybe_define_function\n    |   concrete_function = self._create_concrete_function(\n    + ...hon/eager/polymorphic_function/tracing_compiler.py (L305) _create_concrete_function\n    |   func_graph_module.func_graph_from_py_func(\n    + ...packages/tensorflow/python/framework/func_graph.py (L1055) func_graph_from_py_func\n    |   func_outputs = python_func(*func_args, **func_kwargs)\n    + ...eager/polymorphic_function/polymorphic_function.py (L597) wrapped_fn\n    |   out = weak_wrapped_fn().__wrapped__(*args, **kwds)\n    + ...ython/eager/polymorphic_function/autograph_util.py (L41) autograph_handler\n    |   return api.converted_call(\n    + ...5d6p6qrcs9w80000gn/T/ipykernel_38652/2798990969.py (L7) square_log_x_plus_1\n -> |   v = tf.math.log(x + 1)\n    + ...ite-packages/tensorflow/python/ops/gen_math_ops.py (L5497) log\n    |   _, _, _op, _outputs = _op_def_library._apply_op_helper(\n    + ...ages/tensorflow/python/framework/op_def_library.py (L795) _apply_op_helper\n    |   op = g._create_op_internal(op_type_name, inputs, dtypes=None,\n    + ...packages/tensorflow/python/framework/func_graph.py (L670) _create_op_internal\n    |   return super()._create_op_internal(  # pylint: disable=protected-access\n    + ...1/site-packages/tensorflow/python/framework/ops.py (L3381) _create_op_internal\n    |   ret = Operation.from_node_def(\n\n : Tensor had -Inf values\n\t [[{{node Log/CheckNumericsV2_1}}]]\n\t [[Square/CheckNumericsV2/_3]]\n  (1) INVALID_ARGUMENT:  \n\n!!! Detected Infinity or NaN in output 0 of graph op \"Log\" (# of outputs: 1) !!!\n  dtype: <dtype: 'float32'>\n  shape: ()\n\n  Input tensor: Tensor(\"Log/x:0\", shape=(), dtype=float32)\n  Graph name: \"square_log_x_plus_1\"\n\n  Stack trace of op's creation (\"->\": inferred user code):\n    + ... (Omitted 8 frames)\n    + ...onda3/envs/tf2env/lib/python3.11/asyncio/events.py (L80) _run\n -> |   self._context.run(self._callback, *self._args)\n    + ...b/python3.11/site-packages/ipykernel/kernelbase.py (L516) dispatch_queue\n -> |   await self.process_one()\n    + ...b/python3.11/site-packages/ipykernel/kernelbase.py (L505) process_one\n -> |   await dispatch(*args)\n    + ...b/python3.11/site-packages/ipykernel/kernelbase.py (L412) dispatch_shell\n -> |   await result\n    + ...b/python3.11/site-packages/ipykernel/kernelbase.py (L740) execute_request\n -> |   reply_content = await reply_content\n    + ...lib/python3.11/site-packages/ipykernel/ipkernel.py (L422) do_execute\n -> |   res = shell.run_cell(\n    + ...lib/python3.11/site-packages/ipykernel/zmqshell.py (L546) run_cell\n -> |   return super().run_cell(*args, **kwargs)\n    + ....11/site-packages/IPython/core/interactiveshell.py (L3009) run_cell\n -> |   result = self._run_cell(\n    + ....11/site-packages/IPython/core/interactiveshell.py (L3064) _run_cell\n -> |   result = runner(coro)\n    + ...on3.11/site-packages/IPython/core/async_helpers.py (L129) _pseudo_sync_runner\n -> |   coro.send(None)\n    + ....11/site-packages/IPython/core/interactiveshell.py (L3269) run_cell_async\n -> |   has_raised = await self.run_ast_nodes(code_ast.body, cell_name,\n    + ....11/site-packages/IPython/core/interactiveshell.py (L3448) run_ast_nodes\n -> |   if await self.run_code(code, result, async_=asy):\n    + ....11/site-packages/IPython/core/interactiveshell.py (L3508) run_code\n -> |   exec(code_obj, self.user_global_ns, self.user_ns)\n    + ...5d6p6qrcs9w80000gn/T/ipykernel_38652/2798990969.py (L19) <module>\n -> |   y = square_log_x_plus_1(x)\n    + ...packages/tensorflow/python/util/traceback_utils.py (L150) error_handler\n    |   return fn(*args, **kwargs)\n    + ...eager/polymorphic_function/polymorphic_function.py (L825) __call__\n    |   result = self._call(*args, **kwds)\n    + ...eager/polymorphic_function/polymorphic_function.py (L873) _call\n    |   self._initialize(args, kwds, add_initializers_to=initializers)\n    + ...eager/polymorphic_function/polymorphic_function.py (L694) _initialize\n    |   self._variable_creation_fn    # pylint: disable=protected-access\n    + ...hon/eager/polymorphic_function/tracing_compiler.py (L176) _get_concrete_function_internal_garbage_collected\n    |   concrete_function, _ = self._maybe_define_concrete_function(args, kwargs)\n    + ...hon/eager/polymorphic_function/tracing_compiler.py (L171) _maybe_define_concrete_function\n    |   return self._maybe_define_function(args, kwargs)\n    + ...hon/eager/polymorphic_function/tracing_compiler.py (L398) _maybe_define_function\n    |   concrete_function = self._create_concrete_function(\n    + ...hon/eager/polymorphic_function/tracing_compiler.py (L305) _create_concrete_function\n    |   func_graph_module.func_graph_from_py_func(\n    + ...packages/tensorflow/python/framework/func_graph.py (L1055) func_graph_from_py_func\n    |   func_outputs = python_func(*func_args, **func_kwargs)\n    + ...eager/polymorphic_function/polymorphic_function.py (L597) wrapped_fn\n    |   out = weak_wrapped_fn().__wrapped__(*args, **kwds)\n    + ...ython/eager/polymorphic_function/autograph_util.py (L41) autograph_handler\n    |   return api.converted_call(\n    + ...5d6p6qrcs9w80000gn/T/ipykernel_38652/2798990969.py [Op:__inference_square_log_x_plus_1_35]"
     ]
    }
   ],
   "source": [
    "import tensorflow as tf\n",
    "\n",
    "tf.debugging.enable_check_numerics()\n",
    "\n",
    "@tf.function\n",
    "def square_log_x_plus_1(x):\n",
    "  v = tf.math.log(x + 1)\n",
    "  return tf.math.square(v)\n",
    "\n",
    "x = -1.0\n",
    "\n",
    "# When the following line runs, a function graph will be compiled\n",
    "# from the Python function `square_log_x_plus_1()`. Due to the\n",
    "# `enable_check_numerics()` call above, the graph will contain\n",
    "# numerics checking ops that will run during the function graph's\n",
    "# execution. The function call generates an -infinity when the Log\n",
    "# (logarithm) op operates on the output tensor of the Add op.\n",
    "# The program errors out at this line, printing an error message.\n",
    "y = square_log_x_plus_1(x)\n",
    "z = -y"
   ]
  },
  {
   "cell_type": "code",
   "execution_count": 10,
   "metadata": {},
   "outputs": [
    {
     "name": "stdout",
     "output_type": "stream",
     "text": [
      "Probability of X <= 11: 0.001978560865771221\n"
     ]
    }
   ],
   "source": [
    "from scipy.stats import binom\n",
    "\n",
    "n = 100  # Number of trials\n",
    "p = 0.9  # Probability of success on each trial\n",
    "x = 80  # Number of successes\n",
    "\n",
    "# Calculate P(X <= 11)\n",
    "probability = binom.cdf(x, n, p)\n",
    "print(\"Probability of X <= 11:\", probability)\n"
   ]
  },
  {
   "cell_type": "code",
   "execution_count": 13,
   "metadata": {},
   "outputs": [
    {
     "name": "stdout",
     "output_type": "stream",
     "text": [
      "Probability: 0.13326026290250537\n"
     ]
    }
   ],
   "source": [
    "from scipy.stats import norm\n",
    "\n",
    "n = 100  # Number of trials\n",
    "p = 0.9  # Probability of success on each trial\n",
    "x = 80  # Number of successes\n",
    "\n",
    "# Calculate P(X <= 11)\n",
    "probability = norm(90,9).cdf(80)\n",
    "print(\"Probability:\", probability)"
   ]
  },
  {
   "cell_type": "code",
   "execution_count": 9,
   "metadata": {},
   "outputs": [],
   "source": [
    "import tensorflow as tf\n",
    "\n",
    "model = tf.keras.applications.xception.Xception(\n",
    "    include_top=False,\n",
    "    weights=None,\n",
    "    input_tensor=None,\n",
    "    input_shape=(71, 71, 14),\n",
    "    pooling=None,\n",
    "    classes=2,\n",
    "    classifier_activation='softmax'\n",
    ")"
   ]
  },
  {
   "cell_type": "code",
   "execution_count": 10,
   "metadata": {},
   "outputs": [
    {
     "name": "stdout",
     "output_type": "stream",
     "text": [
      "Model: \"xception\"\n",
      "__________________________________________________________________________________________________\n",
      " Layer (type)                Output Shape                 Param #   Connected to                  \n",
      "==================================================================================================\n",
      " input_3 (InputLayer)        [(None, 71, 71, 14)]         0         []                            \n",
      "                                                                                                  \n",
      " block1_conv1 (Conv2D)       (None, 35, 35, 32)           4032      ['input_3[0][0]']             \n",
      "                                                                                                  \n",
      " block1_conv1_bn (BatchNorm  (None, 35, 35, 32)           128       ['block1_conv1[0][0]']        \n",
      " alization)                                                                                       \n",
      "                                                                                                  \n",
      " block1_conv1_act (Activati  (None, 35, 35, 32)           0         ['block1_conv1_bn[0][0]']     \n",
      " on)                                                                                              \n",
      "                                                                                                  \n",
      " block1_conv2 (Conv2D)       (None, 33, 33, 64)           18432     ['block1_conv1_act[0][0]']    \n",
      "                                                                                                  \n",
      " block1_conv2_bn (BatchNorm  (None, 33, 33, 64)           256       ['block1_conv2[0][0]']        \n",
      " alization)                                                                                       \n",
      "                                                                                                  \n",
      " block1_conv2_act (Activati  (None, 33, 33, 64)           0         ['block1_conv2_bn[0][0]']     \n",
      " on)                                                                                              \n",
      "                                                                                                  \n",
      " block2_sepconv1 (Separable  (None, 33, 33, 128)          8768      ['block1_conv2_act[0][0]']    \n",
      " Conv2D)                                                                                          \n",
      "                                                                                                  \n",
      " block2_sepconv1_bn (BatchN  (None, 33, 33, 128)          512       ['block2_sepconv1[0][0]']     \n",
      " ormalization)                                                                                    \n",
      "                                                                                                  \n",
      " block2_sepconv2_act (Activ  (None, 33, 33, 128)          0         ['block2_sepconv1_bn[0][0]']  \n",
      " ation)                                                                                           \n",
      "                                                                                                  \n",
      " block2_sepconv2 (Separable  (None, 33, 33, 128)          17536     ['block2_sepconv2_act[0][0]'] \n",
      " Conv2D)                                                                                          \n",
      "                                                                                                  \n",
      " block2_sepconv2_bn (BatchN  (None, 33, 33, 128)          512       ['block2_sepconv2[0][0]']     \n",
      " ormalization)                                                                                    \n",
      "                                                                                                  \n",
      " conv2d_8 (Conv2D)           (None, 17, 17, 128)          8192      ['block1_conv2_act[0][0]']    \n",
      "                                                                                                  \n",
      " block2_pool (MaxPooling2D)  (None, 17, 17, 128)          0         ['block2_sepconv2_bn[0][0]']  \n",
      "                                                                                                  \n",
      " batch_normalization_8 (Bat  (None, 17, 17, 128)          512       ['conv2d_8[0][0]']            \n",
      " chNormalization)                                                                                 \n",
      "                                                                                                  \n",
      " add_24 (Add)                (None, 17, 17, 128)          0         ['block2_pool[0][0]',         \n",
      "                                                                     'batch_normalization_8[0][0]'\n",
      "                                                                    ]                             \n",
      "                                                                                                  \n",
      " block3_sepconv1_act (Activ  (None, 17, 17, 128)          0         ['add_24[0][0]']              \n",
      " ation)                                                                                           \n",
      "                                                                                                  \n",
      " block3_sepconv1 (Separable  (None, 17, 17, 256)          33920     ['block3_sepconv1_act[0][0]'] \n",
      " Conv2D)                                                                                          \n",
      "                                                                                                  \n",
      " block3_sepconv1_bn (BatchN  (None, 17, 17, 256)          1024      ['block3_sepconv1[0][0]']     \n",
      " ormalization)                                                                                    \n",
      "                                                                                                  \n",
      " block3_sepconv2_act (Activ  (None, 17, 17, 256)          0         ['block3_sepconv1_bn[0][0]']  \n",
      " ation)                                                                                           \n",
      "                                                                                                  \n",
      " block3_sepconv2 (Separable  (None, 17, 17, 256)          67840     ['block3_sepconv2_act[0][0]'] \n",
      " Conv2D)                                                                                          \n",
      "                                                                                                  \n",
      " block3_sepconv2_bn (BatchN  (None, 17, 17, 256)          1024      ['block3_sepconv2[0][0]']     \n",
      " ormalization)                                                                                    \n",
      "                                                                                                  \n",
      " conv2d_9 (Conv2D)           (None, 9, 9, 256)            32768     ['add_24[0][0]']              \n",
      "                                                                                                  \n",
      " block3_pool (MaxPooling2D)  (None, 9, 9, 256)            0         ['block3_sepconv2_bn[0][0]']  \n",
      "                                                                                                  \n",
      " batch_normalization_9 (Bat  (None, 9, 9, 256)            1024      ['conv2d_9[0][0]']            \n",
      " chNormalization)                                                                                 \n",
      "                                                                                                  \n",
      " add_25 (Add)                (None, 9, 9, 256)            0         ['block3_pool[0][0]',         \n",
      "                                                                     'batch_normalization_9[0][0]'\n",
      "                                                                    ]                             \n",
      "                                                                                                  \n",
      " block4_sepconv1_act (Activ  (None, 9, 9, 256)            0         ['add_25[0][0]']              \n",
      " ation)                                                                                           \n",
      "                                                                                                  \n",
      " block4_sepconv1 (Separable  (None, 9, 9, 728)            188672    ['block4_sepconv1_act[0][0]'] \n",
      " Conv2D)                                                                                          \n",
      "                                                                                                  \n",
      " block4_sepconv1_bn (BatchN  (None, 9, 9, 728)            2912      ['block4_sepconv1[0][0]']     \n",
      " ormalization)                                                                                    \n",
      "                                                                                                  \n",
      " block4_sepconv2_act (Activ  (None, 9, 9, 728)            0         ['block4_sepconv1_bn[0][0]']  \n",
      " ation)                                                                                           \n",
      "                                                                                                  \n",
      " block4_sepconv2 (Separable  (None, 9, 9, 728)            536536    ['block4_sepconv2_act[0][0]'] \n",
      " Conv2D)                                                                                          \n",
      "                                                                                                  \n",
      " block4_sepconv2_bn (BatchN  (None, 9, 9, 728)            2912      ['block4_sepconv2[0][0]']     \n",
      " ormalization)                                                                                    \n",
      "                                                                                                  \n",
      " conv2d_10 (Conv2D)          (None, 5, 5, 728)            186368    ['add_25[0][0]']              \n",
      "                                                                                                  \n",
      " block4_pool (MaxPooling2D)  (None, 5, 5, 728)            0         ['block4_sepconv2_bn[0][0]']  \n",
      "                                                                                                  \n",
      " batch_normalization_10 (Ba  (None, 5, 5, 728)            2912      ['conv2d_10[0][0]']           \n",
      " tchNormalization)                                                                                \n",
      "                                                                                                  \n",
      " add_26 (Add)                (None, 5, 5, 728)            0         ['block4_pool[0][0]',         \n",
      "                                                                     'batch_normalization_10[0][0]\n",
      "                                                                    ']                            \n",
      "                                                                                                  \n",
      " block5_sepconv1_act (Activ  (None, 5, 5, 728)            0         ['add_26[0][0]']              \n",
      " ation)                                                                                           \n",
      "                                                                                                  \n",
      " block5_sepconv1 (Separable  (None, 5, 5, 728)            536536    ['block5_sepconv1_act[0][0]'] \n",
      " Conv2D)                                                                                          \n",
      "                                                                                                  \n",
      " block5_sepconv1_bn (BatchN  (None, 5, 5, 728)            2912      ['block5_sepconv1[0][0]']     \n",
      " ormalization)                                                                                    \n",
      "                                                                                                  \n",
      " block5_sepconv2_act (Activ  (None, 5, 5, 728)            0         ['block5_sepconv1_bn[0][0]']  \n",
      " ation)                                                                                           \n",
      "                                                                                                  \n",
      " block5_sepconv2 (Separable  (None, 5, 5, 728)            536536    ['block5_sepconv2_act[0][0]'] \n",
      " Conv2D)                                                                                          \n",
      "                                                                                                  \n",
      " block5_sepconv2_bn (BatchN  (None, 5, 5, 728)            2912      ['block5_sepconv2[0][0]']     \n",
      " ormalization)                                                                                    \n",
      "                                                                                                  \n",
      " block5_sepconv3_act (Activ  (None, 5, 5, 728)            0         ['block5_sepconv2_bn[0][0]']  \n",
      " ation)                                                                                           \n",
      "                                                                                                  \n",
      " block5_sepconv3 (Separable  (None, 5, 5, 728)            536536    ['block5_sepconv3_act[0][0]'] \n",
      " Conv2D)                                                                                          \n",
      "                                                                                                  \n",
      " block5_sepconv3_bn (BatchN  (None, 5, 5, 728)            2912      ['block5_sepconv3[0][0]']     \n",
      " ormalization)                                                                                    \n",
      "                                                                                                  \n",
      " add_27 (Add)                (None, 5, 5, 728)            0         ['block5_sepconv3_bn[0][0]',  \n",
      "                                                                     'add_26[0][0]']              \n",
      "                                                                                                  \n",
      " block6_sepconv1_act (Activ  (None, 5, 5, 728)            0         ['add_27[0][0]']              \n",
      " ation)                                                                                           \n",
      "                                                                                                  \n",
      " block6_sepconv1 (Separable  (None, 5, 5, 728)            536536    ['block6_sepconv1_act[0][0]'] \n",
      " Conv2D)                                                                                          \n",
      "                                                                                                  \n",
      " block6_sepconv1_bn (BatchN  (None, 5, 5, 728)            2912      ['block6_sepconv1[0][0]']     \n",
      " ormalization)                                                                                    \n",
      "                                                                                                  \n",
      " block6_sepconv2_act (Activ  (None, 5, 5, 728)            0         ['block6_sepconv1_bn[0][0]']  \n",
      " ation)                                                                                           \n",
      "                                                                                                  \n",
      " block6_sepconv2 (Separable  (None, 5, 5, 728)            536536    ['block6_sepconv2_act[0][0]'] \n",
      " Conv2D)                                                                                          \n",
      "                                                                                                  \n",
      " block6_sepconv2_bn (BatchN  (None, 5, 5, 728)            2912      ['block6_sepconv2[0][0]']     \n",
      " ormalization)                                                                                    \n",
      "                                                                                                  \n",
      " block6_sepconv3_act (Activ  (None, 5, 5, 728)            0         ['block6_sepconv2_bn[0][0]']  \n",
      " ation)                                                                                           \n",
      "                                                                                                  \n",
      " block6_sepconv3 (Separable  (None, 5, 5, 728)            536536    ['block6_sepconv3_act[0][0]'] \n",
      " Conv2D)                                                                                          \n",
      "                                                                                                  \n",
      " block6_sepconv3_bn (BatchN  (None, 5, 5, 728)            2912      ['block6_sepconv3[0][0]']     \n",
      " ormalization)                                                                                    \n",
      "                                                                                                  \n",
      " add_28 (Add)                (None, 5, 5, 728)            0         ['block6_sepconv3_bn[0][0]',  \n",
      "                                                                     'add_27[0][0]']              \n",
      "                                                                                                  \n",
      " block7_sepconv1_act (Activ  (None, 5, 5, 728)            0         ['add_28[0][0]']              \n",
      " ation)                                                                                           \n",
      "                                                                                                  \n",
      " block7_sepconv1 (Separable  (None, 5, 5, 728)            536536    ['block7_sepconv1_act[0][0]'] \n",
      " Conv2D)                                                                                          \n",
      "                                                                                                  \n",
      " block7_sepconv1_bn (BatchN  (None, 5, 5, 728)            2912      ['block7_sepconv1[0][0]']     \n",
      " ormalization)                                                                                    \n",
      "                                                                                                  \n",
      " block7_sepconv2_act (Activ  (None, 5, 5, 728)            0         ['block7_sepconv1_bn[0][0]']  \n",
      " ation)                                                                                           \n",
      "                                                                                                  \n",
      " block7_sepconv2 (Separable  (None, 5, 5, 728)            536536    ['block7_sepconv2_act[0][0]'] \n",
      " Conv2D)                                                                                          \n",
      "                                                                                                  \n",
      " block7_sepconv2_bn (BatchN  (None, 5, 5, 728)            2912      ['block7_sepconv2[0][0]']     \n",
      " ormalization)                                                                                    \n",
      "                                                                                                  \n",
      " block7_sepconv3_act (Activ  (None, 5, 5, 728)            0         ['block7_sepconv2_bn[0][0]']  \n",
      " ation)                                                                                           \n",
      "                                                                                                  \n",
      " block7_sepconv3 (Separable  (None, 5, 5, 728)            536536    ['block7_sepconv3_act[0][0]'] \n",
      " Conv2D)                                                                                          \n",
      "                                                                                                  \n",
      " block7_sepconv3_bn (BatchN  (None, 5, 5, 728)            2912      ['block7_sepconv3[0][0]']     \n",
      " ormalization)                                                                                    \n",
      "                                                                                                  \n",
      " add_29 (Add)                (None, 5, 5, 728)            0         ['block7_sepconv3_bn[0][0]',  \n",
      "                                                                     'add_28[0][0]']              \n",
      "                                                                                                  \n",
      " block8_sepconv1_act (Activ  (None, 5, 5, 728)            0         ['add_29[0][0]']              \n",
      " ation)                                                                                           \n",
      "                                                                                                  \n",
      " block8_sepconv1 (Separable  (None, 5, 5, 728)            536536    ['block8_sepconv1_act[0][0]'] \n",
      " Conv2D)                                                                                          \n",
      "                                                                                                  \n",
      " block8_sepconv1_bn (BatchN  (None, 5, 5, 728)            2912      ['block8_sepconv1[0][0]']     \n",
      " ormalization)                                                                                    \n",
      "                                                                                                  \n",
      " block8_sepconv2_act (Activ  (None, 5, 5, 728)            0         ['block8_sepconv1_bn[0][0]']  \n",
      " ation)                                                                                           \n",
      "                                                                                                  \n",
      " block8_sepconv2 (Separable  (None, 5, 5, 728)            536536    ['block8_sepconv2_act[0][0]'] \n",
      " Conv2D)                                                                                          \n",
      "                                                                                                  \n",
      " block8_sepconv2_bn (BatchN  (None, 5, 5, 728)            2912      ['block8_sepconv2[0][0]']     \n",
      " ormalization)                                                                                    \n",
      "                                                                                                  \n",
      " block8_sepconv3_act (Activ  (None, 5, 5, 728)            0         ['block8_sepconv2_bn[0][0]']  \n",
      " ation)                                                                                           \n",
      "                                                                                                  \n",
      " block8_sepconv3 (Separable  (None, 5, 5, 728)            536536    ['block8_sepconv3_act[0][0]'] \n",
      " Conv2D)                                                                                          \n",
      "                                                                                                  \n",
      " block8_sepconv3_bn (BatchN  (None, 5, 5, 728)            2912      ['block8_sepconv3[0][0]']     \n",
      " ormalization)                                                                                    \n",
      "                                                                                                  \n",
      " add_30 (Add)                (None, 5, 5, 728)            0         ['block8_sepconv3_bn[0][0]',  \n",
      "                                                                     'add_29[0][0]']              \n",
      "                                                                                                  \n",
      " block9_sepconv1_act (Activ  (None, 5, 5, 728)            0         ['add_30[0][0]']              \n",
      " ation)                                                                                           \n",
      "                                                                                                  \n",
      " block9_sepconv1 (Separable  (None, 5, 5, 728)            536536    ['block9_sepconv1_act[0][0]'] \n",
      " Conv2D)                                                                                          \n",
      "                                                                                                  \n",
      " block9_sepconv1_bn (BatchN  (None, 5, 5, 728)            2912      ['block9_sepconv1[0][0]']     \n",
      " ormalization)                                                                                    \n",
      "                                                                                                  \n",
      " block9_sepconv2_act (Activ  (None, 5, 5, 728)            0         ['block9_sepconv1_bn[0][0]']  \n",
      " ation)                                                                                           \n",
      "                                                                                                  \n",
      " block9_sepconv2 (Separable  (None, 5, 5, 728)            536536    ['block9_sepconv2_act[0][0]'] \n",
      " Conv2D)                                                                                          \n",
      "                                                                                                  \n",
      " block9_sepconv2_bn (BatchN  (None, 5, 5, 728)            2912      ['block9_sepconv2[0][0]']     \n",
      " ormalization)                                                                                    \n",
      "                                                                                                  \n",
      " block9_sepconv3_act (Activ  (None, 5, 5, 728)            0         ['block9_sepconv2_bn[0][0]']  \n",
      " ation)                                                                                           \n",
      "                                                                                                  \n",
      " block9_sepconv3 (Separable  (None, 5, 5, 728)            536536    ['block9_sepconv3_act[0][0]'] \n",
      " Conv2D)                                                                                          \n",
      "                                                                                                  \n",
      " block9_sepconv3_bn (BatchN  (None, 5, 5, 728)            2912      ['block9_sepconv3[0][0]']     \n",
      " ormalization)                                                                                    \n",
      "                                                                                                  \n",
      " add_31 (Add)                (None, 5, 5, 728)            0         ['block9_sepconv3_bn[0][0]',  \n",
      "                                                                     'add_30[0][0]']              \n",
      "                                                                                                  \n",
      " block10_sepconv1_act (Acti  (None, 5, 5, 728)            0         ['add_31[0][0]']              \n",
      " vation)                                                                                          \n",
      "                                                                                                  \n",
      " block10_sepconv1 (Separabl  (None, 5, 5, 728)            536536    ['block10_sepconv1_act[0][0]']\n",
      " eConv2D)                                                                                         \n",
      "                                                                                                  \n",
      " block10_sepconv1_bn (Batch  (None, 5, 5, 728)            2912      ['block10_sepconv1[0][0]']    \n",
      " Normalization)                                                                                   \n",
      "                                                                                                  \n",
      " block10_sepconv2_act (Acti  (None, 5, 5, 728)            0         ['block10_sepconv1_bn[0][0]'] \n",
      " vation)                                                                                          \n",
      "                                                                                                  \n",
      " block10_sepconv2 (Separabl  (None, 5, 5, 728)            536536    ['block10_sepconv2_act[0][0]']\n",
      " eConv2D)                                                                                         \n",
      "                                                                                                  \n",
      " block10_sepconv2_bn (Batch  (None, 5, 5, 728)            2912      ['block10_sepconv2[0][0]']    \n",
      " Normalization)                                                                                   \n",
      "                                                                                                  \n",
      " block10_sepconv3_act (Acti  (None, 5, 5, 728)            0         ['block10_sepconv2_bn[0][0]'] \n",
      " vation)                                                                                          \n",
      "                                                                                                  \n",
      " block10_sepconv3 (Separabl  (None, 5, 5, 728)            536536    ['block10_sepconv3_act[0][0]']\n",
      " eConv2D)                                                                                         \n",
      "                                                                                                  \n",
      " block10_sepconv3_bn (Batch  (None, 5, 5, 728)            2912      ['block10_sepconv3[0][0]']    \n",
      " Normalization)                                                                                   \n",
      "                                                                                                  \n",
      " add_32 (Add)                (None, 5, 5, 728)            0         ['block10_sepconv3_bn[0][0]', \n",
      "                                                                     'add_31[0][0]']              \n",
      "                                                                                                  \n",
      " block11_sepconv1_act (Acti  (None, 5, 5, 728)            0         ['add_32[0][0]']              \n",
      " vation)                                                                                          \n",
      "                                                                                                  \n",
      " block11_sepconv1 (Separabl  (None, 5, 5, 728)            536536    ['block11_sepconv1_act[0][0]']\n",
      " eConv2D)                                                                                         \n",
      "                                                                                                  \n",
      " block11_sepconv1_bn (Batch  (None, 5, 5, 728)            2912      ['block11_sepconv1[0][0]']    \n",
      " Normalization)                                                                                   \n",
      "                                                                                                  \n",
      " block11_sepconv2_act (Acti  (None, 5, 5, 728)            0         ['block11_sepconv1_bn[0][0]'] \n",
      " vation)                                                                                          \n",
      "                                                                                                  \n",
      " block11_sepconv2 (Separabl  (None, 5, 5, 728)            536536    ['block11_sepconv2_act[0][0]']\n",
      " eConv2D)                                                                                         \n",
      "                                                                                                  \n",
      " block11_sepconv2_bn (Batch  (None, 5, 5, 728)            2912      ['block11_sepconv2[0][0]']    \n",
      " Normalization)                                                                                   \n",
      "                                                                                                  \n",
      " block11_sepconv3_act (Acti  (None, 5, 5, 728)            0         ['block11_sepconv2_bn[0][0]'] \n",
      " vation)                                                                                          \n",
      "                                                                                                  \n",
      " block11_sepconv3 (Separabl  (None, 5, 5, 728)            536536    ['block11_sepconv3_act[0][0]']\n",
      " eConv2D)                                                                                         \n",
      "                                                                                                  \n",
      " block11_sepconv3_bn (Batch  (None, 5, 5, 728)            2912      ['block11_sepconv3[0][0]']    \n",
      " Normalization)                                                                                   \n",
      "                                                                                                  \n",
      " add_33 (Add)                (None, 5, 5, 728)            0         ['block11_sepconv3_bn[0][0]', \n",
      "                                                                     'add_32[0][0]']              \n",
      "                                                                                                  \n",
      " block12_sepconv1_act (Acti  (None, 5, 5, 728)            0         ['add_33[0][0]']              \n",
      " vation)                                                                                          \n",
      "                                                                                                  \n",
      " block12_sepconv1 (Separabl  (None, 5, 5, 728)            536536    ['block12_sepconv1_act[0][0]']\n",
      " eConv2D)                                                                                         \n",
      "                                                                                                  \n",
      " block12_sepconv1_bn (Batch  (None, 5, 5, 728)            2912      ['block12_sepconv1[0][0]']    \n",
      " Normalization)                                                                                   \n",
      "                                                                                                  \n",
      " block12_sepconv2_act (Acti  (None, 5, 5, 728)            0         ['block12_sepconv1_bn[0][0]'] \n",
      " vation)                                                                                          \n",
      "                                                                                                  \n",
      " block12_sepconv2 (Separabl  (None, 5, 5, 728)            536536    ['block12_sepconv2_act[0][0]']\n",
      " eConv2D)                                                                                         \n",
      "                                                                                                  \n",
      " block12_sepconv2_bn (Batch  (None, 5, 5, 728)            2912      ['block12_sepconv2[0][0]']    \n",
      " Normalization)                                                                                   \n",
      "                                                                                                  \n",
      " block12_sepconv3_act (Acti  (None, 5, 5, 728)            0         ['block12_sepconv2_bn[0][0]'] \n",
      " vation)                                                                                          \n",
      "                                                                                                  \n",
      " block12_sepconv3 (Separabl  (None, 5, 5, 728)            536536    ['block12_sepconv3_act[0][0]']\n",
      " eConv2D)                                                                                         \n",
      "                                                                                                  \n",
      " block12_sepconv3_bn (Batch  (None, 5, 5, 728)            2912      ['block12_sepconv3[0][0]']    \n",
      " Normalization)                                                                                   \n",
      "                                                                                                  \n",
      " add_34 (Add)                (None, 5, 5, 728)            0         ['block12_sepconv3_bn[0][0]', \n",
      "                                                                     'add_33[0][0]']              \n",
      "                                                                                                  \n",
      " block13_sepconv1_act (Acti  (None, 5, 5, 728)            0         ['add_34[0][0]']              \n",
      " vation)                                                                                          \n",
      "                                                                                                  \n",
      " block13_sepconv1 (Separabl  (None, 5, 5, 728)            536536    ['block13_sepconv1_act[0][0]']\n",
      " eConv2D)                                                                                         \n",
      "                                                                                                  \n",
      " block13_sepconv1_bn (Batch  (None, 5, 5, 728)            2912      ['block13_sepconv1[0][0]']    \n",
      " Normalization)                                                                                   \n",
      "                                                                                                  \n",
      " block13_sepconv2_act (Acti  (None, 5, 5, 728)            0         ['block13_sepconv1_bn[0][0]'] \n",
      " vation)                                                                                          \n",
      "                                                                                                  \n",
      " block13_sepconv2 (Separabl  (None, 5, 5, 1024)           752024    ['block13_sepconv2_act[0][0]']\n",
      " eConv2D)                                                                                         \n",
      "                                                                                                  \n",
      " block13_sepconv2_bn (Batch  (None, 5, 5, 1024)           4096      ['block13_sepconv2[0][0]']    \n",
      " Normalization)                                                                                   \n",
      "                                                                                                  \n",
      " conv2d_11 (Conv2D)          (None, 3, 3, 1024)           745472    ['add_34[0][0]']              \n",
      "                                                                                                  \n",
      " block13_pool (MaxPooling2D  (None, 3, 3, 1024)           0         ['block13_sepconv2_bn[0][0]'] \n",
      " )                                                                                                \n",
      "                                                                                                  \n",
      " batch_normalization_11 (Ba  (None, 3, 3, 1024)           4096      ['conv2d_11[0][0]']           \n",
      " tchNormalization)                                                                                \n",
      "                                                                                                  \n",
      " add_35 (Add)                (None, 3, 3, 1024)           0         ['block13_pool[0][0]',        \n",
      "                                                                     'batch_normalization_11[0][0]\n",
      "                                                                    ']                            \n",
      "                                                                                                  \n",
      " block14_sepconv1 (Separabl  (None, 3, 3, 1536)           1582080   ['add_35[0][0]']              \n",
      " eConv2D)                                                                                         \n",
      "                                                                                                  \n",
      " block14_sepconv1_bn (Batch  (None, 3, 3, 1536)           6144      ['block14_sepconv1[0][0]']    \n",
      " Normalization)                                                                                   \n",
      "                                                                                                  \n",
      " block14_sepconv1_act (Acti  (None, 3, 3, 1536)           0         ['block14_sepconv1_bn[0][0]'] \n",
      " vation)                                                                                          \n",
      "                                                                                                  \n",
      " block14_sepconv2 (Separabl  (None, 3, 3, 2048)           3159552   ['block14_sepconv1_act[0][0]']\n",
      " eConv2D)                                                                                         \n",
      "                                                                                                  \n",
      " block14_sepconv2_bn (Batch  (None, 3, 3, 2048)           8192      ['block14_sepconv2[0][0]']    \n",
      " Normalization)                                                                                   \n",
      "                                                                                                  \n",
      " block14_sepconv2_act (Acti  (None, 3, 3, 2048)           0         ['block14_sepconv2_bn[0][0]'] \n",
      " vation)                                                                                          \n",
      "                                                                                                  \n",
      "==================================================================================================\n",
      "Total params: 20864648 (79.59 MB)\n",
      "Trainable params: 20810120 (79.38 MB)\n",
      "Non-trainable params: 54528 (213.00 KB)\n",
      "__________________________________________________________________________________________________\n"
     ]
    }
   ],
   "source": [
    "model.summary()"
   ]
  },
  {
   "cell_type": "code",
   "execution_count": 17,
   "metadata": {},
   "outputs": [],
   "source": [
    "def WeightedCrossEntropyC(y_true, y_pred,class_weights=None, mask=None):\n",
    "    temp = -y_true * tf.math.log(y_pred + 1e-3)\n",
    "    temp_weighted = class_weights * temp\n",
    "    loss = tf.math.reduce_sum(temp_weighted, 3)\n",
    "    classifier_loss = tf.math.divide_no_nan(tf.reduce_sum(mask * loss), tf.reduce_sum(mask))\n",
    "    return classifier_loss"
   ]
  },
  {
   "cell_type": "code",
   "execution_count": 36,
   "metadata": {},
   "outputs": [
    {
     "name": "stdout",
     "output_type": "stream",
     "text": [
      "(32, 64, 64, 2)\n",
      "0.0\n"
     ]
    }
   ],
   "source": [
    "import tensorflow as tf\n",
    "import numpy as np\n",
    "\n",
    "logits = tf.random.uniform(shape=(32, 64, 64, 2))\n",
    "\n",
    "#logits = tf.constant([[4.0, 2.0], [1.0, 5.0,], [1.0, 5.0], [1.0, 6.0]])\n",
    "labels = tf.ones_like(logits)\n",
    "\n",
    "class_weights = np.ones(logits.shape)\n",
    "\n",
    "print(logits.shape)\n",
    "\n",
    "mask = np.zeros((logits.shape[0],logits.shape[1],logits.shape[2]),dtype='float32')\n",
    "\n",
    "#softmax = tf.nn.softmax(logits)\n",
    "\n",
    "result = WeightedCrossEntropyC(labels,softmax,class_weights,mask).numpy()\n",
    "\n",
    "print(result)"
   ]
  },
  {
   "cell_type": "code",
   "execution_count": 19,
   "metadata": {},
   "outputs": [
    {
     "name": "stdout",
     "output_type": "stream",
     "text": [
      "[-0.]\n",
      "-0.0\n",
      "tf.Tensor([[0.272556  0.9102269]], shape=(1, 2), dtype=float32)\n",
      "tf.Tensor([[0.272556  0.9102269]], shape=(1, 2), dtype=float32)\n"
     ]
    }
   ],
   "source": [
    "import tensorflow as tf \n",
    "\n",
    "x = tf.constant([[0.1,0.90]])\n",
    "y = tf.constant([[0.0,.0]])\n",
    "with tf.GradientTape(persistent=True) as g:\n",
    "  g.watch(x)\n",
    "  z = tf.keras.Sequential(\n",
    "         tf.keras.layers.Dense(2, activation = \"softmax\", use_bias = False)\n",
    "      )(x)\n",
    "  z1 = tf.losses.categorical_crossentropy(y, z)\n",
    "  z2 = tf.keras.losses.CategoricalCrossentropy()(y_true=y,y_pred=z)\n",
    "\n",
    "print(z1.numpy())\n",
    "print(z2.numpy())\n",
    "dz1_dx = g.gradient(z1, x)\n",
    "dz2_dx = g.gradient(z2, x)\n",
    "\n",
    "print(dz1_dx)\n",
    "print(dz2_dx)"
   ]
  },
  {
   "cell_type": "code",
   "execution_count": 114,
   "metadata": {},
   "outputs": [
    {
     "name": "stdout",
     "output_type": "stream",
     "text": [
      "-0.0\n",
      "tf.Tensor([[0. 0.]], shape=(1, 2), dtype=float32)\n"
     ]
    }
   ],
   "source": [
    "import tensorflow as tf \n",
    "\n",
    "x = tf.constant([[0.1,0.90]])\n",
    "y = tf.constant([[0.0,.0]])\n",
    "with tf.GradientTape() as g:\n",
    "  g.watch(x)\n",
    "  z = tf.keras.Sequential(\n",
    "         [tf.keras.layers.Dense(2, activation = \"linear\", use_bias = False),   \n",
    "          tf.keras.layers.Softmax()]\n",
    "      )(x)\n",
    "  #z = tf.losses.categorical_crossentropy(y, z)\n",
    "  z = tf.keras.losses.CategoricalCrossentropy()(y_true=y,y_pred=z)\n",
    "\n",
    "print(z.numpy())\n",
    "dz_dx = g.gradient(z, x)\n",
    "print(dz_dx)"
   ]
  },
  {
   "cell_type": "code",
   "execution_count": 193,
   "metadata": {},
   "outputs": [
    {
     "name": "stdout",
     "output_type": "stream",
     "text": [
      "[0.18024887]\n",
      "tf.Tensor([[0.3599367  0.04675311]], shape=(1, 2), dtype=float32)\n"
     ]
    }
   ],
   "source": [
    "import tensorflow as tf \n",
    "\n",
    "x = tf.constant([[0.1,0.90]])\n",
    "y = tf.constant([[0.0,.0]])\n",
    "\n",
    "with tf.GradientTape() as g:\n",
    "  g.watch(x)\n",
    "  z = tf.keras.Sequential([tf.keras.layers.Dense(2, activation = None, use_bias = False)])(x)\n",
    "  #z = tf.losses.categorical_crossentropy(y, z)\n",
    "  #z = tf.keras.losses.CategoricalCrossentropy(from_logits=True)(y_true=y,y_pred=z)\n",
    "  z = tf.compat.v1.nn.softmax_cross_entropy_with_logits(logits = x, labels = z)\n",
    "  #z = z * 0.\n",
    "\n",
    "print(z.numpy())\n",
    "\n",
    "dz_dx = g.gradient(z, x)\n",
    "\n",
    "print(dz_dx)"
   ]
  },
  {
   "cell_type": "code",
   "execution_count": 198,
   "metadata": {},
   "outputs": [
    {
     "name": "stdout",
     "output_type": "stream",
     "text": [
      "[ 1  4  9 16]\n",
      "[ 1  4  9 16]\n"
     ]
    }
   ],
   "source": [
    "x = tf.constant(([1, 2, 3, 4]))\n",
    "\n",
    "r = tf.math.multiply(x, x)\n",
    "r2 = x * x\n",
    "\n",
    "print(r.numpy())\n",
    "print(r2.numpy())"
   ]
  },
  {
   "cell_type": "code",
   "execution_count": 203,
   "metadata": {},
   "outputs": [
    {
     "name": "stdout",
     "output_type": "stream",
     "text": [
      "10\n",
      "20\n",
      "2.0\n",
      "5\n"
     ]
    }
   ],
   "source": [
    "x = tf.constant(([1, 2, 3, 4]))\n",
    "y = tf.constant(([2, 2, 2, 2]))\n",
    "\n",
    "z = tf.reduce_sum(x * y)\n",
    "\n",
    "z2 = tf.reduce_sum(x * y) / tf.reduce_sum(x)\n",
    "\n",
    "z3 = tf.reduce_mean(x * y)\n",
    "\n",
    "print(tf.reduce_sum(x).numpy())\n",
    "print(z.numpy())\n",
    "print(z2.numpy())\n",
    "print(z3.numpy())"
   ]
  },
  {
   "cell_type": "code",
   "execution_count": 205,
   "metadata": {},
   "outputs": [
    {
     "name": "stdout",
     "output_type": "stream",
     "text": [
      "[[0.1135049  0.08714671]\n",
      " [0.82194652 0.74931798]\n",
      " [0.24011771 0.72982647]\n",
      " [0.54372687 0.78045364]\n",
      " [0.09572338 0.70460085]\n",
      " [0.93103652 0.74013777]\n",
      " [0.51722328 0.30960864]\n",
      " [0.41615187 0.82534944]]\n",
      "[[0. 0.]\n",
      " [0. 0.]\n",
      " [0. 0.]\n",
      " [0. 0.]\n",
      " [0. 0.]\n",
      " [0. 0.]\n",
      " [0. 0.]\n",
      " [0. 0.]]\n"
     ]
    }
   ],
   "source": [
    "import numpy as np\n",
    "\n",
    "# Initialize array with shape (32, 2) with random numbers\n",
    "random_array = np.random.rand(8, 2)\n",
    "\n",
    "# Create an array of ones with shape (32, 1) based on the previous array\n",
    "ones_array = np.zero((8, 1))\n",
    "\n",
    "# Multiply both arrays\n",
    "result_array = random_array * ones_array\n",
    "\n",
    "print(random_array)\n",
    "\n",
    "print(result_array)\n"
   ]
  },
  {
   "cell_type": "code",
   "execution_count": 209,
   "metadata": {},
   "outputs": [
    {
     "name": "stdout",
     "output_type": "stream",
     "text": [
      "[[0.25895888 0.20271039]\n",
      " [0.29519131 0.98162962]\n",
      " [0.52580565 0.40439968]\n",
      " [0.05505987 0.49319569]]\n",
      "[[1. 1.]\n",
      " [1. 1.]\n",
      " [1. 1.]\n",
      " [1. 1.]]\n",
      "[[0.25895888 0.20271039]\n",
      " [0.29519131 0.98162962]\n",
      " [0.52580565 0.40439968]\n",
      " [0.05505987 0.49319569]]\n"
     ]
    }
   ],
   "source": [
    "import numpy as np\n",
    "\n",
    "# Initialize array with shape (32, 2) with random numbers\n",
    "random_array = np.random.rand(4, 2)\n",
    "\n",
    "# Create an array of ones with the same shape as random_array\n",
    "ones_array = np.ones_like(random_array)\n",
    "\n",
    "print(random_array)\n",
    "\n",
    "print(ones_array)\n",
    "\n",
    "result_array = random_array * ones_array\n",
    "\n",
    "print(result_array)\n"
   ]
  },
  {
   "cell_type": "code",
   "execution_count": 237,
   "metadata": {},
   "outputs": [
    {
     "name": "stdout",
     "output_type": "stream",
     "text": [
      "[0 1 2 3 4 0 1 2 3 4]\n",
      "True\n"
     ]
    }
   ],
   "source": [
    "index = []\n",
    "\n",
    "\n",
    "index.append(np.arange(5))\n",
    "index.append(np.arange(5))\n",
    "\n",
    "index = np.concatenate(index)\n",
    "\n",
    "print(index)\n",
    "\n",
    "print(0. == 0)\n"
   ]
  },
  {
   "cell_type": "code",
   "execution_count": 238,
   "metadata": {},
   "outputs": [
    {
     "data": {
      "text/plain": [
       "'float32'"
      ]
     },
     "execution_count": 238,
     "metadata": {},
     "output_type": "execute_result"
    }
   ],
   "source": [
    "import tensorflow as tf\n",
    "tf.keras.backend.floatx()"
   ]
  },
  {
   "cell_type": "code",
   "execution_count": 251,
   "metadata": {},
   "outputs": [
    {
     "name": "stdout",
     "output_type": "stream",
     "text": [
      "[[0.79506518]\n",
      " [0.62399501]\n",
      " [0.62136433]\n",
      " [0.66451082]]\n"
     ]
    },
    {
     "ename": "ValueError",
     "evalue": "could not broadcast input array from shape (4,1) into shape (4,2,2)",
     "output_type": "error",
     "traceback": [
      "\u001b[0;31m---------------------------------------------------------------------------\u001b[0m",
      "\u001b[0;31mValueError\u001b[0m                                Traceback (most recent call last)",
      "Cell \u001b[0;32mIn[251], line 9\u001b[0m\n\u001b[1;32m      5\u001b[0m val \u001b[38;5;241m=\u001b[39m np\u001b[38;5;241m.\u001b[39mrandom\u001b[38;5;241m.\u001b[39mrand(\u001b[38;5;241m4\u001b[39m,\u001b[38;5;241m1\u001b[39m)\n\u001b[1;32m      7\u001b[0m \u001b[38;5;28mprint\u001b[39m(val)\n\u001b[0;32m----> 9\u001b[0m domain_mask_segmentation_vl[:,:,:,\u001b[38;5;241m0\u001b[39m] \u001b[38;5;241m=\u001b[39m val\n\u001b[1;32m     11\u001b[0m \u001b[38;5;28mprint\u001b[39m(domain_mask_segmentation_vl)\n\u001b[1;32m     13\u001b[0m \u001b[38;5;28mprint\u001b[39m(domain_mask_segmentation_vl\u001b[38;5;241m.\u001b[39mshape)\n",
      "\u001b[0;31mValueError\u001b[0m: could not broadcast input array from shape (4,1) into shape (4,2,2)"
     ]
    }
   ],
   "source": [
    "import numpy as np\n",
    "\n",
    "domain_mask_segmentation_vl = np.zeros((4,2,2,2))\n",
    "\n",
    "val = np.random.rand(4,1)\n",
    "\n",
    "print(val)\n",
    "\n",
    "domain_mask_segmentation_vl[:,:,:,0] = val\n",
    "\n",
    "print(domain_mask_segmentation_vl)\n",
    "\n",
    "print(domain_mask_segmentation_vl.shape)"
   ]
  },
  {
   "cell_type": "code",
   "execution_count": 273,
   "metadata": {},
   "outputs": [
    {
     "name": "stdout",
     "output_type": "stream",
     "text": [
      "(4, 1, 1, 1)\n",
      "[[0.14077905]\n",
      " [0.70123769]\n",
      " [0.18585102]\n",
      " [0.56573741]]\n",
      "************\n"
     ]
    }
   ],
   "source": [
    "import numpy as np\n",
    "\n",
    "# Create arrays\n",
    "array_1 = np.random.rand(4, 1)  # Shape: (4, 1)\n",
    "array_2 = np.random.rand(4, 2, 2, 2)  # Shape: (4, 2, 2, 2)\n",
    "\n",
    "# Reshape array_1 to match the shape of array_2\n",
    "reshaped_array_1 = np.random.rand(4, 1)[:, np.newaxis, np.newaxis, :]  # Reshape to (4, 1, 1)\n",
    "\n",
    "print(reshaped_array_1.shape)\n",
    "\n",
    "# Assign values from reshaped_array_1 to array_2\n",
    "array_2[:, :, :, :] = reshaped_array_1  # Assign the values along the last axis (axis index 0)\n",
    "\n",
    "print(array_1)\n",
    "\n",
    "print(\"************\")\n",
    "\n",
    "\n"
   ]
  },
  {
   "cell_type": "code",
   "execution_count": 275,
   "metadata": {},
   "outputs": [
    {
     "name": "stdout",
     "output_type": "stream",
     "text": [
      "0.47782921791324184\n"
     ]
    }
   ],
   "source": [
    "print(array_2[3,1,1,1])"
   ]
  },
  {
   "cell_type": "code",
   "execution_count": 14,
   "metadata": {},
   "outputs": [
    {
     "ename": "TypeError",
     "evalue": "only integer scalar arrays can be converted to a scalar index",
     "output_type": "error",
     "traceback": [
      "\u001b[0;31m---------------------------------------------------------------------------\u001b[0m",
      "\u001b[0;31mTypeError\u001b[0m                                 Traceback (most recent call last)",
      "Cell \u001b[0;32mIn[14], line 12\u001b[0m\n\u001b[1;32m      9\u001b[0m X \u001b[38;5;241m=\u001b[39m np\u001b[38;5;241m.\u001b[39mrandom\u001b[38;5;241m.\u001b[39mnormal(loc\u001b[38;5;241m=\u001b[39m\u001b[38;5;241m0\u001b[39m, scale\u001b[38;5;241m=\u001b[39m\u001b[38;5;241m1\u001b[39m, size\u001b[38;5;241m=\u001b[39m(\u001b[38;5;241m32\u001b[39m, \u001b[38;5;241m8\u001b[39m, \u001b[38;5;241m8\u001b[39m, \u001b[38;5;241m256\u001b[39m))\n\u001b[1;32m     10\u001b[0m Y \u001b[38;5;241m=\u001b[39m np\u001b[38;5;241m.\u001b[39mrandom\u001b[38;5;241m.\u001b[39mnormal(loc\u001b[38;5;241m=\u001b[39m\u001b[38;5;241m0\u001b[39m, scale\u001b[38;5;241m=\u001b[39m\u001b[38;5;241m1\u001b[39m, size\u001b[38;5;241m=\u001b[39m(\u001b[38;5;241m32\u001b[39m,))\n\u001b[0;32m---> 12\u001b[0m res \u001b[38;5;241m=\u001b[39m \u001b[43mnp\u001b[49m\u001b[38;5;241;43m.\u001b[39;49m\u001b[43mconcatenate\u001b[49m\u001b[43m(\u001b[49m\u001b[43mX\u001b[49m\u001b[43m,\u001b[49m\u001b[43mY\u001b[49m\u001b[43m)\u001b[49m\n\u001b[1;32m     14\u001b[0m X \u001b[38;5;241m=\u001b[39m res\u001b[38;5;241m.\u001b[39mreshape(res\u001b[38;5;241m.\u001b[39mshape[\u001b[38;5;241m0\u001b[39m], \u001b[38;5;241m-\u001b[39m\u001b[38;5;241m1\u001b[39m)\n\u001b[1;32m     16\u001b[0m pca \u001b[38;5;241m=\u001b[39m PCA(n_components\u001b[38;5;241m=\u001b[39m\u001b[38;5;241m2\u001b[39m)\n",
      "File \u001b[0;32m<__array_function__ internals>:180\u001b[0m, in \u001b[0;36mconcatenate\u001b[0;34m(*args, **kwargs)\u001b[0m\n",
      "\u001b[0;31mTypeError\u001b[0m: only integer scalar arrays can be converted to a scalar index"
     ]
    }
   ],
   "source": [
    "from sklearn.manifold import TSNE\n",
    "import matplotlib.pyplot as plt\n",
    "from sklearn.decomposition import PCA\n",
    "\n",
    "import numpy as np\n",
    "\n",
    "# Example data (replace this with your own data)\n",
    "#X = np.random.rand(shape=(32, 8, 8, 256))  # 100 samples with 10 features each\n",
    "X = np.random.normal(loc=0, scale=1, size=(32, 8, 8, 256))\n",
    "Y = np.random.normal(loc=0, scale=1, size=(32,))\n",
    "\n",
    "res = np.concatenate(X,Y)\n",
    "\n",
    "X = res.reshape(res.shape[0], -1)\n",
    "\n",
    "pca = PCA(n_components=2)\n",
    "reduced_data = pca.fit_transform(X)\n",
    "\n",
    "# Instantiate t-SNE with desired parameters\n",
    "tsne = TSNE(n_components=2, perplexity=30, learning_rate=200)\n",
    "\n",
    "# Fit the model to your data\n",
    "X_embedded = tsne.fit_transform(reduced_data)\n",
    "\n",
    "# Plot the embedded data\n",
    "plt.figure(figsize=(10, 8))\n",
    "plt.scatter(X_embedded[:, 0], X_embedded[:, 1], marker='o', c='b', s=50, alpha=0.5)\n",
    "plt.title('t-SNE Visualization')\n",
    "plt.xlabel('t-SNE Dimension 1')\n",
    "plt.ylabel('t-SNE Dimension 2')\n",
    "plt.grid(True)\n",
    "plt.show()\n",
    "\n",
    "\n"
   ]
  },
  {
   "cell_type": "code",
   "execution_count": 3,
   "metadata": {},
   "outputs": [
    {
     "data": {
      "image/png": "[encoded data removed]",
      "text/plain": [
       "<Figure size 1000x800 with 1 Axes>"
      ]
     },
     "metadata": {},
     "output_type": "display_data"
    }
   ],
   "source": [
    "import numpy as np\n",
    "from sklearn.manifold import TSNE\n",
    "X = np.array([[0, 0, 0], [0, 1, 1], [1, 0, 1], [1, 1, 1]])\n",
    "X_embedded = TSNE(n_components=2, learning_rate='auto',\n",
    "                  init='random', perplexity=3).fit_transform(X)\n",
    "X_embedded.shape\n",
    "\n",
    "\n",
    "\n",
    "# Plot the embedded data\n",
    "plt.figure(figsize=(10, 8))\n",
    "plt.scatter(X_embedded[:, 0], X_embedded[:, 1], marker='o', c='b', s=50, alpha=0.5)\n",
    "plt.title('t-SNE Visualization')\n",
    "plt.xlabel('t-SNE Dimension 1')\n",
    "plt.ylabel('t-SNE Dimension 2')\n",
    "plt.grid(True)\n",
    "plt.show()"
   ]
  },
  {
   "cell_type": "code",
   "execution_count": 1,
   "metadata": {},
   "outputs": [
    {
     "name": "stdout",
     "output_type": "stream",
     "text": [
      "/device:GPU:0\n"
     ]
    },
    {
     "name": "stderr",
     "output_type": "stream",
     "text": [
      "2024-04-11 17:21:22.869140: I metal_plugin/src/device/metal_device.cc:1154] Metal device set to: Apple M2\n",
      "2024-04-11 17:21:22.869159: I metal_plugin/src/device/metal_device.cc:296] systemMemory: 8.00 GB\n",
      "2024-04-11 17:21:22.869164: I metal_plugin/src/device/metal_device.cc:313] maxCacheSize: 2.67 GB\n",
      "2024-04-11 17:21:22.869561: I tensorflow/core/common_runtime/pluggable_device/pluggable_device_factory.cc:303] Could not identify NUMA node of platform GPU ID 0, defaulting to 0. Your kernel may not have been built with NUMA support.\n",
      "2024-04-11 17:21:22.869860: I tensorflow/core/common_runtime/pluggable_device/pluggable_device_factory.cc:269] Created TensorFlow device (/device:GPU:0 with 0 MB memory) -> physical PluggableDevice (device: 0, name: METAL, pci bus id: <undefined>)\n"
     ]
    }
   ],
   "source": [
    "import tensorflow as tf\n",
    "\n",
    "print(tf.test.gpu_device_name())"
   ]
  },
  {
   "cell_type": "code",
   "execution_count": 15,
   "metadata": {},
   "outputs": [
    {
     "data": {
      "text/plain": [
       "True"
      ]
     },
     "execution_count": 15,
     "metadata": {},
     "output_type": "execute_result"
    }
   ],
   "source": [
    "'relu' == \"relu\""
   ]
  },
  {
   "cell_type": "code",
   "execution_count": 1,
   "metadata": {},
   "outputs": [
    {
     "data": {
      "image/png": "[encoded data removed]",
      "text/plain": [
       "<Figure size 640x480 with 1 Axes>"
      ]
     },
     "metadata": {},
     "output_type": "display_data"
    }
   ],
   "source": [
    "import matplotlib.pyplot as plt\n",
    "import numpy as np\n",
    "\n",
    "# Sample data\n",
    "np.random.seed(10)\n",
    "data = [np.random.normal(0, std, 100) for std in range(1, 4)]\n",
    "\n",
    "# Create a boxplot\n",
    "plt.boxplot(data, vert=True, patch_artist=True)\n",
    "plt.xlabel('Distribution')\n",
    "plt.ylabel('Values')\n",
    "plt.title('Boxplot using Matplotlib')\n",
    "plt.show()\n"
   ]
  },
  {
   "cell_type": "code",
   "execution_count": 3,
   "metadata": {},
   "outputs": [
    {
     "data": {
      "image/png": "[encoded data removed]",
      "text/plain": [
       "<Figure size 640x480 with 1 Axes>"
      ]
     },
     "metadata": {},
     "output_type": "display_data"
    }
   ],
   "source": [
    "import seaborn as sns\n",
    "import matplotlib.pyplot as plt\n",
    "import numpy as np\n",
    "\n",
    "# Sample data\n",
    "np.random.seed(10)\n",
    "data = [np.random.normal(0, std, 100) for std in range(1, 4)]\n",
    "\n",
    "# Create a boxplot\n",
    "sns.boxplot(data=data)\n",
    "plt.xlabel('Distribution')\n",
    "plt.ylabel('Values')\n",
    "plt.title('Boxplot using Seaborn')\n",
    "plt.show()\n"
   ]
  },
  {
   "cell_type": "code",
   "execution_count": 1,
   "metadata": {},
   "outputs": [
    {
     "data": {
      "application/vnd.plotly.v1+json": {
       "config": {
        "plotlyServerURL": "https://plot.ly"
       },
       "data": [
        {
         "name": "Distribution 1",
         "type": "box",
         "y": [
          1.331586504129518,
          0.7152789743984055,
          -1.5454002921112682,
          -0.008383849928522256,
          0.6213359738904805,
          -0.7200855607188968,
          0.2655115856921195,
          0.10854852571496944,
          0.004291430934033236,
          -0.17460021059294129,
          0.433026189953598,
          1.203037373812212,
          -0.9650656705167633,
          1.028274077982704,
          0.2286301301246597,
          0.44513761283034786,
          -1.1366022118310442,
          0.1351368784486355,
          1.4845370018365822,
          -1.079804885785276,
          -1.977728280657907,
          -1.7433722958989073,
          0.266070164000551,
          2.384967330711097,
          1.1236912534094234,
          1.6726222133078277,
          0.09914921583524362,
          1.3979963770935753,
          -0.2712479879657808,
          0.6132041848596391,
          -0.26731718867356863,
          -0.5493090141054789,
          0.1327082957599512,
          -0.4761420149273371,
          1.3084730808634777,
          0.1950132792330928,
          0.4002099882523482,
          -0.337632337085531,
          1.2564722637551555,
          -0.7319695020012079,
          0.6602315512263132,
          -0.3508718914398713,
          -0.9394333597625512,
          -0.4893372168846516,
          -0.8045911422699545,
          -0.21269763871051175,
          -0.3391402460634347,
          0.3121699363132221,
          0.5651526696566274,
          -0.14742025772701986,
          -0.02590533681618617,
          0.28909420380393497,
          -0.5398790713327012,
          0.7081600199266035,
          0.8422247383826557,
          0.20358079732747866,
          2.3947036648845352,
          0.9174589375104293,
          -0.11227247119416003,
          -0.36218044714224007,
          -0.23218225594409092,
          -0.5017288995948672,
          1.1287851531098774,
          -0.6978100304717146,
          -0.08112218381694614,
          -0.5292960809994882,
          1.0461828568082643,
          -1.4185560292233947,
          -0.3624991831556408,
          -0.1219056911618885,
          0.319356421091224,
          0.4609029016717183,
          -0.21578989233052187,
          0.9890724574994391,
          0.3147537788117336,
          2.467651056434603,
          -1.5083214871632158,
          0.6206006630086133,
          -1.0451325375144376,
          -0.7980088176722442,
          1.9850845914257311,
          1.7448141483393012,
          -1.856185480611148,
          -0.22277369910299966,
          -0.06584784771120117,
          -2.131712108481604,
          -0.04883051133875307,
          0.39334121708173975,
          0.2172651451180396,
          -1.9943937697410574,
          1.1077082347826497,
          0.2445439766479897,
          -0.061912029492404284,
          -0.7538929607476993,
          0.7119590165198396,
          0.9182691514794155,
          -0.482093138835479,
          0.08958761258951613,
          0.8269986226622651,
          -1.9545121200015052
         ]
        },
        {
         "name": "Distribution 2",
         "type": "box",
         "y": [
          0.23495132205327637,
          -3.8149137762488006,
          -1.845818529697892,
          0.9395028681660859,
          -0.2887335260539274,
          -0.800276703971457,
          -0.5919677058784243,
          1.6964172180433126,
          1.41366090950327,
          -1.5745378524943734,
          0.5858814496639337,
          -0.9416145029710346,
          4.808651211874699,
          -1.478713477017344,
          -0.6256575146741792,
          -0.6977638364349864,
          -0.8780524724400286,
          0.28220833612886387,
          0.5460986401906218,
          -3.23714149563159,
          -1.1462267231191794,
          -2.6408950917829115,
          2.4724106523736316,
          4.9306501641229525,
          2.7664644590710368,
          0.6924662307023663,
          2.0450322144682724,
          0.33362053403946496,
          3.3134332489565836,
          1.3357792176668846,
          -0.4598932875494457,
          -2.259102388867583,
          -1.2799252084569954,
          0.6276610431180117,
          -2.4516719614761096,
          -0.4435862727989879,
          2.6798526199151067,
          0.05861942188633951,
          3.9707714921787773,
          2.8943312013364446,
          -0.5752588273011614,
          -2.7186211462119987,
          -0.09608265045884135,
          -0.961574680264048,
          0.7555061719306838,
          3.2288159482909298,
          -2.246208070448766,
          -0.7774558937096225,
          0.6646998990630335,
          2.2699463461638114,
          1.0214288227957256,
          0.8285952823880186,
          2.689098846731882,
          0.9870306344965772,
          -0.47400836904696214,
          0.11457030031203616,
          -1.4141428941343277,
          1.0933296750690689,
          1.8850008178802804,
          -5.959193542122268,
          2.4362977007020947,
          -0.11304144616518104,
          0.9217769047977319,
          1.3247480234492661,
          -4.590206657925247,
          -2.3918586229270353,
          -0.66620232427567,
          -1.5827815419348876,
          0.5483455615202136,
          -1.0298198449425036,
          -3.422142394308529,
          1.2245946249971007,
          2.2002587480266573,
          1.128705052772236,
          -1.4255988736541196,
          -0.52171895710835,
          1.0968561325916495,
          1.2063981004611837,
          2.013722277249645,
          -0.5888520147798857,
          -2.8417610303084686,
          -1.3578935492400819,
          1.06776961862175,
          1.4879488075718488,
          4.450099277646389,
          0.23436284038896635,
          0.4892290405299803,
          -0.35459764529113497,
          -0.8114590552981841,
          1.56355038075123,
          0.7069552276076999,
          -0.4145589714428755,
          -2.1593947679176972,
          -0.24613965702027985,
          -0.781964370612807,
          2.510347463419143,
          1.8942521563503751,
          -2.0446213845547896,
          2.334336736808235,
          -1.143953626575533
         ]
        },
        {
         "name": "Distribution 3",
         "type": "box",
         "y": [
          0.39941249061317396,
          3.6082316219097144,
          -3.074258901135851,
          0.4811974888276763,
          -3.3914258614180226,
          -5.823899043067284,
          2.9597934506939927,
          0.0846821018973596,
          -2.4671027934919945,
          -4.759655282543545,
          -1.204418458115162,
          4.026537852765075,
          1.2074072804653422,
          -1.118284249310602,
          -2.0160703094050376,
          0.3174362483872662,
          -4.6419161727525875,
          4.034419531884691,
          1.509567544909467,
          3.5830518073897393,
          -1.6905170135884304,
          2.564486268938003,
          2.0637141769845737,
          -4.599206154870547,
          0.4468821029306647,
          0.9453335046650004,
          -1.7247529921573381,
          -1.0805134032883572,
          1.308555889598217,
          -0.11375364603910207,
          -3.014149057578286,
          1.774359259890967,
          0.6834520915356234,
          0.7475359736590057,
          0.2872897102131547,
          1.3470651920814694,
          -0.8580060229789623,
          -2.5882748981910306,
          -2.2254745163112233,
          3.3167254084741957,
          -6.05315595802325,
          1.6216221393037906,
          -4.326896647843858,
          -4.82655108851435,
          -3.019705685388027,
          -0.7726008744043984,
          2.1915223414185907,
          -5.09520447348574,
          5.0222266367736355,
          3.491171100505107,
          -0.3977207779545171,
          -0.8707374258373921,
          -2.8605972528494203,
          1.7641217814265833,
          0.2064044122267,
          4.236192913270932,
          -2.058646844637343,
          1.6438317805219969,
          -0.10914761340664411,
          -2.5410487591345614,
          5.70691212489601,
          0.8388161765400328,
          1.8607635045404065,
          -3.205703125403649,
          -2.1678622005183557,
          0.2524186661752534,
          -1.7533654698761039,
          1.80606681226114,
          1.3150957175090747,
          -2.347029582934015,
          0.5788079525073795,
          0.012074735963814764,
          -0.4922258720321995,
          -3.4464367932235813,
          -2.5065255119107537,
          0.6313521851381599,
          3.041953892249068,
          -2.9105934689287274,
          3.6515446774316613,
          0.5479421357071493,
          -3.8094587754086486,
          0.9701697891649954,
          2.6573245728146917,
          0.7931840748921358,
          6.957381952882442,
          0.9260030195633813,
          2.6776920945464866,
          0.03306809032739458,
          2.9402223840059483,
          -7.186716040175395,
          -2.572567545119062,
          -1.0928342587490363,
          1.511780703631059,
          0.5649936437450068,
          3.255681220968288,
          1.070817201016929,
          0.6219887021703661,
          -0.43519361197523243,
          0.4917127580352962,
          2.488537453191724
         ]
        }
       ],
       "layout": {
        "template": {
         "data": {
          "bar": [
           {
            "error_x": {
             "color": "#2a3f5f"
            },
            "error_y": {
             "color": "#2a3f5f"
            },
            "marker": {
             "line": {
              "color": "#E5ECF6",
              "width": 0.5
             },
             "pattern": {
              "fillmode": "overlay",
              "size": 10,
              "solidity": 0.2
             }
            },
            "type": "bar"
           }
          ],
          "barpolar": [
           {
            "marker": {
             "line": {
              "color": "#E5ECF6",
              "width": 0.5
             },
             "pattern": {
              "fillmode": "overlay",
              "size": 10,
              "solidity": 0.2
             }
            },
            "type": "barpolar"
           }
          ],
          "carpet": [
           {
            "aaxis": {
             "endlinecolor": "#2a3f5f",
             "gridcolor": "white",
             "linecolor": "white",
             "minorgridcolor": "white",
             "startlinecolor": "#2a3f5f"
            },
            "baxis": {
             "endlinecolor": "#2a3f5f",
             "gridcolor": "white",
             "linecolor": "white",
             "minorgridcolor": "white",
             "startlinecolor": "#2a3f5f"
            },
            "type": "carpet"
           }
          ],
          "choropleth": [
           {
            "colorbar": {
             "outlinewidth": 0,
             "ticks": ""
            },
            "type": "choropleth"
           }
          ],
          "contour": [
           {
            "colorbar": {
             "outlinewidth": 0,
             "ticks": ""
            },
            "colorscale": [
             [
              0,
              "#0d0887"
             ],
             [
              0.1111111111111111,
              "#46039f"
             ],
             [
              0.2222222222222222,
              "#7201a8"
             ],
             [
              0.3333333333333333,
              "#9c179e"
             ],
             [
              0.4444444444444444,
              "#bd3786"
             ],
             [
              0.5555555555555556,
              "#d8576b"
             ],
             [
              0.6666666666666666,
              "#ed7953"
             ],
             [
              0.7777777777777778,
              "#fb9f3a"
             ],
             [
              0.8888888888888888,
              "#fdca26"
             ],
             [
              1,
              "#f0f921"
             ]
            ],
            "type": "contour"
           }
          ],
          "contourcarpet": [
           {
            "colorbar": {
             "outlinewidth": 0,
             "ticks": ""
            },
            "type": "contourcarpet"
           }
          ],
          "heatmap": [
           {
            "colorbar": {
             "outlinewidth": 0,
             "ticks": ""
            },
            "colorscale": [
             [
              0,
              "#0d0887"
             ],
             [
              0.1111111111111111,
              "#46039f"
             ],
             [
              0.2222222222222222,
              "#7201a8"
             ],
             [
              0.3333333333333333,
              "#9c179e"
             ],
             [
              0.4444444444444444,
              "#bd3786"
             ],
             [
              0.5555555555555556,
              "#d8576b"
             ],
             [
              0.6666666666666666,
              "#ed7953"
             ],
             [
              0.7777777777777778,
              "#fb9f3a"
             ],
             [
              0.8888888888888888,
              "#fdca26"
             ],
             [
              1,
              "#f0f921"
             ]
            ],
            "type": "heatmap"
           }
          ],
          "heatmapgl": [
           {
            "colorbar": {
             "outlinewidth": 0,
             "ticks": ""
            },
            "colorscale": [
             [
              0,
              "#0d0887"
             ],
             [
              0.1111111111111111,
              "#46039f"
             ],
             [
              0.2222222222222222,
              "#7201a8"
             ],
             [
              0.3333333333333333,
              "#9c179e"
             ],
             [
              0.4444444444444444,
              "#bd3786"
             ],
             [
              0.5555555555555556,
              "#d8576b"
             ],
             [
              0.6666666666666666,
              "#ed7953"
             ],
             [
              0.7777777777777778,
              "#fb9f3a"
             ],
             [
              0.8888888888888888,
              "#fdca26"
             ],
             [
              1,
              "#f0f921"
             ]
            ],
            "type": "heatmapgl"
           }
          ],
          "histogram": [
           {
            "marker": {
             "pattern": {
              "fillmode": "overlay",
              "size": 10,
              "solidity": 0.2
             }
            },
            "type": "histogram"
           }
          ],
          "histogram2d": [
           {
            "colorbar": {
             "outlinewidth": 0,
             "ticks": ""
            },
            "colorscale": [
             [
              0,
              "#0d0887"
             ],
             [
              0.1111111111111111,
              "#46039f"
             ],
             [
              0.2222222222222222,
              "#7201a8"
             ],
             [
              0.3333333333333333,
              "#9c179e"
             ],
             [
              0.4444444444444444,
              "#bd3786"
             ],
             [
              0.5555555555555556,
              "#d8576b"
             ],
             [
              0.6666666666666666,
              "#ed7953"
             ],
             [
              0.7777777777777778,
              "#fb9f3a"
             ],
             [
              0.8888888888888888,
              "#fdca26"
             ],
             [
              1,
              "#f0f921"
             ]
            ],
            "type": "histogram2d"
           }
          ],
          "histogram2dcontour": [
           {
            "colorbar": {
             "outlinewidth": 0,
             "ticks": ""
            },
            "colorscale": [
             [
              0,
              "#0d0887"
             ],
             [
              0.1111111111111111,
              "#46039f"
             ],
             [
              0.2222222222222222,
              "#7201a8"
             ],
             [
              0.3333333333333333,
              "#9c179e"
             ],
             [
              0.4444444444444444,
              "#bd3786"
             ],
             [
              0.5555555555555556,
              "#d8576b"
             ],
             [
              0.6666666666666666,
              "#ed7953"
             ],
             [
              0.7777777777777778,
              "#fb9f3a"
             ],
             [
              0.8888888888888888,
              "#fdca26"
             ],
             [
              1,
              "#f0f921"
             ]
            ],
            "type": "histogram2dcontour"
           }
          ],
          "mesh3d": [
           {
            "colorbar": {
             "outlinewidth": 0,
             "ticks": ""
            },
            "type": "mesh3d"
           }
          ],
          "parcoords": [
           {
            "line": {
             "colorbar": {
              "outlinewidth": 0,
              "ticks": ""
             }
            },
            "type": "parcoords"
           }
          ],
          "pie": [
           {
            "automargin": true,
            "type": "pie"
           }
          ],
          "scatter": [
           {
            "fillpattern": {
             "fillmode": "overlay",
             "size": 10,
             "solidity": 0.2
            },
            "type": "scatter"
           }
          ],
          "scatter3d": [
           {
            "line": {
             "colorbar": {
              "outlinewidth": 0,
              "ticks": ""
             }
            },
            "marker": {
             "colorbar": {
              "outlinewidth": 0,
              "ticks": ""
             }
            },
            "type": "scatter3d"
           }
          ],
          "scattercarpet": [
           {
            "marker": {
             "colorbar": {
              "outlinewidth": 0,
              "ticks": ""
             }
            },
            "type": "scattercarpet"
           }
          ],
          "scattergeo": [
           {
            "marker": {
             "colorbar": {
              "outlinewidth": 0,
              "ticks": ""
             }
            },
            "type": "scattergeo"
           }
          ],
          "scattergl": [
           {
            "marker": {
             "colorbar": {
              "outlinewidth": 0,
              "ticks": ""
             }
            },
            "type": "scattergl"
           }
          ],
          "scattermapbox": [
           {
            "marker": {
             "colorbar": {
              "outlinewidth": 0,
              "ticks": ""
             }
            },
            "type": "scattermapbox"
           }
          ],
          "scatterpolar": [
           {
            "marker": {
             "colorbar": {
              "outlinewidth": 0,
              "ticks": ""
             }
            },
            "type": "scatterpolar"
           }
          ],
          "scatterpolargl": [
           {
            "marker": {
             "colorbar": {
              "outlinewidth": 0,
              "ticks": ""
             }
            },
            "type": "scatterpolargl"
           }
          ],
          "scatterternary": [
           {
            "marker": {
             "colorbar": {
              "outlinewidth": 0,
              "ticks": ""
             }
            },
            "type": "scatterternary"
           }
          ],
          "surface": [
           {
            "colorbar": {
             "outlinewidth": 0,
             "ticks": ""
            },
            "colorscale": [
             [
              0,
              "#0d0887"
             ],
             [
              0.1111111111111111,
              "#46039f"
             ],
             [
              0.2222222222222222,
              "#7201a8"
             ],
             [
              0.3333333333333333,
              "#9c179e"
             ],
             [
              0.4444444444444444,
              "#bd3786"
             ],
             [
              0.5555555555555556,
              "#d8576b"
             ],
             [
              0.6666666666666666,
              "#ed7953"
             ],
             [
              0.7777777777777778,
              "#fb9f3a"
             ],
             [
              0.8888888888888888,
              "#fdca26"
             ],
             [
              1,
              "#f0f921"
             ]
            ],
            "type": "surface"
           }
          ],
          "table": [
           {
            "cells": {
             "fill": {
              "color": "#EBF0F8"
             },
             "line": {
              "color": "white"
             }
            },
            "header": {
             "fill": {
              "color": "#C8D4E3"
             },
             "line": {
              "color": "white"
             }
            },
            "type": "table"
           }
          ]
         },
         "layout": {
          "annotationdefaults": {
           "arrowcolor": "#2a3f5f",
           "arrowhead": 0,
           "arrowwidth": 1
          },
          "autotypenumbers": "strict",
          "coloraxis": {
           "colorbar": {
            "outlinewidth": 0,
            "ticks": ""
           }
          },
          "colorscale": {
           "diverging": [
            [
             0,
             "#8e0152"
            ],
            [
             0.1,
             "#c51b7d"
            ],
            [
             0.2,
             "#de77ae"
            ],
            [
             0.3,
             "#f1b6da"
            ],
            [
             0.4,
             "#fde0ef"
            ],
            [
             0.5,
             "#f7f7f7"
            ],
            [
             0.6,
             "#e6f5d0"
            ],
            [
             0.7,
             "#b8e186"
            ],
            [
             0.8,
             "#7fbc41"
            ],
            [
             0.9,
             "#4d9221"
            ],
            [
             1,
             "#276419"
            ]
           ],
           "sequential": [
            [
             0,
             "#0d0887"
            ],
            [
             0.1111111111111111,
             "#46039f"
            ],
            [
             0.2222222222222222,
             "#7201a8"
            ],
            [
             0.3333333333333333,
             "#9c179e"
            ],
            [
             0.4444444444444444,
             "#bd3786"
            ],
            [
             0.5555555555555556,
             "#d8576b"
            ],
            [
             0.6666666666666666,
             "#ed7953"
            ],
            [
             0.7777777777777778,
             "#fb9f3a"
            ],
            [
             0.8888888888888888,
             "#fdca26"
            ],
            [
             1,
             "#f0f921"
            ]
           ],
           "sequentialminus": [
            [
             0,
             "#0d0887"
            ],
            [
             0.1111111111111111,
             "#46039f"
            ],
            [
             0.2222222222222222,
             "#7201a8"
            ],
            [
             0.3333333333333333,
             "#9c179e"
            ],
            [
             0.4444444444444444,
             "#bd3786"
            ],
            [
             0.5555555555555556,
             "#d8576b"
            ],
            [
             0.6666666666666666,
             "#ed7953"
            ],
            [
             0.7777777777777778,
             "#fb9f3a"
            ],
            [
             0.8888888888888888,
             "#fdca26"
            ],
            [
             1,
             "#f0f921"
            ]
           ]
          },
          "colorway": [
           "#636efa",
           "#EF553B",
           "#00cc96",
           "#ab63fa",
           "#FFA15A",
           "#19d3f3",
           "#FF6692",
           "#B6E880",
           "#FF97FF",
           "#FECB52"
          ],
          "font": {
           "color": "#2a3f5f"
          },
          "geo": {
           "bgcolor": "white",
           "lakecolor": "white",
           "landcolor": "#E5ECF6",
           "showlakes": true,
           "showland": true,
           "subunitcolor": "white"
          },
          "hoverlabel": {
           "align": "left"
          },
          "hovermode": "closest",
          "mapbox": {
           "style": "light"
          },
          "paper_bgcolor": "white",
          "plot_bgcolor": "#E5ECF6",
          "polar": {
           "angularaxis": {
            "gridcolor": "white",
            "linecolor": "white",
            "ticks": ""
           },
           "bgcolor": "#E5ECF6",
           "radialaxis": {
            "gridcolor": "white",
            "linecolor": "white",
            "ticks": ""
           }
          },
          "scene": {
           "xaxis": {
            "backgroundcolor": "#E5ECF6",
            "gridcolor": "white",
            "gridwidth": 2,
            "linecolor": "white",
            "showbackground": true,
            "ticks": "",
            "zerolinecolor": "white"
           },
           "yaxis": {
            "backgroundcolor": "#E5ECF6",
            "gridcolor": "white",
            "gridwidth": 2,
            "linecolor": "white",
            "showbackground": true,
            "ticks": "",
            "zerolinecolor": "white"
           },
           "zaxis": {
            "backgroundcolor": "#E5ECF6",
            "gridcolor": "white",
            "gridwidth": 2,
            "linecolor": "white",
            "showbackground": true,
            "ticks": "",
            "zerolinecolor": "white"
           }
          },
          "shapedefaults": {
           "line": {
            "color": "#2a3f5f"
           }
          },
          "ternary": {
           "aaxis": {
            "gridcolor": "white",
            "linecolor": "white",
            "ticks": ""
           },
           "baxis": {
            "gridcolor": "white",
            "linecolor": "white",
            "ticks": ""
           },
           "bgcolor": "#E5ECF6",
           "caxis": {
            "gridcolor": "white",
            "linecolor": "white",
            "ticks": ""
           }
          },
          "title": {
           "x": 0.05
          },
          "xaxis": {
           "automargin": true,
           "gridcolor": "white",
           "linecolor": "white",
           "ticks": "",
           "title": {
            "standoff": 15
           },
           "zerolinecolor": "white",
           "zerolinewidth": 2
          },
          "yaxis": {
           "automargin": true,
           "gridcolor": "white",
           "linecolor": "white",
           "ticks": "",
           "title": {
            "standoff": 15
           },
           "zerolinecolor": "white",
           "zerolinewidth": 2
          }
         }
        },
        "title": {
         "text": "Boxplot using Plotly"
        },
        "xaxis": {
         "title": {
          "text": "Distribution"
         }
        },
        "yaxis": {
         "title": {
          "text": "Values"
         }
        }
       }
      }
     },
     "metadata": {},
     "output_type": "display_data"
    }
   ],
   "source": [
    "import plotly.express as px\n",
    "import plotly.graph_objects as go\n",
    "import numpy as np\n",
    "\n",
    "# Sample data\n",
    "np.random.seed(10)\n",
    "data = [np.random.normal(0, std, 100) for std in range(1, 4)]\n",
    "\n",
    "# Create a boxplot\n",
    "fig = go.Figure()\n",
    "for i, dist in enumerate(data):\n",
    "    fig.add_trace(go.Box(y=dist, name=f'Distribution {i+1}'))\n",
    "\n",
    "fig.update_layout(title='Boxplot using Plotly',\n",
    "                  xaxis_title='Distribution',\n",
    "                  yaxis_title='Values')\n",
    "fig.show()\n"
   ]
  },
  {
   "cell_type": "markdown",
   "metadata": {},
   "source": []
  },
  {
   "cell_type": "code",
   "execution_count": 2,
   "metadata": {},
   "outputs": [
    {
     "data": {
      "image/png": "[encoded data removed]",
      "text/plain": [
       "<Figure size 1000x600 with 1 Axes>"
      ]
     },
     "metadata": {},
     "output_type": "display_data"
    }
   ],
   "source": [
    "import matplotlib.pyplot as plt\n",
    "\n",
    "# mAP values from the runs\n",
    "mAP_values = [42.32, 43.16, 40.08, 44.33, 44.09]\n",
    "\n",
    "def generate_boxplot(data, title=\"Boxplot of mAP Metric\"):\n",
    "    \"\"\"\n",
    "    Generate a boxplot for the provided data.\n",
    "    \n",
    "    Parameters:\n",
    "    - data: list of numerical values\n",
    "    - title: title of the boxplot (default is \"Boxplot of mAP Metric\")\n",
    "    \"\"\"\n",
    "    plt.figure(figsize=(10, 6))\n",
    "    plt.boxplot(data, vert=True, patch_artist=True)\n",
    "    plt.title(title)\n",
    "    plt.ylabel(\"mAP (%)\")\n",
    "    plt.xticks([1], ['mAP'])\n",
    "    plt.grid(True)\n",
    "    plt.show()\n",
    "\n",
    "# Generate the boxplot for the mAP values\n",
    "generate_boxplot(mAP_values)\n"
   ]
  },
  {
   "cell_type": "code",
   "execution_count": 3,
   "metadata": {},
   "outputs": [
    {
     "data": {
      "image/png": "[encoded data removed]",
      "text/plain": [
       "<Figure size 1000x600 with 1 Axes>"
      ]
     },
     "metadata": {},
     "output_type": "display_data"
    }
   ],
   "source": [
    "import matplotlib.pyplot as plt\n",
    "import numpy as np\n",
    "\n",
    "# mAP values from the runs\n",
    "mAP_values = [42.32, 43.16, 40.08, 44.33, 44.09]\n",
    "\n",
    "def generate_boxplot_with_statistics(data, title=\"Boxplot of mAP Metric\"):\n",
    "    \"\"\"\n",
    "    Generate a boxplot for the provided data and annotate the mean, upper bound, and lower bound.\n",
    "    \n",
    "    Parameters:\n",
    "    - data: list of numerical values\n",
    "    - title: title of the boxplot (default is \"Boxplot of mAP Metric\")\n",
    "    \"\"\"\n",
    "    fig, ax = plt.subplots(figsize=(10, 6))\n",
    "    \n",
    "    # Create the boxplot\n",
    "    box = ax.boxplot(data, vert=True, patch_artist=True)\n",
    "    \n",
    "    # Calculate statistics\n",
    "    mean_val = np.mean(data)\n",
    "    lower_bound = np.min(data)\n",
    "    upper_bound = np.max(data)\n",
    "    \n",
    "    # Annotate the mean\n",
    "    ax.scatter(1, mean_val, color='red', zorder=3)\n",
    "    ax.text(1.05, mean_val, f'Mean: {mean_val:.2f}%', verticalalignment='center')\n",
    "    \n",
    "    # Annotate the lower and upper bounds\n",
    "    ax.scatter(1, lower_bound, color='blue', zorder=3)\n",
    "    ax.text(1.05, lower_bound, f'Lower Bound: {lower_bound:.2f}%', verticalalignment='center')\n",
    "    \n",
    "    ax.scatter(1, upper_bound, color='blue', zorder=3)\n",
    "    ax.text(1.05, upper_bound, f'Upper Bound: {upper_bound:.2f}%', verticalalignment='center')\n",
    "    \n",
    "    # Set plot title and labels\n",
    "    ax.set_title(title)\n",
    "    ax.set_ylabel(\"mAP (%)\")\n",
    "    ax.set_xticks([1])\n",
    "    ax.set_xticklabels(['mAP'])\n",
    "    ax.grid(True)\n",
    "    \n",
    "    plt.show()\n",
    "\n",
    "# Generate the boxplot with statistics for the mAP values\n",
    "generate_boxplot_with_statistics(mAP_values)\n"
   ]
  },
  {
   "cell_type": "code",
   "execution_count": 4,
   "metadata": {},
   "outputs": [
    {
     "data": {
      "image/png": "[encoded data removed]",
      "text/plain": [
       "<Figure size 1200x800 with 1 Axes>"
      ]
     },
     "metadata": {},
     "output_type": "display_data"
    }
   ],
   "source": [
    "import matplotlib.pyplot as plt\n",
    "import numpy as np\n",
    "\n",
    "# mAP values from three experiments\n",
    "mAP_values_experiment_1 = [42.32, 43.16, 40.08, 44.33, 44.09]\n",
    "mAP_values_experiment_2 = [45.21, 46.78, 44.55, 47.22, 45.98]\n",
    "mAP_values_experiment_3 = [41.87, 42.95, 40.67, 43.56, 42.45]\n",
    "\n",
    "def generate_combined_boxplot(data_list, labels, title=\"Comparison of mAP Metrics Across Experiments\"):\n",
    "    \"\"\"\n",
    "    Generate combined boxplots for the provided data lists and annotate the mean, upper bound, and lower bound.\n",
    "    \n",
    "    Parameters:\n",
    "    - data_list: list of lists of numerical values\n",
    "    - labels: list of labels for the data lists\n",
    "    - title: title of the boxplot (default is \"Comparison of mAP Metrics Across Experiments\")\n",
    "    \"\"\"\n",
    "    fig, ax = plt.subplots(figsize=(12, 8))\n",
    "    \n",
    "    # Create the boxplots\n",
    "    box = ax.boxplot(data_list, vert=True, patch_artist=True, labels=labels)\n",
    "    \n",
    "    # Annotate statistics for each boxplot\n",
    "    for i, data in enumerate(data_list):\n",
    "        mean_val = np.mean(data)\n",
    "        lower_bound = np.min(data)\n",
    "        upper_bound = np.max(data)\n",
    "        \n",
    "        # Annotate the mean\n",
    "        ax.scatter(i + 1, mean_val, color='red', zorder=3)\n",
    "        ax.text(i + 1.05, mean_val, f'Mean: {mean_val:.2f}%', verticalalignment='center')\n",
    "        \n",
    "        # Annotate the lower and upper bounds\n",
    "        ax.scatter(i + 1, lower_bound, color='blue', zorder=3)\n",
    "        ax.text(i + 1.05, lower_bound, f'Lower Bound: {lower_bound:.2f}%', verticalalignment='center')\n",
    "        \n",
    "        ax.scatter(i + 1, upper_bound, color='blue', zorder=3)\n",
    "        ax.text(i + 1.05, upper_bound, f'Upper Bound: {upper_bound:.2f}%', verticalalignment='center')\n",
    "    \n",
    "    # Set plot title and labels\n",
    "    ax.set_title(title)\n",
    "    ax.set_ylabel(\"mAP (%)\")\n",
    "    ax.grid(True)\n",
    "    \n",
    "    plt.show()\n",
    "\n",
    "# Generate the combined boxplot for the mAP values from three experiments\n",
    "generate_combined_boxplot(\n",
    "    [mAP_values_experiment_1, mAP_values_experiment_2, mAP_values_experiment_3],\n",
    "    ['Experiment 1', 'Experiment 2', 'Experiment 3']\n",
    ")\n"
   ]
  },
  {
   "cell_type": "code",
   "execution_count": null,
   "metadata": {},
   "outputs": [],
   "source": [
    "#Connected to 152.92.223.182\n",
    "#luizmoura"
   ]
  },
  {
   "cell_type": "code",
   "execution_count": 6,
   "metadata": {},
   "outputs": [
    {
     "data": {
      "image/png": "[encoded data removed]",
      "text/plain": [
       "<Figure size 1200x800 with 1 Axes>"
      ]
     },
     "metadata": {},
     "output_type": "display_data"
    }
   ],
   "source": [
    "import re\n",
    "import matplotlib.pyplot as plt\n",
    "import numpy as np\n",
    "\n",
    "def extract_map_values(file_path):\n",
    "    \"\"\"\n",
    "    Extract mAP values from the file.\n",
    "    \n",
    "    Parameters:\n",
    "    - file_path: path to the file containing the results\n",
    "    \n",
    "    Returns:\n",
    "    - A dictionary where keys are experiment identifiers and values are lists of mAP values\n",
    "    \"\"\"\n",
    "    with open(file_path, 'r') as file:\n",
    "        content = file.read()\n",
    "\n",
    "    # Regular expression to match the experiment identifier and mAP values\n",
    "    experiment_pattern = re.compile(r\"Run: \\d+ Accuracy: [\\d.]+% F1-Score: [\\d.]+% Recall: [\\d.]+% Precision: [\\d.]+% Area: [\\d.]+% mAP: ([\\d.]+)% File Name: DeepLab_Model_Results_Trained_(\\d{2})_2024\")\n",
    "    \n",
    "    results = {}\n",
    "    matches = experiment_pattern.findall(content)\n",
    "    for mAP, experiment_id in matches:\n",
    "        if experiment_id not in results:\n",
    "            results[experiment_id] = []\n",
    "        results[experiment_id].append(float(mAP))\n",
    "    \n",
    "    return results\n",
    "\n",
    "def generate_combined_boxplot(data_dict, title=\"Comparison of mAP Metrics Across Experiments\"):\n",
    "    \"\"\"\n",
    "    Generate combined boxplots for the provided data dictionary and annotate the mean, upper bound, and lower bound.\n",
    "    \n",
    "    Parameters:\n",
    "    - data_dict: dictionary where keys are labels and values are lists of numerical values\n",
    "    - title: title of the boxplot (default is \"Comparison of mAP Metrics Across Experiments\")\n",
    "    \"\"\"\n",
    "    fig, ax = plt.subplots(figsize=(12, 8))\n",
    "    \n",
    "    # Create the boxplots\n",
    "    data_list = [data_dict[key] for key in sorted(data_dict.keys())]\n",
    "    labels = [f'Experiment {key}' for key in sorted(data_dict.keys())]\n",
    "    \n",
    "    box = ax.boxplot(data_list, vert=True, patch_artist=True, labels=labels)\n",
    "    \n",
    "    # Annotate statistics for each boxplot\n",
    "    for i, data in enumerate(data_list):\n",
    "        mean_val = np.mean(data)\n",
    "        lower_bound = np.min(data)\n",
    "        upper_bound = np.max(data)\n",
    "        \n",
    "        # Annotate the mean\n",
    "        ax.scatter(i + 1, mean_val, color='red', zorder=3)\n",
    "        ax.text(i + 1.05, mean_val, f'Mean: {mean_val:.2f}%', verticalalignment='center')\n",
    "        \n",
    "        # Annotate the lower and upper bounds\n",
    "        ax.scatter(i + 1, lower_bound, color='blue', zorder=3)\n",
    "        ax.text(i + 1.05, lower_bound, f'Lower Bound: {lower_bound:.2f}%', verticalalignment='center')\n",
    "        \n",
    "        ax.scatter(i + 1, upper_bound, color='blue', zorder=3)\n",
    "        ax.text(i + 1.05, upper_bound, f'Upper Bound: {upper_bound:.2f}%', verticalalignment='center')\n",
    "    \n",
    "    # Set plot title and labels\n",
    "    ax.set_title(title)\n",
    "    ax.set_ylabel(\"mAP (%)\")\n",
    "    ax.grid(True)\n",
    "    \n",
    "    plt.show()\n",
    "\n",
    "# Extract mAP values from the file\n",
    "file_path = 'Results.txt'\n",
    "mAP_values = extract_map_values(file_path)\n",
    "\n",
    "# Generate the combined boxplot for the extracted mAP values\n",
    "generate_combined_boxplot(mAP_values)\n"
   ]
  },
  {
   "cell_type": "code",
   "execution_count": 14,
   "metadata": {},
   "outputs": [],
   "source": [
    "import re\n",
    "\n",
    "import re\n",
    "import matplotlib.pyplot as plt\n",
    "import numpy as np\n",
    "\n",
    "def extract_map_and_f1(file_path):\n",
    "    \"\"\"\n",
    "    Extract mAP values from the file.\n",
    "    \n",
    "    Parameters:\n",
    "    - file_path: path to the file containing the results\n",
    "    \n",
    "    Returns:\n",
    "    - A dictionary where keys are experiment identifiers and values are lists of mAP values\n",
    "    \"\"\"\n",
    "    with open(file_path, 'r') as file:\n",
    "        content = file.read()\n",
    "\n",
    "    # Regular expression to match the experiment identifier and mAP values\n",
    "\n",
    "    experiment_pattern = re.compile(r\"Run: \\d+ Accuracy: [\\d.]+% F1-Score: ([\\d.]+)% Recall: [\\d.]+% Precision: [\\d.]+% Area: [\\d.]+% mAP: ([\\d.]+)%\")\n",
    "    #experiment_pattern = re.compile(r\"Run: \\d+ Accuracy: [\\d.]+% F1-Score: [\\d.]+% Recall: [\\d.]+% Precision: [\\d.]+% Area: [\\d.]+% mAP: ([\\d.]+)% File Name: DeepLab_Model_Results_Trained_(\\d{2})_2024\")\n",
    "    \n",
    "    map_values = []\n",
    "    f1_values = []\n",
    "    \n",
    "    for match in experiment_pattern.findall(content):\n",
    "        f1_score, map_score = match\n",
    "        f1_values.append(float(f1_score))\n",
    "        map_values.append(float(map_score))\n",
    "    \n",
    "    return map_values, f1_values"
   ]
  },
  {
   "cell_type": "code",
   "execution_count": 20,
   "metadata": {},
   "outputs": [],
   "source": [
    "map_values, f1_values = extract_map_and_f1('Results.txt')"
   ]
  },
  {
   "cell_type": "code",
   "execution_count": 21,
   "metadata": {},
   "outputs": [
    {
     "name": "stdout",
     "output_type": "stream",
     "text": [
      "mAP Values: [58.9, 58.19, 66.7, 62.46, 54.13]\n",
      "F1-Score Values: [49.68, 50.19, 59.04, 50.42, 49.16]\n"
     ]
    }
   ],
   "source": [
    "print(\"mAP Values:\", map_values)\n",
    "print(\"F1-Score Values:\", f1_values)"
   ]
  },
  {
   "cell_type": "code",
   "execution_count": 1,
   "metadata": {},
   "outputs": [],
   "source": [
    "import re\n",
    "\n",
    "def extract_map_and_f1(file_content):\n",
    "    pattern = re.compile(\n",
    "        r'Run:\\s*\\d+\\s+Accuracy:\\s*\\d+\\.\\d+%\\s+F1-Score:\\s*(\\d+\\.\\d+)%\\s+Recall:\\s*\\d+\\.\\d+%\\s+Precision:\\s*\\d+\\.\\d+%\\s+Area:\\s*\\d+\\.\\d+%\\s+mAP:\\s*(\\d+\\.\\d+)%'\n",
    "    )\n",
    "\n",
    "    map_values = []\n",
    "    f1_values = []\n",
    "\n",
    "    for match in pattern.finditer(file_content):\n",
    "        f1_value = float(match.group(1))\n",
    "        map_value = float(match.group(2))\n",
    "\n",
    "        f1_values.append(f1_value)\n",
    "        map_values.append(map_value)\n",
    "\n",
    "    return map_values, f1_values\n"
   ]
  },
  {
   "cell_type": "code",
   "execution_count": 2,
   "metadata": {},
   "outputs": [
    {
     "name": "stdout",
     "output_type": "stream",
     "text": [
      "\n",
      "    \\begin{table}[h!]\n",
      "    \\centering\n",
      "    \\begin{tabular}{|c|c|c|}\n",
      "    \\hline\n",
      "    Run & mAP (\\%) & F1-Score (\\%) \\\\\n",
      "    \\hline\n",
      "    0 & 58.90 & 49.68 \\\\\n",
      "    \\hline\n",
      "1 & 58.19 & 50.19 \\\\\n",
      "    \\hline\n",
      "2 & 66.70 & 59.04 \\\\\n",
      "    \\hline\n",
      "3 & 62.46 & 50.42 \\\\\n",
      "    \\hline\n",
      "4 & 54.13 & 49.16 \\\\\n",
      "    \\hline\n",
      "\n",
      "    \\end{tabular}\n",
      "    \\caption{Results of mAP and F1-Score for different runs.}\n",
      "    \\label{table:results}\n",
      "    \\end{table}\n",
      "    \n"
     ]
    }
   ],
   "source": [
    "def generate_latex_table(file_content):\n",
    "    map_values, f1_values = extract_map_and_f1(file_content)\n",
    "\n",
    "    latex_table = r\"\"\"\n",
    "    \\begin{table}[h!]\n",
    "    \\centering\n",
    "    \\begin{tabular}{|c|c|c|}\n",
    "    \\hline\n",
    "    Run & mAP (\\%) & F1-Score (\\%) \\\\\n",
    "    \\hline\n",
    "    \"\"\"\n",
    "    \n",
    "    for i, (map_val, f1_val) in enumerate(zip(map_values, f1_values)):\n",
    "        latex_table += f\"{i} & {map_val:.2f} & {f1_val:.2f} \\\\\\\\\\n    \\\\hline\\n\"\n",
    "\n",
    "    latex_table += r\"\"\"\n",
    "    \\end{tabular}\n",
    "    \\caption{Results of mAP and F1-Score for different runs.}\n",
    "    \\label{table:results}\n",
    "    \\end{table}\n",
    "    \"\"\"\n",
    "    \n",
    "    return latex_table\n",
    "\n",
    "# Example usage:\n",
    "file_content = \"\"\"Run: 0 Accuracy: 92.78% F1-Score: 49.68% Recall: 87.95% Precision: 34.61% Area: 10.30% mAP: 58.90% File Name: DeepLab_Model_Results_Trained_04_2024_28_04_2024_16_32_05_Tested_2016_2017_21_05_2024_21_45_09\n",
    "Run: 1 Accuracy: 93.07% F1-Score: 50.19% Recall: 86.18% Precision: 35.40% Area: 9.86% mAP: 58.19% File Name: DeepLab_Model_Results_Trained_04_2024_28_04_2024_15_23_28_Tested_2016_2017_21_05_2024_21_45_13\n",
    "Run: 2 Accuracy: 95.15% F1-Score: 59.04% Recall: 86.30% Precision: 44.86% Area: 7.80% mAP: 66.70% File Name: DeepLab_Model_Results_Trained_04_2024_28_04_2024_14_42_11_Tested_2016_2017_21_05_2024_21_45_18\n",
    "Run: 3 Accuracy: 93.21% F1-Score: 50.42% Recall: 85.13% Precision: 35.82% Area: 9.63% mAP: 62.46% File Name: DeepLab_Model_Results_Trained_04_2024_28_04_2024_15_58_25_Tested_2016_2017_21_05_2024_21_45_04\n",
    "Run: 4 Accuracy: 92.99% F1-Score: 49.16% Recall: 83.61% Precision: 34.82% Area: 9.73% mAP: 54.13% File Name: DeepLab_Model_Results_Trained_04_2024_28_04_2024_14_13_38_Tested_2016_2017_21_05_2024_21_44_55\n",
    "Mean: 0 Accuracy: 93.439094% F1-Score: 51.696618% Recall: 85.835384% Precision: 37.102393% Area: 9.465781% mAP: 60.076442% \n",
    "Std: 0 Accuracy: 0.86% F1-Score: 3.70% Recall: 1.43% Precision: 3.90% Area: 0.86% mAP: 4.238105% \"\"\"\n",
    "\n",
    "latex_table = generate_latex_table(file_content)\n",
    "print(latex_table)\n"
   ]
  },
  {
   "cell_type": "markdown",
   "metadata": {},
   "source": [
    "$$ \n",
    "\\begin{align*}\n",
    "a &= b + c \\\\\n",
    "d &= e + f\n",
    "\\end{align*}\n",
    "$$"
   ]
  },
  {
   "cell_type": "markdown",
   "metadata": {},
   "source": [
    "$$ \n",
    "\\begin{table}[h!]\n",
    "    \\centering\n",
    "    \\begin{tabular}{|c|c|c|}\n",
    "    \\hline\n",
    "    Run & mAP (\\%) & F1-Score (\\%) \\\\\n",
    "    \\hline\n",
    "    0 & 58.90 & 49.68 \\\\\n",
    "    \\hline\n",
    "1 & 58.19 & 50.19 \\\\\n",
    "    \\hline\n",
    "2 & 66.70 & 59.04 \\\\\n",
    "    \\hline\n",
    "3 & 62.46 & 50.42 \\\\\n",
    "    \\hline\n",
    "4 & 54.13 & 49.16 \\\\\n",
    "    \\hline\n",
    "\n",
    "    \\end{tabular}\n",
    "    \\caption{Results of mAP and F1-Score for different runs.}\n",
    "    \\label{table:results}\n",
    "\\end{table}\n",
    "$$ "
   ]
  },
  {
   "cell_type": "code",
   "execution_count": 9,
   "metadata": {},
   "outputs": [
    {
     "data": {
      "text/latex": [
       "\\begin{table}[h!]\n",
       "    \\centering\n",
       "    \\begin{tabular}{|c|c|c|}\n",
       "    \\hline\n",
       "    Run & mAP (\\%) & F1-Score (\\%) \\\\\n",
       "    \\hline\n",
       "    0 & 58.90 & 49.68 \\\\\n",
       "    \\hline\n",
       "1 & 58.19 & 50.19 \\\\\n",
       "    \\hline\n",
       "2 & 66.70 & 59.04 \\\\\n",
       "    \\hline\n",
       "3 & 62.46 & 50.42 \\\\\n",
       "    \\hline\n",
       "4 & 54.13 & 49.16 \\\\\n",
       "    \\hline\n",
       "\n",
       "    \\end{tabular}\n",
       "    \\caption{Results of mAP and F1-Score for different runs.}\n",
       "    \\label{table:results}\n",
       "\\end{table}\n"
      ],
      "text/plain": [
       "<IPython.core.display.Latex object>"
      ]
     },
     "metadata": {},
     "output_type": "display_data"
    }
   ],
   "source": [
    "%%latex\n",
    "\\begin{table}[h!]\n",
    "    \\centering\n",
    "    \\begin{tabular}{|c|c|c|}\n",
    "    \\hline\n",
    "    Run & mAP (\\%) & F1-Score (\\%) \\\\\n",
    "    \\hline\n",
    "    0 & 58.90 & 49.68 \\\\\n",
    "    \\hline\n",
    "1 & 58.19 & 50.19 \\\\\n",
    "    \\hline\n",
    "2 & 66.70 & 59.04 \\\\\n",
    "    \\hline\n",
    "3 & 62.46 & 50.42 \\\\\n",
    "    \\hline\n",
    "4 & 54.13 & 49.16 \\\\\n",
    "    \\hline\n",
    "\n",
    "    \\end{tabular}\n",
    "    \\caption{Results of mAP and F1-Score for different runs.}\n",
    "    \\label{table:results}\n",
    "\\end{table}"
   ]
  },
  {
   "cell_type": "code",
   "execution_count": 17,
   "metadata": {},
   "outputs": [
    {
     "data": {
      "text/latex": [
       "\n",
       "    \\begin{table}[h!]\n",
       "    \\centering\n",
       "    \\begin{tabular}{|c|cc|cc|cc|cc|cc|cc|}\n",
       "    \\hline\n",
       "    & \\multicolumn{4}{c|}{Group 1} & \\multicolumn{4}{c|}{Group 2} & \\multicolumn{4}{c|}{Group 3} \\\\\n",
       "    \\hline\n",
       "    & \\multicolumn{2}{c|}{Setting 1} & \\multicolumn{2}{c|}{Setting 2} & \\multicolumn{2}{c|}{Setting 3} & \\multicolumn{2}{c|}{Setting 4} & \\multicolumn{2}{c|}{Setting 5} & \\multicolumn{2}{c|}{Setting 6} \\\\\n",
       "    \\hline\n",
       "    Experiment & mAP & F1 & mAP & F1 & mAP & F1 & mAP & F1 & mAP & F1 & mAP & F1 \\\\\n",
       "    \\hline\n",
       "    1 & 58.90 & 49.68 & 58.19 & 50.19 & 66.70 & 59.04 & 62.46 & 50.42 & 54.13 & 49.16 & 54.13 & 49.16 \\\\\n",
       "        \\hline\n",
       "        \n",
       "    \\end{tabular}\n",
       "    \\caption{mAP and F1-Score values for different experiments and settings.}\n",
       "    \\label{table:results}\n",
       "    \\end{table}\n",
       "    "
      ],
      "text/plain": [
       "<IPython.core.display.Latex object>"
      ]
     },
     "metadata": {},
     "output_type": "display_data"
    }
   ],
   "source": [
    "import re\n",
    "import numpy as np\n",
    "from IPython.display import display, Latex\n",
    "\n",
    "def get_map_and_f1_values(file_content):\n",
    "    \"\"\"\n",
    "    Extract mAP and F1 values from the provided file content.\n",
    "    \"\"\"\n",
    "    pattern = re.compile(\n",
    "        r'Run:\\s*\\d+\\s+Accuracy:\\s*\\d+\\.\\d+%\\s+F1-Score:\\s*(\\d+\\.\\d+)%\\s+Recall:\\s*\\d+\\.\\d+%\\s+Precision:\\s*\\d+\\.\\d+%\\s+Area:\\s*\\d+\\.\\d+%\\s+mAP:\\s*(\\d+\\.\\d+)%'\n",
    "    )\n",
    "\n",
    "    map_values = []\n",
    "    f1_values = []\n",
    "\n",
    "    for match in pattern.finditer(file_content):\n",
    "        f1_value = float(match.group(1))\n",
    "        map_value = float(match.group(2))\n",
    "\n",
    "        f1_values.append(f1_value)\n",
    "        map_values.append(map_value)\n",
    "\n",
    "    return map_values, f1_values\n",
    "\n",
    "def generate_latex_table_for_experiments(experiment_files, settings, output_file='latex_table.tex'):\n",
    "    \"\"\"\n",
    "    Generate a LaTeX table for the given experiments and settings.\n",
    "    \"\"\"\n",
    "    # Assuming settings are even to group them in pairs\n",
    "    setting_pairs = [f\"Group {i//2 + 1}\" for i in range(0, len(settings), 2)]\n",
    "\n",
    "    latex_table = r\"\"\"\n",
    "    \\begin{table}[h!]\n",
    "    \\centering\n",
    "    \\begin{tabular}{|c|\"\"\" + \"cc|\" * len(settings) + r\"\"\"}\n",
    "    \\hline\n",
    "    & \"\"\" + \" & \".join([f\"\\multicolumn{{4}}{{c|}}{{{pair}}}\" for pair in setting_pairs]) + r\"\"\" \\\\\n",
    "    \\hline\n",
    "    & \"\"\" + \" & \".join([f\"\\multicolumn{{2}}{{c|}}{{{setting}}}\" for setting in settings]) + r\"\"\" \\\\\n",
    "    \\hline\n",
    "    Experiment & \"\"\" + \" & \".join([f\"mAP & F1\" for _ in settings]) + r\"\"\" \\\\\n",
    "    \\hline\n",
    "    \"\"\"\n",
    "    \n",
    "    for i, file_content in enumerate(experiment_files):\n",
    "        map_values, f1_values = get_map_and_f1_values(file_content)\n",
    "        \n",
    "        # Ensure there are enough values for the settings\n",
    "        if len(map_values) < len(settings) or len(f1_values) < len(settings):\n",
    "            raise ValueError(f\"Not enough data for experiment {i + 1}. Expected {len(settings)} values, got {len(map_values)} mAP and {len(f1_values)} F1.\")\n",
    "        \n",
    "        latex_table += f\"{i + 1} & \" + \" & \".join([f\"{map_values[j]:.2f} & {f1_values[j]:.2f}\" for j in range(len(settings))]) + r\"\"\" \\\\\n",
    "        \\hline\n",
    "        \"\"\"\n",
    "    \n",
    "    latex_table += r\"\"\"\n",
    "    \\end{tabular}\n",
    "    \\caption{mAP and F1-Score values for different experiments and settings.}\n",
    "    \\label{table:results}\n",
    "    \\end{table}\n",
    "    \"\"\"\n",
    "    \n",
    "    with open(output_file, 'w') as file:\n",
    "        file.write(latex_table)\n",
    "    \n",
    "    display(Latex(latex_table))\n",
    "\n",
    "# Example usage:\n",
    "experiment_files = [\n",
    "    \"\"\"Run: 0 Accuracy: 92.78% F1-Score: 49.68% Recall: 87.95% Precision: 34.61% Area: 10.30% mAP: 58.90% File Name: DeepLab_Model_Results_Trained_04_2024_28_04_2024_16_32_05_Tested_2016_2017_21_05_2024_21_45_09\n",
    "    Run: 1 Accuracy: 93.07% F1-Score: 50.19% Recall: 86.18% Precision: 35.40% Area: 9.86% mAP: 58.19% File Name: DeepLab_Model_Results_Trained_04_2024_28_04_2024_15_23_28_Tested_2016_2017_21_05_2024_21_45_13\n",
    "    Run: 2 Accuracy: 95.15% F1-Score: 59.04% Recall: 86.30% Precision: 44.86% Area: 7.80% mAP: 66.70% File Name: DeepLab_Model_Results_Trained_04_2024_28_04_2024_14_42_11_Tested_2016_2017_21_05_2024_21_45_18\n",
    "    Run: 3 Accuracy: 93.21% F1-Score: 50.42% Recall: 85.13% Precision: 35.82% Area: 9.63% mAP: 62.46% File Name: DeepLab_Model_Results_Trained_04_2024_28_04_2024_15_58_25_Tested_2016_2017_21_05_2024_21_45_04\n",
    "    Run: 4 Accuracy: 92.99% F1-Score: 49.16% Recall: 83.61% Precision: 34.82% Area: 9.73% mAP: 54.13% File Name: DeepLab_Model_Results_Trained_04_2024_28_04_2024_14_13_38_Tested_2016_2017_21_05_2024_21_44_55\n",
    "    Run: 45 Accuracy: 92.99% F1-Score: 49.16% Recall: 83.61% Precision: 34.82% Area: 9.73% mAP: 54.13% File Name: DeepLab_Model_Results_Trained_04_2024_28_04_2024_14_13_38_Tested_2016_2017_21_05_2024_21_44_55\"\"\",\n",
    "    # Add more file contents for other experiments here...\n",
    "]\n",
    "\n",
    "settings = ['Setting 1', 'Setting 2', 'Setting 3', 'Setting 4', 'Setting 5', 'Setting 6']\n",
    "\n",
    "generate_latex_table_for_experiments(experiment_files, settings)\n"
   ]
  },
  {
   "cell_type": "code",
   "execution_count": 3,
   "metadata": {},
   "outputs": [
    {
     "data": {
      "text/latex": [
       "\n",
       "    \\begin{table}[h!]\n",
       "    \\centering\n",
       "    \\begin{tabular}{|c|cc|cc|cc|cc|cc|cc|}\n",
       "    \\hline\n",
       "    & \\multicolumn{4}{c|}{Group 1} & \\multicolumn{4}{c|}{Group 2} & \\multicolumn{4}{c|}{Group 3} \\\\\n",
       "    \\hline\n",
       "    & \\multicolumn{2}{c|}{Setting 1} & \\multicolumn{2}{c|}{Setting 2} & \\multicolumn{2}{c|}{Setting 3} & \\multicolumn{2}{c|}{Setting 4} & \\multicolumn{2}{c|}{Setting 5} & \\multicolumn{2}{c|}{Setting 6} \\\\\n",
       "    \\hline\n",
       "    Experiment & mAP & F1 & mAP & F1 & mAP & F1 & mAP & F1 & mAP & F1 & mAP & F1 \\\\\n",
       "    \\hline\n",
       "    Experiment 1 & 58.90 & 49.68 & 58.19 & 50.19 & 66.70 & 59.04 & 62.46 & 50.42 & 54.13 & 49.16 & 60.00 & 51.00 \\\\\n",
       "        \\hline\n",
       "        Experiment 2 & 60.20 & 50.20 & 59.30 & 50.70 & 67.80 & 59.30 & 63.50 & 50.80 & 55.23 & 49.40 & 61.10 & 51.30 \\\\\n",
       "        \\hline\n",
       "        Experiment 3 & 59.00 & 49.90 & 58.40 & 50.40 & 67.20 & 59.10 & 62.90 & 50.60 & 54.80 & 49.20 & 60.50 & 51.10 \\\\\n",
       "        \\hline\n",
       "        Experiment 4 & 58.50 & 49.50 & 57.90 & 50.10 & 66.80 & 58.80 & 62.30 & 50.30 & 54.50 & 49.00 & 60.20 & 50.90 \\\\\n",
       "        \\hline\n",
       "        Experiment 5 & 58.80 & 49.80 & 58.10 & 50.30 & 67.00 & 59.00 & 62.60 & 50.50 & 54.70 & 49.10 & 60.40 & 51.00 \\\\\n",
       "        \\hline\n",
       "        \n",
       "    \\end{tabular}\n",
       "    \\caption{mAP and F1-Score values for different experiments and settings.}\n",
       "    \\label{table:results}\n",
       "    \\end{table}\n",
       "    "
      ],
      "text/plain": [
       "<IPython.core.display.Latex object>"
      ]
     },
     "metadata": {},
     "output_type": "display_data"
    }
   ],
   "source": [
    "import numpy as np\n",
    "from IPython.display import display, Latex\n",
    "\n",
    "def generate_latex_table_for_experiments(experiments, source, target, map_values, f1_values, output_file='latex_table.tex'):\n",
    "    \"\"\"\n",
    "    Generate a LaTeX table for the given experiments and settings.\n",
    "    \n",
    "    :param experiments: List of experiment names.\n",
    "    :param groups: List of group names, each group representing two settings.\n",
    "    :param settings: List of setting names.\n",
    "    :param map_values: List of lists containing mAP values for each experiment and setting.\n",
    "    :param f1_values: List of lists containing F1 values for each experiment and setting.\n",
    "    :param output_file: The output file name for the LaTeX table.\n",
    "    \"\"\"\n",
    "    # Verify the lengths of the inputs\n",
    "    num_experiments = len(experiments)\n",
    "    if not (len(groups) * 2 == len(settings) and len(map_values) == num_experiments and len(f1_values) == num_experiments):\n",
    "        raise ValueError(\"Mismatch in the lengths of input lists.\")\n",
    "    \n",
    "    latex_table = r\"\"\"\n",
    "    \\begin{table}[h!]\n",
    "    \\centering\n",
    "    \\begin{tabular}{|c|\"\"\" + \"cc|\" * len(settings) + r\"\"\"}\n",
    "    \\hline\n",
    "    & \"\"\" + \" & \".join([f\"\\multicolumn{{4}}{{c|}}{{{group}}}\" for group in source]) + r\"\"\" \\\\\n",
    "    \\hline\n",
    "    & \"\"\" + \" & \".join([f\"\\multicolumn{{2}}{{c|}}{{{setting}}}\" for setting in target]) + r\"\"\" \\\\\n",
    "    \\hline\n",
    "    Experiment & \"\"\" + \" & \".join([f\"mAP & F1\" for _ in target]) + r\"\"\" \\\\\n",
    "    \\hline\n",
    "    \"\"\"\n",
    "    \n",
    "    for i, experiment in enumerate(experiments):\n",
    "        latex_table += f\"{experiment} & \" + \" & \".join([f\"{map_values[i][j]:.2f} & {f1_values[i][j]:.2f}\" for j in range(len(settings))]) + r\"\"\" \\\\\n",
    "        \\hline\n",
    "        \"\"\"\n",
    "    \n",
    "    latex_table += r\"\"\"\n",
    "    \\end{tabular}\n",
    "    \\caption{mAP and F1-Score values for different experiments and settings.}\n",
    "    \\label{table:results}\n",
    "    \\end{table}\n",
    "    \"\"\"\n",
    "    \n",
    "    with open(output_file, 'w') as file:\n",
    "        file.write(latex_table)\n",
    "    \n",
    "    display(Latex(latex_table))\n",
    "\n",
    "# Example usage:\n",
    "experiments = ['Experiment 1', 'Experiment 2', 'Experiment 3', 'Experiment 4', 'Experiment 5']\n",
    "groups = ['Group 1', 'Group 2', 'Group 3']\n",
    "settings = ['Setting 1', 'Setting 2', 'Setting 3', 'Setting 4', 'Setting 5', 'Setting 6']\n",
    "map_values = [\n",
    "    [58.90, 58.19, 66.70, 62.46, 54.13, 60.00],\n",
    "    [60.20, 59.30, 67.80, 63.50, 55.23, 61.10],\n",
    "    [59.00, 58.40, 67.20, 62.90, 54.80, 60.50],\n",
    "    [58.50, 57.90, 66.80, 62.30, 54.50, 60.20],\n",
    "    [58.80, 58.10, 67.00, 62.60, 54.70, 60.40]\n",
    "]\n",
    "f1_values = [\n",
    "    [49.68, 50.19, 59.04, 50.42, 49.16, 51.00],\n",
    "    [50.20, 50.70, 59.30, 50.80, 49.40, 51.30],\n",
    "    [49.90, 50.40, 59.10, 50.60, 49.20, 51.10],\n",
    "    [49.50, 50.10, 58.80, 50.30, 49.00, 50.90],\n",
    "    [49.80, 50.30, 59.00, 50.50, 49.10, 51.00]\n",
    "]\n",
    "\n",
    "generate_latex_table_for_experiments(experiments, groups, settings, map_values, f1_values)\n"
   ]
  },
  {
   "cell_type": "code",
   "execution_count": 27,
   "metadata": {},
   "outputs": [
    {
     "name": "stdout",
     "output_type": "stream",
     "text": [
      "Excel file 'results.xlsx' has been created.\n"
     ]
    }
   ],
   "source": [
    "import pandas as pd\n",
    "\n",
    "def generate_excel_table_for_experiments(experiments, groups, settings, map_values, f1_values, output_file='results.xlsx'):\n",
    "    \"\"\"\n",
    "    Generate an Excel spreadsheet for the given experiments and settings.\n",
    "    \n",
    "    :param experiments: List of experiment names.\n",
    "    :param groups: List of group names, each group representing two settings.\n",
    "    :param settings: List of setting names.\n",
    "    :param map_values: List of lists containing mAP values for each experiment and setting.\n",
    "    :param f1_values: List of lists containing F1 values for each experiment and setting.\n",
    "    :param output_file: The output file name for the Excel spreadsheet.\n",
    "    \"\"\"\n",
    "    # Verify the lengths of the inputs\n",
    "    num_experiments = len(experiments)\n",
    "    num_settings = len(settings)\n",
    "    if not (len(groups) * 2 == num_settings and len(map_values) == num_experiments and len(f1_values) == num_experiments):\n",
    "        raise ValueError(\"Mismatch in the lengths of input lists.\")\n",
    "    \n",
    "    # Create a DataFrame\n",
    "    data = {'Experiment': experiments}\n",
    "    \n",
    "    # Add columns for each setting\n",
    "    for i, setting in enumerate(settings):\n",
    "        data[f'{setting} mAP'] = [map_values[j][i] for j in range(num_experiments)]\n",
    "        data[f'{setting} F1'] = [f1_values[j][i] for j in range(num_experiments)]\n",
    "    \n",
    "    df = pd.DataFrame(data)\n",
    "    \n",
    "    # Save the DataFrame to an Excel file\n",
    "    with pd.ExcelWriter(output_file, engine='xlsxwriter') as writer:\n",
    "        df.to_excel(writer, sheet_name='Results', index=False, startrow=4)\n",
    "        \n",
    "        # Access the XlsxWriter workbook and worksheet objects\n",
    "        workbook  = writer.book\n",
    "        worksheet = writer.sheets['Results']\n",
    "        \n",
    "        # Add a header row for groups\n",
    "        num_columns = len(settings) * 2 + 1  # Number of columns including the 'Experiment' column\n",
    "        for i, group in enumerate(groups):\n",
    "            start_col = i * 4 + 1\n",
    "            end_col = start_col + 3\n",
    "            worksheet.merge_range(0, start_col, 0, end_col, group, workbook.add_format({'align': 'center'}))\n",
    "        \n",
    "\n",
    "        # Add a header row for settings\n",
    "        for i, setting in enumerate(settings):\n",
    "            col = i * 2 + 1\n",
    "            end_col = col + 1\n",
    "            worksheet.merge_range(1, col, 1, end_col, setting, workbook.add_format({'align': 'center'}))\n",
    "            worksheet.write(2, col + 1, 'mAP', workbook.add_format({'align': 'center'}))\n",
    "            worksheet.write(2, col + 2, 'F1', workbook.add_format({'align': 'center'}))\n",
    "            \n",
    "        \n",
    "    \n",
    "    print(f\"Excel file '{output_file}' has been created.\")\n",
    "\n",
    "# Example usage:\n",
    "experiments = ['Experiment 1', 'Experiment 2', 'Experiment 3', 'Experiment 4', 'Experiment 5']\n",
    "groups = ['Group 1', 'Group 2', 'Group 3']\n",
    "settings = ['Setting 1', 'Setting 2', 'Setting 3', 'Setting 4', 'Setting 5', 'Setting 6']\n",
    "map_values = [\n",
    "    [58.90, 58.19, 66.70, 62.46, 54.13, 60.00],\n",
    "    [60.20, 59.30, 67.80, 63.50, 55.23, 61.10],\n",
    "    [59.00, 58.40, 67.20, 62.90, 54.80, 60.50],\n",
    "    [58.50, 57.90, 66.80, 62.30, 54.50, 60.20],\n",
    "    [58.80, 58.10, 67.00, 62.60, 54.70, 60.40]\n",
    "]\n",
    "f1_values = [\n",
    "    [49.68, 50.19, 59.04, 50.42, 49.16, 51.00],\n",
    "    [50.20, 50.70, 59.30, 50.80, 49.40, 51.30],\n",
    "    [49.90, 50.40, 59.10, 50.60, 49.20, 51.10],\n",
    "    [49.50, 50.10, 58.80, 50.30, 49.00, 50.90],\n",
    "    [49.80, 50.30, 59.00, 50.50, 49.10, 51.00]\n",
    "]\n",
    "\n",
    "generate_excel_table_for_experiments(experiments, groups, settings, map_values, f1_values)\n"
   ]
  },
  {
   "cell_type": "code",
   "execution_count": 4,
   "metadata": {},
   "outputs": [
    {
     "name": "stdout",
     "output_type": "stream",
     "text": [
      "48.67\n"
     ]
    }
   ],
   "source": [
    "import numpy as np\n",
    "\n",
    "ACCURACY_ = [48.67]\n",
    "\n",
    "print(np.mean(ACCURACY_))"
   ]
  },
  {
   "cell_type": "code",
   "execution_count": 11,
   "metadata": {},
   "outputs": [
    {
     "ename": "SyntaxError",
     "evalue": "invalid decimal literal (<string>, line 1)",
     "output_type": "error",
     "traceback": [
      "Traceback \u001b[0;36m(most recent call last)\u001b[0m:\n",
      "\u001b[0m  File \u001b[1;32m~/miniconda3/envs/tf2env/lib/python3.11/site-packages/IPython/core/interactiveshell.py:3577\u001b[0m in \u001b[1;35mrun_code\u001b[0m\n    exec(code_obj, self.user_global_ns, self.user_ns)\u001b[0m\n",
      "\u001b[0m  Cell \u001b[1;32mIn[11], line 2\u001b[0m\n    import Main_Compute_Create_Precision_vs_Recall_Curves_Multi_Source_MA_RO as mc\u001b[0m\n",
      "\u001b[0m  File \u001b[1;32m~/workspace/GitHub/FC-DANN_DA_For_CD_MultiTarget_TF2/Main_Compute_Create_Precision_vs_Recall_Curves_Multi_Source_MA_RO.py:13\u001b[0m\n    args = parser.parse_args()\u001b[0m\n",
      "\u001b[0m  File \u001b[1;32m~/miniconda3/envs/tf2env/lib/python3.11/argparse.py:1869\u001b[0m in \u001b[1;35mparse_args\u001b[0m\n    args, argv = self.parse_known_args(args, namespace)\u001b[0m\n",
      "\u001b[0m  File \u001b[1;32m~/miniconda3/envs/tf2env/lib/python3.11/argparse.py:1902\u001b[0m in \u001b[1;35mparse_known_args\u001b[0m\n    namespace, args = self._parse_known_args(args, namespace)\u001b[0m\n",
      "\u001b[0m  File \u001b[1;32m~/miniconda3/envs/tf2env/lib/python3.11/argparse.py:2114\u001b[0m in \u001b[1;35m_parse_known_args\u001b[0m\n    start_index = consume_optional(start_index)\u001b[0m\n",
      "\u001b[0m  File \u001b[1;32m~/miniconda3/envs/tf2env/lib/python3.11/argparse.py:2054\u001b[0m in \u001b[1;35mconsume_optional\u001b[0m\n    take_action(action, args, option_string)\u001b[0m\n",
      "\u001b[0m  File \u001b[1;32m~/miniconda3/envs/tf2env/lib/python3.11/argparse.py:1962\u001b[0m in \u001b[1;35mtake_action\u001b[0m\n    argument_values = self._get_values(action, argument_strings)\u001b[0m\n",
      "\u001b[0m  File \u001b[1;32m~/miniconda3/envs/tf2env/lib/python3.11/argparse.py:2496\u001b[0m in \u001b[1;35m_get_values\u001b[0m\n    value = self._get_value(action, arg_string)\u001b[0m\n",
      "\u001b[0;36m  File \u001b[0;32m~/miniconda3/envs/tf2env/lib/python3.11/argparse.py:2529\u001b[0;36m in \u001b[0;35m_get_value\u001b[0;36m\n\u001b[0;31m    result = type_func(arg_string)\u001b[0;36m\n",
      "\u001b[0;36m  File \u001b[0;32m<string>:1\u001b[0;36m\u001b[0m\n\u001b[0;31m    /Users/luizm/Library/Jupyter/runtime/kernel-v2-51923c9Nww2M9ZtS.json\u001b[0m\n\u001b[0m                                                       ^\u001b[0m\n\u001b[0;31mSyntaxError\u001b[0m\u001b[0;31m:\u001b[0m invalid decimal literal\n"
     ]
    }
   ],
   "source": [
    "import SharedParameters\n",
    "import Main_Compute_Create_Precision_vs_Recall_Curves_Multi_Source_MA_RO as mc\n",
    "\n",
    "# Create the list of methods\n",
    "\n",
    "'''\n",
    "\n",
    "methods = [\n",
    "    {\n",
    "        'name': mc.names[i],\n",
    "        'results': mc.baseline_paths[i],\n",
    "        'checkpoints': mc.baseline_checkpoints[i],\n",
    "        'labels': mc.baseline_labels[i]\n",
    "    }\n",
    "    for i in range(len(mc.baseline_paths))\n",
    "]\n",
    "\n",
    "# Print the structure to verify\n",
    "output_structure = {'methods': methods}\n",
    "print(output_structure)\n",
    "'''"
   ]
  },
  {
   "cell_type": "code",
   "execution_count": 3,
   "metadata": {},
   "outputs": [],
   "source": [
    "import SharedParameters\n",
    "\n",
    "sources = [\n",
    "    {\n",
    "        \"name\": \"MA\",\n",
    "        \"targets\": [\n",
    "            {\n",
    "                \"name\": \"PA\",\n",
    "                \"methods\": [\n",
    "                    {\n",
    "                        \"name\": SharedParameters.UPPER_BOUND_SOURCE_ONLY_LABEL,\n",
    "                        \"results\": \"results_tr_Amazon_PA_classification_S_Amazon_PA_T_Amazon_PA/\",\n",
    "                        \"checkpoints\": \"checkpoint_tr_Amazon_PA_classification_Amazon_PA/\",\n",
    "                        \"labels\": SharedParameters.formatted_upper_bound_source_only_label(\n",
    "                            \"PA\"\n",
    "                        ),\n",
    "                    },\n",
    "                    {\n",
    "                        \"name\": SharedParameters.LOWER_BOUND_LABEL,\n",
    "                        \"results\": \"results_tr_Cerrado_MA_classification_S_Cerrado_MA_T_Amazon_PA/\",\n",
    "                        \"checkpoints\": \"checkpoint_tr_Cerrado_MA_classification_Cerrado_MA/\",\n",
    "                        \"labels\": SharedParameters.formatted_lower_bound_label(\n",
    "                            \"MA\", \"PA\"\n",
    "                        ),\n",
    "                    },\n",
    "                    {\n",
    "                        \"name\": SharedParameters.SINGLE_TARGET_LABEL,\n",
    "                        \"results\": \"results_tr_Cerrado_MA_to_Amazon_PA_domain_adaptation_DR_single_Amazon_PA_wrmp1_gamma_2.5_skipconn_True/\",\n",
    "                        \"checkpoints\": \"checkpoint_tr_Cerrado_MA_to_Amazon_PA_domain_adaptation_DR_single_Amazon_PA_gamma_2.5_skipconn_True/\",\n",
    "                        \"labels\": SharedParameters.formatted_single_target_label(\n",
    "                            \"MA\", \"PA\"\n",
    "                        ),\n",
    "                    },\n",
    "                    {\n",
    "                        \"name\": f\"{SharedParameters.MULTI_TARGET_LABEL} {SharedParameters.EXPERIMENTS_LABELS[0]}\",\n",
    "                        \"results\": \"results_tr_Cerrado_MA_to_Amazon_RO_Amazon_PA_domain_adaptation_DR_FC_multi_discriminate_target_True_wrmp_1_Amazon_PA_skipconn_True/\",\n",
    "                        \"checkpoints\": \"checkpoint_tr_Cerrado_MA_to_Amazon_RO_Amazon_PA_domain_adaptation_DR_FC_multi_discriminate_target_True_wrmp_1_Amazon_RO_Amazon_PA_skipconn_True/\",\n",
    "                        \"labels\": SharedParameters.formatted_multi_target_label(\n",
    "                            \"MA\", \"RO\", \"PA\"\n",
    "                        )\n",
    "                        + \" \"\n",
    "                        + SharedParameters.EXPERIMENTS_LABELS[0],\n",
    "                    },\n",
    "                    {\n",
    "                        \"name\": f\"{SharedParameters.MULTI_TARGET_LABEL} {SharedParameters.EXPERIMENTS_LABELS[1]}\",\n",
    "                        \"results\": \"results_tr_Cerrado_MA_to_Amazon_RO_Amazon_PA_domain_adaptation_DR_FC_multi_discriminate_target_False_wrmp_1_Amazon_PA_skipconn_True/\",\n",
    "                        \"checkpoints\": \"checkpoint_tr_Cerrado_MA_to_Amazon_RO_Amazon_PA_domain_adaptation_DR_FC_multi_discriminate_target_False_wrmp_1_Amazon_RO_Amazon_PA_skipconn_True/\",\n",
    "                        \"labels\": SharedParameters.formatted_multi_target_label(\n",
    "                            \"MA\", \"RO\", \"PA\"\n",
    "                        )\n",
    "                        + \" \"\n",
    "                        + SharedParameters.EXPERIMENTS_LABELS[1],\n",
    "                    },\n",
    "                ],\n",
    "            },\n",
    "            {\n",
    "                \"name\": \"RO\",\n",
    "                \"methods\": [\n",
    "                    {\n",
    "                        \"name\": SharedParameters.UPPER_BOUND_SOURCE_ONLY_LABEL,\n",
    "                        \"results\": \"results_tr_Amazon_RO_classification_S_Amazon_RO_T_Amazon_RO/\",\n",
    "                        \"checkpoints\": \"checkpoint_tr_Amazon_RO_classification_Amazon_RO/\",\n",
    "                        \"labels\": SharedParameters.formatted_upper_bound_source_only_label(\n",
    "                            \"RO\"\n",
    "                        ),\n",
    "                    },\n",
    "                    {\n",
    "                        \"name\": SharedParameters.LOWER_BOUND_LABEL,\n",
    "                        \"results\": \"results_tr_Cerrado_MA_classification_S_Cerrado_MA_T_Amazon_RO/\",\n",
    "                        \"checkpoints\": \"checkpoint_tr_Cerrado_MA_classification_Cerrado_MA/\",\n",
    "                        \"labels\": SharedParameters.formatted_lower_bound_label(\n",
    "                            \"MA\", \"RO\"\n",
    "                        ),\n",
    "                    },\n",
    "                    {\n",
    "                        \"name\": SharedParameters.SINGLE_TARGET_LABEL,\n",
    "                        \"results\": \"results_tr_Cerrado_MA_to_Amazon_RO_domain_adaptation_DR_single_Amazon_RO_wrmp1_gamma_2.5_skipconn_True/\",\n",
    "                        \"checkpoints\": \"checkpoint_tr_Cerrado_MA_to_Amazon_RO_domain_adaptation_DR_single_Amazon_RO_gamma_2.5_skipconn_True/\",\n",
    "                        \"labels\": SharedParameters.formatted_single_target_label(\n",
    "                            \"MA\", \"RO\"\n",
    "                        ),\n",
    "                    },\n",
    "                    {\n",
    "                        \"name\": f\"{SharedParameters.MULTI_TARGET_LABEL} {SharedParameters.EXPERIMENTS_LABELS[0]}\",\n",
    "                        \"results\": \"results_tr_Cerrado_MA_to_Amazon_RO_Amazon_PA_domain_adaptation_DR_FC_multi_discriminate_target_True_wrmp_1_Amazon_RO_skipconn_True/\",\n",
    "                        \"checkpoints\": \"checkpoint_tr_Cerrado_MA_to_Amazon_RO_Amazon_PA_domain_adaptation_DR_FC_multi_discriminate_target_True_wrmp_1_Amazon_RO_Amazon_PA_skipconn_True/\",\n",
    "                        \"labels\": SharedParameters.formatted_multi_target_label(\n",
    "                            \"MA\", \"RO\", \"PA\"\n",
    "                        )\n",
    "                        + \" \"\n",
    "                        + SharedParameters.EXPERIMENTS_LABELS[0],\n",
    "                    },\n",
    "                    {\n",
    "                        \"name\": f\"{SharedParameters.MULTI_TARGET_LABEL} {SharedParameters.EXPERIMENTS_LABELS[1]}\",\n",
    "                        \"results\": \"results_tr_Cerrado_MA_to_Amazon_RO_Amazon_PA_domain_adaptation_DR_FC_multi_discriminate_target_False_wrmp_1_Amazon_RO_skipconn_True/\",\n",
    "                        \"checkpoints\": \"checkpoint_tr_Cerrado_MA_to_Amazon_RO_Amazon_PA_domain_adaptation_DR_FC_multi_discriminate_target_False_wrmp_1_Amazon_RO_Amazon_PA_skipconn_True/\",\n",
    "                        \"labels\": SharedParameters.formatted_multi_target_label(\n",
    "                            \"MA\", \"RO\", \"PA\"\n",
    "                        )\n",
    "                        + \" \"\n",
    "                        + SharedParameters.EXPERIMENTS_LABELS[1],\n",
    "                    },\n",
    "                ],\n",
    "            },\n",
    "        ],\n",
    "    },\n",
    "    {\n",
    "        \"name\": \"PA\",\n",
    "        \"targets\": [\n",
    "            {\n",
    "                \"name\": \"MA\",\n",
    "                \"methods\": [\n",
    "                    {\n",
    "                        \"name\": SharedParameters.UPPER_BOUND_SOURCE_ONLY_LABEL,\n",
    "                        \"results\": \"results_tr_Cerrado_MA_classification_S_Cerrado_MA_T_Cerrado_MA/\",\n",
    "                        \"checkpoints\": \"checkpoint_tr_Cerrado_MA_classification_Cerrado_MA/\",\n",
    "                        \"labels\": SharedParameters.formatted_upper_bound_source_only_label(\n",
    "                            \"MA\"\n",
    "                        ),\n",
    "                    },\n",
    "                    {\n",
    "                        \"name\": SharedParameters.LOWER_BOUND_LABEL,\n",
    "                        \"results\": \"results_tr_Amazon_PA_classification_S_Amazon_PA_T_Cerrado_MA/\",\n",
    "                        \"checkpoints\": \"checkpoint_tr_Amazon_PA_classification_Amazon_PA/\",\n",
    "                        \"labels\": SharedParameters.formatted_lower_bound_label(\n",
    "                            \"PA\", \"MA\"\n",
    "                        ),\n",
    "                    },\n",
    "                    {\n",
    "                        \"name\": SharedParameters.SINGLE_TARGET_LABEL,\n",
    "                        \"results\": \"results_tr_Amazon_PA_to_Cerrado_MA_domain_adaptation_DR_single_Cerrado_MA_wrmp1_gamma_2.5_skipconn_True/\",\n",
    "                        \"checkpoints\": \"checkpoint_tr_Amazon_PA_to_Cerrado_MA_domain_adaptation_DR_single_Cerrado_MA_wrmp1_gamma_2.5_skipconn_True/\",\n",
    "                        \"labels\": SharedParameters.formatted_single_target_label(\n",
    "                            \"PA\", \"MA\"\n",
    "                        ),\n",
    "                    },\n",
    "                    {\n",
    "                        \"name\": 'f\"{SharedParameters.MULTI_TARGET_LABEL} {SharedParameters.EXPERIMENTS_LABELS[0]}\"',\n",
    "                        \"results\": \"results_tr_Amazon_PA_to_Amazon_RO_Cerrado_MA_domain_adaptation_DR_FC_multi_discriminate_target_True_wrmp_1_Cerrado_MA_skipconn_True/\",\n",
    "                        \"checkpoints\": \"checkpoint_tr_Amazon_PA_to_Amazon_RO_Cerrado_MA_domain_adaptation_DR_FC_multi_discriminate_target_True_wrmp_1_Amazon_RO_Cerrado_MA_skipconn_True/\",\n",
    "                        \"labels\": SharedParameters.formatted_multi_target_label(\n",
    "                            \"PA\", \"RO\", \"MA\"\n",
    "                        )\n",
    "                        + \" \"\n",
    "                        + SharedParameters.EXPERIMENTS_LABELS[0],\n",
    "                    },\n",
    "                    {\n",
    "                        \"name\": 'f\"{SharedParameters.MULTI_TARGET_LABEL} {SharedParameters.EXPERIMENTS_LABELS[1]}\"',\n",
    "                        \"results\": \"results_tr_Amazon_PA_to_Amazon_RO_Cerrado_MA_domain_adaptation_DR_FC_multi_discriminate_target_False_wrmp_1_Cerrado_MA_skipconn_True/\",\n",
    "                        \"checkpoints\": \"checkpoint_tr_Amazon_PA_to_Amazon_RO_Cerrado_MA_domain_adaptation_DR_FC_multi_discriminate_target_False_wrmp_1_Amazon_RO_Cerrado_MA_skipconn_True/\",\n",
    "                        \"labels\": SharedParameters.formatted_multi_target_label(\n",
    "                            \"PA\", \"RO\", \"MA\"\n",
    "                        )\n",
    "                        + \" \"\n",
    "                        + SharedParameters.EXPERIMENTS_LABELS[1],\n",
    "                    },\n",
    "                ],\n",
    "            },\n",
    "            {\n",
    "                \"name\": \"RO\",\n",
    "                \"methods\": [\n",
    "                    {\n",
    "                        \"name\": SharedParameters.UPPER_BOUND_SOURCE_ONLY_LABEL,\n",
    "                        \"results\": \"results_tr_Amazon_RO_classification_S_Amazon_RO_T_Amazon_RO/\",\n",
    "                        \"checkpoints\": \"checkpoint_tr_Amazon_RO_classification_Amazon_RO/\",\n",
    "                        \"labels\": SharedParameters.formatted_upper_bound_source_only_label(\n",
    "                            \"RO\"\n",
    "                        ),\n",
    "                    },\n",
    "                    {\n",
    "                        \"name\": SharedParameters.LOWER_BOUND_LABEL,\n",
    "                        \"results\": \"results_tr_Amazon_PA_classification_S_Amazon_PA_T_Amazon_RO/\",\n",
    "                        \"checkpoints\": \"checkpoint_tr_Amazon_PA_classification_Amazon_PA/\",\n",
    "                        \"labels\": SharedParameters.formatted_lower_bound_label(\n",
    "                            \"PA\", \"RO\"\n",
    "                        ),\n",
    "                    },\n",
    "                    {\n",
    "                        \"name\": SharedParameters.SINGLE_TARGET_LABEL,\n",
    "                        \"results\": \"results_tr_Amazon_PA_to_Amazon_RO_domain_adaptation_DR_single_Amazon_RO_wrmp1_gamma_2.5_skipconn_True/\",\n",
    "                        \"checkpoints\": \"checkpoint_tr_Amazon_PA_to_Amazon_RO_domain_adaptation_DR_single_Amazon_RO_wrmp1_gamma_2.5_skipconn_True/\",\n",
    "                        \"labels\": SharedParameters.formatted_single_target_label(\n",
    "                            \"PA\", \"RO\"\n",
    "                        ),\n",
    "                    },\n",
    "                    {\n",
    "                        \"name\": f\"{SharedParameters.MULTI_TARGET_LABEL} {SharedParameters.EXPERIMENTS_LABELS[0]}\",\n",
    "                        \"results\": \"results_tr_Amazon_PA_to_Amazon_RO_Cerrado_MA_domain_adaptation_DR_FC_multi_discriminate_target_True_wrmp_1_Amazon_RO_skipconn_True/\",\n",
    "                        \"checkpoints\": \"checkpoint_tr_Amazon_PA_to_Amazon_RO_Cerrado_MA_domain_adaptation_DR_FC_multi_discriminate_target_True_wrmp_1_Amazon_RO_Cerrado_MA_skipconn_True/\",\n",
    "                        \"labels\": SharedParameters.formatted_multi_target_label(\n",
    "                            \"PA\", \"RO\", \"MA\"\n",
    "                        )\n",
    "                        + \" \"\n",
    "                        + SharedParameters.EXPERIMENTS_LABELS[0],\n",
    "                    },\n",
    "                    {\n",
    "                        \"name\": f\"{SharedParameters.MULTI_TARGET_LABEL} {SharedParameters.EXPERIMENTS_LABELS[1]}\",\n",
    "                        \"results\": \"results_tr_Amazon_PA_to_Amazon_RO_Cerrado_MA_domain_adaptation_DR_FC_multi_discriminate_target_False_wrmp_1_Amazon_RO_skipconn_True/\",\n",
    "                        \"checkpoints\": \"checkpoint_tr_Amazon_PA_to_Amazon_RO_Cerrado_MA_domain_adaptation_DR_FC_multi_discriminate_target_False_wrmp_1_Amazon_RO_Cerrado_MA_skipconn_True/\",\n",
    "                        \"labels\": SharedParameters.formatted_multi_target_label(\n",
    "                            \"PA\", \"RO\", \"MA\"\n",
    "                        )\n",
    "                        + \" \"\n",
    "                        + SharedParameters.EXPERIMENTS_LABELS[1],\n",
    "                    },\n",
    "                ],\n",
    "            },\n",
    "        ],\n",
    "    },\n",
    "    {\n",
    "        \"name\": \"RO\",\n",
    "        \"targets\": [\n",
    "            {\n",
    "                \"name\": \"MA\",\n",
    "                \"methods\": [\n",
    "                    {\n",
    "                        \"name\": SharedParameters.UPPER_BOUND_SOURCE_ONLY_LABEL,\n",
    "                        \"results\": \"results_tr_Cerrado_MA_classification_S_Cerrado_MA_T_Cerrado_MA/\",\n",
    "                        \"checkpoints\": \"checkpoint_tr_Cerrado_MA_classification_Cerrado_MA/\",\n",
    "                        \"labels\": SharedParameters.formatted_upper_bound_source_only_label(\n",
    "                            \"MA\"\n",
    "                        ),\n",
    "                    },\n",
    "                    {\n",
    "                        \"name\": SharedParameters.LOWER_BOUND_LABEL,\n",
    "                        \"results\": \"results_tr_Amazon_RO_classification_S_Amazon_RO_T_Cerrado_MA/\",\n",
    "                        \"checkpoints\": \"checkpoint_tr_Amazon_RO_classification_Amazon_RO/\",\n",
    "                        \"labels\": SharedParameters.formatted_lower_bound_label(\n",
    "                            \"RO\", \"MA\"\n",
    "                        ),\n",
    "                    },\n",
    "                    {\n",
    "                        \"name\": SharedParameters.SINGLE_TARGET_LABEL,\n",
    "                        \"results\": \"results_tr_Amazon_RO_to_Cerrado_MA_domain_adaptation_DR_single_Cerrado_MA_wrmp1_gamma_2.5_skipconn_True/\",\n",
    "                        \"checkpoints\": \"checkpoint_tr_Amazon_RO_to_Cerrado_MA_domain_adaptation_DR_single_Cerrado_MA_gamma_2.5_skipconn_True/\",\n",
    "                        \"labels\": SharedParameters.formatted_single_target_label(\n",
    "                            \"RO\", \"MA\"\n",
    "                        ),\n",
    "                    },\n",
    "                    {\n",
    "                        \"name\": f\"{SharedParameters.MULTI_TARGET_LABEL} {SharedParameters.EXPERIMENTS_LABELS[0]}\",\n",
    "                        \"results\": \"results_tr_Amazon_RO_to_Amazon_PA_Cerrado_MA_domain_adaptation_DR_FC_multi_discriminate_target_True_wrmp_1_Cerrado_MA_skipconn_True/\",\n",
    "                        \"checkpoints\": \"checkpoint_tr_Amazon_RO_to_Amazon_PA_Cerrado_MA_domain_adaptation_DR_FC_multi_discriminate_target_True_wrmp_1_Amazon_PA_Cerrado_MA_skipconn_True/\",\n",
    "                        \"labels\": SharedParameters.formatted_multi_target_label(\n",
    "                            \"RO\", \"PA\", \"MA\"\n",
    "                        )\n",
    "                        + \" \"\n",
    "                        + SharedParameters.EXPERIMENTS_LABELS[0],\n",
    "                    },\n",
    "                    {\n",
    "                        \"name\": f\"{SharedParameters.MULTI_TARGET_LABEL} {SharedParameters.EXPERIMENTS_LABELS[1]}\",\n",
    "                        \"results\": \"results_tr_Amazon_RO_to_Amazon_PA_Cerrado_MA_domain_adaptation_DR_FC_multi_discriminate_target_False_wrmp_1_Cerrado_MA_skipconn_True/\",\n",
    "                        \"checkpoints\": \"checkpoint_tr_Amazon_RO_to_Amazon_PA_Cerrado_MA_domain_adaptation_DR_FC_multi_discriminate_target_False_wrmp_1_Amazon_PA_Cerrado_MA_skipconn_True/\",\n",
    "                        \"labels\": SharedParameters.formatted_multi_target_label(\n",
    "                            \"RO\", \"PA\", \"MA\"\n",
    "                        )\n",
    "                        + \" \"\n",
    "                        + SharedParameters.EXPERIMENTS_LABELS[1],\n",
    "                    },\n",
    "                ],\n",
    "            },\n",
    "            {\n",
    "                \"name\": \"PA\",\n",
    "                \"methods\": [\n",
    "                    {\n",
    "                        \"name\": SharedParameters.UPPER_BOUND_SOURCE_ONLY_LABEL,\n",
    "                        \"results\": \"results_tr_Amazon_PA_classification_S_Amazon_PA_T_Amazon_PA/\",\n",
    "                        \"checkpoints\": \"checkpoint_tr_Amazon_PA_classification_Amazon_PA/\",\n",
    "                        \"labels\": SharedParameters.formatted_upper_bound_source_only_label(\"PA\"),\n",
    "                    },\n",
    "                    {\n",
    "                        \"name\": SharedParameters.LOWER_BOUND_LABEL,\n",
    "                        \"results\": \"results_tr_Amazon_RO_classification_S_Amazon_RO_T_Amazon_PA/\",\n",
    "                        \"checkpoints\": \"checkpoint_tr_Amazon_RO_classification_Amazon_RO/\",\n",
    "                        \"labels\": SharedParameters.formatted_lower_bound_label(\"RO\",\"PA\"),\n",
    "                    },\n",
    "                    {\n",
    "                        \"name\": SharedParameters.SINGLE_TARGET_LABEL,\n",
    "                        \"results\": \"results_tr_Amazon_RO_to_Amazon_PA_domain_adaptation_DR_single_Amazon_PA_wrmp1_gamma_2.5_skipconn_True/\",\n",
    "                        \"checkpoints\": \"checkpoint_tr_Amazon_RO_to_Amazon_PA_domain_adaptation_DR_single_Amazon_PA_gamma_2.5_skipconn_True/\",\n",
    "                        \"labels\": SharedParameters.formatted_single_target_label(\"RO\",\"PA\"),\n",
    "                    },\n",
    "                    {\n",
    "                        \"name\": f\"{SharedParameters.MULTI_TARGET_LABEL} {SharedParameters.EXPERIMENTS_LABELS[0]}\",\n",
    "                        \"results\": \"results_tr_Amazon_RO_to_Amazon_PA_Cerrado_MA_domain_adaptation_DR_FC_multi_discriminate_target_True_wrmp_1_Amazon_PA_skipconn_True/\",\n",
    "                        \"checkpoints\": \"checkpoint_tr_Amazon_RO_to_Amazon_PA_Cerrado_MA_domain_adaptation_DR_FC_multi_discriminate_target_True_wrmp_1_Amazon_PA_Cerrado_MA_skipconn_True/\",\n",
    "                        \"labels\": SharedParameters.formatted_multi_target_label(\"RO\",\"PA\",\"MA\") + \" \" + SharedParameters.EXPERIMENTS_LABELS[0],\n",
    "                    },\n",
    "                    {\n",
    "                        \"name\": f\"{SharedParameters.MULTI_TARGET_LABEL} {SharedParameters.EXPERIMENTS_LABELS[1]}\",\n",
    "                        \"results\": \"results_tr_Amazon_RO_to_Amazon_PA_Cerrado_MA_domain_adaptation_DR_FC_multi_discriminate_target_False_wrmp_1_Amazon_PA_skipconn_True/\",\n",
    "                        \"checkpoints\": \"checkpoint_tr_Amazon_RO_to_Amazon_PA_Cerrado_MA_domain_adaptation_DR_FC_multi_discriminate_target_False_wrmp_1_Amazon_PA_Cerrado_MA_skipconn_True/\",\n",
    "                        \"labels\": SharedParameters.formatted_multi_target_label(\"RO\",\"PA\",\"MA\") + \" \" + SharedParameters.EXPERIMENTS_LABELS[1],\n",
    "                    },\n",
    "                ],\n",
    "            },\n",
    "        ],\n",
    "    },\n",
    "]"
   ]
  },
  {
   "cell_type": "code",
   "execution_count": 11,
   "metadata": {},
   "outputs": [
    {
     "name": "stdout",
     "output_type": "stream",
     "text": [
      "['Train(Y)|Test(Y)\\nTraining on target', 'Train(X)|Test(Y)]\\nSource only training', 'Train X |Test(Y → X)\\nDA single-target', 'Train X |Test(Y1,Y2 → X)\\nDA multi-target 3 neurons', 'Train X |Test(Y1,Y2 → X)\\nDA multi-target 2 neurons']\n"
     ]
    }
   ],
   "source": [
    "methods_names = [method[\"name\"] for method in sources[0][\"targets\"][0][\"methods\"]]\n",
    "print(methods_names)"
   ]
  },
  {
   "cell_type": "code",
   "execution_count": 12,
   "metadata": {},
   "outputs": [
    {
     "name": "stdout",
     "output_type": "stream",
     "text": [
      "['MA', 'PA', 'RO']\n"
     ]
    }
   ],
   "source": [
    "source_names = [source[\"name\"] for source in sources]\n",
    "print(source_names)\n"
   ]
  },
  {
   "cell_type": "code",
   "execution_count": 13,
   "metadata": {},
   "outputs": [
    {
     "name": "stdout",
     "output_type": "stream",
     "text": [
      "['PA', 'RO', 'MA', 'RO', 'MA', 'PA']\n"
     ]
    }
   ],
   "source": [
    "target_names = [target[\"name\"] for source in sources for target in source[\"targets\"]]\n",
    "print(target_names)\n"
   ]
  },
  {
   "cell_type": "code",
   "execution_count": 4,
   "metadata": {},
   "outputs": [
    {
     "name": "stdout",
     "output_type": "stream",
     "text": [
      "Source: MA\n",
      "  Target: PA\n",
      "    Method: Train(Y)|Test(Y)\n",
      "Training on target\n",
      "      Results: results_tr_Amazon_PA_classification_S_Amazon_PA_T_Amazon_PA/\n",
      "      Checkpoints: checkpoint_tr_Amazon_PA_classification_Amazon_PA/\n",
      "      Labels: Train(PA)|Test(PA)\n",
      "Training on target\n",
      "    Method: Train(X)|Test(Y)]\n",
      "Source only training\n",
      "      Results: results_tr_Cerrado_MA_classification_S_Cerrado_MA_T_Amazon_PA/\n",
      "      Checkpoints: checkpoint_tr_Cerrado_MA_classification_Cerrado_MA/\n",
      "      Labels: Train(MA)|Test(PA)]\n",
      "Source only training\n",
      "    Method: Train X |Test(Y → X)\n",
      "DA single-target\n",
      "      Results: results_tr_Cerrado_MA_to_Amazon_PA_domain_adaptation_DR_single_Amazon_PA_wrmp1_gamma_2.5_skipconn_True/\n",
      "      Checkpoints: checkpoint_tr_Cerrado_MA_to_Amazon_PA_domain_adaptation_DR_single_Amazon_PA_gamma_2.5_skipconn_True/\n",
      "      Labels: Train MA |Test(PA → MA)\n",
      "DA Single-Target\n",
      "    Method: Train X |Test(Y1,Y2 → X)\n",
      "DA multi-target 3 neurons\n",
      "      Results: results_tr_Cerrado_MA_to_Amazon_RO_Amazon_PA_domain_adaptation_DR_FC_multi_discriminate_target_True_wrmp_1_Amazon_PA_skipconn_True/\n",
      "      Checkpoints: checkpoint_tr_Cerrado_MA_to_Amazon_RO_Amazon_PA_domain_adaptation_DR_FC_multi_discriminate_target_True_wrmp_1_Amazon_RO_Amazon_PA_skipconn_True/\n",
      "      Labels: Train MA |Test(RO,PA → MA)\n",
      "DA Multi-Target 3 neurons\n",
      "    Method: Train X |Test(Y1,Y2 → X)\n",
      "DA multi-target 2 neurons\n",
      "      Results: results_tr_Cerrado_MA_to_Amazon_RO_Amazon_PA_domain_adaptation_DR_FC_multi_discriminate_target_False_wrmp_1_Amazon_PA_skipconn_True/\n",
      "      Checkpoints: checkpoint_tr_Cerrado_MA_to_Amazon_RO_Amazon_PA_domain_adaptation_DR_FC_multi_discriminate_target_False_wrmp_1_Amazon_RO_Amazon_PA_skipconn_True/\n",
      "      Labels: Train MA |Test(RO,PA → MA)\n",
      "DA Multi-Target 2 neurons\n",
      "  Target: RO\n",
      "    Method: Train(Y)|Test(Y)\n",
      "Training on target\n",
      "      Results: results_tr_Amazon_RO_classification_S_Amazon_RO_T_Amazon_RO/\n",
      "      Checkpoints: checkpoint_tr_Amazon_RO_classification_Amazon_RO/\n",
      "      Labels: Train(RO)|Test(RO)\n",
      "Training on target\n",
      "    Method: Train(X)|Test(Y)]\n",
      "Source only training\n",
      "      Results: results_tr_Cerrado_MA_classification_S_Cerrado_MA_T_Amazon_RO/\n",
      "      Checkpoints: checkpoint_tr_Cerrado_MA_classification_Cerrado_MA/\n",
      "      Labels: Train(MA)|Test(RO)]\n",
      "Source only training\n",
      "    Method: Train X |Test(Y → X)\n",
      "DA single-target\n",
      "      Results: results_tr_Cerrado_MA_to_Amazon_RO_domain_adaptation_DR_single_Amazon_RO_wrmp1_gamma_2.5_skipconn_True/\n",
      "      Checkpoints: checkpoint_tr_Cerrado_MA_to_Amazon_RO_domain_adaptation_DR_single_Amazon_RO_gamma_2.5_skipconn_True/\n",
      "      Labels: Train MA |Test(RO → MA)\n",
      "DA Single-Target\n",
      "    Method: Train X |Test(Y1,Y2 → X)\n",
      "DA multi-target 3 neurons\n",
      "      Results: results_tr_Cerrado_MA_to_Amazon_RO_Amazon_PA_domain_adaptation_DR_FC_multi_discriminate_target_True_wrmp_1_Amazon_RO_skipconn_True/\n",
      "      Checkpoints: checkpoint_tr_Cerrado_MA_to_Amazon_RO_Amazon_PA_domain_adaptation_DR_FC_multi_discriminate_target_True_wrmp_1_Amazon_RO_Amazon_PA_skipconn_True/\n",
      "      Labels: Train MA |Test(RO,PA → MA)\n",
      "DA Multi-Target 3 neurons\n",
      "    Method: Train X |Test(Y1,Y2 → X)\n",
      "DA multi-target 2 neurons\n",
      "      Results: results_tr_Cerrado_MA_to_Amazon_RO_Amazon_PA_domain_adaptation_DR_FC_multi_discriminate_target_False_wrmp_1_Amazon_RO_skipconn_True/\n",
      "      Checkpoints: checkpoint_tr_Cerrado_MA_to_Amazon_RO_Amazon_PA_domain_adaptation_DR_FC_multi_discriminate_target_False_wrmp_1_Amazon_RO_Amazon_PA_skipconn_True/\n",
      "      Labels: Train MA |Test(RO,PA → MA)\n",
      "DA Multi-Target 2 neurons\n",
      "Source: PA\n",
      "  Target: MA\n",
      "    Method: Train(Y)|Test(Y)\n",
      "Training on target\n",
      "      Results: results_tr_Cerrado_MA_classification_S_Cerrado_MA_T_Cerrado_MA/\n",
      "      Checkpoints: checkpoint_tr_Cerrado_MA_classification_Cerrado_MA/\n",
      "      Labels: Train(MA)|Test(MA)\n",
      "Training on target\n",
      "    Method: Train(X)|Test(Y)]\n",
      "Source only training\n",
      "      Results: results_tr_Amazon_PA_classification_S_Amazon_PA_T_Cerrado_MA/\n",
      "      Checkpoints: checkpoint_tr_Amazon_PA_classification_Amazon_PA/\n",
      "      Labels: Train(PA)|Test(MA)]\n",
      "Source only training\n",
      "    Method: Train X |Test(Y → X)\n",
      "DA single-target\n",
      "      Results: results_tr_Amazon_PA_to_Cerrado_MA_domain_adaptation_DR_single_Cerrado_MA_wrmp1_gamma_2.5_skipconn_True/\n",
      "      Checkpoints: checkpoint_tr_Amazon_PA_to_Cerrado_MA_domain_adaptation_DR_single_Cerrado_MA_wrmp1_gamma_2.5_skipconn_True/\n",
      "      Labels: Train PA |Test(MA → PA)\n",
      "DA Single-Target\n",
      "    Method: f\"{SharedParameters.MULTI_TARGET_LABEL} {SharedParameters.EXPERIMENTS_LABELS[0]}\"\n",
      "      Results: results_tr_Amazon_PA_to_Amazon_RO_Cerrado_MA_domain_adaptation_DR_FC_multi_discriminate_target_True_wrmp_1_Cerrado_MA_skipconn_True/\n",
      "      Checkpoints: checkpoint_tr_Amazon_PA_to_Amazon_RO_Cerrado_MA_domain_adaptation_DR_FC_multi_discriminate_target_True_wrmp_1_Amazon_RO_Cerrado_MA_skipconn_True/\n",
      "      Labels: Train PA |Test(RO,MA → PA)\n",
      "DA Multi-Target 3 neurons\n",
      "    Method: f\"{SharedParameters.MULTI_TARGET_LABEL} {SharedParameters.EXPERIMENTS_LABELS[1]}\"\n",
      "      Results: results_tr_Amazon_PA_to_Amazon_RO_Cerrado_MA_domain_adaptation_DR_FC_multi_discriminate_target_False_wrmp_1_Cerrado_MA_skipconn_True/\n",
      "      Checkpoints: checkpoint_tr_Amazon_PA_to_Amazon_RO_Cerrado_MA_domain_adaptation_DR_FC_multi_discriminate_target_False_wrmp_1_Amazon_RO_Cerrado_MA_skipconn_True/\n",
      "      Labels: Train PA |Test(RO,MA → PA)\n",
      "DA Multi-Target 2 neurons\n",
      "  Target: RO\n",
      "    Method: Train(Y)|Test(Y)\n",
      "Training on target\n",
      "      Results: results_tr_Amazon_RO_classification_S_Amazon_RO_T_Amazon_RO/\n",
      "      Checkpoints: checkpoint_tr_Amazon_RO_classification_Amazon_RO/\n",
      "      Labels: Train(RO)|Test(RO)\n",
      "Training on target\n",
      "    Method: Train(X)|Test(Y)]\n",
      "Source only training\n",
      "      Results: results_tr_Amazon_PA_classification_S_Amazon_PA_T_Amazon_RO/\n",
      "      Checkpoints: checkpoint_tr_Amazon_PA_classification_Amazon_PA/\n",
      "      Labels: Train(PA)|Test(RO)]\n",
      "Source only training\n",
      "    Method: Train X |Test(Y → X)\n",
      "DA single-target\n",
      "      Results: results_tr_Amazon_PA_to_Amazon_RO_domain_adaptation_DR_single_Amazon_RO_wrmp1_gamma_2.5_skipconn_True/\n",
      "      Checkpoints: checkpoint_tr_Amazon_PA_to_Amazon_RO_domain_adaptation_DR_single_Amazon_RO_wrmp1_gamma_2.5_skipconn_True/\n",
      "      Labels: Train PA |Test(RO → PA)\n",
      "DA Single-Target\n",
      "    Method: Train X |Test(Y1,Y2 → X)\n",
      "DA multi-target 3 neurons\n",
      "      Results: results_tr_Amazon_PA_to_Amazon_RO_Cerrado_MA_domain_adaptation_DR_FC_multi_discriminate_target_True_wrmp_1_Amazon_RO_skipconn_True/\n",
      "      Checkpoints: checkpoint_tr_Amazon_PA_to_Amazon_RO_Cerrado_MA_domain_adaptation_DR_FC_multi_discriminate_target_True_wrmp_1_Amazon_RO_Cerrado_MA_skipconn_True/\n",
      "      Labels: Train PA |Test(RO,MA → PA)\n",
      "DA Multi-Target 3 neurons\n",
      "    Method: Train X |Test(Y1,Y2 → X)\n",
      "DA multi-target 2 neurons\n",
      "      Results: results_tr_Amazon_PA_to_Amazon_RO_Cerrado_MA_domain_adaptation_DR_FC_multi_discriminate_target_False_wrmp_1_Amazon_RO_skipconn_True/\n",
      "      Checkpoints: checkpoint_tr_Amazon_PA_to_Amazon_RO_Cerrado_MA_domain_adaptation_DR_FC_multi_discriminate_target_False_wrmp_1_Amazon_RO_Cerrado_MA_skipconn_True/\n",
      "      Labels: Train PA |Test(RO,MA → PA)\n",
      "DA Multi-Target 2 neurons\n",
      "Source: RO\n",
      "  Target: MA\n",
      "    Method: Train(Y)|Test(Y)\n",
      "Training on target\n",
      "      Results: results_tr_Cerrado_MA_classification_S_Cerrado_MA_T_Cerrado_MA/\n",
      "      Checkpoints: checkpoint_tr_Cerrado_MA_classification_Cerrado_MA/\n",
      "      Labels: Train(MA)|Test(MA)\n",
      "Training on target\n",
      "    Method: Train(X)|Test(Y)]\n",
      "Source only training\n",
      "      Results: results_tr_Amazon_RO_classification_S_Amazon_RO_T_Cerrado_MA/\n",
      "      Checkpoints: checkpoint_tr_Amazon_RO_classification_Amazon_RO/\n",
      "      Labels: Train(RO)|Test(MA)]\n",
      "Source only training\n",
      "    Method: Train X |Test(Y → X)\n",
      "DA single-target\n",
      "      Results: results_tr_Amazon_RO_to_Cerrado_MA_domain_adaptation_DR_single_Cerrado_MA_wrmp1_gamma_2.5_skipconn_True/\n",
      "      Checkpoints: checkpoint_tr_Amazon_RO_to_Cerrado_MA_domain_adaptation_DR_single_Cerrado_MA_gamma_2.5_skipconn_True/\n",
      "      Labels: Train RO |Test(MA → RO)\n",
      "DA Single-Target\n",
      "    Method: Train X |Test(Y1,Y2 → X)\n",
      "DA multi-target 3 neurons\n",
      "      Results: results_tr_Amazon_RO_to_Amazon_PA_Cerrado_MA_domain_adaptation_DR_FC_multi_discriminate_target_True_wrmp_1_Cerrado_MA_skipconn_True/\n",
      "      Checkpoints: checkpoint_tr_Amazon_RO_to_Amazon_PA_Cerrado_MA_domain_adaptation_DR_FC_multi_discriminate_target_True_wrmp_1_Amazon_PA_Cerrado_MA_skipconn_True/\n",
      "      Labels: Train RO |Test(PA,MA → RO)\n",
      "DA Multi-Target 3 neurons\n",
      "    Method: Train X |Test(Y1,Y2 → X)\n",
      "DA multi-target 2 neurons\n",
      "      Results: results_tr_Amazon_RO_to_Amazon_PA_Cerrado_MA_domain_adaptation_DR_FC_multi_discriminate_target_False_wrmp_1_Cerrado_MA_skipconn_True/\n",
      "      Checkpoints: checkpoint_tr_Amazon_RO_to_Amazon_PA_Cerrado_MA_domain_adaptation_DR_FC_multi_discriminate_target_False_wrmp_1_Amazon_PA_Cerrado_MA_skipconn_True/\n",
      "      Labels: Train RO |Test(PA,MA → RO)\n",
      "DA Multi-Target 2 neurons\n",
      "  Target: PA\n",
      "    Method: Train(Y)|Test(Y)\n",
      "Training on target\n",
      "      Results: results_tr_Amazon_PA_classification_S_Amazon_PA_T_Amazon_PA/\n",
      "      Checkpoints: checkpoint_tr_Amazon_PA_classification_Amazon_PA/\n",
      "      Labels: Train(PA)|Test(PA)\n",
      "Training on target\n",
      "    Method: Train(X)|Test(Y)]\n",
      "Source only training\n",
      "      Results: results_tr_Amazon_RO_classification_S_Amazon_RO_T_Amazon_PA/\n",
      "      Checkpoints: checkpoint_tr_Amazon_RO_classification_Amazon_RO/\n",
      "      Labels: Train(RO)|Test(PA)]\n",
      "Source only training\n",
      "    Method: Train X |Test(Y → X)\n",
      "DA single-target\n",
      "      Results: results_tr_Amazon_RO_to_Amazon_PA_domain_adaptation_DR_single_Amazon_PA_wrmp1_gamma_2.5_skipconn_True/\n",
      "      Checkpoints: checkpoint_tr_Amazon_RO_to_Amazon_PA_domain_adaptation_DR_single_Amazon_PA_gamma_2.5_skipconn_True/\n",
      "      Labels: Train RO |Test(PA → RO)\n",
      "DA Single-Target\n",
      "    Method: Train X |Test(Y1,Y2 → X)\n",
      "DA multi-target 3 neurons\n",
      "      Results: results_tr_Amazon_RO_to_Amazon_PA_Cerrado_MA_domain_adaptation_DR_FC_multi_discriminate_target_True_wrmp_1_Amazon_PA_skipconn_True/\n",
      "      Checkpoints: checkpoint_tr_Amazon_RO_to_Amazon_PA_Cerrado_MA_domain_adaptation_DR_FC_multi_discriminate_target_True_wrmp_1_Amazon_PA_Cerrado_MA_skipconn_True/\n",
      "      Labels: Train RO |Test(PA,MA → RO)\n",
      "DA Multi-Target 3 neurons\n",
      "    Method: Train X |Test(Y1,Y2 → X)\n",
      "DA multi-target 2 neurons\n",
      "      Results: results_tr_Amazon_RO_to_Amazon_PA_Cerrado_MA_domain_adaptation_DR_FC_multi_discriminate_target_False_wrmp_1_Amazon_PA_skipconn_True/\n",
      "      Checkpoints: checkpoint_tr_Amazon_RO_to_Amazon_PA_Cerrado_MA_domain_adaptation_DR_FC_multi_discriminate_target_False_wrmp_1_Amazon_PA_Cerrado_MA_skipconn_True/\n",
      "      Labels: Train RO |Test(PA,MA → RO)\n",
      "DA Multi-Target 2 neurons\n"
     ]
    }
   ],
   "source": [
    "for source in sources:\n",
    "    print(f\"Source: {source['name']}\")\n",
    "    for target in source[\"targets\"]:\n",
    "        print(f\"  Target: {target['name']}\")\n",
    "        for method in target[\"methods\"]:\n",
    "            print(f\"    Method: {method['name']}\")\n",
    "            print(f\"      Results: {method['results']}\")\n",
    "            print(f\"      Checkpoints: {method['checkpoints']}\")\n",
    "            print(f\"      Labels: {method['labels']}\")"
   ]
  },
  {
   "cell_type": "code",
   "execution_count": 5,
   "metadata": {},
   "outputs": [
    {
     "name": "stdout",
     "output_type": "stream",
     "text": [
      "ALTER TABLE T_IMP_FNVMCOL RENAME COLUMN C012101 to C012011;\n",
      "ALTER TABLE T_IMP_FNVMCOL RENAME COLUMN C012102 to C012021;\n",
      "ALTER TABLE T_IMP_FNVMCOL RENAME COLUMN C012103 to C012031;\n",
      "ALTER TABLE T_IMP_FNVMCOL RENAME COLUMN C012104 to C012041;\n",
      "ALTER TABLE T_IMP_FNVMCOL RENAME COLUMN C012105 to C012051;\n",
      "ALTER TABLE T_IMP_FNVMCOL RENAME COLUMN C012106 to C012061;\n",
      "ALTER TABLE T_IMP_FNVMCOL RENAME COLUMN C012107 to C012071;\n",
      "ALTER TABLE T_IMP_FNVMCOL RENAME COLUMN C012108 to C012081;\n",
      "ALTER TABLE T_IMP_FNVMCOL RENAME COLUMN C012109 to C012091;\n",
      "ALTER TABLE T_IMP_FNVMCOL RENAME COLUMN C012110 to C012101;\n",
      "ALTER TABLE T_IMP_FNVMCOL RENAME COLUMN C012111 to C012111;\n",
      "ALTER TABLE T_IMP_FNVMCOL RENAME COLUMN C012112 to C012121;\n",
      "ALTER TABLE T_IMP_FNVMCOL RENAME COLUMN C012113 to C012131;\n",
      "ALTER TABLE T_IMP_FNVMCOL RENAME COLUMN C012114 to C012141;\n",
      "ALTER TABLE T_IMP_FNVMCOL RENAME COLUMN C012115 to C012151;\n",
      "ALTER TABLE T_IMP_FNVMCOL RENAME COLUMN C012116 to C012161;\n",
      "ALTER TABLE T_IMP_FNVMCOL RENAME COLUMN C012117 to C012171;\n",
      "ALTER TABLE T_IMP_FNVMCOL RENAME COLUMN C012118 to C012181;\n",
      "ALTER TABLE T_IMP_FNVMCOL RENAME COLUMN C012119 to C012191;\n",
      "ALTER TABLE T_IMP_FNVMCOL RENAME COLUMN C012120 to C012201;\n",
      "ALTER TABLE T_IMP_FNVMCOL RENAME COLUMN C012121 to C012211;\n",
      "ALTER TABLE T_IMP_FNVMCOL RENAME COLUMN C012122 to C012221;\n",
      "ALTER TABLE T_IMP_FNVMCOL RENAME COLUMN C012123 to C012231;\n",
      "ALTER TABLE T_IMP_FNVMCOL RENAME COLUMN C012124 to C012241;\n",
      "ALTER TABLE T_IMP_FNVMCOL RENAME COLUMN C012125 to C012251;\n",
      "ALTER TABLE T_IMP_FNVMCOL RENAME COLUMN C012126 to C012261;\n",
      "ALTER TABLE T_IMP_FNVMCOL RENAME COLUMN C012127 to C012271;\n",
      "ALTER TABLE T_IMP_FNVMCOL RENAME COLUMN C012128 to C012281;\n",
      "ALTER TABLE T_IMP_FNVMCOL RENAME COLUMN C012129 to C012291;\n",
      "ALTER TABLE T_IMP_FNVMCOL RENAME COLUMN C012130 to C012301;\n",
      "ALTER TABLE T_IMP_FNVMCOL RENAME COLUMN C013101 to C013011;\n",
      "ALTER TABLE T_IMP_FNVMCOL RENAME COLUMN C013102 to C013021;\n",
      "ALTER TABLE T_IMP_FNVMCOL RENAME COLUMN C013103 to C013031;\n",
      "ALTER TABLE T_IMP_FNVMCOL RENAME COLUMN C013104 to C013041;\n",
      "ALTER TABLE T_IMP_FNVMCOL RENAME COLUMN C013105 to C013051;\n",
      "ALTER TABLE T_IMP_FNVMCOL RENAME COLUMN C013106 to C013061;\n",
      "ALTER TABLE T_IMP_FNVMCOL RENAME COLUMN C013107 to C013071;\n",
      "ALTER TABLE T_IMP_FNVMCOL RENAME COLUMN C013108 to C013081;\n",
      "ALTER TABLE T_IMP_FNVMCOL RENAME COLUMN C013109 to C013091;\n",
      "ALTER TABLE T_IMP_FNVMCOL RENAME COLUMN C013110 to C013101;\n",
      "ALTER TABLE T_IMP_FNVMCOL RENAME COLUMN C013111 to C013111;\n",
      "ALTER TABLE T_IMP_FNVMCOL RENAME COLUMN C013112 to C013121;\n",
      "ALTER TABLE T_IMP_FNVMCOL RENAME COLUMN C013113 to C013131;\n",
      "ALTER TABLE T_IMP_FNVMCOL RENAME COLUMN C013114 to C013141;\n",
      "ALTER TABLE T_IMP_FNVMCOL RENAME COLUMN C013115 to C013151;\n",
      "ALTER TABLE T_IMP_FNVMCOL RENAME COLUMN C013116 to C013161;\n",
      "ALTER TABLE T_IMP_FNVMCOL RENAME COLUMN C013117 to C013171;\n",
      "ALTER TABLE T_IMP_FNVMCOL RENAME COLUMN C013118 to C013181;\n",
      "ALTER TABLE T_IMP_FNVMCOL RENAME COLUMN C013119 to C013191;\n",
      "ALTER TABLE T_IMP_FNVMCOL RENAME COLUMN C013120 to C013201;\n",
      "ALTER TABLE T_IMP_FNVMCOL RENAME COLUMN C013121 to C013211;\n",
      "ALTER TABLE T_IMP_FNVMCOL RENAME COLUMN C013122 to C013221;\n",
      "ALTER TABLE T_IMP_FNVMCOL RENAME COLUMN C013123 to C013231;\n",
      "ALTER TABLE T_IMP_FNVMCOL RENAME COLUMN C013124 to C013241;\n",
      "ALTER TABLE T_IMP_FNVMCOL RENAME COLUMN C013125 to C013251;\n",
      "ALTER TABLE T_IMP_FNVMCOL RENAME COLUMN C013126 to C013261;\n",
      "ALTER TABLE T_IMP_FNVMCOL RENAME COLUMN C013127 to C013271;\n",
      "ALTER TABLE T_IMP_FNVMCOL RENAME COLUMN C013128 to C013281;\n",
      "ALTER TABLE T_IMP_FNVMCOL RENAME COLUMN C013129 to C013291;\n",
      "ALTER TABLE T_IMP_FNVMCOL RENAME COLUMN C013130 to C013301;\n",
      "ALTER TABLE T_IMP_FNVMCOL RENAME COLUMN C013201 to C013012;\n",
      "ALTER TABLE T_IMP_FNVMCOL RENAME COLUMN C013202 to C013022;\n",
      "ALTER TABLE T_IMP_FNVMCOL RENAME COLUMN C013203 to C013032;\n",
      "ALTER TABLE T_IMP_FNVMCOL RENAME COLUMN C013204 to C013042;\n",
      "ALTER TABLE T_IMP_FNVMCOL RENAME COLUMN C013205 to C013052;\n",
      "ALTER TABLE T_IMP_FNVMCOL RENAME COLUMN C013206 to C013062;\n",
      "ALTER TABLE T_IMP_FNVMCOL RENAME COLUMN C013207 to C013072;\n",
      "ALTER TABLE T_IMP_FNVMCOL RENAME COLUMN C013208 to C013082;\n",
      "ALTER TABLE T_IMP_FNVMCOL RENAME COLUMN C013209 to C013092;\n",
      "ALTER TABLE T_IMP_FNVMCOL RENAME COLUMN C013210 to C013102;\n",
      "ALTER TABLE T_IMP_FNVMCOL RENAME COLUMN C013211 to C013112;\n",
      "ALTER TABLE T_IMP_FNVMCOL RENAME COLUMN C013212 to C013122;\n",
      "ALTER TABLE T_IMP_FNVMCOL RENAME COLUMN C013213 to C013132;\n",
      "ALTER TABLE T_IMP_FNVMCOL RENAME COLUMN C013214 to C013142;\n",
      "ALTER TABLE T_IMP_FNVMCOL RENAME COLUMN C013215 to C013152;\n",
      "ALTER TABLE T_IMP_FNVMCOL RENAME COLUMN C013216 to C013162;\n",
      "ALTER TABLE T_IMP_FNVMCOL RENAME COLUMN C013217 to C013172;\n",
      "ALTER TABLE T_IMP_FNVMCOL RENAME COLUMN C013218 to C013182;\n",
      "ALTER TABLE T_IMP_FNVMCOL RENAME COLUMN C013219 to C013192;\n",
      "ALTER TABLE T_IMP_FNVMCOL RENAME COLUMN C013220 to C013202;\n",
      "ALTER TABLE T_IMP_FNVMCOL RENAME COLUMN C013221 to C013212;\n",
      "ALTER TABLE T_IMP_FNVMCOL RENAME COLUMN C013222 to C013222;\n",
      "ALTER TABLE T_IMP_FNVMCOL RENAME COLUMN C013223 to C013232;\n",
      "ALTER TABLE T_IMP_FNVMCOL RENAME COLUMN C013224 to C013242;\n",
      "ALTER TABLE T_IMP_FNVMCOL RENAME COLUMN C013225 to C013252;\n",
      "ALTER TABLE T_IMP_FNVMCOL RENAME COLUMN C013226 to C013262;\n",
      "ALTER TABLE T_IMP_FNVMCOL RENAME COLUMN C013227 to C013272;\n",
      "ALTER TABLE T_IMP_FNVMCOL RENAME COLUMN C013228 to C013282;\n",
      "ALTER TABLE T_IMP_FNVMCOL RENAME COLUMN C013229 to C013292;\n",
      "ALTER TABLE T_IMP_FNVMCOL RENAME COLUMN C013230 to C013302;\n",
      "ALTER TABLE T_IMP_FNVMCOL RENAME COLUMN C017101 to C017011;\n",
      "ALTER TABLE T_IMP_FNVMCOL RENAME COLUMN C017102 to C017021;\n",
      "ALTER TABLE T_IMP_FNVMCOL RENAME COLUMN C017103 to C017031;\n",
      "ALTER TABLE T_IMP_FNVMCOL RENAME COLUMN C017104 to C017041;\n",
      "ALTER TABLE T_IMP_FNVMCOL RENAME COLUMN C017105 to C017051;\n",
      "ALTER TABLE T_IMP_FNVMCOL RENAME COLUMN C017106 to C017061;\n",
      "ALTER TABLE T_IMP_FNVMCOL RENAME COLUMN C017107 to C017071;\n",
      "ALTER TABLE T_IMP_FNVMCOL RENAME COLUMN C017108 to C017081;\n",
      "ALTER TABLE T_IMP_FNVMCOL RENAME COLUMN C017109 to C017091;\n",
      "ALTER TABLE T_IMP_FNVMCOL RENAME COLUMN C017110 to C017101;\n",
      "ALTER TABLE T_IMP_FNVMCOL RENAME COLUMN C017111 to C017111;\n",
      "ALTER TABLE T_IMP_FNVMCOL RENAME COLUMN C017112 to C017121;\n",
      "ALTER TABLE T_IMP_FNVMCOL RENAME COLUMN C017113 to C017131;\n",
      "ALTER TABLE T_IMP_FNVMCOL RENAME COLUMN C017114 to C017141;\n",
      "ALTER TABLE T_IMP_FNVMCOL RENAME COLUMN C017115 to C017151;\n",
      "ALTER TABLE T_IMP_FNVMCOL RENAME COLUMN C017116 to C017161;\n",
      "ALTER TABLE T_IMP_FNVMCOL RENAME COLUMN C017117 to C017171;\n",
      "ALTER TABLE T_IMP_FNVMCOL RENAME COLUMN C017118 to C017181;\n",
      "ALTER TABLE T_IMP_FNVMCOL RENAME COLUMN C017119 to C017191;\n",
      "ALTER TABLE T_IMP_FNVMCOL RENAME COLUMN C017120 to C017201;\n",
      "ALTER TABLE T_IMP_FNVMCOL RENAME COLUMN C017121 to C017211;\n",
      "ALTER TABLE T_IMP_FNVMCOL RENAME COLUMN C017122 to C017221;\n",
      "ALTER TABLE T_IMP_FNVMCOL RENAME COLUMN C017123 to C017231;\n",
      "ALTER TABLE T_IMP_FNVMCOL RENAME COLUMN C017124 to C017241;\n",
      "ALTER TABLE T_IMP_FNVMCOL RENAME COLUMN C017125 to C017251;\n",
      "ALTER TABLE T_IMP_FNVMCOL RENAME COLUMN C017126 to C017261;\n",
      "ALTER TABLE T_IMP_FNVMCOL RENAME COLUMN C017127 to C017271;\n",
      "ALTER TABLE T_IMP_FNVMCOL RENAME COLUMN C017128 to C017281;\n",
      "ALTER TABLE T_IMP_FNVMCOL RENAME COLUMN C017129 to C017291;\n",
      "ALTER TABLE T_IMP_FNVMCOL RENAME COLUMN C017130 to C017301;\n",
      "ALTER TABLE T_IMP_FNVMCOL RENAME COLUMN C017201 to C017012;\n",
      "ALTER TABLE T_IMP_FNVMCOL RENAME COLUMN C017202 to C017022;\n",
      "ALTER TABLE T_IMP_FNVMCOL RENAME COLUMN C017203 to C017032;\n",
      "ALTER TABLE T_IMP_FNVMCOL RENAME COLUMN C017204 to C017042;\n",
      "ALTER TABLE T_IMP_FNVMCOL RENAME COLUMN C017205 to C017052;\n",
      "ALTER TABLE T_IMP_FNVMCOL RENAME COLUMN C017206 to C017062;\n",
      "ALTER TABLE T_IMP_FNVMCOL RENAME COLUMN C017207 to C017072;\n",
      "ALTER TABLE T_IMP_FNVMCOL RENAME COLUMN C017208 to C017082;\n",
      "ALTER TABLE T_IMP_FNVMCOL RENAME COLUMN C017209 to C017092;\n",
      "ALTER TABLE T_IMP_FNVMCOL RENAME COLUMN C017210 to C017102;\n",
      "ALTER TABLE T_IMP_FNVMCOL RENAME COLUMN C017211 to C017112;\n",
      "ALTER TABLE T_IMP_FNVMCOL RENAME COLUMN C017212 to C017122;\n",
      "ALTER TABLE T_IMP_FNVMCOL RENAME COLUMN C017213 to C017132;\n",
      "ALTER TABLE T_IMP_FNVMCOL RENAME COLUMN C017214 to C017142;\n",
      "ALTER TABLE T_IMP_FNVMCOL RENAME COLUMN C017215 to C017152;\n",
      "ALTER TABLE T_IMP_FNVMCOL RENAME COLUMN C017216 to C017162;\n",
      "ALTER TABLE T_IMP_FNVMCOL RENAME COLUMN C017217 to C017172;\n",
      "ALTER TABLE T_IMP_FNVMCOL RENAME COLUMN C017218 to C017182;\n",
      "ALTER TABLE T_IMP_FNVMCOL RENAME COLUMN C017219 to C017192;\n",
      "ALTER TABLE T_IMP_FNVMCOL RENAME COLUMN C017220 to C017202;\n",
      "ALTER TABLE T_IMP_FNVMCOL RENAME COLUMN C017221 to C017212;\n",
      "ALTER TABLE T_IMP_FNVMCOL RENAME COLUMN C017222 to C017222;\n",
      "ALTER TABLE T_IMP_FNVMCOL RENAME COLUMN C017223 to C017232;\n",
      "ALTER TABLE T_IMP_FNVMCOL RENAME COLUMN C017224 to C017242;\n",
      "ALTER TABLE T_IMP_FNVMCOL RENAME COLUMN C017225 to C017252;\n",
      "ALTER TABLE T_IMP_FNVMCOL RENAME COLUMN C017226 to C017262;\n",
      "ALTER TABLE T_IMP_FNVMCOL RENAME COLUMN C017227 to C017272;\n",
      "ALTER TABLE T_IMP_FNVMCOL RENAME COLUMN C017228 to C017282;\n",
      "ALTER TABLE T_IMP_FNVMCOL RENAME COLUMN C017229 to C017292;\n",
      "ALTER TABLE T_IMP_FNVMCOL RENAME COLUMN C017230 to C017302;\n",
      "ALTER TABLE T_IMP_FNVMCOL RENAME COLUMN C017301 to C017013;\n",
      "ALTER TABLE T_IMP_FNVMCOL RENAME COLUMN C017302 to C017023;\n",
      "ALTER TABLE T_IMP_FNVMCOL RENAME COLUMN C017303 to C017033;\n",
      "ALTER TABLE T_IMP_FNVMCOL RENAME COLUMN C017304 to C017043;\n",
      "ALTER TABLE T_IMP_FNVMCOL RENAME COLUMN C017305 to C017053;\n",
      "ALTER TABLE T_IMP_FNVMCOL RENAME COLUMN C017306 to C017063;\n",
      "ALTER TABLE T_IMP_FNVMCOL RENAME COLUMN C017307 to C017073;\n",
      "ALTER TABLE T_IMP_FNVMCOL RENAME COLUMN C017308 to C017083;\n",
      "ALTER TABLE T_IMP_FNVMCOL RENAME COLUMN C017309 to C017093;\n",
      "ALTER TABLE T_IMP_FNVMCOL RENAME COLUMN C017310 to C017103;\n",
      "ALTER TABLE T_IMP_FNVMCOL RENAME COLUMN C017311 to C017113;\n",
      "ALTER TABLE T_IMP_FNVMCOL RENAME COLUMN C017312 to C017123;\n",
      "ALTER TABLE T_IMP_FNVMCOL RENAME COLUMN C017313 to C017133;\n",
      "ALTER TABLE T_IMP_FNVMCOL RENAME COLUMN C017314 to C017143;\n",
      "ALTER TABLE T_IMP_FNVMCOL RENAME COLUMN C017315 to C017153;\n",
      "ALTER TABLE T_IMP_FNVMCOL RENAME COLUMN C017316 to C017163;\n",
      "ALTER TABLE T_IMP_FNVMCOL RENAME COLUMN C017317 to C017173;\n",
      "ALTER TABLE T_IMP_FNVMCOL RENAME COLUMN C017318 to C017183;\n",
      "ALTER TABLE T_IMP_FNVMCOL RENAME COLUMN C017319 to C017193;\n",
      "ALTER TABLE T_IMP_FNVMCOL RENAME COLUMN C017320 to C017203;\n",
      "ALTER TABLE T_IMP_FNVMCOL RENAME COLUMN C017321 to C017213;\n",
      "ALTER TABLE T_IMP_FNVMCOL RENAME COLUMN C017322 to C017223;\n",
      "ALTER TABLE T_IMP_FNVMCOL RENAME COLUMN C017323 to C017233;\n",
      "ALTER TABLE T_IMP_FNVMCOL RENAME COLUMN C017324 to C017243;\n",
      "ALTER TABLE T_IMP_FNVMCOL RENAME COLUMN C017325 to C017253;\n",
      "ALTER TABLE T_IMP_FNVMCOL RENAME COLUMN C017326 to C017263;\n",
      "ALTER TABLE T_IMP_FNVMCOL RENAME COLUMN C017327 to C017273;\n",
      "ALTER TABLE T_IMP_FNVMCOL RENAME COLUMN C017328 to C017283;\n",
      "ALTER TABLE T_IMP_FNVMCOL RENAME COLUMN C017329 to C017293;\n",
      "ALTER TABLE T_IMP_FNVMCOL RENAME COLUMN C017330 to C017303;\n",
      "ALTER TABLE T_IMP_FNVMCOL RENAME COLUMN C017a101 to C017a011;\n",
      "ALTER TABLE T_IMP_FNVMCOL RENAME COLUMN C017a102 to C017a021;\n",
      "ALTER TABLE T_IMP_FNVMCOL RENAME COLUMN C017a103 to C017a031;\n",
      "ALTER TABLE T_IMP_FNVMCOL RENAME COLUMN C017a104 to C017a041;\n",
      "ALTER TABLE T_IMP_FNVMCOL RENAME COLUMN C017a105 to C017a051;\n",
      "ALTER TABLE T_IMP_FNVMCOL RENAME COLUMN C017a106 to C017a061;\n",
      "ALTER TABLE T_IMP_FNVMCOL RENAME COLUMN C017a107 to C017a071;\n",
      "ALTER TABLE T_IMP_FNVMCOL RENAME COLUMN C017a108 to C017a081;\n",
      "ALTER TABLE T_IMP_FNVMCOL RENAME COLUMN C017a109 to C017a091;\n",
      "ALTER TABLE T_IMP_FNVMCOL RENAME COLUMN C017a110 to C017a101;\n",
      "ALTER TABLE T_IMP_FNVMCOL RENAME COLUMN C017a111 to C017a111;\n",
      "ALTER TABLE T_IMP_FNVMCOL RENAME COLUMN C017a112 to C017a121;\n",
      "ALTER TABLE T_IMP_FNVMCOL RENAME COLUMN C017a113 to C017a131;\n",
      "ALTER TABLE T_IMP_FNVMCOL RENAME COLUMN C017a114 to C017a141;\n",
      "ALTER TABLE T_IMP_FNVMCOL RENAME COLUMN C017a115 to C017a151;\n",
      "ALTER TABLE T_IMP_FNVMCOL RENAME COLUMN C017a116 to C017a161;\n",
      "ALTER TABLE T_IMP_FNVMCOL RENAME COLUMN C017a117 to C017a171;\n",
      "ALTER TABLE T_IMP_FNVMCOL RENAME COLUMN C017a118 to C017a181;\n",
      "ALTER TABLE T_IMP_FNVMCOL RENAME COLUMN C017a119 to C017a191;\n",
      "ALTER TABLE T_IMP_FNVMCOL RENAME COLUMN C017a120 to C017a201;\n",
      "ALTER TABLE T_IMP_FNVMCOL RENAME COLUMN C017a121 to C017a211;\n",
      "ALTER TABLE T_IMP_FNVMCOL RENAME COLUMN C017a122 to C017a221;\n",
      "ALTER TABLE T_IMP_FNVMCOL RENAME COLUMN C017a123 to C017a231;\n",
      "ALTER TABLE T_IMP_FNVMCOL RENAME COLUMN C017a124 to C017a241;\n",
      "ALTER TABLE T_IMP_FNVMCOL RENAME COLUMN C017a125 to C017a251;\n",
      "ALTER TABLE T_IMP_FNVMCOL RENAME COLUMN C017a126 to C017a261;\n",
      "ALTER TABLE T_IMP_FNVMCOL RENAME COLUMN C017a127 to C017a271;\n",
      "ALTER TABLE T_IMP_FNVMCOL RENAME COLUMN C017a128 to C017a281;\n",
      "ALTER TABLE T_IMP_FNVMCOL RENAME COLUMN C017a129 to C017a291;\n",
      "ALTER TABLE T_IMP_FNVMCOL RENAME COLUMN C017a130 to C017a301;\n",
      "ALTER TABLE T_IMP_FNVMCOL RENAME COLUMN C018101 to C018011;\n",
      "ALTER TABLE T_IMP_FNVMCOL RENAME COLUMN C018102 to C018021;\n",
      "ALTER TABLE T_IMP_FNVMCOL RENAME COLUMN C018103 to C018031;\n",
      "ALTER TABLE T_IMP_FNVMCOL RENAME COLUMN C018104 to C018041;\n",
      "ALTER TABLE T_IMP_FNVMCOL RENAME COLUMN C018105 to C018051;\n",
      "ALTER TABLE T_IMP_FNVMCOL RENAME COLUMN C018106 to C018061;\n",
      "ALTER TABLE T_IMP_FNVMCOL RENAME COLUMN C018107 to C018071;\n",
      "ALTER TABLE T_IMP_FNVMCOL RENAME COLUMN C018108 to C018081;\n",
      "ALTER TABLE T_IMP_FNVMCOL RENAME COLUMN C018109 to C018091;\n",
      "ALTER TABLE T_IMP_FNVMCOL RENAME COLUMN C018110 to C018101;\n",
      "ALTER TABLE T_IMP_FNVMCOL RENAME COLUMN C018111 to C018111;\n",
      "ALTER TABLE T_IMP_FNVMCOL RENAME COLUMN C018112 to C018121;\n",
      "ALTER TABLE T_IMP_FNVMCOL RENAME COLUMN C018113 to C018131;\n",
      "ALTER TABLE T_IMP_FNVMCOL RENAME COLUMN C018114 to C018141;\n",
      "ALTER TABLE T_IMP_FNVMCOL RENAME COLUMN C018115 to C018151;\n",
      "ALTER TABLE T_IMP_FNVMCOL RENAME COLUMN C018116 to C018161;\n",
      "ALTER TABLE T_IMP_FNVMCOL RENAME COLUMN C018117 to C018171;\n",
      "ALTER TABLE T_IMP_FNVMCOL RENAME COLUMN C018118 to C018181;\n",
      "ALTER TABLE T_IMP_FNVMCOL RENAME COLUMN C018119 to C018191;\n",
      "ALTER TABLE T_IMP_FNVMCOL RENAME COLUMN C018120 to C018201;\n",
      "ALTER TABLE T_IMP_FNVMCOL RENAME COLUMN C018121 to C018211;\n",
      "ALTER TABLE T_IMP_FNVMCOL RENAME COLUMN C018122 to C018221;\n",
      "ALTER TABLE T_IMP_FNVMCOL RENAME COLUMN C018123 to C018231;\n",
      "ALTER TABLE T_IMP_FNVMCOL RENAME COLUMN C018124 to C018241;\n",
      "ALTER TABLE T_IMP_FNVMCOL RENAME COLUMN C018125 to C018251;\n",
      "ALTER TABLE T_IMP_FNVMCOL RENAME COLUMN C018126 to C018261;\n",
      "ALTER TABLE T_IMP_FNVMCOL RENAME COLUMN C018127 to C018271;\n",
      "ALTER TABLE T_IMP_FNVMCOL RENAME COLUMN C018128 to C018281;\n",
      "ALTER TABLE T_IMP_FNVMCOL RENAME COLUMN C018129 to C018291;\n",
      "ALTER TABLE T_IMP_FNVMCOL RENAME COLUMN C018130 to C018301;\n",
      "ALTER TABLE T_IMP_FNVMCOL RENAME COLUMN C018201 to C018012;\n",
      "ALTER TABLE T_IMP_FNVMCOL RENAME COLUMN C018202 to C018022;\n",
      "ALTER TABLE T_IMP_FNVMCOL RENAME COLUMN C018203 to C018032;\n",
      "ALTER TABLE T_IMP_FNVMCOL RENAME COLUMN C018204 to C018042;\n",
      "ALTER TABLE T_IMP_FNVMCOL RENAME COLUMN C018205 to C018052;\n",
      "ALTER TABLE T_IMP_FNVMCOL RENAME COLUMN C018206 to C018062;\n",
      "ALTER TABLE T_IMP_FNVMCOL RENAME COLUMN C018207 to C018072;\n",
      "ALTER TABLE T_IMP_FNVMCOL RENAME COLUMN C018208 to C018082;\n",
      "ALTER TABLE T_IMP_FNVMCOL RENAME COLUMN C018209 to C018092;\n",
      "ALTER TABLE T_IMP_FNVMCOL RENAME COLUMN C018210 to C018102;\n",
      "ALTER TABLE T_IMP_FNVMCOL RENAME COLUMN C018211 to C018112;\n",
      "ALTER TABLE T_IMP_FNVMCOL RENAME COLUMN C018212 to C018122;\n",
      "ALTER TABLE T_IMP_FNVMCOL RENAME COLUMN C018213 to C018132;\n",
      "ALTER TABLE T_IMP_FNVMCOL RENAME COLUMN C018214 to C018142;\n",
      "ALTER TABLE T_IMP_FNVMCOL RENAME COLUMN C018215 to C018152;\n",
      "ALTER TABLE T_IMP_FNVMCOL RENAME COLUMN C018216 to C018162;\n",
      "ALTER TABLE T_IMP_FNVMCOL RENAME COLUMN C018217 to C018172;\n",
      "ALTER TABLE T_IMP_FNVMCOL RENAME COLUMN C018218 to C018182;\n",
      "ALTER TABLE T_IMP_FNVMCOL RENAME COLUMN C018219 to C018192;\n",
      "ALTER TABLE T_IMP_FNVMCOL RENAME COLUMN C018220 to C018202;\n",
      "ALTER TABLE T_IMP_FNVMCOL RENAME COLUMN C018221 to C018212;\n",
      "ALTER TABLE T_IMP_FNVMCOL RENAME COLUMN C018222 to C018222;\n",
      "ALTER TABLE T_IMP_FNVMCOL RENAME COLUMN C018223 to C018232;\n",
      "ALTER TABLE T_IMP_FNVMCOL RENAME COLUMN C018224 to C018242;\n",
      "ALTER TABLE T_IMP_FNVMCOL RENAME COLUMN C018225 to C018252;\n",
      "ALTER TABLE T_IMP_FNVMCOL RENAME COLUMN C018226 to C018262;\n",
      "ALTER TABLE T_IMP_FNVMCOL RENAME COLUMN C018227 to C018272;\n",
      "ALTER TABLE T_IMP_FNVMCOL RENAME COLUMN C018228 to C018282;\n",
      "ALTER TABLE T_IMP_FNVMCOL RENAME COLUMN C018229 to C018292;\n",
      "ALTER TABLE T_IMP_FNVMCOL RENAME COLUMN C018230 to C018302;\n",
      "ALTER TABLE T_IMP_FNVMCOL RENAME COLUMN C019101 to C019011;\n",
      "ALTER TABLE T_IMP_FNVMCOL RENAME COLUMN C019102 to C019021;\n",
      "ALTER TABLE T_IMP_FNVMCOL RENAME COLUMN C019103 to C019031;\n",
      "ALTER TABLE T_IMP_FNVMCOL RENAME COLUMN C019104 to C019041;\n",
      "ALTER TABLE T_IMP_FNVMCOL RENAME COLUMN C019105 to C019051;\n",
      "ALTER TABLE T_IMP_FNVMCOL RENAME COLUMN C019106 to C019061;\n",
      "ALTER TABLE T_IMP_FNVMCOL RENAME COLUMN C019107 to C019071;\n",
      "ALTER TABLE T_IMP_FNVMCOL RENAME COLUMN C019108 to C019081;\n",
      "ALTER TABLE T_IMP_FNVMCOL RENAME COLUMN C019109 to C019091;\n",
      "ALTER TABLE T_IMP_FNVMCOL RENAME COLUMN C019110 to C019101;\n",
      "ALTER TABLE T_IMP_FNVMCOL RENAME COLUMN C019111 to C019111;\n",
      "ALTER TABLE T_IMP_FNVMCOL RENAME COLUMN C019112 to C019121;\n",
      "ALTER TABLE T_IMP_FNVMCOL RENAME COLUMN C019113 to C019131;\n",
      "ALTER TABLE T_IMP_FNVMCOL RENAME COLUMN C019114 to C019141;\n",
      "ALTER TABLE T_IMP_FNVMCOL RENAME COLUMN C019115 to C019151;\n",
      "ALTER TABLE T_IMP_FNVMCOL RENAME COLUMN C019116 to C019161;\n",
      "ALTER TABLE T_IMP_FNVMCOL RENAME COLUMN C019117 to C019171;\n",
      "ALTER TABLE T_IMP_FNVMCOL RENAME COLUMN C019118 to C019181;\n",
      "ALTER TABLE T_IMP_FNVMCOL RENAME COLUMN C019119 to C019191;\n",
      "ALTER TABLE T_IMP_FNVMCOL RENAME COLUMN C019120 to C019201;\n",
      "ALTER TABLE T_IMP_FNVMCOL RENAME COLUMN C019121 to C019211;\n",
      "ALTER TABLE T_IMP_FNVMCOL RENAME COLUMN C019122 to C019221;\n",
      "ALTER TABLE T_IMP_FNVMCOL RENAME COLUMN C019123 to C019231;\n",
      "ALTER TABLE T_IMP_FNVMCOL RENAME COLUMN C019124 to C019241;\n",
      "ALTER TABLE T_IMP_FNVMCOL RENAME COLUMN C019125 to C019251;\n",
      "ALTER TABLE T_IMP_FNVMCOL RENAME COLUMN C019126 to C019261;\n",
      "ALTER TABLE T_IMP_FNVMCOL RENAME COLUMN C019127 to C019271;\n",
      "ALTER TABLE T_IMP_FNVMCOL RENAME COLUMN C019128 to C019281;\n",
      "ALTER TABLE T_IMP_FNVMCOL RENAME COLUMN C019129 to C019291;\n",
      "ALTER TABLE T_IMP_FNVMCOL RENAME COLUMN C019130 to C019301;\n",
      "ALTER TABLE T_IMP_FNVMCOL RENAME COLUMN C019201 to C019012;\n",
      "ALTER TABLE T_IMP_FNVMCOL RENAME COLUMN C019202 to C019022;\n",
      "ALTER TABLE T_IMP_FNVMCOL RENAME COLUMN C019203 to C019032;\n",
      "ALTER TABLE T_IMP_FNVMCOL RENAME COLUMN C019204 to C019042;\n",
      "ALTER TABLE T_IMP_FNVMCOL RENAME COLUMN C019205 to C019052;\n",
      "ALTER TABLE T_IMP_FNVMCOL RENAME COLUMN C019206 to C019062;\n",
      "ALTER TABLE T_IMP_FNVMCOL RENAME COLUMN C019207 to C019072;\n",
      "ALTER TABLE T_IMP_FNVMCOL RENAME COLUMN C019208 to C019082;\n",
      "ALTER TABLE T_IMP_FNVMCOL RENAME COLUMN C019209 to C019092;\n",
      "ALTER TABLE T_IMP_FNVMCOL RENAME COLUMN C019210 to C019102;\n",
      "ALTER TABLE T_IMP_FNVMCOL RENAME COLUMN C019211 to C019112;\n",
      "ALTER TABLE T_IMP_FNVMCOL RENAME COLUMN C019212 to C019122;\n",
      "ALTER TABLE T_IMP_FNVMCOL RENAME COLUMN C019213 to C019132;\n",
      "ALTER TABLE T_IMP_FNVMCOL RENAME COLUMN C019214 to C019142;\n",
      "ALTER TABLE T_IMP_FNVMCOL RENAME COLUMN C019215 to C019152;\n",
      "ALTER TABLE T_IMP_FNVMCOL RENAME COLUMN C019216 to C019162;\n",
      "ALTER TABLE T_IMP_FNVMCOL RENAME COLUMN C019217 to C019172;\n",
      "ALTER TABLE T_IMP_FNVMCOL RENAME COLUMN C019218 to C019182;\n",
      "ALTER TABLE T_IMP_FNVMCOL RENAME COLUMN C019219 to C019192;\n",
      "ALTER TABLE T_IMP_FNVMCOL RENAME COLUMN C019220 to C019202;\n",
      "ALTER TABLE T_IMP_FNVMCOL RENAME COLUMN C019221 to C019212;\n",
      "ALTER TABLE T_IMP_FNVMCOL RENAME COLUMN C019222 to C019222;\n",
      "ALTER TABLE T_IMP_FNVMCOL RENAME COLUMN C019223 to C019232;\n",
      "ALTER TABLE T_IMP_FNVMCOL RENAME COLUMN C019224 to C019242;\n",
      "ALTER TABLE T_IMP_FNVMCOL RENAME COLUMN C019225 to C019252;\n",
      "ALTER TABLE T_IMP_FNVMCOL RENAME COLUMN C019226 to C019262;\n",
      "ALTER TABLE T_IMP_FNVMCOL RENAME COLUMN C019227 to C019272;\n",
      "ALTER TABLE T_IMP_FNVMCOL RENAME COLUMN C019228 to C019282;\n",
      "ALTER TABLE T_IMP_FNVMCOL RENAME COLUMN C019229 to C019292;\n",
      "ALTER TABLE T_IMP_FNVMCOL RENAME COLUMN C019230 to C019302;\n",
      "ALTER TABLE T_IMP_FNVMCOL RENAME COLUMN C019301 to C019013;\n",
      "ALTER TABLE T_IMP_FNVMCOL RENAME COLUMN C019302 to C019023;\n",
      "ALTER TABLE T_IMP_FNVMCOL RENAME COLUMN C019303 to C019033;\n",
      "ALTER TABLE T_IMP_FNVMCOL RENAME COLUMN C019304 to C019043;\n",
      "ALTER TABLE T_IMP_FNVMCOL RENAME COLUMN C019305 to C019053;\n",
      "ALTER TABLE T_IMP_FNVMCOL RENAME COLUMN C019306 to C019063;\n",
      "ALTER TABLE T_IMP_FNVMCOL RENAME COLUMN C019307 to C019073;\n",
      "ALTER TABLE T_IMP_FNVMCOL RENAME COLUMN C019308 to C019083;\n",
      "ALTER TABLE T_IMP_FNVMCOL RENAME COLUMN C019309 to C019093;\n",
      "ALTER TABLE T_IMP_FNVMCOL RENAME COLUMN C019310 to C019103;\n",
      "ALTER TABLE T_IMP_FNVMCOL RENAME COLUMN C019311 to C019113;\n",
      "ALTER TABLE T_IMP_FNVMCOL RENAME COLUMN C019312 to C019123;\n",
      "ALTER TABLE T_IMP_FNVMCOL RENAME COLUMN C019313 to C019133;\n",
      "ALTER TABLE T_IMP_FNVMCOL RENAME COLUMN C019314 to C019143;\n",
      "ALTER TABLE T_IMP_FNVMCOL RENAME COLUMN C019315 to C019153;\n",
      "ALTER TABLE T_IMP_FNVMCOL RENAME COLUMN C019316 to C019163;\n",
      "ALTER TABLE T_IMP_FNVMCOL RENAME COLUMN C019317 to C019173;\n",
      "ALTER TABLE T_IMP_FNVMCOL RENAME COLUMN C019318 to C019183;\n",
      "ALTER TABLE T_IMP_FNVMCOL RENAME COLUMN C019319 to C019193;\n",
      "ALTER TABLE T_IMP_FNVMCOL RENAME COLUMN C019320 to C019203;\n",
      "ALTER TABLE T_IMP_FNVMCOL RENAME COLUMN C019321 to C019213;\n",
      "ALTER TABLE T_IMP_FNVMCOL RENAME COLUMN C019322 to C019223;\n",
      "ALTER TABLE T_IMP_FNVMCOL RENAME COLUMN C019323 to C019233;\n",
      "ALTER TABLE T_IMP_FNVMCOL RENAME COLUMN C019324 to C019243;\n",
      "ALTER TABLE T_IMP_FNVMCOL RENAME COLUMN C019325 to C019253;\n",
      "ALTER TABLE T_IMP_FNVMCOL RENAME COLUMN C019326 to C019263;\n",
      "ALTER TABLE T_IMP_FNVMCOL RENAME COLUMN C019327 to C019273;\n",
      "ALTER TABLE T_IMP_FNVMCOL RENAME COLUMN C019328 to C019283;\n",
      "ALTER TABLE T_IMP_FNVMCOL RENAME COLUMN C019329 to C019293;\n",
      "ALTER TABLE T_IMP_FNVMCOL RENAME COLUMN C019330 to C019303;\n",
      "ALTER TABLE T_IMP_FNMMCOL RENAME COLUMN C021101 to C021011;\n",
      "ALTER TABLE T_IMP_FNMMCOL RENAME COLUMN C021102 to C021021;\n",
      "ALTER TABLE T_IMP_FNMMCOL RENAME COLUMN C021103 to C021031;\n",
      "ALTER TABLE T_IMP_FNMMCOL RENAME COLUMN C021104 to C021041;\n",
      "ALTER TABLE T_IMP_FNMMCOL RENAME COLUMN C021105 to C021051;\n",
      "ALTER TABLE T_IMP_FNMMCOL RENAME COLUMN C021106 to C021061;\n",
      "ALTER TABLE T_IMP_FNMMCOL RENAME COLUMN C021107 to C021071;\n",
      "ALTER TABLE T_IMP_FNMMCOL RENAME COLUMN C021108 to C021081;\n",
      "ALTER TABLE T_IMP_FNMMCOL RENAME COLUMN C021109 to C021091;\n",
      "ALTER TABLE T_IMP_FNMMCOL RENAME COLUMN C021110 to C021101;\n",
      "ALTER TABLE T_IMP_FNMMCOL RENAME COLUMN C021111 to C021111;\n",
      "ALTER TABLE T_IMP_FNMMCOL RENAME COLUMN C021112 to C021121;\n",
      "ALTER TABLE T_IMP_FNMMCOL RENAME COLUMN C021113 to C021131;\n",
      "ALTER TABLE T_IMP_FNMMCOL RENAME COLUMN C021114 to C021141;\n",
      "ALTER TABLE T_IMP_FNMMCOL RENAME COLUMN C021115 to C021151;\n",
      "ALTER TABLE T_IMP_FNMMCOL RENAME COLUMN C021116 to C021161;\n",
      "ALTER TABLE T_IMP_FNMMCOL RENAME COLUMN C021117 to C021171;\n",
      "ALTER TABLE T_IMP_FNMMCOL RENAME COLUMN C021118 to C021181;\n",
      "ALTER TABLE T_IMP_FNMMCOL RENAME COLUMN C021119 to C021191;\n",
      "ALTER TABLE T_IMP_FNMMCOL RENAME COLUMN C021120 to C021201;\n",
      "ALTER TABLE T_IMP_FNMMCOL RENAME COLUMN C021121 to C021211;\n",
      "ALTER TABLE T_IMP_FNMMCOL RENAME COLUMN C021122 to C021221;\n",
      "ALTER TABLE T_IMP_FNMMCOL RENAME COLUMN C021123 to C021231;\n",
      "ALTER TABLE T_IMP_FNMMCOL RENAME COLUMN C021124 to C021241;\n",
      "ALTER TABLE T_IMP_FNMMCOL RENAME COLUMN C021125 to C021251;\n",
      "ALTER TABLE T_IMP_FNMMCOL RENAME COLUMN C021126 to C021261;\n",
      "ALTER TABLE T_IMP_FNMMCOL RENAME COLUMN C021127 to C021271;\n",
      "ALTER TABLE T_IMP_FNMMCOL RENAME COLUMN C021128 to C021281;\n",
      "ALTER TABLE T_IMP_FNMMCOL RENAME COLUMN C021129 to C021291;\n",
      "ALTER TABLE T_IMP_FNMMCOL RENAME COLUMN C021130 to C021301;\n",
      "ALTER TABLE T_IMP_FNMMCOL RENAME COLUMN C021a101 to C021a011;\n",
      "ALTER TABLE T_IMP_FNMMCOL RENAME COLUMN C021a102 to C021a021;\n",
      "ALTER TABLE T_IMP_FNMMCOL RENAME COLUMN C021a103 to C021a031;\n",
      "ALTER TABLE T_IMP_FNMMCOL RENAME COLUMN C021a104 to C021a041;\n",
      "ALTER TABLE T_IMP_FNMMCOL RENAME COLUMN C021a105 to C021a051;\n",
      "ALTER TABLE T_IMP_FNMMCOL RENAME COLUMN C021a106 to C021a061;\n",
      "ALTER TABLE T_IMP_FNMMCOL RENAME COLUMN C021a107 to C021a071;\n",
      "ALTER TABLE T_IMP_FNMMCOL RENAME COLUMN C021a108 to C021a081;\n",
      "ALTER TABLE T_IMP_FNMMCOL RENAME COLUMN C021a109 to C021a091;\n",
      "ALTER TABLE T_IMP_FNMMCOL RENAME COLUMN C021a110 to C021a101;\n",
      "ALTER TABLE T_IMP_FNMMCOL RENAME COLUMN C021a111 to C021a111;\n",
      "ALTER TABLE T_IMP_FNMMCOL RENAME COLUMN C021a112 to C021a121;\n",
      "ALTER TABLE T_IMP_FNMMCOL RENAME COLUMN C021a113 to C021a131;\n",
      "ALTER TABLE T_IMP_FNMMCOL RENAME COLUMN C021a114 to C021a141;\n",
      "ALTER TABLE T_IMP_FNMMCOL RENAME COLUMN C021a115 to C021a151;\n",
      "ALTER TABLE T_IMP_FNMMCOL RENAME COLUMN C021a116 to C021a161;\n",
      "ALTER TABLE T_IMP_FNMMCOL RENAME COLUMN C021a117 to C021a171;\n",
      "ALTER TABLE T_IMP_FNMMCOL RENAME COLUMN C021a118 to C021a181;\n",
      "ALTER TABLE T_IMP_FNMMCOL RENAME COLUMN C021a119 to C021a191;\n",
      "ALTER TABLE T_IMP_FNMMCOL RENAME COLUMN C021a120 to C021a201;\n",
      "ALTER TABLE T_IMP_FNMMCOL RENAME COLUMN C021a121 to C021a211;\n",
      "ALTER TABLE T_IMP_FNMMCOL RENAME COLUMN C021a122 to C021a221;\n",
      "ALTER TABLE T_IMP_FNMMCOL RENAME COLUMN C021a123 to C021a231;\n",
      "ALTER TABLE T_IMP_FNMMCOL RENAME COLUMN C021a124 to C021a241;\n",
      "ALTER TABLE T_IMP_FNMMCOL RENAME COLUMN C021a125 to C021a251;\n",
      "ALTER TABLE T_IMP_FNMMCOL RENAME COLUMN C021a126 to C021a261;\n",
      "ALTER TABLE T_IMP_FNMMCOL RENAME COLUMN C021a127 to C021a271;\n",
      "ALTER TABLE T_IMP_FNMMCOL RENAME COLUMN C021a128 to C021a281;\n",
      "ALTER TABLE T_IMP_FNMMCOL RENAME COLUMN C021a129 to C021a291;\n",
      "ALTER TABLE T_IMP_FNMMCOL RENAME COLUMN C021a130 to C021a301;\n",
      "ALTER TABLE T_IMP_FNMMCOL RENAME COLUMN C022101 to C022011;\n",
      "ALTER TABLE T_IMP_FNMMCOL RENAME COLUMN C022102 to C022021;\n",
      "ALTER TABLE T_IMP_FNMMCOL RENAME COLUMN C022103 to C022031;\n",
      "ALTER TABLE T_IMP_FNMMCOL RENAME COLUMN C022104 to C022041;\n",
      "ALTER TABLE T_IMP_FNMMCOL RENAME COLUMN C022105 to C022051;\n",
      "ALTER TABLE T_IMP_FNMMCOL RENAME COLUMN C022106 to C022061;\n",
      "ALTER TABLE T_IMP_FNMMCOL RENAME COLUMN C022107 to C022071;\n",
      "ALTER TABLE T_IMP_FNMMCOL RENAME COLUMN C022108 to C022081;\n",
      "ALTER TABLE T_IMP_FNMMCOL RENAME COLUMN C022109 to C022091;\n",
      "ALTER TABLE T_IMP_FNMMCOL RENAME COLUMN C022110 to C022101;\n",
      "ALTER TABLE T_IMP_FNMMCOL RENAME COLUMN C022111 to C022111;\n",
      "ALTER TABLE T_IMP_FNMMCOL RENAME COLUMN C022112 to C022121;\n",
      "ALTER TABLE T_IMP_FNMMCOL RENAME COLUMN C022113 to C022131;\n",
      "ALTER TABLE T_IMP_FNMMCOL RENAME COLUMN C022114 to C022141;\n",
      "ALTER TABLE T_IMP_FNMMCOL RENAME COLUMN C022115 to C022151;\n",
      "ALTER TABLE T_IMP_FNMMCOL RENAME COLUMN C022116 to C022161;\n",
      "ALTER TABLE T_IMP_FNMMCOL RENAME COLUMN C022117 to C022171;\n",
      "ALTER TABLE T_IMP_FNMMCOL RENAME COLUMN C022118 to C022181;\n",
      "ALTER TABLE T_IMP_FNMMCOL RENAME COLUMN C022119 to C022191;\n",
      "ALTER TABLE T_IMP_FNMMCOL RENAME COLUMN C022120 to C022201;\n",
      "ALTER TABLE T_IMP_FNMMCOL RENAME COLUMN C022121 to C022211;\n",
      "ALTER TABLE T_IMP_FNMMCOL RENAME COLUMN C022122 to C022221;\n",
      "ALTER TABLE T_IMP_FNMMCOL RENAME COLUMN C022123 to C022231;\n",
      "ALTER TABLE T_IMP_FNMMCOL RENAME COLUMN C022124 to C022241;\n",
      "ALTER TABLE T_IMP_FNMMCOL RENAME COLUMN C022125 to C022251;\n",
      "ALTER TABLE T_IMP_FNMMCOL RENAME COLUMN C022126 to C022261;\n",
      "ALTER TABLE T_IMP_FNMMCOL RENAME COLUMN C022127 to C022271;\n",
      "ALTER TABLE T_IMP_FNMMCOL RENAME COLUMN C022128 to C022281;\n",
      "ALTER TABLE T_IMP_FNMMCOL RENAME COLUMN C022129 to C022291;\n",
      "ALTER TABLE T_IMP_FNMMCOL RENAME COLUMN C022130 to C022301;\n",
      "ALTER TABLE T_IMP_FNMMCOL RENAME COLUMN C022201 to C022012;\n",
      "ALTER TABLE T_IMP_FNMMCOL RENAME COLUMN C022202 to C022022;\n",
      "ALTER TABLE T_IMP_FNMMCOL RENAME COLUMN C022203 to C022032;\n",
      "ALTER TABLE T_IMP_FNMMCOL RENAME COLUMN C022204 to C022042;\n",
      "ALTER TABLE T_IMP_FNMMCOL RENAME COLUMN C022205 to C022052;\n",
      "ALTER TABLE T_IMP_FNMMCOL RENAME COLUMN C022206 to C022062;\n",
      "ALTER TABLE T_IMP_FNMMCOL RENAME COLUMN C022207 to C022072;\n",
      "ALTER TABLE T_IMP_FNMMCOL RENAME COLUMN C022208 to C022082;\n",
      "ALTER TABLE T_IMP_FNMMCOL RENAME COLUMN C022209 to C022092;\n",
      "ALTER TABLE T_IMP_FNMMCOL RENAME COLUMN C022210 to C022102;\n",
      "ALTER TABLE T_IMP_FNMMCOL RENAME COLUMN C022211 to C022112;\n",
      "ALTER TABLE T_IMP_FNMMCOL RENAME COLUMN C022212 to C022122;\n",
      "ALTER TABLE T_IMP_FNMMCOL RENAME COLUMN C022213 to C022132;\n",
      "ALTER TABLE T_IMP_FNMMCOL RENAME COLUMN C022214 to C022142;\n",
      "ALTER TABLE T_IMP_FNMMCOL RENAME COLUMN C022215 to C022152;\n",
      "ALTER TABLE T_IMP_FNMMCOL RENAME COLUMN C022216 to C022162;\n",
      "ALTER TABLE T_IMP_FNMMCOL RENAME COLUMN C022217 to C022172;\n",
      "ALTER TABLE T_IMP_FNMMCOL RENAME COLUMN C022218 to C022182;\n",
      "ALTER TABLE T_IMP_FNMMCOL RENAME COLUMN C022219 to C022192;\n",
      "ALTER TABLE T_IMP_FNMMCOL RENAME COLUMN C022220 to C022202;\n",
      "ALTER TABLE T_IMP_FNMMCOL RENAME COLUMN C022221 to C022212;\n",
      "ALTER TABLE T_IMP_FNMMCOL RENAME COLUMN C022222 to C022222;\n",
      "ALTER TABLE T_IMP_FNMMCOL RENAME COLUMN C022223 to C022232;\n",
      "ALTER TABLE T_IMP_FNMMCOL RENAME COLUMN C022224 to C022242;\n",
      "ALTER TABLE T_IMP_FNMMCOL RENAME COLUMN C022225 to C022252;\n",
      "ALTER TABLE T_IMP_FNMMCOL RENAME COLUMN C022226 to C022262;\n",
      "ALTER TABLE T_IMP_FNMMCOL RENAME COLUMN C022227 to C022272;\n",
      "ALTER TABLE T_IMP_FNMMCOL RENAME COLUMN C022228 to C022282;\n",
      "ALTER TABLE T_IMP_FNMMCOL RENAME COLUMN C022229 to C022292;\n",
      "ALTER TABLE T_IMP_FNMMCOL RENAME COLUMN C022230 to C022302;\n",
      "ALTER TABLE T_IMP_FNMMCOL RENAME COLUMN C022301 to C022013;\n",
      "ALTER TABLE T_IMP_FNMMCOL RENAME COLUMN C022302 to C022023;\n",
      "ALTER TABLE T_IMP_FNMMCOL RENAME COLUMN C022303 to C022033;\n",
      "ALTER TABLE T_IMP_FNMMCOL RENAME COLUMN C022304 to C022043;\n",
      "ALTER TABLE T_IMP_FNMMCOL RENAME COLUMN C022305 to C022053;\n",
      "ALTER TABLE T_IMP_FNMMCOL RENAME COLUMN C022306 to C022063;\n",
      "ALTER TABLE T_IMP_FNMMCOL RENAME COLUMN C022307 to C022073;\n",
      "ALTER TABLE T_IMP_FNMMCOL RENAME COLUMN C022308 to C022083;\n",
      "ALTER TABLE T_IMP_FNMMCOL RENAME COLUMN C022309 to C022093;\n",
      "ALTER TABLE T_IMP_FNMMCOL RENAME COLUMN C022310 to C022103;\n",
      "ALTER TABLE T_IMP_FNMMCOL RENAME COLUMN C022311 to C022113;\n",
      "ALTER TABLE T_IMP_FNMMCOL RENAME COLUMN C022312 to C022123;\n",
      "ALTER TABLE T_IMP_FNMMCOL RENAME COLUMN C022313 to C022133;\n",
      "ALTER TABLE T_IMP_FNMMCOL RENAME COLUMN C022314 to C022143;\n",
      "ALTER TABLE T_IMP_FNMMCOL RENAME COLUMN C022315 to C022153;\n",
      "ALTER TABLE T_IMP_FNMMCOL RENAME COLUMN C022316 to C022163;\n",
      "ALTER TABLE T_IMP_FNMMCOL RENAME COLUMN C022317 to C022173;\n",
      "ALTER TABLE T_IMP_FNMMCOL RENAME COLUMN C022318 to C022183;\n",
      "ALTER TABLE T_IMP_FNMMCOL RENAME COLUMN C022319 to C022193;\n",
      "ALTER TABLE T_IMP_FNMMCOL RENAME COLUMN C022320 to C022203;\n",
      "ALTER TABLE T_IMP_FNMMCOL RENAME COLUMN C022321 to C022213;\n",
      "ALTER TABLE T_IMP_FNMMCOL RENAME COLUMN C022322 to C022223;\n",
      "ALTER TABLE T_IMP_FNMMCOL RENAME COLUMN C022323 to C022233;\n",
      "ALTER TABLE T_IMP_FNMMCOL RENAME COLUMN C022324 to C022243;\n",
      "ALTER TABLE T_IMP_FNMMCOL RENAME COLUMN C022325 to C022253;\n",
      "ALTER TABLE T_IMP_FNMMCOL RENAME COLUMN C022326 to C022263;\n",
      "ALTER TABLE T_IMP_FNMMCOL RENAME COLUMN C022327 to C022273;\n",
      "ALTER TABLE T_IMP_FNMMCOL RENAME COLUMN C022328 to C022283;\n",
      "ALTER TABLE T_IMP_FNMMCOL RENAME COLUMN C022329 to C022293;\n",
      "ALTER TABLE T_IMP_FNMMCOL RENAME COLUMN C022330 to C022303;\n",
      "ALTER TABLE T_IMP_FNVPCOL RENAME COLUMN I011101 to I011011;\n",
      "ALTER TABLE T_IMP_FNVPCOL RENAME COLUMN I011102 to I011021;\n",
      "ALTER TABLE T_IMP_FNVPCOL RENAME COLUMN I011103 to I011031;\n",
      "ALTER TABLE T_IMP_FNVPCOL RENAME COLUMN I011104 to I011041;\n",
      "ALTER TABLE T_IMP_FNVPCOL RENAME COLUMN I011105 to I011051;\n",
      "ALTER TABLE T_IMP_FNVPCOL RENAME COLUMN I011106 to I011061;\n",
      "ALTER TABLE T_IMP_FNVPCOL RENAME COLUMN I011107 to I011071;\n",
      "ALTER TABLE T_IMP_FNVPCOL RENAME COLUMN I011108 to I011081;\n",
      "ALTER TABLE T_IMP_FNVPCOL RENAME COLUMN I011109 to I011091;\n",
      "ALTER TABLE T_IMP_FNVPCOL RENAME COLUMN I011110 to I011101;\n",
      "ALTER TABLE T_IMP_FNVPCOL RENAME COLUMN I011111 to I011111;\n",
      "ALTER TABLE T_IMP_FNVPCOL RENAME COLUMN I011112 to I011121;\n",
      "ALTER TABLE T_IMP_FNVPCOL RENAME COLUMN I011113 to I011131;\n",
      "ALTER TABLE T_IMP_FNVPCOL RENAME COLUMN I011114 to I011141;\n",
      "ALTER TABLE T_IMP_FNVPCOL RENAME COLUMN I011115 to I011151;\n",
      "ALTER TABLE T_IMP_FNVPCOL RENAME COLUMN I011116 to I011161;\n",
      "ALTER TABLE T_IMP_FNVPCOL RENAME COLUMN I011117 to I011171;\n",
      "ALTER TABLE T_IMP_FNVPCOL RENAME COLUMN I011118 to I011181;\n",
      "ALTER TABLE T_IMP_FNVPCOL RENAME COLUMN I011119 to I011191;\n",
      "ALTER TABLE T_IMP_FNVPCOL RENAME COLUMN I011120 to I011201;\n",
      "ALTER TABLE T_IMP_FNVPCOL RENAME COLUMN I011121 to I011211;\n",
      "ALTER TABLE T_IMP_FNVPCOL RENAME COLUMN I011122 to I011221;\n",
      "ALTER TABLE T_IMP_FNVPCOL RENAME COLUMN I011123 to I011231;\n",
      "ALTER TABLE T_IMP_FNVPCOL RENAME COLUMN I011124 to I011241;\n",
      "ALTER TABLE T_IMP_FNVPCOL RENAME COLUMN I011125 to I011251;\n",
      "ALTER TABLE T_IMP_FNVPCOL RENAME COLUMN I011126 to I011261;\n",
      "ALTER TABLE T_IMP_FNVPCOL RENAME COLUMN I011127 to I011271;\n",
      "ALTER TABLE T_IMP_FNVPCOL RENAME COLUMN I011128 to I011281;\n",
      "ALTER TABLE T_IMP_FNVPCOL RENAME COLUMN I011129 to I011291;\n",
      "ALTER TABLE T_IMP_FNVPCOL RENAME COLUMN I011130 to I011301;\n",
      "ALTER TABLE T_IMP_FNVPCOL RENAME COLUMN I014101 to I014011;\n",
      "ALTER TABLE T_IMP_FNVPCOL RENAME COLUMN I014102 to I014021;\n",
      "ALTER TABLE T_IMP_FNVPCOL RENAME COLUMN I014103 to I014031;\n",
      "ALTER TABLE T_IMP_FNVPCOL RENAME COLUMN I014104 to I014041;\n",
      "ALTER TABLE T_IMP_FNVPCOL RENAME COLUMN I014105 to I014051;\n",
      "ALTER TABLE T_IMP_FNVPCOL RENAME COLUMN I014106 to I014061;\n",
      "ALTER TABLE T_IMP_FNVPCOL RENAME COLUMN I014107 to I014071;\n",
      "ALTER TABLE T_IMP_FNVPCOL RENAME COLUMN I014108 to I014081;\n",
      "ALTER TABLE T_IMP_FNVPCOL RENAME COLUMN I014109 to I014091;\n",
      "ALTER TABLE T_IMP_FNVPCOL RENAME COLUMN I014110 to I014101;\n",
      "ALTER TABLE T_IMP_FNVPCOL RENAME COLUMN I014111 to I014111;\n",
      "ALTER TABLE T_IMP_FNVPCOL RENAME COLUMN I014112 to I014121;\n",
      "ALTER TABLE T_IMP_FNVPCOL RENAME COLUMN I014113 to I014131;\n",
      "ALTER TABLE T_IMP_FNVPCOL RENAME COLUMN I014114 to I014141;\n",
      "ALTER TABLE T_IMP_FNVPCOL RENAME COLUMN I014115 to I014151;\n",
      "ALTER TABLE T_IMP_FNVPCOL RENAME COLUMN I014116 to I014161;\n",
      "ALTER TABLE T_IMP_FNVPCOL RENAME COLUMN I014117 to I014171;\n",
      "ALTER TABLE T_IMP_FNVPCOL RENAME COLUMN I014118 to I014181;\n",
      "ALTER TABLE T_IMP_FNVPCOL RENAME COLUMN I014119 to I014191;\n",
      "ALTER TABLE T_IMP_FNVPCOL RENAME COLUMN I014120 to I014201;\n",
      "ALTER TABLE T_IMP_FNVPCOL RENAME COLUMN I014121 to I014211;\n",
      "ALTER TABLE T_IMP_FNVPCOL RENAME COLUMN I014122 to I014221;\n",
      "ALTER TABLE T_IMP_FNVPCOL RENAME COLUMN I014123 to I014231;\n",
      "ALTER TABLE T_IMP_FNVPCOL RENAME COLUMN I014124 to I014241;\n",
      "ALTER TABLE T_IMP_FNVPCOL RENAME COLUMN I014125 to I014251;\n",
      "ALTER TABLE T_IMP_FNVPCOL RENAME COLUMN I014126 to I014261;\n",
      "ALTER TABLE T_IMP_FNVPCOL RENAME COLUMN I014127 to I014271;\n",
      "ALTER TABLE T_IMP_FNVPCOL RENAME COLUMN I014128 to I014281;\n",
      "ALTER TABLE T_IMP_FNVPCOL RENAME COLUMN I014129 to I014291;\n",
      "ALTER TABLE T_IMP_FNVPCOL RENAME COLUMN I014130 to I014301;\n",
      "ALTER TABLE T_IMP_FNVPCOL RENAME COLUMN I016101 to I016011;\n",
      "ALTER TABLE T_IMP_FNVPCOL RENAME COLUMN I016102 to I016021;\n",
      "ALTER TABLE T_IMP_FNVPCOL RENAME COLUMN I016103 to I016031;\n",
      "ALTER TABLE T_IMP_FNVPCOL RENAME COLUMN I016104 to I016041;\n",
      "ALTER TABLE T_IMP_FNVPCOL RENAME COLUMN I016105 to I016051;\n",
      "ALTER TABLE T_IMP_FNVPCOL RENAME COLUMN I016106 to I016061;\n",
      "ALTER TABLE T_IMP_FNVPCOL RENAME COLUMN I016107 to I016071;\n",
      "ALTER TABLE T_IMP_FNVPCOL RENAME COLUMN I016108 to I016081;\n",
      "ALTER TABLE T_IMP_FNVPCOL RENAME COLUMN I016109 to I016091;\n",
      "ALTER TABLE T_IMP_FNVPCOL RENAME COLUMN I016110 to I016101;\n",
      "ALTER TABLE T_IMP_FNVPCOL RENAME COLUMN I016111 to I016111;\n",
      "ALTER TABLE T_IMP_FNVPCOL RENAME COLUMN I016112 to I016121;\n",
      "ALTER TABLE T_IMP_FNVPCOL RENAME COLUMN I016113 to I016131;\n",
      "ALTER TABLE T_IMP_FNVPCOL RENAME COLUMN I016114 to I016141;\n",
      "ALTER TABLE T_IMP_FNVPCOL RENAME COLUMN I016115 to I016151;\n",
      "ALTER TABLE T_IMP_FNVPCOL RENAME COLUMN I016116 to I016161;\n",
      "ALTER TABLE T_IMP_FNVPCOL RENAME COLUMN I016117 to I016171;\n",
      "ALTER TABLE T_IMP_FNVPCOL RENAME COLUMN I016118 to I016181;\n",
      "ALTER TABLE T_IMP_FNVPCOL RENAME COLUMN I016119 to I016191;\n",
      "ALTER TABLE T_IMP_FNVPCOL RENAME COLUMN I016120 to I016201;\n",
      "ALTER TABLE T_IMP_FNVPCOL RENAME COLUMN I016121 to I016211;\n",
      "ALTER TABLE T_IMP_FNVPCOL RENAME COLUMN I016122 to I016221;\n",
      "ALTER TABLE T_IMP_FNVPCOL RENAME COLUMN I016123 to I016231;\n",
      "ALTER TABLE T_IMP_FNVPCOL RENAME COLUMN I016124 to I016241;\n",
      "ALTER TABLE T_IMP_FNVPCOL RENAME COLUMN I016125 to I016251;\n",
      "ALTER TABLE T_IMP_FNVPCOL RENAME COLUMN I016126 to I016261;\n",
      "ALTER TABLE T_IMP_FNVPCOL RENAME COLUMN I016127 to I016271;\n",
      "ALTER TABLE T_IMP_FNVPCOL RENAME COLUMN I016128 to I016281;\n",
      "ALTER TABLE T_IMP_FNVPCOL RENAME COLUMN I016129 to I016291;\n",
      "ALTER TABLE T_IMP_FNVPCOL RENAME COLUMN I016130 to I016301;\n",
      "ALTER TABLE T_IMP_FNVPCOL RENAME COLUMN I016201 to I016012;\n",
      "ALTER TABLE T_IMP_FNVPCOL RENAME COLUMN I016202 to I016022;\n",
      "ALTER TABLE T_IMP_FNVPCOL RENAME COLUMN I016203 to I016032;\n",
      "ALTER TABLE T_IMP_FNVPCOL RENAME COLUMN I016204 to I016042;\n",
      "ALTER TABLE T_IMP_FNVPCOL RENAME COLUMN I016205 to I016052;\n",
      "ALTER TABLE T_IMP_FNVPCOL RENAME COLUMN I016206 to I016062;\n",
      "ALTER TABLE T_IMP_FNVPCOL RENAME COLUMN I016207 to I016072;\n",
      "ALTER TABLE T_IMP_FNVPCOL RENAME COLUMN I016208 to I016082;\n",
      "ALTER TABLE T_IMP_FNVPCOL RENAME COLUMN I016209 to I016092;\n",
      "ALTER TABLE T_IMP_FNVPCOL RENAME COLUMN I016210 to I016102;\n",
      "ALTER TABLE T_IMP_FNVPCOL RENAME COLUMN I016211 to I016112;\n",
      "ALTER TABLE T_IMP_FNVPCOL RENAME COLUMN I016212 to I016122;\n",
      "ALTER TABLE T_IMP_FNVPCOL RENAME COLUMN I016213 to I016132;\n",
      "ALTER TABLE T_IMP_FNVPCOL RENAME COLUMN I016214 to I016142;\n",
      "ALTER TABLE T_IMP_FNVPCOL RENAME COLUMN I016215 to I016152;\n",
      "ALTER TABLE T_IMP_FNVPCOL RENAME COLUMN I016216 to I016162;\n",
      "ALTER TABLE T_IMP_FNVPCOL RENAME COLUMN I016217 to I016172;\n",
      "ALTER TABLE T_IMP_FNVPCOL RENAME COLUMN I016218 to I016182;\n",
      "ALTER TABLE T_IMP_FNVPCOL RENAME COLUMN I016219 to I016192;\n",
      "ALTER TABLE T_IMP_FNVPCOL RENAME COLUMN I016220 to I016202;\n",
      "ALTER TABLE T_IMP_FNVPCOL RENAME COLUMN I016221 to I016212;\n",
      "ALTER TABLE T_IMP_FNVPCOL RENAME COLUMN I016222 to I016222;\n",
      "ALTER TABLE T_IMP_FNVPCOL RENAME COLUMN I016223 to I016232;\n",
      "ALTER TABLE T_IMP_FNVPCOL RENAME COLUMN I016224 to I016242;\n",
      "ALTER TABLE T_IMP_FNVPCOL RENAME COLUMN I016225 to I016252;\n",
      "ALTER TABLE T_IMP_FNVPCOL RENAME COLUMN I016226 to I016262;\n",
      "ALTER TABLE T_IMP_FNVPCOL RENAME COLUMN I016227 to I016272;\n",
      "ALTER TABLE T_IMP_FNVPCOL RENAME COLUMN I016228 to I016282;\n",
      "ALTER TABLE T_IMP_FNVPCOL RENAME COLUMN I016229 to I016292;\n",
      "ALTER TABLE T_IMP_FNVPCOL RENAME COLUMN I016230 to I016302;\n",
      "ALTER TABLE T_IMP_FNVPCOL RENAME COLUMN I016301 to I016013;\n",
      "ALTER TABLE T_IMP_FNVPCOL RENAME COLUMN I016302 to I016023;\n",
      "ALTER TABLE T_IMP_FNVPCOL RENAME COLUMN I016303 to I016033;\n",
      "ALTER TABLE T_IMP_FNVPCOL RENAME COLUMN I016304 to I016043;\n",
      "ALTER TABLE T_IMP_FNVPCOL RENAME COLUMN I016305 to I016053;\n",
      "ALTER TABLE T_IMP_FNVPCOL RENAME COLUMN I016306 to I016063;\n",
      "ALTER TABLE T_IMP_FNVPCOL RENAME COLUMN I016307 to I016073;\n",
      "ALTER TABLE T_IMP_FNVPCOL RENAME COLUMN I016308 to I016083;\n",
      "ALTER TABLE T_IMP_FNVPCOL RENAME COLUMN I016309 to I016093;\n",
      "ALTER TABLE T_IMP_FNVPCOL RENAME COLUMN I016310 to I016103;\n",
      "ALTER TABLE T_IMP_FNVPCOL RENAME COLUMN I016311 to I016113;\n",
      "ALTER TABLE T_IMP_FNVPCOL RENAME COLUMN I016312 to I016123;\n",
      "ALTER TABLE T_IMP_FNVPCOL RENAME COLUMN I016313 to I016133;\n",
      "ALTER TABLE T_IMP_FNVPCOL RENAME COLUMN I016314 to I016143;\n",
      "ALTER TABLE T_IMP_FNVPCOL RENAME COLUMN I016315 to I016153;\n",
      "ALTER TABLE T_IMP_FNVPCOL RENAME COLUMN I016316 to I016163;\n",
      "ALTER TABLE T_IMP_FNVPCOL RENAME COLUMN I016317 to I016173;\n",
      "ALTER TABLE T_IMP_FNVPCOL RENAME COLUMN I016318 to I016183;\n",
      "ALTER TABLE T_IMP_FNVPCOL RENAME COLUMN I016319 to I016193;\n",
      "ALTER TABLE T_IMP_FNVPCOL RENAME COLUMN I016320 to I016203;\n",
      "ALTER TABLE T_IMP_FNVPCOL RENAME COLUMN I016321 to I016213;\n",
      "ALTER TABLE T_IMP_FNVPCOL RENAME COLUMN I016322 to I016223;\n",
      "ALTER TABLE T_IMP_FNVPCOL RENAME COLUMN I016323 to I016233;\n",
      "ALTER TABLE T_IMP_FNVPCOL RENAME COLUMN I016324 to I016243;\n",
      "ALTER TABLE T_IMP_FNVPCOL RENAME COLUMN I016325 to I016253;\n",
      "ALTER TABLE T_IMP_FNVPCOL RENAME COLUMN I016326 to I016263;\n",
      "ALTER TABLE T_IMP_FNVPCOL RENAME COLUMN I016327 to I016273;\n",
      "ALTER TABLE T_IMP_FNVPCOL RENAME COLUMN I016328 to I016283;\n",
      "ALTER TABLE T_IMP_FNVPCOL RENAME COLUMN I016329 to I016293;\n",
      "ALTER TABLE T_IMP_FNVPCOL RENAME COLUMN I016330 to I016303;\n",
      "ALTER TABLE T_IMP_FNVPCOL RENAME COLUMN I016a101 to I016a011;\n",
      "ALTER TABLE T_IMP_FNVPCOL RENAME COLUMN I016a102 to I016a021;\n",
      "ALTER TABLE T_IMP_FNVPCOL RENAME COLUMN I016a103 to I016a031;\n",
      "ALTER TABLE T_IMP_FNVPCOL RENAME COLUMN I016a104 to I016a041;\n",
      "ALTER TABLE T_IMP_FNVPCOL RENAME COLUMN I016a105 to I016a051;\n",
      "ALTER TABLE T_IMP_FNVPCOL RENAME COLUMN I016a106 to I016a061;\n",
      "ALTER TABLE T_IMP_FNVPCOL RENAME COLUMN I016a107 to I016a071;\n",
      "ALTER TABLE T_IMP_FNVPCOL RENAME COLUMN I016a108 to I016a081;\n",
      "ALTER TABLE T_IMP_FNVPCOL RENAME COLUMN I016a109 to I016a091;\n",
      "ALTER TABLE T_IMP_FNVPCOL RENAME COLUMN I016a110 to I016a101;\n",
      "ALTER TABLE T_IMP_FNVPCOL RENAME COLUMN I016a111 to I016a111;\n",
      "ALTER TABLE T_IMP_FNVPCOL RENAME COLUMN I016a112 to I016a121;\n",
      "ALTER TABLE T_IMP_FNVPCOL RENAME COLUMN I016a113 to I016a131;\n",
      "ALTER TABLE T_IMP_FNVPCOL RENAME COLUMN I016a114 to I016a141;\n",
      "ALTER TABLE T_IMP_FNVPCOL RENAME COLUMN I016a115 to I016a151;\n",
      "ALTER TABLE T_IMP_FNVPCOL RENAME COLUMN I016a116 to I016a161;\n",
      "ALTER TABLE T_IMP_FNVPCOL RENAME COLUMN I016a117 to I016a171;\n",
      "ALTER TABLE T_IMP_FNVPCOL RENAME COLUMN I016a118 to I016a181;\n",
      "ALTER TABLE T_IMP_FNVPCOL RENAME COLUMN I016a119 to I016a191;\n",
      "ALTER TABLE T_IMP_FNVPCOL RENAME COLUMN I016a120 to I016a201;\n",
      "ALTER TABLE T_IMP_FNVPCOL RENAME COLUMN I016a121 to I016a211;\n",
      "ALTER TABLE T_IMP_FNVPCOL RENAME COLUMN I016a122 to I016a221;\n",
      "ALTER TABLE T_IMP_FNVPCOL RENAME COLUMN I016a123 to I016a231;\n",
      "ALTER TABLE T_IMP_FNVPCOL RENAME COLUMN I016a124 to I016a241;\n",
      "ALTER TABLE T_IMP_FNVPCOL RENAME COLUMN I016a125 to I016a251;\n",
      "ALTER TABLE T_IMP_FNVPCOL RENAME COLUMN I016a126 to I016a261;\n",
      "ALTER TABLE T_IMP_FNVPCOL RENAME COLUMN I016a127 to I016a271;\n",
      "ALTER TABLE T_IMP_FNVPCOL RENAME COLUMN I016a128 to I016a281;\n",
      "ALTER TABLE T_IMP_FNVPCOL RENAME COLUMN I016a129 to I016a291;\n",
      "ALTER TABLE T_IMP_FNVPCOL RENAME COLUMN I016a130 to I016a301;\n",
      "ALTER TABLE T_IMP_FNVPCOL RENAME COLUMN I017101 to I017011;\n",
      "ALTER TABLE T_IMP_FNVPCOL RENAME COLUMN I017102 to I017021;\n",
      "ALTER TABLE T_IMP_FNVPCOL RENAME COLUMN I017103 to I017031;\n",
      "ALTER TABLE T_IMP_FNVPCOL RENAME COLUMN I017104 to I017041;\n",
      "ALTER TABLE T_IMP_FNVPCOL RENAME COLUMN I017105 to I017051;\n",
      "ALTER TABLE T_IMP_FNVPCOL RENAME COLUMN I017106 to I017061;\n",
      "ALTER TABLE T_IMP_FNVPCOL RENAME COLUMN I017107 to I017071;\n",
      "ALTER TABLE T_IMP_FNVPCOL RENAME COLUMN I017108 to I017081;\n",
      "ALTER TABLE T_IMP_FNVPCOL RENAME COLUMN I017109 to I017091;\n",
      "ALTER TABLE T_IMP_FNVPCOL RENAME COLUMN I017110 to I017101;\n",
      "ALTER TABLE T_IMP_FNVPCOL RENAME COLUMN I017111 to I017111;\n",
      "ALTER TABLE T_IMP_FNVPCOL RENAME COLUMN I017112 to I017121;\n",
      "ALTER TABLE T_IMP_FNVPCOL RENAME COLUMN I017113 to I017131;\n",
      "ALTER TABLE T_IMP_FNVPCOL RENAME COLUMN I017114 to I017141;\n",
      "ALTER TABLE T_IMP_FNVPCOL RENAME COLUMN I017115 to I017151;\n",
      "ALTER TABLE T_IMP_FNVPCOL RENAME COLUMN I017116 to I017161;\n",
      "ALTER TABLE T_IMP_FNVPCOL RENAME COLUMN I017117 to I017171;\n",
      "ALTER TABLE T_IMP_FNVPCOL RENAME COLUMN I017118 to I017181;\n",
      "ALTER TABLE T_IMP_FNVPCOL RENAME COLUMN I017119 to I017191;\n",
      "ALTER TABLE T_IMP_FNVPCOL RENAME COLUMN I017120 to I017201;\n",
      "ALTER TABLE T_IMP_FNVPCOL RENAME COLUMN I017121 to I017211;\n",
      "ALTER TABLE T_IMP_FNVPCOL RENAME COLUMN I017122 to I017221;\n",
      "ALTER TABLE T_IMP_FNVPCOL RENAME COLUMN I017123 to I017231;\n",
      "ALTER TABLE T_IMP_FNVPCOL RENAME COLUMN I017124 to I017241;\n",
      "ALTER TABLE T_IMP_FNVPCOL RENAME COLUMN I017125 to I017251;\n",
      "ALTER TABLE T_IMP_FNVPCOL RENAME COLUMN I017126 to I017261;\n",
      "ALTER TABLE T_IMP_FNVPCOL RENAME COLUMN I017127 to I017271;\n",
      "ALTER TABLE T_IMP_FNVPCOL RENAME COLUMN I017128 to I017281;\n",
      "ALTER TABLE T_IMP_FNVPCOL RENAME COLUMN I017129 to I017291;\n",
      "ALTER TABLE T_IMP_FNVPCOL RENAME COLUMN I017130 to I017301;\n",
      "ALTER TABLE T_IMP_FNVPCOL RENAME COLUMN I017201 to I017012;\n",
      "ALTER TABLE T_IMP_FNVPCOL RENAME COLUMN I017202 to I017022;\n",
      "ALTER TABLE T_IMP_FNVPCOL RENAME COLUMN I017203 to I017032;\n",
      "ALTER TABLE T_IMP_FNVPCOL RENAME COLUMN I017204 to I017042;\n",
      "ALTER TABLE T_IMP_FNVPCOL RENAME COLUMN I017205 to I017052;\n",
      "ALTER TABLE T_IMP_FNVPCOL RENAME COLUMN I017206 to I017062;\n",
      "ALTER TABLE T_IMP_FNVPCOL RENAME COLUMN I017207 to I017072;\n",
      "ALTER TABLE T_IMP_FNVPCOL RENAME COLUMN I017208 to I017082;\n",
      "ALTER TABLE T_IMP_FNVPCOL RENAME COLUMN I017209 to I017092;\n",
      "ALTER TABLE T_IMP_FNVPCOL RENAME COLUMN I017210 to I017102;\n",
      "ALTER TABLE T_IMP_FNVPCOL RENAME COLUMN I017211 to I017112;\n",
      "ALTER TABLE T_IMP_FNVPCOL RENAME COLUMN I017212 to I017122;\n",
      "ALTER TABLE T_IMP_FNVPCOL RENAME COLUMN I017213 to I017132;\n",
      "ALTER TABLE T_IMP_FNVPCOL RENAME COLUMN I017214 to I017142;\n",
      "ALTER TABLE T_IMP_FNVPCOL RENAME COLUMN I017215 to I017152;\n",
      "ALTER TABLE T_IMP_FNVPCOL RENAME COLUMN I017216 to I017162;\n",
      "ALTER TABLE T_IMP_FNVPCOL RENAME COLUMN I017217 to I017172;\n",
      "ALTER TABLE T_IMP_FNVPCOL RENAME COLUMN I017218 to I017182;\n",
      "ALTER TABLE T_IMP_FNVPCOL RENAME COLUMN I017219 to I017192;\n",
      "ALTER TABLE T_IMP_FNVPCOL RENAME COLUMN I017220 to I017202;\n",
      "ALTER TABLE T_IMP_FNVPCOL RENAME COLUMN I017221 to I017212;\n",
      "ALTER TABLE T_IMP_FNVPCOL RENAME COLUMN I017222 to I017222;\n",
      "ALTER TABLE T_IMP_FNVPCOL RENAME COLUMN I017223 to I017232;\n",
      "ALTER TABLE T_IMP_FNVPCOL RENAME COLUMN I017224 to I017242;\n",
      "ALTER TABLE T_IMP_FNVPCOL RENAME COLUMN I017225 to I017252;\n",
      "ALTER TABLE T_IMP_FNVPCOL RENAME COLUMN I017226 to I017262;\n",
      "ALTER TABLE T_IMP_FNVPCOL RENAME COLUMN I017227 to I017272;\n",
      "ALTER TABLE T_IMP_FNVPCOL RENAME COLUMN I017228 to I017282;\n",
      "ALTER TABLE T_IMP_FNVPCOL RENAME COLUMN I017229 to I017292;\n",
      "ALTER TABLE T_IMP_FNVPCOL RENAME COLUMN I017230 to I017302;\n",
      "ALTER TABLE T_IMP_FNVPCOL RENAME COLUMN I018101 to I018011;\n",
      "ALTER TABLE T_IMP_FNVPCOL RENAME COLUMN I018102 to I018021;\n",
      "ALTER TABLE T_IMP_FNVPCOL RENAME COLUMN I018103 to I018031;\n",
      "ALTER TABLE T_IMP_FNVPCOL RENAME COLUMN I018104 to I018041;\n",
      "ALTER TABLE T_IMP_FNVPCOL RENAME COLUMN I018105 to I018051;\n",
      "ALTER TABLE T_IMP_FNVPCOL RENAME COLUMN I018106 to I018061;\n",
      "ALTER TABLE T_IMP_FNVPCOL RENAME COLUMN I018107 to I018071;\n",
      "ALTER TABLE T_IMP_FNVPCOL RENAME COLUMN I018108 to I018081;\n",
      "ALTER TABLE T_IMP_FNVPCOL RENAME COLUMN I018109 to I018091;\n",
      "ALTER TABLE T_IMP_FNVPCOL RENAME COLUMN I018110 to I018101;\n",
      "ALTER TABLE T_IMP_FNVPCOL RENAME COLUMN I018111 to I018111;\n",
      "ALTER TABLE T_IMP_FNVPCOL RENAME COLUMN I018112 to I018121;\n",
      "ALTER TABLE T_IMP_FNVPCOL RENAME COLUMN I018113 to I018131;\n",
      "ALTER TABLE T_IMP_FNVPCOL RENAME COLUMN I018114 to I018141;\n",
      "ALTER TABLE T_IMP_FNVPCOL RENAME COLUMN I018115 to I018151;\n",
      "ALTER TABLE T_IMP_FNVPCOL RENAME COLUMN I018116 to I018161;\n",
      "ALTER TABLE T_IMP_FNVPCOL RENAME COLUMN I018117 to I018171;\n",
      "ALTER TABLE T_IMP_FNVPCOL RENAME COLUMN I018118 to I018181;\n",
      "ALTER TABLE T_IMP_FNVPCOL RENAME COLUMN I018119 to I018191;\n",
      "ALTER TABLE T_IMP_FNVPCOL RENAME COLUMN I018120 to I018201;\n",
      "ALTER TABLE T_IMP_FNVPCOL RENAME COLUMN I018121 to I018211;\n",
      "ALTER TABLE T_IMP_FNVPCOL RENAME COLUMN I018122 to I018221;\n",
      "ALTER TABLE T_IMP_FNVPCOL RENAME COLUMN I018123 to I018231;\n",
      "ALTER TABLE T_IMP_FNVPCOL RENAME COLUMN I018124 to I018241;\n",
      "ALTER TABLE T_IMP_FNVPCOL RENAME COLUMN I018125 to I018251;\n",
      "ALTER TABLE T_IMP_FNVPCOL RENAME COLUMN I018126 to I018261;\n",
      "ALTER TABLE T_IMP_FNVPCOL RENAME COLUMN I018127 to I018271;\n",
      "ALTER TABLE T_IMP_FNVPCOL RENAME COLUMN I018128 to I018281;\n",
      "ALTER TABLE T_IMP_FNVPCOL RENAME COLUMN I018129 to I018291;\n",
      "ALTER TABLE T_IMP_FNVPCOL RENAME COLUMN I018130 to I018301;\n",
      "ALTER TABLE T_IMP_FNVPCOL RENAME COLUMN I018201 to I018012;\n",
      "ALTER TABLE T_IMP_FNVPCOL RENAME COLUMN I018202 to I018022;\n",
      "ALTER TABLE T_IMP_FNVPCOL RENAME COLUMN I018203 to I018032;\n",
      "ALTER TABLE T_IMP_FNVPCOL RENAME COLUMN I018204 to I018042;\n",
      "ALTER TABLE T_IMP_FNVPCOL RENAME COLUMN I018205 to I018052;\n",
      "ALTER TABLE T_IMP_FNVPCOL RENAME COLUMN I018206 to I018062;\n",
      "ALTER TABLE T_IMP_FNVPCOL RENAME COLUMN I018207 to I018072;\n",
      "ALTER TABLE T_IMP_FNVPCOL RENAME COLUMN I018208 to I018082;\n",
      "ALTER TABLE T_IMP_FNVPCOL RENAME COLUMN I018209 to I018092;\n",
      "ALTER TABLE T_IMP_FNVPCOL RENAME COLUMN I018210 to I018102;\n",
      "ALTER TABLE T_IMP_FNVPCOL RENAME COLUMN I018211 to I018112;\n",
      "ALTER TABLE T_IMP_FNVPCOL RENAME COLUMN I018212 to I018122;\n",
      "ALTER TABLE T_IMP_FNVPCOL RENAME COLUMN I018213 to I018132;\n",
      "ALTER TABLE T_IMP_FNVPCOL RENAME COLUMN I018214 to I018142;\n",
      "ALTER TABLE T_IMP_FNVPCOL RENAME COLUMN I018215 to I018152;\n",
      "ALTER TABLE T_IMP_FNVPCOL RENAME COLUMN I018216 to I018162;\n",
      "ALTER TABLE T_IMP_FNVPCOL RENAME COLUMN I018217 to I018172;\n",
      "ALTER TABLE T_IMP_FNVPCOL RENAME COLUMN I018218 to I018182;\n",
      "ALTER TABLE T_IMP_FNVPCOL RENAME COLUMN I018219 to I018192;\n",
      "ALTER TABLE T_IMP_FNVPCOL RENAME COLUMN I018220 to I018202;\n",
      "ALTER TABLE T_IMP_FNVPCOL RENAME COLUMN I018221 to I018212;\n",
      "ALTER TABLE T_IMP_FNVPCOL RENAME COLUMN I018222 to I018222;\n",
      "ALTER TABLE T_IMP_FNVPCOL RENAME COLUMN I018223 to I018232;\n",
      "ALTER TABLE T_IMP_FNVPCOL RENAME COLUMN I018224 to I018242;\n",
      "ALTER TABLE T_IMP_FNVPCOL RENAME COLUMN I018225 to I018252;\n",
      "ALTER TABLE T_IMP_FNVPCOL RENAME COLUMN I018226 to I018262;\n",
      "ALTER TABLE T_IMP_FNVPCOL RENAME COLUMN I018227 to I018272;\n",
      "ALTER TABLE T_IMP_FNVPCOL RENAME COLUMN I018228 to I018282;\n",
      "ALTER TABLE T_IMP_FNVPCOL RENAME COLUMN I018229 to I018292;\n",
      "ALTER TABLE T_IMP_FNVPCOL RENAME COLUMN I018230 to I018302;\n",
      "ALTER TABLE T_IMP_FNVPCOL RENAME COLUMN I018301 to I018013;\n",
      "ALTER TABLE T_IMP_FNVPCOL RENAME COLUMN I018302 to I018023;\n",
      "ALTER TABLE T_IMP_FNVPCOL RENAME COLUMN I018303 to I018033;\n",
      "ALTER TABLE T_IMP_FNVPCOL RENAME COLUMN I018304 to I018043;\n",
      "ALTER TABLE T_IMP_FNVPCOL RENAME COLUMN I018305 to I018053;\n",
      "ALTER TABLE T_IMP_FNVPCOL RENAME COLUMN I018306 to I018063;\n",
      "ALTER TABLE T_IMP_FNVPCOL RENAME COLUMN I018307 to I018073;\n",
      "ALTER TABLE T_IMP_FNVPCOL RENAME COLUMN I018308 to I018083;\n",
      "ALTER TABLE T_IMP_FNVPCOL RENAME COLUMN I018309 to I018093;\n",
      "ALTER TABLE T_IMP_FNVPCOL RENAME COLUMN I018310 to I018103;\n",
      "ALTER TABLE T_IMP_FNVPCOL RENAME COLUMN I018311 to I018113;\n",
      "ALTER TABLE T_IMP_FNVPCOL RENAME COLUMN I018312 to I018123;\n",
      "ALTER TABLE T_IMP_FNVPCOL RENAME COLUMN I018313 to I018133;\n",
      "ALTER TABLE T_IMP_FNVPCOL RENAME COLUMN I018314 to I018143;\n",
      "ALTER TABLE T_IMP_FNVPCOL RENAME COLUMN I018315 to I018153;\n",
      "ALTER TABLE T_IMP_FNVPCOL RENAME COLUMN I018316 to I018163;\n",
      "ALTER TABLE T_IMP_FNVPCOL RENAME COLUMN I018317 to I018173;\n",
      "ALTER TABLE T_IMP_FNVPCOL RENAME COLUMN I018318 to I018183;\n",
      "ALTER TABLE T_IMP_FNVPCOL RENAME COLUMN I018319 to I018193;\n",
      "ALTER TABLE T_IMP_FNVPCOL RENAME COLUMN I018320 to I018203;\n",
      "ALTER TABLE T_IMP_FNVPCOL RENAME COLUMN I018321 to I018213;\n",
      "ALTER TABLE T_IMP_FNVPCOL RENAME COLUMN I018322 to I018223;\n",
      "ALTER TABLE T_IMP_FNVPCOL RENAME COLUMN I018323 to I018233;\n",
      "ALTER TABLE T_IMP_FNVPCOL RENAME COLUMN I018324 to I018243;\n",
      "ALTER TABLE T_IMP_FNVPCOL RENAME COLUMN I018325 to I018253;\n",
      "ALTER TABLE T_IMP_FNVPCOL RENAME COLUMN I018326 to I018263;\n",
      "ALTER TABLE T_IMP_FNVPCOL RENAME COLUMN I018327 to I018273;\n",
      "ALTER TABLE T_IMP_FNVPCOL RENAME COLUMN I018328 to I018283;\n",
      "ALTER TABLE T_IMP_FNVPCOL RENAME COLUMN I018329 to I018293;\n",
      "ALTER TABLE T_IMP_FNVPCOL RENAME COLUMN I018330 to I018303;\n"
     ]
    }
   ],
   "source": [
    "def generate_variable_names(variable_list):\n",
    "    new_list = []\n",
    "    for variable in variable_list:\n",
    "        for i in range(1, 31):\n",
    "            # Formata o número para dois dígitos com zero à esquerda\n",
    "            old_variable_base = variable.replace('nn','')\n",
    "            old_variable = f'{old_variable_base}{i:02}'\n",
    "            new_variable = variable.replace('nn', f'{i:02}')\n",
    "            if old_variable.startswith('C021') or old_variable.startswith('C022'):\n",
    "                new_list.append(f'ALTER TABLE T_IMP_FNMMCOL RENAME COLUMN {old_variable} to {new_variable};' )\n",
    "            elif old_variable.startswith('C'): \n",
    "                new_list.append(f'ALTER TABLE T_IMP_FNVMCOL RENAME COLUMN {old_variable} to {new_variable};' )\n",
    "            else:\n",
    "                new_list.append(f'ALTER TABLE T_IMP_FNVPCOL RENAME COLUMN {old_variable} to {new_variable};' )\n",
    "    return new_list\n",
    "\n",
    "# Lista original de nomes de variáveis\n",
    "variable_list = [\n",
    "    'C012nn1', 'C013nn1', 'C013nn2', 'C017nn1', 'C017nn2', 'C017nn3', 'C017ann1',\n",
    "    'C018nn1', 'C018nn2', 'C019nn1', 'C019nn2', 'C019nn3', 'C021nn1', 'C021ann1',\n",
    "    'C022nn1', 'C022nn2', 'C022nn3', 'I011nn1', 'I014nn1', 'I016nn1', 'I016nn2',\n",
    "    'I016nn3', 'I016ann1', 'I017nn1', 'I017nn2', 'I018nn1', 'I018nn2', 'I018nn3'\n",
    "]\n",
    "\n",
    "# Gera a nova lista\n",
    "new_variable_list = generate_variable_names(variable_list)\n",
    "\n",
    "# Exibe a nova lista\n",
    "for item in new_variable_list:\n",
    "    print(item)\n"
   ]
  },
  {
   "cell_type": "code",
   "execution_count": 2,
   "metadata": {},
   "outputs": [
    {
     "name": "stdout",
     "output_type": "stream",
     "text": [
      "The maximum value in column 0 is: 13\n"
     ]
    }
   ],
   "source": [
    "# Example nested list\n",
    "nested_list = [\n",
    "    [1, 23, 3],\n",
    "    [4, 45, 6],\n",
    "    [7, 12, 9],\n",
    "    [10, 67, 11],\n",
    "    [13, 34, 15]\n",
    "]\n",
    "\n",
    "# Specify the column index (e.g., 1 for the second column)\n",
    "column_index = 0\n",
    "\n",
    "# Get the maximum value of the specified column\n",
    "max_value = max(row[column_index] for row in nested_list)\n",
    "\n",
    "# Print the maximum value\n",
    "print(\"The maximum value in column\", column_index, \"is:\", max_value)\n"
   ]
  },
  {
   "cell_type": "code",
   "execution_count": 38,
   "metadata": {},
   "outputs": [
    {
     "name": "stdout",
     "output_type": "stream",
     "text": [
      " Results 1|23|3|4|45|6|7|12|9|10|\\textbf67|11|\\textbf13|34|\\textbf15\n"
     ]
    }
   ],
   "source": [
    "import numpy as np\n",
    "\n",
    "# Example nested list\n",
    "nested_list = [\n",
    "    [1, 23, 3],\n",
    "    [4, 45, 6],\n",
    "    [7, 12, 9],\n",
    "    [10, 67, 11],\n",
    "    [13, 34, 15]\n",
    "]\n",
    "\n",
    "arr = np.array(nested_list)\n",
    "\n",
    "map_values = arr\n",
    "\n",
    "max_values_map = np.max(map_values,axis=0)\n",
    "\n",
    "formatted_map = [fr'\\textbf{{map_values[i, j]}}}' if map_values[i, j] == max_values_map[j] else f'{map_values[i, j]}' for i in range(map_values.shape[0]) for j in range(map_values.shape[1])]\n",
    "\n",
    "final_str = r\"\"\" Results \"\"\"\n",
    "\n",
    "final_str += f\"|\".join(formatted_map)\n",
    "\n",
    "print(final_str)"
   ]
  },
  {
   "cell_type": "code",
   "execution_count": 40,
   "metadata": {},
   "outputs": [
    {
     "name": "stdout",
     "output_type": "stream",
     "text": [
      "Selecione...\n",
      "1 - Acessar e responder e-mails, atender chamadas por video ou telefone e adotar providências devidas\n",
      "\n",
      "5 - Acompanhar a implementação das atividades de TI (criação, atualização e manutenção de portais, sistemas, aplicativos, outros)\n",
      "7 - Acompanhar atos publicados no Boletim de Serviço Interno, Diário Oficial da União e demais publicações oficiais\n",
      "14 - Acompanhar e estudar novos normativos e legislação vigente\n",
      "22 - Administrar Bases de Dados e Metadados e Gerir Bancos de Dados\n",
      "28 - Analisar e autorizar (ou não) pedidos de aquisição de materiais de consumo e solicitações de alocação de recursos\n",
      "37 - Analisar, encaminhar aos setores responsáveis e responder\n",
      "39 - Analisar, instaurar ou instruir processos, responder e tramitar processos, montar processos e conferir documentação\n",
      "41 - Apoiar processo licitatório\n",
      "43 - Apresentar palestra em evento interno ou externo\n",
      "45 - Aprovar lançamentos de servidores/Gerir Pessoas/Gerir equipes de trabalho\n",
      "46 - Assegurar confidencialidade de dados da pesquisa\n",
      "47 - Assessorar, orientar, acompanhar, atender e prestar informações ou esclarecimentos\n",
      "49 - Atender e gerir demandas \n",
      "50 - Atender e gerir demandas de suporte e serviços tecnológicos\n",
      "51 - Atender recomendações, orientações ou solicitações \n",
      "53 - Atualizar sistema\n",
      "56 - Atuar junto as instâncias de Integridade para promoção da ética e integridade\n",
      "58 - Avaliar desempenho de servidores e necessidades de novos treinamentos\n",
      "63 - Carregar Dados e Metadados\n",
      "66 - Coletar, sintetizar e consolidar dados e informações\n",
      "68 - Conceder e retirar acessos de sistemas\n",
      "80 - Construir manual/artefato para uso da tecnologia\n",
      "86 - Contribuir para a elaboração de normativos internos e documentos\n",
      "90 - Coordenar, acompanhar e controlar cumprimento de metas e o trabalho executado, avaliar realização do plano de trabalho, gerir equipe técnica\n",
      "94 - Coordenar logística de TIC\n",
      "96 - Coordenar projetos especiais ou iniciativas específicas, desenvolver projetos, gerenciar projetos estratégicos ou participar de projetos ou programas institucionais  \n",
      "102 - Definir / adequar arquitetura para disponibilizar novo sistema\n",
      "106 - Desenvolver conteúdo para treinamento ou material didático ou revisar material didático\n",
      "114 - Desenvolver sistemas e aplicações web.\n",
      "117 - Discutir soluções para problemas operacionais\n",
      "118 - Disseminar/Apoiar a disseminação de Dados e Informações, de novo sistema/produto\n",
      "123 - Documentar e disseminar lições aprendidas e boas práticas\n",
      "126 - Efetuar análises técnicas (dispositivos legais), realizar estudos e levantamentos e apresentar propostas)\n",
      "128 - Efetuar controles\n",
      "130 - Efetuar registros e consultas em sistemas governamentais e internos\n",
      "135 - Elaborar  documentos institucionais \n",
      "161 - Elaborar, acompanhar e atualizar cronograma de ações e iniciativas e monitorar cumprimento de ações\n",
      "133 - Elaborar atos e documentos, assinar eletronicamente documentos, digitalizar processos\n",
      "\n",
      "134 - Elaborar comunicados e informativos, inclusive internos por email\n",
      "138 - Elaborar e publicar Metadados\n",
      "144 - Elaborar estudos técnicos preliminares, mapa de riscos e termo de referência para a aquisição\n",
      "146 - Elaborar nota técnica\n",
      "151 - Elaborar Plano/Planejar \n",
      "154 - Elaborar Projeto Básico\n",
      "159 - Elaborar quadros e textos com dados e  informações atualizados\n",
      "160 - Elaborar Relatórios\n",
      "164 - Emitir e enviar ofício e certidão\n",
      "166 - Emitir Pedidos de Aquisição de materiais e serviços, juntamente com as especificações\n",
      "168 - Enviar, analisar, gerar dados e providenciar envios e retificações \n",
      "169 - Especificar, acompanhar o desenvolvimento, testar, homologar sistema e liberar para a produção uma funcionalidade \n",
      "171 - Estabelecer e gerir contratos e instrumentos de parceria e aplicar sanções\n",
      "181 - Executar e monitorar processos institucionais diversos\n",
      "185 - Exercer tutoria em curso na modalidade à distância\n",
      "187 - \n",
      "Extrair relatórios dos sistemas \n",
      "196 - Gerenciar descarte de equipamentos\n",
      "200 - Gerenciar e monitorar o uso das Tecnologias\n",
      "203 - Gerenciar Hardware\n",
      "204 - Gerenciar portifólio de serviços, projetos e sistemas\n",
      "207 - Gerenciar qualidade\n",
      "209 - Gerenciar Rede de Comunicações\n",
      "211 - Gerenciar riscos (Identificar, analisar, avaliar, tratar e monitorar riscos)\n",
      "212 - Gerenciar Software\n",
      "214 - Gerir, atualizar e manter cadastros, listagens e similares.\n",
      "217 - Gerir Datacenters\n",
      "222 - Gerir e acompanhar assuntos de interesse com os órgãos internos e externos\n",
      "219 - Gerir Governança de TIC\n",
      "220 - Gerir Incidentes de Segurança da Informação e Comunicações\n",
      "221 - Gerir mudanças de tecnologias\n",
      "223 - Gerir plano de continuidade de negócios\n",
      "225 - Gerir sistema, administrar desempenho de subsistemas, operar sistemas automatizados, sistemas corporativos e sistemas do governo federal\n",
      "227 - Identificar e avaliar demandas por bens e serviços e necessidades de novos sistemas\n",
      "229 - Identificar necessidades de melhorias e  aquisição de novas tecnologias \n",
      "230 - Implantar sistema\n",
      "235 - Levantar dados que subsidiem a formulação de respostas, elaborar argumentos para embasar respostas\n",
      "239 - Mapear fluxos de processos de trabalho\n",
      "240 - Modelar Dados\n",
      "241 - Monitorar e acompanhar a implementação de ações planejadas e comunicar os resultados do monitoramento\n",
      "243 - Monitorar Sistemas em produção\n",
      "248 - Organizar papéis de trabalho e outros documentos \n",
      "249 - Orientar e executar ações de orçamentação, elaborar, gerir e acompanhar orçamento/previsão orçamentária\n",
      "250 - Orientar e executar ações de organização, modernização e melhoria, levantar necessidades e conduzir projetos de melhorias\n",
      "251 - \n",
      "Orientar e executar ações de planejamento\n",
      "252 - Orientar, prestar informações ou esclarecimentos \n",
      "345 - PARALISAÇÃO OU GREVE\n",
      "254 - Participar da elaboração de Planos e acompanhar sua execução\n",
      "257 - Participar de cursos e atividades de desenvolvimento e capacitação\n",
      "258 - Participar de Grupo de Trabalho, Equipe de Apoio, Comitês, Comitê Gestor e Técnico, conselhos institucionais e outros\n",
      "259 - Participar de reunião \n",
      "271 - Planejar, agendar e realizar reunião \n",
      "\n",
      "263 - Planejar alocação e garantir a implantação de recursos\n",
      "272 - Planejar/ demandar a execução do desenvolvimento de sistemas\n",
      "268 - Planejar Distribuição e Configuração das Tecnologias \n",
      "270 - Planejar e executar pesquisas (inclusive de preços)\n",
      "266 - Planejar e realizar atividades de capacitação, ministrar treinamentos, capacitar servidores ou instituições externas, desenvolver projetos de capacitação\n",
      "273 - Planejar, organizar, promover, assessorar, divulgar e realizar encontros e eventos\n",
      "281 - Preparar, acompanhar, participar e documentar missões, delegações e tratativas relacionadas à cooperação técnica \n",
      "278 - Preparar apresentação institucional\n",
      "282 - Preparar, preencher e atualizar planilha\n",
      "287 - Presidir Comitê, Comissão, Grupo de Trabalho\n",
      "288 - Prestar assistência e orientação a servidores e estagiários\n",
      "297 - Prospectar novas Tecnologias e Metodologias\n",
      "302 - Prover informações e suporte técnico a instituições externas\n",
      "298 - Prover manutenção corretiva, adaptativa, evolutiva de sistemas\n",
      "300 - Prover, monitorar e garantir a conformidade da segurança do ambiente de TIC\n",
      "301 - Prover suporte operacional, técnico ou de capacitação\n",
      "305 - Publicar, disseminar e divulgar documentos institucionais, atualizar conteúdo no portal institucional\n",
      "306 - Publicar ou atualizar seções na intranet institucional\n",
      "312 - Realizar atividades ligadas à gestão do orçamento por meio de operações em sistemas , atualização dos acompanhamentos orçamentários e outras ações correlatas\n",
      "313 - Realizar atividades ligadas à gestão dos processos de compras\n",
      "315 - Realizar benchmarking com outras instituições públicas e privadas, nacionais e internacionais\n",
      "319 - Realizar exame médico periódico (EMP)\n",
      "328 - Repassar informações de reuniões à equipe\n",
      "330 - Representar o IBGE em eventos específicos\n",
      "333 - Revisar, ajustar, validar e publicar instrumentos administrativos \n",
      "332 - Revisar e atualizar documentos institucionais\n",
      "336 - Secretariar reunião ou apoiar Secretaria Executiva - preparar agenda, convocar reunião, realizar ata\n",
      "337 - Solicitar esclarecimentos ou realizar consultas\n",
      "338 - Supervisionar e acompanhar as atividades de secretaria e gabinete\n"
     ]
    }
   ],
   "source": [
    "from bs4 import BeautifulSoup\n",
    "\n",
    "html_content = \"\"\"\n",
    "\n",
    "<div id=\"frmPortal:cadastro:j_idt2131Item0\" class=\"rf-sel-opt\">Selecione...</div>\n",
    "<div id=\"frmPortal:cadastro:j_idt2131Item1\" class=\"rf-sel-opt\">1 - Acessar e responder e-mails, atender chamadas por video ou telefone e adotar providências devidas\n",
    "</div>\n",
    "<div id=\"frmPortal:cadastro:j_idt2131Item2\" class=\"rf-sel-opt\">5 - Acompanhar a implementação das atividades de TI (criação, atualização e manutenção de portais, sistemas, aplicativos, outros)</div><div id=\"frmPortal:cadastro:j_idt2131Item3\" class=\"rf-sel-opt\">7 - Acompanhar atos publicados no Boletim de Serviço Interno, Diário Oficial da União e demais publicações oficiais</div><div id=\"frmPortal:cadastro:j_idt2131Item4\" class=\"rf-sel-opt\">14 - Acompanhar e estudar novos normativos e legislação vigente</div><div id=\"frmPortal:cadastro:j_idt2131Item5\" class=\"rf-sel-opt\">22 - Administrar Bases de Dados e Metadados e Gerir Bancos de Dados</div><div id=\"frmPortal:cadastro:j_idt2131Item6\" class=\"rf-sel-opt\">28 - Analisar e autorizar (ou não) pedidos de aquisição de materiais de consumo e solicitações de alocação de recursos</div><div id=\"frmPortal:cadastro:j_idt2131Item7\" class=\"rf-sel-opt\">37 - Analisar, encaminhar aos setores responsáveis e responder</div><div id=\"frmPortal:cadastro:j_idt2131Item8\" class=\"rf-sel-opt\">39 - Analisar, instaurar ou instruir processos, responder e tramitar processos, montar processos e conferir documentação</div><div id=\"frmPortal:cadastro:j_idt2131Item9\" class=\"rf-sel-opt\">41 - Apoiar processo licitatório</div><div id=\"frmPortal:cadastro:j_idt2131Item10\" class=\"rf-sel-opt\">43 - Apresentar palestra em evento interno ou externo</div><div id=\"frmPortal:cadastro:j_idt2131Item11\" class=\"rf-sel-opt\">45 - Aprovar lançamentos de servidores/Gerir Pessoas/Gerir equipes de trabalho</div><div id=\"frmPortal:cadastro:j_idt2131Item12\" class=\"rf-sel-opt\">46 - Assegurar confidencialidade de dados da pesquisa</div><div id=\"frmPortal:cadastro:j_idt2131Item13\" class=\"rf-sel-opt\">47 - Assessorar, orientar, acompanhar, atender e prestar informações ou esclarecimentos</div><div id=\"frmPortal:cadastro:j_idt2131Item14\" class=\"rf-sel-opt\">49 - Atender e gerir demandas </div><div id=\"frmPortal:cadastro:j_idt2131Item15\" class=\"rf-sel-opt\">50 - Atender e gerir demandas de suporte e serviços tecnológicos</div><div id=\"frmPortal:cadastro:j_idt2131Item16\" class=\"rf-sel-opt\">51 - Atender recomendações, orientações ou solicitações </div><div id=\"frmPortal:cadastro:j_idt2131Item17\" class=\"rf-sel-opt\">53 - Atualizar sistema</div><div id=\"frmPortal:cadastro:j_idt2131Item18\" class=\"rf-sel-opt\">56 - Atuar junto as instâncias de Integridade para promoção da ética e integridade</div><div id=\"frmPortal:cadastro:j_idt2131Item19\" class=\"rf-sel-opt\">58 - Avaliar desempenho de servidores e necessidades de novos treinamentos</div><div id=\"frmPortal:cadastro:j_idt2131Item20\" class=\"rf-sel-opt\">63 - Carregar Dados e Metadados</div><div id=\"frmPortal:cadastro:j_idt2131Item21\" class=\"rf-sel-opt\">66 - Coletar, sintetizar e consolidar dados e informações</div><div id=\"frmPortal:cadastro:j_idt2131Item22\" class=\"rf-sel-opt\">68 - Conceder e retirar acessos de sistemas</div><div id=\"frmPortal:cadastro:j_idt2131Item23\" class=\"rf-sel-opt\">80 - Construir manual/artefato para uso da tecnologia</div><div id=\"frmPortal:cadastro:j_idt2131Item24\" class=\"rf-sel-opt\">86 - Contribuir para a elaboração de normativos internos e documentos</div><div id=\"frmPortal:cadastro:j_idt2131Item25\" class=\"rf-sel-opt\">90 - Coordenar, acompanhar e controlar cumprimento de metas e o trabalho executado, avaliar realização do plano de trabalho, gerir equipe técnica</div><div id=\"frmPortal:cadastro:j_idt2131Item26\" class=\"rf-sel-opt\">94 - Coordenar logística de TIC</div><div id=\"frmPortal:cadastro:j_idt2131Item27\" class=\"rf-sel-opt\">96 - Coordenar projetos especiais ou iniciativas específicas, desenvolver projetos, gerenciar projetos estratégicos ou participar de projetos ou programas institucionais  </div><div id=\"frmPortal:cadastro:j_idt2131Item28\" class=\"rf-sel-opt\">102 - Definir / adequar arquitetura para disponibilizar novo sistema</div><div id=\"frmPortal:cadastro:j_idt2131Item29\" class=\"rf-sel-opt\">106 - Desenvolver conteúdo para treinamento ou material didático ou revisar material didático</div><div id=\"frmPortal:cadastro:j_idt2131Item30\" class=\"rf-sel-opt\">114 - Desenvolver sistemas e aplicações web.</div><div id=\"frmPortal:cadastro:j_idt2131Item31\" class=\"rf-sel-opt\">117 - Discutir soluções para problemas operacionais</div><div id=\"frmPortal:cadastro:j_idt2131Item32\" class=\"rf-sel-opt\">118 - Disseminar/Apoiar a disseminação de Dados e Informações, de novo sistema/produto</div><div id=\"frmPortal:cadastro:j_idt2131Item33\" class=\"rf-sel-opt\">123 - Documentar e disseminar lições aprendidas e boas práticas</div><div id=\"frmPortal:cadastro:j_idt2131Item34\" class=\"rf-sel-opt\">126 - Efetuar análises técnicas (dispositivos legais), realizar estudos e levantamentos e apresentar propostas)</div><div id=\"frmPortal:cadastro:j_idt2131Item35\" class=\"rf-sel-opt\">128 - Efetuar controles</div><div id=\"frmPortal:cadastro:j_idt2131Item36\" class=\"rf-sel-opt\">130 - Efetuar registros e consultas em sistemas governamentais e internos</div><div id=\"frmPortal:cadastro:j_idt2131Item37\" class=\"rf-sel-opt\">135 - Elaborar  documentos institucionais </div><div id=\"frmPortal:cadastro:j_idt2131Item38\" class=\"rf-sel-opt\">161 - Elaborar, acompanhar e atualizar cronograma de ações e iniciativas e monitorar cumprimento de ações</div><div id=\"frmPortal:cadastro:j_idt2131Item39\" class=\"rf-sel-opt\">133 - Elaborar atos e documentos, assinar eletronicamente documentos, digitalizar processos\n",
    "</div><div id=\"frmPortal:cadastro:j_idt2131Item40\" class=\"rf-sel-opt\">134 - Elaborar comunicados e informativos, inclusive internos por email</div><div id=\"frmPortal:cadastro:j_idt2131Item41\" class=\"rf-sel-opt\">138 - Elaborar e publicar Metadados</div><div id=\"frmPortal:cadastro:j_idt2131Item42\" class=\"rf-sel-opt\">144 - Elaborar estudos técnicos preliminares, mapa de riscos e termo de referência para a aquisição</div><div id=\"frmPortal:cadastro:j_idt2131Item43\" class=\"rf-sel-opt\">146 - Elaborar nota técnica</div><div id=\"frmPortal:cadastro:j_idt2131Item44\" class=\"rf-sel-opt\">151 - Elaborar Plano/Planejar </div><div id=\"frmPortal:cadastro:j_idt2131Item45\" class=\"rf-sel-opt\">154 - Elaborar Projeto Básico</div><div id=\"frmPortal:cadastro:j_idt2131Item46\" class=\"rf-sel-opt\">159 - Elaborar quadros e textos com dados e  informações atualizados</div><div id=\"frmPortal:cadastro:j_idt2131Item47\" class=\"rf-sel-opt\">160 - Elaborar Relatórios</div><div id=\"frmPortal:cadastro:j_idt2131Item48\" class=\"rf-sel-opt\">164 - Emitir e enviar ofício e certidão</div><div id=\"frmPortal:cadastro:j_idt2131Item49\" class=\"rf-sel-opt\">166 - Emitir Pedidos de Aquisição de materiais e serviços, juntamente com as especificações</div><div id=\"frmPortal:cadastro:j_idt2131Item50\" class=\"rf-sel-opt\">168 - Enviar, analisar, gerar dados e providenciar envios e retificações </div><div id=\"frmPortal:cadastro:j_idt2131Item51\" class=\"rf-sel-opt\">169 - Especificar, acompanhar o desenvolvimento, testar, homologar sistema e liberar para a produção uma funcionalidade </div><div id=\"frmPortal:cadastro:j_idt2131Item52\" class=\"rf-sel-opt\">171 - Estabelecer e gerir contratos e instrumentos de parceria e aplicar sanções</div><div id=\"frmPortal:cadastro:j_idt2131Item53\" class=\"rf-sel-opt\">181 - Executar e monitorar processos institucionais diversos</div><div id=\"frmPortal:cadastro:j_idt2131Item54\" class=\"rf-sel-opt\">185 - Exercer tutoria em curso na modalidade à distância</div><div id=\"frmPortal:cadastro:j_idt2131Item55\" class=\"rf-sel-opt\">187 - \n",
    "Extrair relatórios dos sistemas </div><div id=\"frmPortal:cadastro:j_idt2131Item56\" class=\"rf-sel-opt\">196 - Gerenciar descarte de equipamentos</div><div id=\"frmPortal:cadastro:j_idt2131Item57\" class=\"rf-sel-opt\">200 - Gerenciar e monitorar o uso das Tecnologias</div><div id=\"frmPortal:cadastro:j_idt2131Item58\" class=\"rf-sel-opt\">203 - Gerenciar Hardware</div><div id=\"frmPortal:cadastro:j_idt2131Item59\" class=\"rf-sel-opt\">204 - Gerenciar portifólio de serviços, projetos e sistemas</div><div id=\"frmPortal:cadastro:j_idt2131Item60\" class=\"rf-sel-opt\">207 - Gerenciar qualidade</div><div id=\"frmPortal:cadastro:j_idt2131Item61\" class=\"rf-sel-opt\">209 - Gerenciar Rede de Comunicações</div><div id=\"frmPortal:cadastro:j_idt2131Item62\" class=\"rf-sel-opt\">211 - Gerenciar riscos (Identificar, analisar, avaliar, tratar e monitorar riscos)</div><div id=\"frmPortal:cadastro:j_idt2131Item63\" class=\"rf-sel-opt\">212 - Gerenciar Software</div><div id=\"frmPortal:cadastro:j_idt2131Item64\" class=\"rf-sel-opt\">214 - Gerir, atualizar e manter cadastros, listagens e similares.</div><div id=\"frmPortal:cadastro:j_idt2131Item65\" class=\"rf-sel-opt\">217 - Gerir Datacenters</div><div id=\"frmPortal:cadastro:j_idt2131Item66\" class=\"rf-sel-opt\">222 - Gerir e acompanhar assuntos de interesse com os órgãos internos e externos</div><div id=\"frmPortal:cadastro:j_idt2131Item67\" class=\"rf-sel-opt\">219 - Gerir Governança de TIC</div><div id=\"frmPortal:cadastro:j_idt2131Item68\" class=\"rf-sel-opt\">220 - Gerir Incidentes de Segurança da Informação e Comunicações</div><div id=\"frmPortal:cadastro:j_idt2131Item69\" class=\"rf-sel-opt\">221 - Gerir mudanças de tecnologias</div><div id=\"frmPortal:cadastro:j_idt2131Item70\" class=\"rf-sel-opt\">223 - Gerir plano de continuidade de negócios</div><div id=\"frmPortal:cadastro:j_idt2131Item71\" class=\"rf-sel-opt\">225 - Gerir sistema, administrar desempenho de subsistemas, operar sistemas automatizados, sistemas corporativos e sistemas do governo federal</div><div id=\"frmPortal:cadastro:j_idt2131Item72\" class=\"rf-sel-opt\">227 - Identificar e avaliar demandas por bens e serviços e necessidades de novos sistemas</div><div id=\"frmPortal:cadastro:j_idt2131Item73\" class=\"rf-sel-opt\">229 - Identificar necessidades de melhorias e  aquisição de novas tecnologias </div><div id=\"frmPortal:cadastro:j_idt2131Item74\" class=\"rf-sel-opt\">230 - Implantar sistema</div><div id=\"frmPortal:cadastro:j_idt2131Item75\" class=\"rf-sel-opt\">235 - Levantar dados que subsidiem a formulação de respostas, elaborar argumentos para embasar respostas</div><div id=\"frmPortal:cadastro:j_idt2131Item76\" class=\"rf-sel-opt\">239 - Mapear fluxos de processos de trabalho</div><div id=\"frmPortal:cadastro:j_idt2131Item77\" class=\"rf-sel-opt\">240 - Modelar Dados</div><div id=\"frmPortal:cadastro:j_idt2131Item78\" class=\"rf-sel-opt\">241 - Monitorar e acompanhar a implementação de ações planejadas e comunicar os resultados do monitoramento</div><div id=\"frmPortal:cadastro:j_idt2131Item79\" class=\"rf-sel-opt\">243 - Monitorar Sistemas em produção</div><div id=\"frmPortal:cadastro:j_idt2131Item80\" class=\"rf-sel-opt\">248 - Organizar papéis de trabalho e outros documentos </div><div id=\"frmPortal:cadastro:j_idt2131Item81\" class=\"rf-sel-opt\">249 - Orientar e executar ações de orçamentação, elaborar, gerir e acompanhar orçamento/previsão orçamentária</div><div id=\"frmPortal:cadastro:j_idt2131Item82\" class=\"rf-sel-opt\">250 - Orientar e executar ações de organização, modernização e melhoria, levantar necessidades e conduzir projetos de melhorias</div><div id=\"frmPortal:cadastro:j_idt2131Item83\" class=\"rf-sel-opt\">251 - \n",
    "Orientar e executar ações de planejamento</div><div id=\"frmPortal:cadastro:j_idt2131Item84\" class=\"rf-sel-opt\">252 - Orientar, prestar informações ou esclarecimentos </div><div id=\"frmPortal:cadastro:j_idt2131Item85\" class=\"rf-sel-opt\">345 - PARALISAÇÃO OU GREVE</div><div id=\"frmPortal:cadastro:j_idt2131Item86\" class=\"rf-sel-opt\">254 - Participar da elaboração de Planos e acompanhar sua execução</div><div id=\"frmPortal:cadastro:j_idt2131Item87\" class=\"rf-sel-opt\">257 - Participar de cursos e atividades de desenvolvimento e capacitação</div><div id=\"frmPortal:cadastro:j_idt2131Item88\" class=\"rf-sel-opt\">258 - Participar de Grupo de Trabalho, Equipe de Apoio, Comitês, Comitê Gestor e Técnico, conselhos institucionais e outros</div><div id=\"frmPortal:cadastro:j_idt2131Item89\" class=\"rf-sel-opt\">259 - Participar de reunião </div><div id=\"frmPortal:cadastro:j_idt2131Item90\" class=\"rf-sel-opt\">271 - Planejar, agendar e realizar reunião \n",
    "</div><div id=\"frmPortal:cadastro:j_idt2131Item91\" class=\"rf-sel-opt\">263 - Planejar alocação e garantir a implantação de recursos</div><div id=\"frmPortal:cadastro:j_idt2131Item92\" class=\"rf-sel-opt\">272 - Planejar/ demandar a execução do desenvolvimento de sistemas</div><div id=\"frmPortal:cadastro:j_idt2131Item93\" class=\"rf-sel-opt\">268 - Planejar Distribuição e Configuração das Tecnologias </div><div id=\"frmPortal:cadastro:j_idt2131Item94\" class=\"rf-sel-opt\">270 - Planejar e executar pesquisas (inclusive de preços)</div><div id=\"frmPortal:cadastro:j_idt2131Item95\" class=\"rf-sel-opt\">266 - Planejar e realizar atividades de capacitação, ministrar treinamentos, capacitar servidores ou instituições externas, desenvolver projetos de capacitação</div><div id=\"frmPortal:cadastro:j_idt2131Item96\" class=\"rf-sel-opt\">273 - Planejar, organizar, promover, assessorar, divulgar e realizar encontros e eventos</div><div id=\"frmPortal:cadastro:j_idt2131Item97\" class=\"rf-sel-opt\">281 - Preparar, acompanhar, participar e documentar missões, delegações e tratativas relacionadas à cooperação técnica </div><div id=\"frmPortal:cadastro:j_idt2131Item98\" class=\"rf-sel-opt\">278 - Preparar apresentação institucional</div><div id=\"frmPortal:cadastro:j_idt2131Item99\" class=\"rf-sel-opt\">282 - Preparar, preencher e atualizar planilha</div><div id=\"frmPortal:cadastro:j_idt2131Item100\" class=\"rf-sel-opt\">287 - Presidir Comitê, Comissão, Grupo de Trabalho</div><div id=\"frmPortal:cadastro:j_idt2131Item101\" class=\"rf-sel-opt\">288 - Prestar assistência e orientação a servidores e estagiários</div><div id=\"frmPortal:cadastro:j_idt2131Item102\" class=\"rf-sel-opt\">297 - Prospectar novas Tecnologias e Metodologias</div><div id=\"frmPortal:cadastro:j_idt2131Item103\" class=\"rf-sel-opt\">302 - Prover informações e suporte técnico a instituições externas</div><div id=\"frmPortal:cadastro:j_idt2131Item104\" class=\"rf-sel-opt\">298 - Prover manutenção corretiva, adaptativa, evolutiva de sistemas</div><div id=\"frmPortal:cadastro:j_idt2131Item105\" class=\"rf-sel-opt\">300 - Prover, monitorar e garantir a conformidade da segurança do ambiente de TIC</div><div id=\"frmPortal:cadastro:j_idt2131Item106\" class=\"rf-sel-opt\">301 - Prover suporte operacional, técnico ou de capacitação</div><div id=\"frmPortal:cadastro:j_idt2131Item107\" class=\"rf-sel-opt\">305 - Publicar, disseminar e divulgar documentos institucionais, atualizar conteúdo no portal institucional</div><div id=\"frmPortal:cadastro:j_idt2131Item108\" class=\"rf-sel-opt\">306 - Publicar ou atualizar seções na intranet institucional</div><div id=\"frmPortal:cadastro:j_idt2131Item109\" class=\"rf-sel-opt\">312 - Realizar atividades ligadas à gestão do orçamento por meio de operações em sistemas , atualização dos acompanhamentos orçamentários e outras ações correlatas</div><div id=\"frmPortal:cadastro:j_idt2131Item110\" class=\"rf-sel-opt\">313 - Realizar atividades ligadas à gestão dos processos de compras</div><div id=\"frmPortal:cadastro:j_idt2131Item111\" class=\"rf-sel-opt rf-sel-sel\">315 - Realizar benchmarking com outras instituições públicas e privadas, nacionais e internacionais</div><div id=\"frmPortal:cadastro:j_idt2131Item112\" class=\"rf-sel-opt\">319 - Realizar exame médico periódico (EMP)</div><div id=\"frmPortal:cadastro:j_idt2131Item113\" class=\"rf-sel-opt\">328 - Repassar informações de reuniões à equipe</div><div id=\"frmPortal:cadastro:j_idt2131Item114\" class=\"rf-sel-opt\">330 - Representar o IBGE em eventos específicos</div><div id=\"frmPortal:cadastro:j_idt2131Item115\" class=\"rf-sel-opt\">333 - Revisar, ajustar, validar e publicar instrumentos administrativos </div><div id=\"frmPortal:cadastro:j_idt2131Item116\" class=\"rf-sel-opt\">332 - Revisar e atualizar documentos institucionais</div><div id=\"frmPortal:cadastro:j_idt2131Item117\" class=\"rf-sel-opt\">336 - Secretariar reunião ou apoiar Secretaria Executiva - preparar agenda, convocar reunião, realizar ata</div><div id=\"frmPortal:cadastro:j_idt2131Item118\" class=\"rf-sel-opt\">337 - Solicitar esclarecimentos ou realizar consultas</div><div id=\"frmPortal:cadastro:j_idt2131Item119\" class=\"rf-sel-opt\">338 - Supervisionar e acompanhar as atividades de secretaria e gabinete</div>\n",
    "\n",
    "\n",
    "\"\"\"\n",
    "\n",
    "# Parse the HTML content\n",
    "soup = BeautifulSoup(html_content, 'html.parser')\n",
    "\n",
    "# Find all div elements with the specific class\n",
    "divs = soup.find_all('div', class_='rf-sel-opt')\n",
    "\n",
    "# Extract and print the text content from each div\n",
    "texts = [div.get_text() for div in divs]\n",
    "for text in texts:\n",
    "    print(text)"
   ]
  },
  {
   "cell_type": "code",
   "execution_count": 67,
   "metadata": {},
   "outputs": [
    {
     "name": "stdout",
     "output_type": "stream",
     "text": [
      "77\n",
      "0.9794380430096665\n"
     ]
    }
   ],
   "source": [
    "\n",
    "FSCORE = np.random.random((1, 100))\n",
    "\n",
    "maxid = np.argmax(FSCORE)\n",
    "print(maxid)\n",
    "print(FSCORE[0,maxid])\n",
    "\n",
    "\n",
    "np.save('./best_fscore.npy',np.max(FSCORE))\n",
    "np.save('./best_threshold.npy',maxid)"
   ]
  },
  {
   "cell_type": "code",
   "execution_count": 69,
   "metadata": {},
   "outputs": [
    {
     "name": "stdout",
     "output_type": "stream",
     "text": [
      "0.9794380430096665\n",
      "77\n",
      "float64\n",
      "int64\n"
     ]
    }
   ],
   "source": [
    "loaded_fscore = np.load('./best_fscore.npy')\n",
    "loaded_maxid = np.load('./best_threshold.npy')\n",
    "\n",
    "print(loaded_fscore)\n",
    "print(loaded_maxid)\n",
    "\n",
    "print(loaded_fscore.dtype)\n",
    "print(loaded_maxid.dtype)"
   ]
  },
  {
   "cell_type": "code",
   "execution_count": 22,
   "metadata": {},
   "outputs": [],
   "source": [
    "import numpy as np\n",
    "\n",
    "# Assuming you have a (100, 100) array of probabilities\n",
    "probabilities = np.random.rand(10, 10)  # Replace with your actual probability heatmap\n",
    "\n",
    "# Calculate the entropy for each pixel\n",
    "epsilon = 1e-10  # To avoid log(0), add a small epsilon\n",
    "entropy = -(probabilities * np.log2(probabilities + epsilon) + (1 - probabilities) * np.log2(1 - probabilities + epsilon))\n",
    "\n",
    "# The entropy array is your uncertainty array\n",
    "uncertainty_array = entropy\n"
   ]
  },
  {
   "cell_type": "code",
   "execution_count": 30,
   "metadata": {},
   "outputs": [
    {
     "name": "stdout",
     "output_type": "stream",
     "text": [
      "0.08079313560737221\n"
     ]
    }
   ],
   "source": [
    "prob = 0.99\n",
    "epsilon = 1e-10\n",
    "entropy = -(prob * np.log2(prob + epsilon) + (1 - prob) * np.log2(1 - prob + epsilon))\n",
    "print(entropy)"
   ]
  },
  {
   "cell_type": "code",
   "execution_count": 55,
   "metadata": {},
   "outputs": [
    {
     "data": {
      "image/png": "[encoded data removed]",
      "text/plain": [
       "<Figure size 640x480 with 1 Axes>"
      ]
     },
     "metadata": {},
     "output_type": "display_data"
    }
   ],
   "source": [
    "import numpy as np\n",
    "import matplotlib.pyplot as plt\n",
    "\n",
    "uncertainty_array = np.load('Uncertainty_map.npy')\n",
    "hitmap = np.load('hit_map.npy')\n",
    "confusion = np.load('Confusion_matrix.npy')\n",
    "f1score = np.load('Fscore.npy')\n",
    "max_threshold = np.load('Max_threshold.npy')\n",
    "max_fscore = np.load('Max_fscore.npy')\n",
    "# Flatten the 2D array into a 1D array\n",
    "array_1d = uncertainty_array.flatten()\n",
    "\n",
    "# Create a histogram\n",
    "plt.hist(array_1d, bins=10, edgecolor='black')\n",
    "\n",
    "# Add labels and title\n",
    "plt.xlabel('Value')\n",
    "plt.ylabel('Frequency')\n",
    "plt.title('Uncertainty Histogram')\n",
    "\n",
    "# Show the histogram\n",
    "plt.show()\n"
   ]
  },
  {
   "cell_type": "code",
   "execution_count": 47,
   "metadata": {},
   "outputs": [
    {
     "data": {
      "image/png": "[encoded data removed]",
      "text/plain": [
       "<Figure size 640x480 with 1 Axes>"
      ]
     },
     "metadata": {},
     "output_type": "display_data"
    }
   ],
   "source": [
    "import numpy as np\n",
    "import matplotlib.pyplot as plt\n",
    "\n",
    "\n",
    "# Flatten the 2D array into a 1D array\n",
    "array_1d = hitmap.flatten()\n",
    "\n",
    "# Create a histogram\n",
    "plt.hist(array_1d, bins=10, edgecolor='black')\n",
    "\n",
    "# Add labels and title\n",
    "plt.xlabel('Value')\n",
    "plt.ylabel('Frequency')\n",
    "plt.title('Heat map')\n",
    "\n",
    "# Show the histogram\n",
    "plt.show()\n"
   ]
  },
  {
   "cell_type": "code",
   "execution_count": 48,
   "metadata": {},
   "outputs": [
    {
     "name": "stdout",
     "output_type": "stream",
     "text": [
      "Mode (KDE): 0.0\n"
     ]
    }
   ],
   "source": [
    "import numpy as np\n",
    "from scipy.stats import gaussian_kde\n",
    "\n",
    "# Perform Kernel Density Estimation\n",
    "kde = gaussian_kde(array_1d)\n",
    "\n",
    "# Create an array of values to evaluate the density\n",
    "x_values = np.linspace(min(array_1d), max(array_1d), 1000)\n",
    "\n",
    "# Find the mode as the value with the highest density\n",
    "mode_value = x_values[np.argmax(kde(x_values))]\n",
    "\n",
    "print(f\"Mode (KDE): {mode_value}\")"
   ]
  },
  {
   "cell_type": "code",
   "execution_count": 54,
   "metadata": {},
   "outputs": [
    {
     "name": "stdout",
     "output_type": "stream",
     "text": [
      "0.1612829858725444\n",
      "0.3074023057393767\n",
      "1.0\n",
      "0.0\n",
      "[[1990492.   68431.]\n",
      " [ 117187.   24519.]]\n",
      "Mode: 0.0 with count: 9335521\n",
      "True Positives (TP): 24519.0\n",
      "False Positives (FP): 68431.0\n",
      "True Negatives (TN): 1990492.0\n",
      "False Negatives (FN): 117187.0\n",
      "True Positives (TP): 1.11%\n",
      "False Positives (FP): 3.11%\n",
      "True Negatives (TN): 90.45%\n",
      "False Negatives (FN): 5.33%\n"
     ]
    }
   ],
   "source": [
    "from scipy import stats\n",
    "\n",
    "flat_hitmap = hitmap.flatten()\n",
    "\n",
    "print(np.mean(flat_hitmap))\n",
    "print(np.std(flat_hitmap))\n",
    "print(np.max(flat_hitmap))\n",
    "print(np.min(flat_hitmap))\n",
    "print(confusion[:,:,50])\n",
    "\n",
    "# Compute the mode of the binned data\n",
    "mode_value, mode_count = stats.mode(np.round(flat_hitmap, decimals=1))\n",
    "\n",
    "print(f\"Mode: {mode_value} with count: {mode_count}\")\n",
    "\n",
    "# Extract TN, FP, FN, TP from the confusion matrix\n",
    "tn, fp, fn, tp = confusion[:,:,50].ravel()\n",
    "\n",
    "print(f\"True Positives (TP): {tp}\")\n",
    "print(f\"False Positives (FP): {fp}\")\n",
    "print(f\"True Negatives (TN): {tn}\")\n",
    "print(f\"False Negatives (FN): {fn}\")\n",
    "\n",
    "total = tn + fp + fn + tp\n",
    "\n",
    "# Calculate the percentages\n",
    "tp_percent = (tp / total) * 100\n",
    "fp_percent = (fp / total) * 100\n",
    "tn_percent = (tn / total) * 100\n",
    "fn_percent = (fn / total) * 100\n",
    "\n",
    "print(f\"True Positives (TP): {tp_percent:.2f}%\")\n",
    "print(f\"False Positives (FP): {fp_percent:.2f}%\")\n",
    "print(f\"True Negatives (TN): {tn_percent:.2f}%\")\n",
    "print(f\"False Negatives (FN): {fn_percent:.2f}%\")"
   ]
  },
  {
   "cell_type": "code",
   "execution_count": 100,
   "metadata": {},
   "outputs": [
    {
     "name": "stdout",
     "output_type": "stream",
     "text": [
      "0.24139070295421625\n",
      "0.33954049103168277\n",
      "0.3413239966439754\n",
      "0.38398329021236505\n"
     ]
    },
    {
     "data": {
      "text/plain": [
       "'\\ntotal_count = array_1d.size\\n\\n#0.974\\nthreshold = 0.026\\n\\n# Count the number of values below the threshold\\nbelow_threshold_count = np.sum(array_1d < threshold)\\n\\npercentage_below_threshold = (below_threshold_count / total_count) * 100\\n\\nprint(f\"Percentage of values below {threshold}: {percentage_below_threshold:.2f}%\")\\n'"
      ]
     },
     "execution_count": 100,
     "metadata": {},
     "output_type": "execute_result"
    }
   ],
   "source": [
    "import numpy as np\n",
    "import matplotlib.pyplot as plt\n",
    "\n",
    "uncertainty_array_ma_pa = np.load('/Users/luizm/workspace/GitHub/FC-DANN_DA_For_CD_MultiTarget_TF2/Results and charts/20240813/results_tr_Cerrado_MA_classification_S_Cerrado_MA_T_Amazon_PA/Avg_Scores/Uncertainty_map.npy')\n",
    "uncertainty_array_ma_ro = np.load('/Users/luizm/workspace/GitHub/FC-DANN_DA_For_CD_MultiTarget_TF2/Results and charts/20240813/results_tr_Cerrado_MA_classification_S_Cerrado_MA_T_Amazon_RO/Avg_Scores/Uncertainty_map.npy')\n",
    "\n",
    "#array_1d = uncertainty_array.flatten()\n",
    "\n",
    "print(np.mean(uncertainty_array_ma_pa.flatten()))\n",
    "print(np.std(uncertainty_array_ma_pa.flatten()))\n",
    "\n",
    "print(np.mean(uncertainty_array_ma_ro.flatten()))\n",
    "print(np.std(uncertainty_array_ma_ro.flatten()))\n",
    "\n",
    "'''\n",
    "total_count = array_1d.size\n",
    "\n",
    "#0.974\n",
    "threshold = 0.026\n",
    "\n",
    "# Count the number of values below the threshold\n",
    "below_threshold_count = np.sum(array_1d < threshold)\n",
    "\n",
    "percentage_below_threshold = (below_threshold_count / total_count) * 100\n",
    "\n",
    "print(f\"Percentage of values below {threshold}: {percentage_below_threshold:.2f}%\")\n",
    "'''"
   ]
  },
  {
   "cell_type": "code",
   "execution_count": 60,
   "metadata": {},
   "outputs": [
    {
     "name": "stdout",
     "output_type": "stream",
     "text": [
      "13056000\n",
      "(2550, 5120)\n"
     ]
    }
   ],
   "source": [
    "print(total_count)\n",
    "print(uncertainty_array.shape)\n",
    "print()"
   ]
  },
  {
   "cell_type": "code",
   "execution_count": 85,
   "metadata": {},
   "outputs": [],
   "source": [
    "def get_mean(pred_probs):\n",
    "      return np.mean(pred_probs, axis=0)\n",
    "  \n",
    "def predictive_entropy(pred_probs, classes_mode = False):\n",
    "    pred_mean = get_mean(pred_probs) # shape (patch_len, patch_len, class_n)\n",
    "    pred_entropy = np.zeros((pred_mean.shape[0:2]))\n",
    "\n",
    "    K = pred_mean.shape[-1]\n",
    "    print(\"K = {}, pred_mean shape {}\".format(K, pred_mean.shape))\n",
    "    for k in range(K):\n",
    "        pred_entropy = pred_entropy + pred_mean[..., k] * np.log(pred_mean[..., k] + epsilon) \n",
    "    if classes_mode == True:\n",
    "        pred_entropy = - pred_entropy / np.log(K)\n",
    "        # pred_entropy = - pred_entropy / K\n",
    "    else:\n",
    "        pred_entropy = - pred_entropy / K\n",
    "        # pred_entropy = - pred_entropy * 2 / np.log(2)\n",
    "        ## pred_entropy = - pred_entropy / np.log(2)\n",
    "    \n",
    "    return pred_entropy"
   ]
  },
  {
   "cell_type": "code",
   "execution_count": 87,
   "metadata": {},
   "outputs": [
    {
     "name": "stdout",
     "output_type": "stream",
     "text": [
      "K = 1, pred_mean shape (5120, 1)\n",
      "[[0.08336214]\n",
      " [0.08379462]\n",
      " [0.08786223]\n",
      " ...\n",
      " [0.21366475]\n",
      " [0.20897895]\n",
      " [0.20799165]]\n",
      "(5120, 1)\n",
      "(5120, 5120)\n",
      "(2550, 5120)\n"
     ]
    }
   ],
   "source": [
    "array_3d_alt = np.expand_dims(uncertainty_array, axis=-1)\n",
    "\n",
    "pred_entrop = predictive_entropy(array_3d_alt)\n",
    "\n",
    "mean_uncertainty = get_mean(array_3d_alt)\n",
    "\n",
    "print(mean_uncertainty)\n",
    "\n",
    "print(mean_uncertainty.shape)\n",
    "\n",
    "print(pred_entrop.shape)\n",
    "print(uncertainty_array.shape)"
   ]
  }
 ],
 "metadata": {
  "kernelspec": {
   "display_name": "tf2env",
   "language": "python",
   "name": "python3"
  },
  "language_info": {
   "codemirror_mode": {
    "name": "ipython",
    "version": 3
   },
   "file_extension": ".py",
   "mimetype": "text/x-python",
   "name": "python",
   "nbconvert_exporter": "python",
   "pygments_lexer": "ipython3",
   "version": "3.11.8"
  }
 },
 "nbformat": 4,
 "nbformat_minor": 2
}
