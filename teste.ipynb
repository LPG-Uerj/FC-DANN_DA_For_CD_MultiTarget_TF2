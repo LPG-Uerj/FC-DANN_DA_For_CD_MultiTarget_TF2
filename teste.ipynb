{
 "cells": [
  {
   "cell_type": "code",
   "execution_count": 9,
   "metadata": {},
   "outputs": [
    {
     "name": "stdout",
     "output_type": "stream",
     "text": [
      "[4.7693458 3.2580965 4.7693458 3.2580965 4.7693458 3.2580965]\n"
     ]
    }
   ],
   "source": [
    "import tensorflow as tf\n",
    "\n",
    "y_true = [[0, 1], [0, 1],[0, 1], [0, 1],[0, 1], [0, 1]]\n",
    "y_pred = [[111, 0.95], [20, 0.8],[111, 0.95], [20, 0.8], [111, 0.95], [20, 0.8]]\n",
    "loss = tf.keras.losses.categorical_crossentropy(y_true, y_pred)\n",
    "#assert loss.shape == (2,)\n",
    "print(loss.numpy())"
   ]
  },
  {
   "cell_type": "code",
   "execution_count": 19,
   "metadata": {},
   "outputs": [
    {
     "name": "stdout",
     "output_type": "stream",
     "text": [
      "1.1588303\n",
      "0.56368005\n"
     ]
    }
   ],
   "source": [
    "import tensorflow as tf\n",
    "import numpy as np\n",
    "\n",
    "a = tf.keras.utils.to_categorical([0, 1, 2, 3], num_classes=4)\n",
    "\n",
    "y_true = tf.keras.utils.to_categorical([0, 0, 0, 0], num_classes=2)\n",
    "\n",
    "y_pred = [[0.01, 0.99], [0.99, 0.01], [0.99, 0.01], [0.99, 0.01]]\n",
    "\n",
    "cce = tf.keras.losses.CategoricalCrossentropy()\n",
    "print(cce(y_true, y_pred).numpy())\n",
    "\n",
    "\n",
    "domainregressor_loss = tf.reduce_mean(tf.compat.v1.losses.softmax_cross_entropy(y_true, y_pred)).numpy()\n",
    "\n",
    "print(domainregressor_loss)"
   ]
  },
  {
   "cell_type": "code",
   "execution_count": 27,
   "metadata": {},
   "outputs": [
    {
     "name": "stdout",
     "output_type": "stream",
     "text": [
      "1.3877425\n",
      "1.3877425\n",
      "1.3877425\n"
     ]
    }
   ],
   "source": [
    "import tensorflow as tf\n",
    "from keras.losses import CategoricalCrossentropy\n",
    "\n",
    "\n",
    "logits = [[4.0, 2.0], [1.0, 5.0,], [1.0, 5.0]]\n",
    "labels = [[1, 0], [0, 1], [1, 0]]\n",
    "\n",
    "#logits = [[-1000.0, 1000.0]]\n",
    "#labels = [[1.0, 0.0]]\n",
    "\n",
    "cce = tf.keras.losses.CategoricalCrossentropy(from_logits=True)\n",
    "result = cce(labels, logits).numpy()\n",
    "\n",
    "print(result)\n",
    "\n",
    "\n",
    "domainregressor_loss = tf.reduce_mean(tf.nn.softmax_cross_entropy_with_logits(logits = logits, labels = labels)).numpy()\n",
    "\n",
    "print(domainregressor_loss)\n",
    "\n",
    "softmax = tf.nn.softmax(logits)\n",
    "\n",
    "#print(softmax)\n",
    "\n",
    "cce2 = tf.keras.losses.CategoricalCrossentropy(from_logits=False)\n",
    "result2 = cce2(labels, softmax).numpy()\n",
    "\n",
    "print(result2)"
   ]
  },
  {
   "cell_type": "code",
   "execution_count": 1,
   "metadata": {},
   "outputs": [
    {
     "ename": "ModuleNotFoundError",
     "evalue": "No module named 'tensorflow'",
     "output_type": "error",
     "traceback": [
      "\u001b[0;31m---------------------------------------------------------------------------\u001b[0m",
      "\u001b[0;31mModuleNotFoundError\u001b[0m                       Traceback (most recent call last)",
      "Cell \u001b[0;32mIn[1], line 1\u001b[0m\n\u001b[0;32m----> 1\u001b[0m \u001b[38;5;28;01mimport\u001b[39;00m \u001b[38;5;21;01mtensorflow\u001b[39;00m \u001b[38;5;28;01mas\u001b[39;00m \u001b[38;5;21;01mtf\u001b[39;00m\n\u001b[1;32m      2\u001b[0m \u001b[38;5;28;01mfrom\u001b[39;00m \u001b[38;5;21;01mkeras\u001b[39;00m\u001b[38;5;21;01m.\u001b[39;00m\u001b[38;5;21;01mlosses\u001b[39;00m \u001b[38;5;28;01mimport\u001b[39;00m CategoricalCrossentropy\n\u001b[1;32m      5\u001b[0m logits \u001b[38;5;241m=\u001b[39m [[\u001b[38;5;241m4.0\u001b[39m, \u001b[38;5;241m2.0\u001b[39m], [\u001b[38;5;241m1.0\u001b[39m, \u001b[38;5;241m5.0\u001b[39m,], [\u001b[38;5;241m1.0\u001b[39m, \u001b[38;5;241m5.0\u001b[39m]]\n",
      "\u001b[0;31mModuleNotFoundError\u001b[0m: No module named 'tensorflow'"
     ]
    }
   ],
   "source": [
    "import tensorflow as tf\n",
    "from keras.losses import CategoricalCrossentropy\n",
    "\n",
    "\n",
    "logits = [[4.0, 2.0], [1.0, 5.0,], [1.0, 5.0]]\n",
    "labels = [[1, 0], [0, 1], [1, 0]]\n",
    "\n",
    "#logits = [[-1000.0, 1000.0]]\n",
    "#labels = [[1.0, 0.0]]\n",
    "\n",
    "cce = tf.keras.losses.CategoricalCrossentropy(from_logits=True)\n",
    "result = cce(labels, logits).numpy()\n",
    "\n",
    "print(result)\n",
    "\n",
    "\n",
    "domainregressor_loss = tf.reduce_mean(tf.nn.softmax_cross_entropy_with_logits(logits = logits, labels = labels)).numpy()\n",
    "\n",
    "print(domainregressor_loss)\n",
    "\n",
    "softmax = tf.nn.softmax(logits)\n",
    "\n",
    "#print(softmax)\n",
    "\n",
    "cce2 = tf.keras.losses.CategoricalCrossentropy(from_logits=False)\n",
    "result2 = cce2(labels, softmax).numpy()\n",
    "\n",
    "print(result2)"
   ]
  },
  {
   "cell_type": "code",
   "execution_count": 10,
   "metadata": {},
   "outputs": [
    {
     "name": "stdout",
     "output_type": "stream",
     "text": [
      "1e-06\n"
     ]
    }
   ],
   "source": [
    "lambd = 1.e-6\n",
    "\n",
    "print(lambd)"
   ]
  },
  {
   "cell_type": "code",
   "execution_count": 2,
   "metadata": {},
   "outputs": [
    {
     "name": "stdout",
     "output_type": "stream",
     "text": [
      "Random array with shape (32, 2):\n",
      "[[1 1]\n",
      " [1 0]\n",
      " [1 1]\n",
      " [0 0]\n",
      " [0 1]\n",
      " [0 0]\n",
      " [1 0]\n",
      " [1 1]\n",
      " [0 0]\n",
      " [1 1]\n",
      " [1 1]\n",
      " [0 0]\n",
      " [1 1]\n",
      " [1 0]\n",
      " [1 1]\n",
      " [0 1]\n",
      " [0 0]\n",
      " [0 0]\n",
      " [0 0]\n",
      " [0 0]\n",
      " [1 1]\n",
      " [0 1]\n",
      " [1 1]\n",
      " [1 1]\n",
      " [0 1]\n",
      " [0 0]\n",
      " [0 0]\n",
      " [1 1]\n",
      " [0 1]\n",
      " [0 0]\n",
      " [0 0]\n",
      " [1 0]]\n"
     ]
    }
   ],
   "source": [
    "import numpy as np\n",
    "\n",
    "# Create a random array with shape (32, 2) containing only 0s and 1s\n",
    "random_array = np.random.randint(2, size=(32, 2))\n",
    "\n",
    "print(\"Random array with shape (32, 2):\")\n",
    "print(random_array)\n"
   ]
  },
  {
   "cell_type": "code",
   "execution_count": null,
   "metadata": {},
   "outputs": [],
   "source": [
    "import numpy as np\n",
    "\n",
    "# Create a random array with shape (32, 2) containing only 0s and 1s\n",
    "random_array = np.random.randint(2, size=(32, 2))\n",
    "\n",
    "print(\"Random array with shape (32, 2):\")\n",
    "print(random_array)\n"
   ]
  },
  {
   "cell_type": "code",
   "execution_count": 10,
   "metadata": {},
   "outputs": [
    {
     "name": "stdout",
     "output_type": "stream",
     "text": [
      "Original array: [1 2 3 1 2 1 3 4 5 4 5 5]\n",
      "Unique elements: [1 2 3 4 5]\n",
      "Counts: [3 2 2 2 3]\n",
      "Frequency array: [3 2 2 2 3]\n"
     ]
    }
   ],
   "source": [
    "import numpy as np\n",
    "\n",
    "# Example 1D array\n",
    "original_array = np.array([1, 2, 3, 1, 2, 1, 3, 4, 5, 4, 5, 5])\n",
    "\n",
    "# Calculate the frequency of each unique element\n",
    "unique_elements, counts = np.unique(original_array, return_counts=True)\n",
    "\n",
    "# Create a frequency array based on the occurrences\n",
    "frequency_array = np.zeros_like(unique_elements)\n",
    "\n",
    "for element, count in zip(unique_elements, counts):\n",
    "    frequency_array[element - 1] = count\n",
    "\n",
    "print(\"Original array:\", original_array)\n",
    "print(\"Unique elements:\", unique_elements)\n",
    "print(\"Counts:\", counts)\n",
    "print(\"Frequency array:\", frequency_array)\n"
   ]
  },
  {
   "cell_type": "code",
   "execution_count": 10,
   "metadata": {},
   "outputs": [
    {
     "name": "stdout",
     "output_type": "stream",
     "text": [
      "(150, 4)\n",
      "(150,)\n"
     ]
    }
   ],
   "source": [
    "from sklearn import datasets\n",
    "\n",
    "iris = datasets.load_iris()\n",
    "x, y = iris[\"data\"], iris[\"target\"]\n",
    "\n",
    "print(np.shape(x))\n",
    "print(np.shape(y))"
   ]
  },
  {
   "cell_type": "code",
   "execution_count": 11,
   "metadata": {},
   "outputs": [],
   "source": [
    "from openTSNE import TSNE\n",
    "\n",
    "embedding = TSNE().fit(x)"
   ]
  },
  {
   "cell_type": "code",
   "execution_count": 13,
   "metadata": {},
   "outputs": [
    {
     "data": {
      "text/plain": [
       "([],\n",
       " [],\n",
       " (-8.577521949700085,\n",
       "  7.5330015394576995,\n",
       "  -14.223160873491842,\n",
       "  22.11578590622979))"
      ]
     },
     "execution_count": 13,
     "metadata": {},
     "output_type": "execute_result"
    },
    {
     "data": {
      "image/png": "[encoded data removed]",
      "text/plain": [
       "<Figure size 800x800 with 1 Axes>"
      ]
     },
     "metadata": {},
     "output_type": "display_data"
    }
   ],
   "source": [
    "import numpy as np\n",
    "import matplotlib.pyplot as plt\n",
    "#np.shape(embedding)\n",
    "\n",
    "_, ax = plt.subplots(figsize=(8, 8))\n",
    "ax.scatter(embedding[:, 0], embedding[:, 1], s=10)\n",
    "\n",
    "ax.set_xticks([]), ax.set_yticks([]), ax.axis('off')"
   ]
  },
  {
   "cell_type": "code",
   "execution_count": 3,
   "metadata": {},
   "outputs": [
    {
     "ename": "ModuleNotFoundError",
     "evalue": "No module named 'examples'",
     "output_type": "error",
     "traceback": [
      "\u001b[0;31m---------------------------------------------------------------------------\u001b[0m",
      "\u001b[0;31mModuleNotFoundError\u001b[0m                       Traceback (most recent call last)",
      "\u001b[1;32m/Users/luizm/workspace/GitHub/FC-DANN_DA_For_CD_MultiTarget_TF2/teste.ipynb Cell 8\u001b[0m line \u001b[0;36m3\n\u001b[1;32m      <a href='vscode-notebook-cell:/Users/luizm/workspace/GitHub/FC-DANN_DA_For_CD_MultiTarget_TF2/teste.ipynb#W6sZmlsZQ%3D%3D?line=0'>1</a>\u001b[0m \u001b[39mfrom\u001b[39;00m \u001b[39mopenTSNE\u001b[39;00m \u001b[39mimport\u001b[39;00m TSNE\n\u001b[0;32m----> <a href='vscode-notebook-cell:/Users/luizm/workspace/GitHub/FC-DANN_DA_For_CD_MultiTarget_TF2/teste.ipynb#W6sZmlsZQ%3D%3D?line=2'>3</a>\u001b[0m \u001b[39mfrom\u001b[39;00m \u001b[39mexamples\u001b[39;00m \u001b[39mimport\u001b[39;00m utils\n\u001b[1;32m      <a href='vscode-notebook-cell:/Users/luizm/workspace/GitHub/FC-DANN_DA_For_CD_MultiTarget_TF2/teste.ipynb#W6sZmlsZQ%3D%3D?line=4'>5</a>\u001b[0m \u001b[39mimport\u001b[39;00m \u001b[39mnumpy\u001b[39;00m \u001b[39mas\u001b[39;00m \u001b[39mnp\u001b[39;00m\n\u001b[1;32m      <a href='vscode-notebook-cell:/Users/luizm/workspace/GitHub/FC-DANN_DA_For_CD_MultiTarget_TF2/teste.ipynb#W6sZmlsZQ%3D%3D?line=5'>6</a>\u001b[0m \u001b[39mfrom\u001b[39;00m \u001b[39msklearn\u001b[39;00m\u001b[39m.\u001b[39;00m\u001b[39mmodel_selection\u001b[39;00m \u001b[39mimport\u001b[39;00m train_test_split\n",
      "\u001b[0;31mModuleNotFoundError\u001b[0m: No module named 'examples'"
     ]
    }
   ],
   "source": [
    "from openTSNE import TSNE\n",
    "\n",
    "from examples import utils\n",
    "\n",
    "import numpy as np\n",
    "from sklearn.model_selection import train_test_split\n",
    "\n",
    "import matplotlib.pyplot as plt"
   ]
  },
  {
   "cell_type": "code",
   "execution_count": 22,
   "metadata": {},
   "outputs": [
    {
     "name": "stdout",
     "output_type": "stream",
     "text": [
      "tf.Tensor(nan, shape=(), dtype=float64)\n",
      "tf.Tensor(0.0, shape=(), dtype=float64)\n",
      "tf.Tensor(nan, shape=(), dtype=float64)\n"
     ]
    }
   ],
   "source": [
    "import tensorflow as tf\n",
    "import numpy as np\n",
    "\n",
    "loss = 5\n",
    "\n",
    "mask = np.zeros(10)\n",
    "\n",
    "classifier_loss = 2\n",
    "\n",
    "safe_classifier = tf.math.divide_no_nan(tf.reduce_sum(mask * loss), tf.reduce_sum(mask))\n",
    "classifier_loss +=  tf.reduce_sum(mask * loss) / tf.reduce_sum(mask)\n",
    "\n",
    "print(classifier_loss)\n",
    "print(safe_classifier)\n",
    "print(tf.reduce_sum(classifier_loss))"
   ]
  },
  {
   "cell_type": "code",
   "execution_count": 24,
   "metadata": {},
   "outputs": [
    {
     "ename": "ValueError",
     "evalue": "Shapes (150,) and (150, 2) are incompatible",
     "output_type": "error",
     "traceback": [
      "\u001b[0;31m---------------------------------------------------------------------------\u001b[0m",
      "\u001b[0;31mValueError\u001b[0m                                Traceback (most recent call last)",
      "\u001b[1;32m/Users/luizm/workspace/GitHub/FC-DANN_DA_For_CD_MultiTarget_TF2/teste.ipynb Cell 10\u001b[0m line \u001b[0;36m6\n\u001b[1;32m      <a href='vscode-notebook-cell:/Users/luizm/workspace/GitHub/FC-DANN_DA_For_CD_MultiTarget_TF2/teste.ipynb#X12sZmlsZQ%3D%3D?line=3'>4</a>\u001b[0m \u001b[39mwith\u001b[39;00m tf\u001b[39m.\u001b[39mGradientTape() \u001b[39mas\u001b[39;00m g:\n\u001b[1;32m      <a href='vscode-notebook-cell:/Users/luizm/workspace/GitHub/FC-DANN_DA_For_CD_MultiTarget_TF2/teste.ipynb#X12sZmlsZQ%3D%3D?line=4'>5</a>\u001b[0m   z \u001b[39m=\u001b[39m tf\u001b[39m.\u001b[39mkeras\u001b[39m.\u001b[39mSequential(tf\u001b[39m.\u001b[39mkeras\u001b[39m.\u001b[39mlayers\u001b[39m.\u001b[39mDense(\u001b[39m2\u001b[39m, activation \u001b[39m=\u001b[39m \u001b[39m\"\u001b[39m\u001b[39msoftmax\u001b[39m\u001b[39m\"\u001b[39m, use_bias \u001b[39m=\u001b[39m \u001b[39mFalse\u001b[39;00m))(x)\n\u001b[0;32m----> <a href='vscode-notebook-cell:/Users/luizm/workspace/GitHub/FC-DANN_DA_For_CD_MultiTarget_TF2/teste.ipynb#X12sZmlsZQ%3D%3D?line=5'>6</a>\u001b[0m   z \u001b[39m=\u001b[39m tf\u001b[39m.\u001b[39mlosses\u001b[39m.\u001b[39mcategorical_crossentropy(y, z)\n\u001b[1;32m      <a href='vscode-notebook-cell:/Users/luizm/workspace/GitHub/FC-DANN_DA_For_CD_MultiTarget_TF2/teste.ipynb#X12sZmlsZQ%3D%3D?line=6'>7</a>\u001b[0m dz_dx \u001b[39m=\u001b[39m g\u001b[39m.\u001b[39mgradient(z, x)\n",
      "File \u001b[0;32m~/miniconda3/envs/tf2env/lib/python3.11/site-packages/tensorflow/python/util/traceback_utils.py:153\u001b[0m, in \u001b[0;36mfilter_traceback.<locals>.error_handler\u001b[0;34m(*args, **kwargs)\u001b[0m\n\u001b[1;32m    151\u001b[0m \u001b[39mexcept\u001b[39;00m \u001b[39mException\u001b[39;00m \u001b[39mas\u001b[39;00m e:\n\u001b[1;32m    152\u001b[0m   filtered_tb \u001b[39m=\u001b[39m _process_traceback_frames(e\u001b[39m.\u001b[39m__traceback__)\n\u001b[0;32m--> 153\u001b[0m   \u001b[39mraise\u001b[39;00m e\u001b[39m.\u001b[39mwith_traceback(filtered_tb) \u001b[39mfrom\u001b[39;00m \u001b[39mNone\u001b[39;00m\n\u001b[1;32m    154\u001b[0m \u001b[39mfinally\u001b[39;00m:\n\u001b[1;32m    155\u001b[0m   \u001b[39mdel\u001b[39;00m filtered_tb\n",
      "File \u001b[0;32m~/miniconda3/envs/tf2env/lib/python3.11/site-packages/keras/src/losses.py:2122\u001b[0m, in \u001b[0;36mcategorical_crossentropy\u001b[0;34m(y_true, y_pred, from_logits, label_smoothing, axis)\u001b[0m\n\u001b[1;32m   2114\u001b[0m     \u001b[39mreturn\u001b[39;00m y_true \u001b[39m*\u001b[39m (\u001b[39m1.0\u001b[39m \u001b[39m-\u001b[39m label_smoothing) \u001b[39m+\u001b[39m (\n\u001b[1;32m   2115\u001b[0m         label_smoothing \u001b[39m/\u001b[39m num_classes\n\u001b[1;32m   2116\u001b[0m     )\n\u001b[1;32m   2118\u001b[0m y_true \u001b[39m=\u001b[39m tf\u001b[39m.\u001b[39m__internal__\u001b[39m.\u001b[39msmart_cond\u001b[39m.\u001b[39msmart_cond(\n\u001b[1;32m   2119\u001b[0m     label_smoothing, _smooth_labels, \u001b[39mlambda\u001b[39;00m: y_true\n\u001b[1;32m   2120\u001b[0m )\n\u001b[0;32m-> 2122\u001b[0m \u001b[39mreturn\u001b[39;00m backend\u001b[39m.\u001b[39mcategorical_crossentropy(\n\u001b[1;32m   2123\u001b[0m     y_true, y_pred, from_logits\u001b[39m=\u001b[39mfrom_logits, axis\u001b[39m=\u001b[39maxis\n\u001b[1;32m   2124\u001b[0m )\n",
      "File \u001b[0;32m~/miniconda3/envs/tf2env/lib/python3.11/site-packages/keras/src/backend.py:5560\u001b[0m, in \u001b[0;36mcategorical_crossentropy\u001b[0;34m(target, output, from_logits, axis)\u001b[0m\n\u001b[1;32m   5558\u001b[0m target \u001b[39m=\u001b[39m tf\u001b[39m.\u001b[39mconvert_to_tensor(target)\n\u001b[1;32m   5559\u001b[0m output \u001b[39m=\u001b[39m tf\u001b[39m.\u001b[39mconvert_to_tensor(output)\n\u001b[0;32m-> 5560\u001b[0m target\u001b[39m.\u001b[39mshape\u001b[39m.\u001b[39massert_is_compatible_with(output\u001b[39m.\u001b[39mshape)\n\u001b[1;32m   5562\u001b[0m output, from_logits \u001b[39m=\u001b[39m _get_logits(\n\u001b[1;32m   5563\u001b[0m     output, from_logits, \u001b[39m\"\u001b[39m\u001b[39mSoftmax\u001b[39m\u001b[39m\"\u001b[39m, \u001b[39m\"\u001b[39m\u001b[39mcategorical_crossentropy\u001b[39m\u001b[39m\"\u001b[39m\n\u001b[1;32m   5564\u001b[0m )\n\u001b[1;32m   5565\u001b[0m \u001b[39mif\u001b[39;00m from_logits:\n",
      "\u001b[0;31mValueError\u001b[0m: Shapes (150,) and (150, 2) are incompatible"
     ]
    }
   ],
   "source": [
    "import tensorflow as tf\n",
    "import numpy as np\n",
    "\n",
    "with tf.GradientTape() as g:\n",
    "  z = tf.keras.Sequential(tf.keras.layers.Dense(2, activation = \"softmax\", use_bias = False))(x)\n",
    "  z = tf.losses.categorical_crossentropy(y, z)\n",
    "dz_dx = g.gradient(z, x)"
   ]
  },
  {
   "cell_type": "code",
   "execution_count": 7,
   "metadata": {},
   "outputs": [
    {
     "name": "stdout",
     "output_type": "stream",
     "text": [
      "INFO:tensorflow:Enabled check-numerics callback in thread MainThread\n"
     ]
    },
    {
     "ename": "InvalidArgumentError",
     "evalue": "{{function_node __wrapped__CheckNumericsV2_device_/job:localhost/replica:0/task:0/device:CPU:0}} \n\n!!! Detected Infinity or NaN in output 0 of eagerly-executing op \"Sqrt\" (# of outputs: 1) !!!\n  dtype: <dtype: 'float64'>\n  shape: (2, 2)\n  # of +NaN elements: 1\n\n  Input tensor: tf.Tensor(\n[[ 0. -2.]\n [ 4.  3.]], shape=(2, 2), dtype=float64)\n\n : Tensor had NaN values [Op:CheckNumericsV2] name: ",
     "output_type": "error",
     "traceback": [
      "\u001b[0;31m---------------------------------------------------------------------------\u001b[0m",
      "\u001b[0;31mInvalidArgumentError\u001b[0m                      Traceback (most recent call last)",
      "Cell \u001b[0;32mIn[7], line 12\u001b[0m\n\u001b[1;32m      6\u001b[0m x \u001b[38;5;241m=\u001b[39m np\u001b[38;5;241m.\u001b[39marray([[\u001b[38;5;241m0.0\u001b[39m, \u001b[38;5;241m-\u001b[39m\u001b[38;5;241m2.0\u001b[39m], [\u001b[38;5;241m4.0\u001b[39m, \u001b[38;5;241m3.0\u001b[39m]])\n\u001b[1;32m      8\u001b[0m \u001b[38;5;66;03m# The following line executes the Sqrt op eagerly. Due to the negative\u001b[39;00m\n\u001b[1;32m      9\u001b[0m \u001b[38;5;66;03m# element in the input array, a NaN is generated. Due to the\u001b[39;00m\n\u001b[1;32m     10\u001b[0m \u001b[38;5;66;03m# `enable_check_numerics()` call above, the program errors immediately\u001b[39;00m\n\u001b[1;32m     11\u001b[0m \u001b[38;5;66;03m# at this line, printing an error message.\u001b[39;00m\n\u001b[0;32m---> 12\u001b[0m y \u001b[38;5;241m=\u001b[39m tf\u001b[38;5;241m.\u001b[39mmath\u001b[38;5;241m.\u001b[39msqrt(x)\n\u001b[1;32m     13\u001b[0m z \u001b[38;5;241m=\u001b[39m tf\u001b[38;5;241m.\u001b[39mmatmul(y, y)\n",
      "File \u001b[0;32m~/miniconda3/envs/tf2env/lib/python3.11/site-packages/tensorflow/python/util/traceback_utils.py:153\u001b[0m, in \u001b[0;36mfilter_traceback.<locals>.error_handler\u001b[0;34m(*args, **kwargs)\u001b[0m\n\u001b[1;32m    151\u001b[0m \u001b[38;5;28;01mexcept\u001b[39;00m \u001b[38;5;167;01mException\u001b[39;00m \u001b[38;5;28;01mas\u001b[39;00m e:\n\u001b[1;32m    152\u001b[0m   filtered_tb \u001b[38;5;241m=\u001b[39m _process_traceback_frames(e\u001b[38;5;241m.\u001b[39m__traceback__)\n\u001b[0;32m--> 153\u001b[0m   \u001b[38;5;28;01mraise\u001b[39;00m e\u001b[38;5;241m.\u001b[39mwith_traceback(filtered_tb) \u001b[38;5;28;01mfrom\u001b[39;00m \u001b[38;5;28;01mNone\u001b[39;00m\n\u001b[1;32m    154\u001b[0m \u001b[38;5;28;01mfinally\u001b[39;00m:\n\u001b[1;32m    155\u001b[0m   \u001b[38;5;28;01mdel\u001b[39;00m filtered_tb\n",
      "File \u001b[0;32m~/miniconda3/envs/tf2env/lib/python3.11/site-packages/tensorflow/python/framework/ops.py:6656\u001b[0m, in \u001b[0;36mraise_from_not_ok_status\u001b[0;34m(e, name)\u001b[0m\n\u001b[1;32m   6654\u001b[0m \u001b[38;5;28;01mdef\u001b[39;00m \u001b[38;5;21mraise_from_not_ok_status\u001b[39m(e, name):\n\u001b[1;32m   6655\u001b[0m   e\u001b[38;5;241m.\u001b[39mmessage \u001b[38;5;241m+\u001b[39m\u001b[38;5;241m=\u001b[39m (\u001b[38;5;124m\"\u001b[39m\u001b[38;5;124m name: \u001b[39m\u001b[38;5;124m\"\u001b[39m \u001b[38;5;241m+\u001b[39m \u001b[38;5;28mstr\u001b[39m(name \u001b[38;5;28;01mif\u001b[39;00m name \u001b[38;5;129;01mis\u001b[39;00m \u001b[38;5;129;01mnot\u001b[39;00m \u001b[38;5;28;01mNone\u001b[39;00m \u001b[38;5;28;01melse\u001b[39;00m \u001b[38;5;124m\"\u001b[39m\u001b[38;5;124m\"\u001b[39m))\n\u001b[0;32m-> 6656\u001b[0m   \u001b[38;5;28;01mraise\u001b[39;00m core\u001b[38;5;241m.\u001b[39m_status_to_exception(e) \u001b[38;5;28;01mfrom\u001b[39;00m \u001b[38;5;28;01mNone\u001b[39;00m\n",
      "\u001b[0;31mInvalidArgumentError\u001b[0m: {{function_node __wrapped__CheckNumericsV2_device_/job:localhost/replica:0/task:0/device:CPU:0}} \n\n!!! Detected Infinity or NaN in output 0 of eagerly-executing op \"Sqrt\" (# of outputs: 1) !!!\n  dtype: <dtype: 'float64'>\n  shape: (2, 2)\n  # of +NaN elements: 1\n\n  Input tensor: tf.Tensor(\n[[ 0. -2.]\n [ 4.  3.]], shape=(2, 2), dtype=float64)\n\n : Tensor had NaN values [Op:CheckNumericsV2] name: "
     ]
    }
   ],
   "source": [
    "import numpy as np\n",
    "import tensorflow as tf\n",
    "\n",
    "tf.debugging.enable_check_numerics()\n",
    "\n",
    "x = np.array([[0.0, -2.0], [4.0, 3.0]])\n",
    "\n",
    "# The following line executes the Sqrt op eagerly. Due to the negative\n",
    "# element in the input array, a NaN is generated. Due to the\n",
    "# `enable_check_numerics()` call above, the program errors immediately\n",
    "# at this line, printing an error message.\n",
    "y = tf.math.sqrt(x)\n",
    "z = tf.matmul(y, y)"
   ]
  },
  {
   "cell_type": "code",
   "execution_count": 8,
   "metadata": {},
   "outputs": [
    {
     "name": "stdout",
     "output_type": "stream",
     "text": [
      "INFO:tensorflow:Enabled check-numerics callback in thread MainThread\n"
     ]
    },
    {
     "name": "stderr",
     "output_type": "stream",
     "text": [
      "2024-02-18 13:09:51.164191: I tensorflow/core/grappler/optimizers/custom_graph_optimizer_registry.cc:114] Plugin optimizer for device_type GPU is enabled.\n",
      "2024-02-18 13:09:51.345239: I tensorflow/core/framework/local_rendezvous.cc:405] Local rendezvous recv item cancelled. Key hash: 11670938625498693336\n"
     ]
    },
    {
     "ename": "InvalidArgumentError",
     "evalue": "Graph execution error:\n\nDetected at node 'Log/CheckNumericsV2_1' defined at (most recent call last):\n    File \"<frozen runpy>\", line 198, in _run_module_as_main\n    File \"<frozen runpy>\", line 88, in _run_code\n    File \"/Users/luizm/miniconda3/envs/tf2env/lib/python3.11/site-packages/ipykernel_launcher.py\", line 17, in <module>\n      app.launch_new_instance()\n    File \"/Users/luizm/miniconda3/envs/tf2env/lib/python3.11/site-packages/traitlets/config/application.py\", line 992, in launch_instance\n      app.start()\n    File \"/Users/luizm/miniconda3/envs/tf2env/lib/python3.11/site-packages/ipykernel/kernelapp.py\", line 736, in start\n      self.io_loop.start()\n    File \"/Users/luizm/miniconda3/envs/tf2env/lib/python3.11/site-packages/tornado/platform/asyncio.py\", line 195, in start\n      self.asyncio_loop.run_forever()\n    File \"/Users/luizm/miniconda3/envs/tf2env/lib/python3.11/asyncio/base_events.py\", line 607, in run_forever\n      self._run_once()\n    File \"/Users/luizm/miniconda3/envs/tf2env/lib/python3.11/asyncio/base_events.py\", line 1922, in _run_once\n      handle._run()\n    File \"/Users/luizm/miniconda3/envs/tf2env/lib/python3.11/asyncio/events.py\", line 80, in _run\n      self._context.run(self._callback, *self._args)\n    File \"/Users/luizm/miniconda3/envs/tf2env/lib/python3.11/site-packages/ipykernel/kernelbase.py\", line 516, in dispatch_queue\n      await self.process_one()\n    File \"/Users/luizm/miniconda3/envs/tf2env/lib/python3.11/site-packages/ipykernel/kernelbase.py\", line 505, in process_one\n      await dispatch(*args)\n    File \"/Users/luizm/miniconda3/envs/tf2env/lib/python3.11/site-packages/ipykernel/kernelbase.py\", line 412, in dispatch_shell\n      await result\n    File \"/Users/luizm/miniconda3/envs/tf2env/lib/python3.11/site-packages/ipykernel/kernelbase.py\", line 740, in execute_request\n      reply_content = await reply_content\n    File \"/Users/luizm/miniconda3/envs/tf2env/lib/python3.11/site-packages/ipykernel/ipkernel.py\", line 422, in do_execute\n      res = shell.run_cell(\n    File \"/Users/luizm/miniconda3/envs/tf2env/lib/python3.11/site-packages/ipykernel/zmqshell.py\", line 546, in run_cell\n      return super().run_cell(*args, **kwargs)\n    File \"/Users/luizm/miniconda3/envs/tf2env/lib/python3.11/site-packages/IPython/core/interactiveshell.py\", line 3009, in run_cell\n      result = self._run_cell(\n    File \"/Users/luizm/miniconda3/envs/tf2env/lib/python3.11/site-packages/IPython/core/interactiveshell.py\", line 3064, in _run_cell\n      result = runner(coro)\n    File \"/Users/luizm/miniconda3/envs/tf2env/lib/python3.11/site-packages/IPython/core/async_helpers.py\", line 129, in _pseudo_sync_runner\n      coro.send(None)\n    File \"/Users/luizm/miniconda3/envs/tf2env/lib/python3.11/site-packages/IPython/core/interactiveshell.py\", line 3269, in run_cell_async\n      has_raised = await self.run_ast_nodes(code_ast.body, cell_name,\n    File \"/Users/luizm/miniconda3/envs/tf2env/lib/python3.11/site-packages/IPython/core/interactiveshell.py\", line 3448, in run_ast_nodes\n      if await self.run_code(code, result, async_=asy):\n    File \"/Users/luizm/miniconda3/envs/tf2env/lib/python3.11/site-packages/IPython/core/interactiveshell.py\", line 3508, in run_code\n      exec(code_obj, self.user_global_ns, self.user_ns)\n    File \"/var/folders/l_/3f9qvn851p3d5d6p6qrcs9w80000gn/T/ipykernel_38652/2798990969.py\", line 19, in <module>\n      y = square_log_x_plus_1(x)\n    File \"/var/folders/l_/3f9qvn851p3d5d6p6qrcs9w80000gn/T/ipykernel_38652/2798990969.py\", line 7, in square_log_x_plus_1\n      v = tf.math.log(x + 1)\nNode: 'Log/CheckNumericsV2_1'\n2 root error(s) found.\n  (0) INVALID_ARGUMENT:  \n\n!!! Detected Infinity or NaN in output 0 of graph op \"Log\" (# of outputs: 1) !!!\n  dtype: <dtype: 'float32'>\n  shape: ()\n\n  Input tensor: Tensor(\"Log/x:0\", shape=(), dtype=float32)\n  Graph name: \"square_log_x_plus_1\"\n\n  Stack trace of op's creation (\"->\": inferred user code):\n    + ... (Omitted 8 frames)\n    + ...onda3/envs/tf2env/lib/python3.11/asyncio/events.py (L80) _run\n -> |   self._context.run(self._callback, *self._args)\n    + ...b/python3.11/site-packages/ipykernel/kernelbase.py (L516) dispatch_queue\n -> |   await self.process_one()\n    + ...b/python3.11/site-packages/ipykernel/kernelbase.py (L505) process_one\n -> |   await dispatch(*args)\n    + ...b/python3.11/site-packages/ipykernel/kernelbase.py (L412) dispatch_shell\n -> |   await result\n    + ...b/python3.11/site-packages/ipykernel/kernelbase.py (L740) execute_request\n -> |   reply_content = await reply_content\n    + ...lib/python3.11/site-packages/ipykernel/ipkernel.py (L422) do_execute\n -> |   res = shell.run_cell(\n    + ...lib/python3.11/site-packages/ipykernel/zmqshell.py (L546) run_cell\n -> |   return super().run_cell(*args, **kwargs)\n    + ....11/site-packages/IPython/core/interactiveshell.py (L3009) run_cell\n -> |   result = self._run_cell(\n    + ....11/site-packages/IPython/core/interactiveshell.py (L3064) _run_cell\n -> |   result = runner(coro)\n    + ...on3.11/site-packages/IPython/core/async_helpers.py (L129) _pseudo_sync_runner\n -> |   coro.send(None)\n    + ....11/site-packages/IPython/core/interactiveshell.py (L3269) run_cell_async\n -> |   has_raised = await self.run_ast_nodes(code_ast.body, cell_name,\n    + ....11/site-packages/IPython/core/interactiveshell.py (L3448) run_ast_nodes\n -> |   if await self.run_code(code, result, async_=asy):\n    + ....11/site-packages/IPython/core/interactiveshell.py (L3508) run_code\n -> |   exec(code_obj, self.user_global_ns, self.user_ns)\n    + ...5d6p6qrcs9w80000gn/T/ipykernel_38652/2798990969.py (L19) <module>\n -> |   y = square_log_x_plus_1(x)\n    + ...packages/tensorflow/python/util/traceback_utils.py (L150) error_handler\n    |   return fn(*args, **kwargs)\n    + ...eager/polymorphic_function/polymorphic_function.py (L825) __call__\n    |   result = self._call(*args, **kwds)\n    + ...eager/polymorphic_function/polymorphic_function.py (L873) _call\n    |   self._initialize(args, kwds, add_initializers_to=initializers)\n    + ...eager/polymorphic_function/polymorphic_function.py (L694) _initialize\n    |   self._variable_creation_fn    # pylint: disable=protected-access\n    + ...hon/eager/polymorphic_function/tracing_compiler.py (L176) _get_concrete_function_internal_garbage_collected\n    |   concrete_function, _ = self._maybe_define_concrete_function(args, kwargs)\n    + ...hon/eager/polymorphic_function/tracing_compiler.py (L171) _maybe_define_concrete_function\n    |   return self._maybe_define_function(args, kwargs)\n    + ...hon/eager/polymorphic_function/tracing_compiler.py (L398) _maybe_define_function\n    |   concrete_function = self._create_concrete_function(\n    + ...hon/eager/polymorphic_function/tracing_compiler.py (L305) _create_concrete_function\n    |   func_graph_module.func_graph_from_py_func(\n    + ...packages/tensorflow/python/framework/func_graph.py (L1055) func_graph_from_py_func\n    |   func_outputs = python_func(*func_args, **func_kwargs)\n    + ...eager/polymorphic_function/polymorphic_function.py (L597) wrapped_fn\n    |   out = weak_wrapped_fn().__wrapped__(*args, **kwds)\n    + ...ython/eager/polymorphic_function/autograph_util.py (L41) autograph_handler\n    |   return api.converted_call(\n    + ...5d6p6qrcs9w80000gn/T/ipykernel_38652/2798990969.py (L7) square_log_x_plus_1\n -> |   v = tf.math.log(x + 1)\n    + ...ite-packages/tensorflow/python/ops/gen_math_ops.py (L5497) log\n    |   _, _, _op, _outputs = _op_def_library._apply_op_helper(\n    + ...ages/tensorflow/python/framework/op_def_library.py (L795) _apply_op_helper\n    |   op = g._create_op_internal(op_type_name, inputs, dtypes=None,\n    + ...packages/tensorflow/python/framework/func_graph.py (L670) _create_op_internal\n    |   return super()._create_op_internal(  # pylint: disable=protected-access\n    + ...1/site-packages/tensorflow/python/framework/ops.py (L3381) _create_op_internal\n    |   ret = Operation.from_node_def(\n\n : Tensor had -Inf values\n\t [[{{node Log/CheckNumericsV2_1}}]]\n\t [[Square/CheckNumericsV2/_3]]\n  (1) INVALID_ARGUMENT:  \n\n!!! Detected Infinity or NaN in output 0 of graph op \"Log\" (# of outputs: 1) !!!\n  dtype: <dtype: 'float32'>\n  shape: ()\n\n  Input tensor: Tensor(\"Log/x:0\", shape=(), dtype=float32)\n  Graph name: \"square_log_x_plus_1\"\n\n  Stack trace of op's creation (\"->\": inferred user code):\n    + ... (Omitted 8 frames)\n    + ...onda3/envs/tf2env/lib/python3.11/asyncio/events.py (L80) _run\n -> |   self._context.run(self._callback, *self._args)\n    + ...b/python3.11/site-packages/ipykernel/kernelbase.py (L516) dispatch_queue\n -> |   await self.process_one()\n    + ...b/python3.11/site-packages/ipykernel/kernelbase.py (L505) process_one\n -> |   await dispatch(*args)\n    + ...b/python3.11/site-packages/ipykernel/kernelbase.py (L412) dispatch_shell\n -> |   await result\n    + ...b/python3.11/site-packages/ipykernel/kernelbase.py (L740) execute_request\n -> |   reply_content = await reply_content\n    + ...lib/python3.11/site-packages/ipykernel/ipkernel.py (L422) do_execute\n -> |   res = shell.run_cell(\n    + ...lib/python3.11/site-packages/ipykernel/zmqshell.py (L546) run_cell\n -> |   return super().run_cell(*args, **kwargs)\n    + ....11/site-packages/IPython/core/interactiveshell.py (L3009) run_cell\n -> |   result = self._run_cell(\n    + ....11/site-packages/IPython/core/interactiveshell.py (L3064) _run_cell\n -> |   result = runner(coro)\n    + ...on3.11/site-packages/IPython/core/async_helpers.py (L129) _pseudo_sync_runner\n -> |   coro.send(None)\n    + ....11/site-packages/IPython/core/interactiveshell.py (L3269) run_cell_async\n -> |   has_raised = await self.run_ast_nodes(code_ast.body, cell_name,\n    + ....11/site-packages/IPython/core/interactiveshell.py (L3448) run_ast_nodes\n -> |   if await self.run_code(code, result, async_=asy):\n    + ....11/site-packages/IPython/core/interactiveshell.py (L3508) run_code\n -> |   exec(code_obj, self.user_global_ns, self.user_ns)\n    + ...5d6p6qrcs9w80000gn/T/ipykernel_38652/2798990969.py (L19) <module>\n -> |   y = square_log_x_plus_1(x)\n    + ...packages/tensorflow/python/util/traceback_utils.py (L150) error_handler\n    |   return fn(*args, **kwargs)\n    + ...eager/polymorphic_function/polymorphic_function.py (L825) __call__\n    |   result = self._call(*args, **kwds)\n    + ...eager/polymorphic_function/polymorphic_function.py (L873) _call\n    |   self._initialize(args, kwds, add_initializers_to=initializers)\n    + ...eager/polymorphic_function/polymorphic_function.py (L694) _initialize\n    |   self._variable_creation_fn    # pylint: disable=protected-access\n    + ...hon/eager/polymorphic_function/tracing_compiler.py (L176) _get_concrete_function_internal_garbage_collected\n    |   concrete_function, _ = self._maybe_define_concrete_function(args, kwargs)\n    + ...hon/eager/polymorphic_function/tracing_compiler.py (L171) _maybe_define_concrete_function\n    |   return self._maybe_define_function(args, kwargs)\n    + ...hon/eager/polymorphic_function/tracing_compiler.py (L398) _maybe_define_function\n    |   concrete_function = self._create_concrete_function(\n    + ...hon/eager/polymorphic_function/tracing_compiler.py (L305) _create_concrete_function\n    |   func_graph_module.func_graph_from_py_func(\n    + ...packages/tensorflow/python/framework/func_graph.py (L1055) func_graph_from_py_func\n    |   func_outputs = python_func(*func_args, **func_kwargs)\n    + ...eager/polymorphic_function/polymorphic_function.py (L597) wrapped_fn\n    |   out = weak_wrapped_fn().__wrapped__(*args, **kwds)\n    + ...ython/eager/polymorphic_function/autograph_util.py (L41) autograph_handler\n    |   return api.converted_call(\n    + ...5d6p6qrcs9w80000gn/T/ipykernel_38652/2798990969.py [Op:__inference_square_log_x_plus_1_35]",
     "output_type": "error",
     "traceback": [
      "\u001b[0;31m---------------------------------------------------------------------------\u001b[0m",
      "\u001b[0;31mInvalidArgumentError\u001b[0m                      Traceback (most recent call last)",
      "Cell \u001b[0;32mIn[8], line 19\u001b[0m\n\u001b[1;32m     10\u001b[0m x \u001b[38;5;241m=\u001b[39m \u001b[38;5;241m-\u001b[39m\u001b[38;5;241m1.0\u001b[39m\n\u001b[1;32m     12\u001b[0m \u001b[38;5;66;03m# When the following line runs, a function graph will be compiled\u001b[39;00m\n\u001b[1;32m     13\u001b[0m \u001b[38;5;66;03m# from the Python function `square_log_x_plus_1()`. Due to the\u001b[39;00m\n\u001b[1;32m     14\u001b[0m \u001b[38;5;66;03m# `enable_check_numerics()` call above, the graph will contain\u001b[39;00m\n\u001b[0;32m   (...)\u001b[0m\n\u001b[1;32m     17\u001b[0m \u001b[38;5;66;03m# (logarithm) op operates on the output tensor of the Add op.\u001b[39;00m\n\u001b[1;32m     18\u001b[0m \u001b[38;5;66;03m# The program errors out at this line, printing an error message.\u001b[39;00m\n\u001b[0;32m---> 19\u001b[0m y \u001b[38;5;241m=\u001b[39m square_log_x_plus_1(x)\n\u001b[1;32m     20\u001b[0m z \u001b[38;5;241m=\u001b[39m \u001b[38;5;241m-\u001b[39my\n",
      "File \u001b[0;32m~/miniconda3/envs/tf2env/lib/python3.11/site-packages/tensorflow/python/util/traceback_utils.py:153\u001b[0m, in \u001b[0;36mfilter_traceback.<locals>.error_handler\u001b[0;34m(*args, **kwargs)\u001b[0m\n\u001b[1;32m    151\u001b[0m \u001b[38;5;28;01mexcept\u001b[39;00m \u001b[38;5;167;01mException\u001b[39;00m \u001b[38;5;28;01mas\u001b[39;00m e:\n\u001b[1;32m    152\u001b[0m   filtered_tb \u001b[38;5;241m=\u001b[39m _process_traceback_frames(e\u001b[38;5;241m.\u001b[39m__traceback__)\n\u001b[0;32m--> 153\u001b[0m   \u001b[38;5;28;01mraise\u001b[39;00m e\u001b[38;5;241m.\u001b[39mwith_traceback(filtered_tb) \u001b[38;5;28;01mfrom\u001b[39;00m \u001b[38;5;28;01mNone\u001b[39;00m\n\u001b[1;32m    154\u001b[0m \u001b[38;5;28;01mfinally\u001b[39;00m:\n\u001b[1;32m    155\u001b[0m   \u001b[38;5;28;01mdel\u001b[39;00m filtered_tb\n",
      "File \u001b[0;32m~/miniconda3/envs/tf2env/lib/python3.11/site-packages/tensorflow/python/eager/execute.py:53\u001b[0m, in \u001b[0;36mquick_execute\u001b[0;34m(op_name, num_outputs, inputs, attrs, ctx, name)\u001b[0m\n\u001b[1;32m     51\u001b[0m \u001b[38;5;28;01mtry\u001b[39;00m:\n\u001b[1;32m     52\u001b[0m   ctx\u001b[38;5;241m.\u001b[39mensure_initialized()\n\u001b[0;32m---> 53\u001b[0m   tensors \u001b[38;5;241m=\u001b[39m pywrap_tfe\u001b[38;5;241m.\u001b[39mTFE_Py_Execute(ctx\u001b[38;5;241m.\u001b[39m_handle, device_name, op_name,\n\u001b[1;32m     54\u001b[0m                                       inputs, attrs, num_outputs)\n\u001b[1;32m     55\u001b[0m \u001b[38;5;28;01mexcept\u001b[39;00m core\u001b[38;5;241m.\u001b[39m_NotOkStatusException \u001b[38;5;28;01mas\u001b[39;00m e:\n\u001b[1;32m     56\u001b[0m   \u001b[38;5;28;01mif\u001b[39;00m name \u001b[38;5;129;01mis\u001b[39;00m \u001b[38;5;129;01mnot\u001b[39;00m \u001b[38;5;28;01mNone\u001b[39;00m:\n",
      "\u001b[0;31mInvalidArgumentError\u001b[0m: Graph execution error:\n\nDetected at node 'Log/CheckNumericsV2_1' defined at (most recent call last):\n    File \"<frozen runpy>\", line 198, in _run_module_as_main\n    File \"<frozen runpy>\", line 88, in _run_code\n    File \"/Users/luizm/miniconda3/envs/tf2env/lib/python3.11/site-packages/ipykernel_launcher.py\", line 17, in <module>\n      app.launch_new_instance()\n    File \"/Users/luizm/miniconda3/envs/tf2env/lib/python3.11/site-packages/traitlets/config/application.py\", line 992, in launch_instance\n      app.start()\n    File \"/Users/luizm/miniconda3/envs/tf2env/lib/python3.11/site-packages/ipykernel/kernelapp.py\", line 736, in start\n      self.io_loop.start()\n    File \"/Users/luizm/miniconda3/envs/tf2env/lib/python3.11/site-packages/tornado/platform/asyncio.py\", line 195, in start\n      self.asyncio_loop.run_forever()\n    File \"/Users/luizm/miniconda3/envs/tf2env/lib/python3.11/asyncio/base_events.py\", line 607, in run_forever\n      self._run_once()\n    File \"/Users/luizm/miniconda3/envs/tf2env/lib/python3.11/asyncio/base_events.py\", line 1922, in _run_once\n      handle._run()\n    File \"/Users/luizm/miniconda3/envs/tf2env/lib/python3.11/asyncio/events.py\", line 80, in _run\n      self._context.run(self._callback, *self._args)\n    File \"/Users/luizm/miniconda3/envs/tf2env/lib/python3.11/site-packages/ipykernel/kernelbase.py\", line 516, in dispatch_queue\n      await self.process_one()\n    File \"/Users/luizm/miniconda3/envs/tf2env/lib/python3.11/site-packages/ipykernel/kernelbase.py\", line 505, in process_one\n      await dispatch(*args)\n    File \"/Users/luizm/miniconda3/envs/tf2env/lib/python3.11/site-packages/ipykernel/kernelbase.py\", line 412, in dispatch_shell\n      await result\n    File \"/Users/luizm/miniconda3/envs/tf2env/lib/python3.11/site-packages/ipykernel/kernelbase.py\", line 740, in execute_request\n      reply_content = await reply_content\n    File \"/Users/luizm/miniconda3/envs/tf2env/lib/python3.11/site-packages/ipykernel/ipkernel.py\", line 422, in do_execute\n      res = shell.run_cell(\n    File \"/Users/luizm/miniconda3/envs/tf2env/lib/python3.11/site-packages/ipykernel/zmqshell.py\", line 546, in run_cell\n      return super().run_cell(*args, **kwargs)\n    File \"/Users/luizm/miniconda3/envs/tf2env/lib/python3.11/site-packages/IPython/core/interactiveshell.py\", line 3009, in run_cell\n      result = self._run_cell(\n    File \"/Users/luizm/miniconda3/envs/tf2env/lib/python3.11/site-packages/IPython/core/interactiveshell.py\", line 3064, in _run_cell\n      result = runner(coro)\n    File \"/Users/luizm/miniconda3/envs/tf2env/lib/python3.11/site-packages/IPython/core/async_helpers.py\", line 129, in _pseudo_sync_runner\n      coro.send(None)\n    File \"/Users/luizm/miniconda3/envs/tf2env/lib/python3.11/site-packages/IPython/core/interactiveshell.py\", line 3269, in run_cell_async\n      has_raised = await self.run_ast_nodes(code_ast.body, cell_name,\n    File \"/Users/luizm/miniconda3/envs/tf2env/lib/python3.11/site-packages/IPython/core/interactiveshell.py\", line 3448, in run_ast_nodes\n      if await self.run_code(code, result, async_=asy):\n    File \"/Users/luizm/miniconda3/envs/tf2env/lib/python3.11/site-packages/IPython/core/interactiveshell.py\", line 3508, in run_code\n      exec(code_obj, self.user_global_ns, self.user_ns)\n    File \"/var/folders/l_/3f9qvn851p3d5d6p6qrcs9w80000gn/T/ipykernel_38652/2798990969.py\", line 19, in <module>\n      y = square_log_x_plus_1(x)\n    File \"/var/folders/l_/3f9qvn851p3d5d6p6qrcs9w80000gn/T/ipykernel_38652/2798990969.py\", line 7, in square_log_x_plus_1\n      v = tf.math.log(x + 1)\nNode: 'Log/CheckNumericsV2_1'\n2 root error(s) found.\n  (0) INVALID_ARGUMENT:  \n\n!!! Detected Infinity or NaN in output 0 of graph op \"Log\" (# of outputs: 1) !!!\n  dtype: <dtype: 'float32'>\n  shape: ()\n\n  Input tensor: Tensor(\"Log/x:0\", shape=(), dtype=float32)\n  Graph name: \"square_log_x_plus_1\"\n\n  Stack trace of op's creation (\"->\": inferred user code):\n    + ... (Omitted 8 frames)\n    + ...onda3/envs/tf2env/lib/python3.11/asyncio/events.py (L80) _run\n -> |   self._context.run(self._callback, *self._args)\n    + ...b/python3.11/site-packages/ipykernel/kernelbase.py (L516) dispatch_queue\n -> |   await self.process_one()\n    + ...b/python3.11/site-packages/ipykernel/kernelbase.py (L505) process_one\n -> |   await dispatch(*args)\n    + ...b/python3.11/site-packages/ipykernel/kernelbase.py (L412) dispatch_shell\n -> |   await result\n    + ...b/python3.11/site-packages/ipykernel/kernelbase.py (L740) execute_request\n -> |   reply_content = await reply_content\n    + ...lib/python3.11/site-packages/ipykernel/ipkernel.py (L422) do_execute\n -> |   res = shell.run_cell(\n    + ...lib/python3.11/site-packages/ipykernel/zmqshell.py (L546) run_cell\n -> |   return super().run_cell(*args, **kwargs)\n    + ....11/site-packages/IPython/core/interactiveshell.py (L3009) run_cell\n -> |   result = self._run_cell(\n    + ....11/site-packages/IPython/core/interactiveshell.py (L3064) _run_cell\n -> |   result = runner(coro)\n    + ...on3.11/site-packages/IPython/core/async_helpers.py (L129) _pseudo_sync_runner\n -> |   coro.send(None)\n    + ....11/site-packages/IPython/core/interactiveshell.py (L3269) run_cell_async\n -> |   has_raised = await self.run_ast_nodes(code_ast.body, cell_name,\n    + ....11/site-packages/IPython/core/interactiveshell.py (L3448) run_ast_nodes\n -> |   if await self.run_code(code, result, async_=asy):\n    + ....11/site-packages/IPython/core/interactiveshell.py (L3508) run_code\n -> |   exec(code_obj, self.user_global_ns, self.user_ns)\n    + ...5d6p6qrcs9w80000gn/T/ipykernel_38652/2798990969.py (L19) <module>\n -> |   y = square_log_x_plus_1(x)\n    + ...packages/tensorflow/python/util/traceback_utils.py (L150) error_handler\n    |   return fn(*args, **kwargs)\n    + ...eager/polymorphic_function/polymorphic_function.py (L825) __call__\n    |   result = self._call(*args, **kwds)\n    + ...eager/polymorphic_function/polymorphic_function.py (L873) _call\n    |   self._initialize(args, kwds, add_initializers_to=initializers)\n    + ...eager/polymorphic_function/polymorphic_function.py (L694) _initialize\n    |   self._variable_creation_fn    # pylint: disable=protected-access\n    + ...hon/eager/polymorphic_function/tracing_compiler.py (L176) _get_concrete_function_internal_garbage_collected\n    |   concrete_function, _ = self._maybe_define_concrete_function(args, kwargs)\n    + ...hon/eager/polymorphic_function/tracing_compiler.py (L171) _maybe_define_concrete_function\n    |   return self._maybe_define_function(args, kwargs)\n    + ...hon/eager/polymorphic_function/tracing_compiler.py (L398) _maybe_define_function\n    |   concrete_function = self._create_concrete_function(\n    + ...hon/eager/polymorphic_function/tracing_compiler.py (L305) _create_concrete_function\n    |   func_graph_module.func_graph_from_py_func(\n    + ...packages/tensorflow/python/framework/func_graph.py (L1055) func_graph_from_py_func\n    |   func_outputs = python_func(*func_args, **func_kwargs)\n    + ...eager/polymorphic_function/polymorphic_function.py (L597) wrapped_fn\n    |   out = weak_wrapped_fn().__wrapped__(*args, **kwds)\n    + ...ython/eager/polymorphic_function/autograph_util.py (L41) autograph_handler\n    |   return api.converted_call(\n    + ...5d6p6qrcs9w80000gn/T/ipykernel_38652/2798990969.py (L7) square_log_x_plus_1\n -> |   v = tf.math.log(x + 1)\n    + ...ite-packages/tensorflow/python/ops/gen_math_ops.py (L5497) log\n    |   _, _, _op, _outputs = _op_def_library._apply_op_helper(\n    + ...ages/tensorflow/python/framework/op_def_library.py (L795) _apply_op_helper\n    |   op = g._create_op_internal(op_type_name, inputs, dtypes=None,\n    + ...packages/tensorflow/python/framework/func_graph.py (L670) _create_op_internal\n    |   return super()._create_op_internal(  # pylint: disable=protected-access\n    + ...1/site-packages/tensorflow/python/framework/ops.py (L3381) _create_op_internal\n    |   ret = Operation.from_node_def(\n\n : Tensor had -Inf values\n\t [[{{node Log/CheckNumericsV2_1}}]]\n\t [[Square/CheckNumericsV2/_3]]\n  (1) INVALID_ARGUMENT:  \n\n!!! Detected Infinity or NaN in output 0 of graph op \"Log\" (# of outputs: 1) !!!\n  dtype: <dtype: 'float32'>\n  shape: ()\n\n  Input tensor: Tensor(\"Log/x:0\", shape=(), dtype=float32)\n  Graph name: \"square_log_x_plus_1\"\n\n  Stack trace of op's creation (\"->\": inferred user code):\n    + ... (Omitted 8 frames)\n    + ...onda3/envs/tf2env/lib/python3.11/asyncio/events.py (L80) _run\n -> |   self._context.run(self._callback, *self._args)\n    + ...b/python3.11/site-packages/ipykernel/kernelbase.py (L516) dispatch_queue\n -> |   await self.process_one()\n    + ...b/python3.11/site-packages/ipykernel/kernelbase.py (L505) process_one\n -> |   await dispatch(*args)\n    + ...b/python3.11/site-packages/ipykernel/kernelbase.py (L412) dispatch_shell\n -> |   await result\n    + ...b/python3.11/site-packages/ipykernel/kernelbase.py (L740) execute_request\n -> |   reply_content = await reply_content\n    + ...lib/python3.11/site-packages/ipykernel/ipkernel.py (L422) do_execute\n -> |   res = shell.run_cell(\n    + ...lib/python3.11/site-packages/ipykernel/zmqshell.py (L546) run_cell\n -> |   return super().run_cell(*args, **kwargs)\n    + ....11/site-packages/IPython/core/interactiveshell.py (L3009) run_cell\n -> |   result = self._run_cell(\n    + ....11/site-packages/IPython/core/interactiveshell.py (L3064) _run_cell\n -> |   result = runner(coro)\n    + ...on3.11/site-packages/IPython/core/async_helpers.py (L129) _pseudo_sync_runner\n -> |   coro.send(None)\n    + ....11/site-packages/IPython/core/interactiveshell.py (L3269) run_cell_async\n -> |   has_raised = await self.run_ast_nodes(code_ast.body, cell_name,\n    + ....11/site-packages/IPython/core/interactiveshell.py (L3448) run_ast_nodes\n -> |   if await self.run_code(code, result, async_=asy):\n    + ....11/site-packages/IPython/core/interactiveshell.py (L3508) run_code\n -> |   exec(code_obj, self.user_global_ns, self.user_ns)\n    + ...5d6p6qrcs9w80000gn/T/ipykernel_38652/2798990969.py (L19) <module>\n -> |   y = square_log_x_plus_1(x)\n    + ...packages/tensorflow/python/util/traceback_utils.py (L150) error_handler\n    |   return fn(*args, **kwargs)\n    + ...eager/polymorphic_function/polymorphic_function.py (L825) __call__\n    |   result = self._call(*args, **kwds)\n    + ...eager/polymorphic_function/polymorphic_function.py (L873) _call\n    |   self._initialize(args, kwds, add_initializers_to=initializers)\n    + ...eager/polymorphic_function/polymorphic_function.py (L694) _initialize\n    |   self._variable_creation_fn    # pylint: disable=protected-access\n    + ...hon/eager/polymorphic_function/tracing_compiler.py (L176) _get_concrete_function_internal_garbage_collected\n    |   concrete_function, _ = self._maybe_define_concrete_function(args, kwargs)\n    + ...hon/eager/polymorphic_function/tracing_compiler.py (L171) _maybe_define_concrete_function\n    |   return self._maybe_define_function(args, kwargs)\n    + ...hon/eager/polymorphic_function/tracing_compiler.py (L398) _maybe_define_function\n    |   concrete_function = self._create_concrete_function(\n    + ...hon/eager/polymorphic_function/tracing_compiler.py (L305) _create_concrete_function\n    |   func_graph_module.func_graph_from_py_func(\n    + ...packages/tensorflow/python/framework/func_graph.py (L1055) func_graph_from_py_func\n    |   func_outputs = python_func(*func_args, **func_kwargs)\n    + ...eager/polymorphic_function/polymorphic_function.py (L597) wrapped_fn\n    |   out = weak_wrapped_fn().__wrapped__(*args, **kwds)\n    + ...ython/eager/polymorphic_function/autograph_util.py (L41) autograph_handler\n    |   return api.converted_call(\n    + ...5d6p6qrcs9w80000gn/T/ipykernel_38652/2798990969.py [Op:__inference_square_log_x_plus_1_35]"
     ]
    }
   ],
   "source": [
    "import tensorflow as tf\n",
    "\n",
    "tf.debugging.enable_check_numerics()\n",
    "\n",
    "@tf.function\n",
    "def square_log_x_plus_1(x):\n",
    "  v = tf.math.log(x + 1)\n",
    "  return tf.math.square(v)\n",
    "\n",
    "x = -1.0\n",
    "\n",
    "# When the following line runs, a function graph will be compiled\n",
    "# from the Python function `square_log_x_plus_1()`. Due to the\n",
    "# `enable_check_numerics()` call above, the graph will contain\n",
    "# numerics checking ops that will run during the function graph's\n",
    "# execution. The function call generates an -infinity when the Log\n",
    "# (logarithm) op operates on the output tensor of the Add op.\n",
    "# The program errors out at this line, printing an error message.\n",
    "y = square_log_x_plus_1(x)\n",
    "z = -y"
   ]
  },
  {
   "cell_type": "code",
   "execution_count": 10,
   "metadata": {},
   "outputs": [
    {
     "name": "stdout",
     "output_type": "stream",
     "text": [
      "Probability of X <= 11: 0.001978560865771221\n"
     ]
    }
   ],
   "source": [
    "from scipy.stats import binom\n",
    "\n",
    "n = 100  # Number of trials\n",
    "p = 0.9  # Probability of success on each trial\n",
    "x = 80  # Number of successes\n",
    "\n",
    "# Calculate P(X <= 11)\n",
    "probability = binom.cdf(x, n, p)\n",
    "print(\"Probability of X <= 11:\", probability)\n"
   ]
  },
  {
   "cell_type": "code",
   "execution_count": 13,
   "metadata": {},
   "outputs": [
    {
     "name": "stdout",
     "output_type": "stream",
     "text": [
      "Probability: 0.13326026290250537\n"
     ]
    }
   ],
   "source": [
    "from scipy.stats import norm\n",
    "\n",
    "n = 100  # Number of trials\n",
    "p = 0.9  # Probability of success on each trial\n",
    "x = 80  # Number of successes\n",
    "\n",
    "# Calculate P(X <= 11)\n",
    "probability = norm(90,9).cdf(80)\n",
    "print(\"Probability:\", probability)"
   ]
  },
  {
   "cell_type": "code",
   "execution_count": 9,
   "metadata": {},
   "outputs": [],
   "source": [
    "import tensorflow as tf\n",
    "\n",
    "model = tf.keras.applications.xception.Xception(\n",
    "    include_top=False,\n",
    "    weights=None,\n",
    "    input_tensor=None,\n",
    "    input_shape=(71, 71, 14),\n",
    "    pooling=None,\n",
    "    classes=2,\n",
    "    classifier_activation='softmax'\n",
    ")"
   ]
  },
  {
   "cell_type": "code",
   "execution_count": 10,
   "metadata": {},
   "outputs": [
    {
     "name": "stdout",
     "output_type": "stream",
     "text": [
      "Model: \"xception\"\n",
      "__________________________________________________________________________________________________\n",
      " Layer (type)                Output Shape                 Param #   Connected to                  \n",
      "==================================================================================================\n",
      " input_3 (InputLayer)        [(None, 71, 71, 14)]         0         []                            \n",
      "                                                                                                  \n",
      " block1_conv1 (Conv2D)       (None, 35, 35, 32)           4032      ['input_3[0][0]']             \n",
      "                                                                                                  \n",
      " block1_conv1_bn (BatchNorm  (None, 35, 35, 32)           128       ['block1_conv1[0][0]']        \n",
      " alization)                                                                                       \n",
      "                                                                                                  \n",
      " block1_conv1_act (Activati  (None, 35, 35, 32)           0         ['block1_conv1_bn[0][0]']     \n",
      " on)                                                                                              \n",
      "                                                                                                  \n",
      " block1_conv2 (Conv2D)       (None, 33, 33, 64)           18432     ['block1_conv1_act[0][0]']    \n",
      "                                                                                                  \n",
      " block1_conv2_bn (BatchNorm  (None, 33, 33, 64)           256       ['block1_conv2[0][0]']        \n",
      " alization)                                                                                       \n",
      "                                                                                                  \n",
      " block1_conv2_act (Activati  (None, 33, 33, 64)           0         ['block1_conv2_bn[0][0]']     \n",
      " on)                                                                                              \n",
      "                                                                                                  \n",
      " block2_sepconv1 (Separable  (None, 33, 33, 128)          8768      ['block1_conv2_act[0][0]']    \n",
      " Conv2D)                                                                                          \n",
      "                                                                                                  \n",
      " block2_sepconv1_bn (BatchN  (None, 33, 33, 128)          512       ['block2_sepconv1[0][0]']     \n",
      " ormalization)                                                                                    \n",
      "                                                                                                  \n",
      " block2_sepconv2_act (Activ  (None, 33, 33, 128)          0         ['block2_sepconv1_bn[0][0]']  \n",
      " ation)                                                                                           \n",
      "                                                                                                  \n",
      " block2_sepconv2 (Separable  (None, 33, 33, 128)          17536     ['block2_sepconv2_act[0][0]'] \n",
      " Conv2D)                                                                                          \n",
      "                                                                                                  \n",
      " block2_sepconv2_bn (BatchN  (None, 33, 33, 128)          512       ['block2_sepconv2[0][0]']     \n",
      " ormalization)                                                                                    \n",
      "                                                                                                  \n",
      " conv2d_8 (Conv2D)           (None, 17, 17, 128)          8192      ['block1_conv2_act[0][0]']    \n",
      "                                                                                                  \n",
      " block2_pool (MaxPooling2D)  (None, 17, 17, 128)          0         ['block2_sepconv2_bn[0][0]']  \n",
      "                                                                                                  \n",
      " batch_normalization_8 (Bat  (None, 17, 17, 128)          512       ['conv2d_8[0][0]']            \n",
      " chNormalization)                                                                                 \n",
      "                                                                                                  \n",
      " add_24 (Add)                (None, 17, 17, 128)          0         ['block2_pool[0][0]',         \n",
      "                                                                     'batch_normalization_8[0][0]'\n",
      "                                                                    ]                             \n",
      "                                                                                                  \n",
      " block3_sepconv1_act (Activ  (None, 17, 17, 128)          0         ['add_24[0][0]']              \n",
      " ation)                                                                                           \n",
      "                                                                                                  \n",
      " block3_sepconv1 (Separable  (None, 17, 17, 256)          33920     ['block3_sepconv1_act[0][0]'] \n",
      " Conv2D)                                                                                          \n",
      "                                                                                                  \n",
      " block3_sepconv1_bn (BatchN  (None, 17, 17, 256)          1024      ['block3_sepconv1[0][0]']     \n",
      " ormalization)                                                                                    \n",
      "                                                                                                  \n",
      " block3_sepconv2_act (Activ  (None, 17, 17, 256)          0         ['block3_sepconv1_bn[0][0]']  \n",
      " ation)                                                                                           \n",
      "                                                                                                  \n",
      " block3_sepconv2 (Separable  (None, 17, 17, 256)          67840     ['block3_sepconv2_act[0][0]'] \n",
      " Conv2D)                                                                                          \n",
      "                                                                                                  \n",
      " block3_sepconv2_bn (BatchN  (None, 17, 17, 256)          1024      ['block3_sepconv2[0][0]']     \n",
      " ormalization)                                                                                    \n",
      "                                                                                                  \n",
      " conv2d_9 (Conv2D)           (None, 9, 9, 256)            32768     ['add_24[0][0]']              \n",
      "                                                                                                  \n",
      " block3_pool (MaxPooling2D)  (None, 9, 9, 256)            0         ['block3_sepconv2_bn[0][0]']  \n",
      "                                                                                                  \n",
      " batch_normalization_9 (Bat  (None, 9, 9, 256)            1024      ['conv2d_9[0][0]']            \n",
      " chNormalization)                                                                                 \n",
      "                                                                                                  \n",
      " add_25 (Add)                (None, 9, 9, 256)            0         ['block3_pool[0][0]',         \n",
      "                                                                     'batch_normalization_9[0][0]'\n",
      "                                                                    ]                             \n",
      "                                                                                                  \n",
      " block4_sepconv1_act (Activ  (None, 9, 9, 256)            0         ['add_25[0][0]']              \n",
      " ation)                                                                                           \n",
      "                                                                                                  \n",
      " block4_sepconv1 (Separable  (None, 9, 9, 728)            188672    ['block4_sepconv1_act[0][0]'] \n",
      " Conv2D)                                                                                          \n",
      "                                                                                                  \n",
      " block4_sepconv1_bn (BatchN  (None, 9, 9, 728)            2912      ['block4_sepconv1[0][0]']     \n",
      " ormalization)                                                                                    \n",
      "                                                                                                  \n",
      " block4_sepconv2_act (Activ  (None, 9, 9, 728)            0         ['block4_sepconv1_bn[0][0]']  \n",
      " ation)                                                                                           \n",
      "                                                                                                  \n",
      " block4_sepconv2 (Separable  (None, 9, 9, 728)            536536    ['block4_sepconv2_act[0][0]'] \n",
      " Conv2D)                                                                                          \n",
      "                                                                                                  \n",
      " block4_sepconv2_bn (BatchN  (None, 9, 9, 728)            2912      ['block4_sepconv2[0][0]']     \n",
      " ormalization)                                                                                    \n",
      "                                                                                                  \n",
      " conv2d_10 (Conv2D)          (None, 5, 5, 728)            186368    ['add_25[0][0]']              \n",
      "                                                                                                  \n",
      " block4_pool (MaxPooling2D)  (None, 5, 5, 728)            0         ['block4_sepconv2_bn[0][0]']  \n",
      "                                                                                                  \n",
      " batch_normalization_10 (Ba  (None, 5, 5, 728)            2912      ['conv2d_10[0][0]']           \n",
      " tchNormalization)                                                                                \n",
      "                                                                                                  \n",
      " add_26 (Add)                (None, 5, 5, 728)            0         ['block4_pool[0][0]',         \n",
      "                                                                     'batch_normalization_10[0][0]\n",
      "                                                                    ']                            \n",
      "                                                                                                  \n",
      " block5_sepconv1_act (Activ  (None, 5, 5, 728)            0         ['add_26[0][0]']              \n",
      " ation)                                                                                           \n",
      "                                                                                                  \n",
      " block5_sepconv1 (Separable  (None, 5, 5, 728)            536536    ['block5_sepconv1_act[0][0]'] \n",
      " Conv2D)                                                                                          \n",
      "                                                                                                  \n",
      " block5_sepconv1_bn (BatchN  (None, 5, 5, 728)            2912      ['block5_sepconv1[0][0]']     \n",
      " ormalization)                                                                                    \n",
      "                                                                                                  \n",
      " block5_sepconv2_act (Activ  (None, 5, 5, 728)            0         ['block5_sepconv1_bn[0][0]']  \n",
      " ation)                                                                                           \n",
      "                                                                                                  \n",
      " block5_sepconv2 (Separable  (None, 5, 5, 728)            536536    ['block5_sepconv2_act[0][0]'] \n",
      " Conv2D)                                                                                          \n",
      "                                                                                                  \n",
      " block5_sepconv2_bn (BatchN  (None, 5, 5, 728)            2912      ['block5_sepconv2[0][0]']     \n",
      " ormalization)                                                                                    \n",
      "                                                                                                  \n",
      " block5_sepconv3_act (Activ  (None, 5, 5, 728)            0         ['block5_sepconv2_bn[0][0]']  \n",
      " ation)                                                                                           \n",
      "                                                                                                  \n",
      " block5_sepconv3 (Separable  (None, 5, 5, 728)            536536    ['block5_sepconv3_act[0][0]'] \n",
      " Conv2D)                                                                                          \n",
      "                                                                                                  \n",
      " block5_sepconv3_bn (BatchN  (None, 5, 5, 728)            2912      ['block5_sepconv3[0][0]']     \n",
      " ormalization)                                                                                    \n",
      "                                                                                                  \n",
      " add_27 (Add)                (None, 5, 5, 728)            0         ['block5_sepconv3_bn[0][0]',  \n",
      "                                                                     'add_26[0][0]']              \n",
      "                                                                                                  \n",
      " block6_sepconv1_act (Activ  (None, 5, 5, 728)            0         ['add_27[0][0]']              \n",
      " ation)                                                                                           \n",
      "                                                                                                  \n",
      " block6_sepconv1 (Separable  (None, 5, 5, 728)            536536    ['block6_sepconv1_act[0][0]'] \n",
      " Conv2D)                                                                                          \n",
      "                                                                                                  \n",
      " block6_sepconv1_bn (BatchN  (None, 5, 5, 728)            2912      ['block6_sepconv1[0][0]']     \n",
      " ormalization)                                                                                    \n",
      "                                                                                                  \n",
      " block6_sepconv2_act (Activ  (None, 5, 5, 728)            0         ['block6_sepconv1_bn[0][0]']  \n",
      " ation)                                                                                           \n",
      "                                                                                                  \n",
      " block6_sepconv2 (Separable  (None, 5, 5, 728)            536536    ['block6_sepconv2_act[0][0]'] \n",
      " Conv2D)                                                                                          \n",
      "                                                                                                  \n",
      " block6_sepconv2_bn (BatchN  (None, 5, 5, 728)            2912      ['block6_sepconv2[0][0]']     \n",
      " ormalization)                                                                                    \n",
      "                                                                                                  \n",
      " block6_sepconv3_act (Activ  (None, 5, 5, 728)            0         ['block6_sepconv2_bn[0][0]']  \n",
      " ation)                                                                                           \n",
      "                                                                                                  \n",
      " block6_sepconv3 (Separable  (None, 5, 5, 728)            536536    ['block6_sepconv3_act[0][0]'] \n",
      " Conv2D)                                                                                          \n",
      "                                                                                                  \n",
      " block6_sepconv3_bn (BatchN  (None, 5, 5, 728)            2912      ['block6_sepconv3[0][0]']     \n",
      " ormalization)                                                                                    \n",
      "                                                                                                  \n",
      " add_28 (Add)                (None, 5, 5, 728)            0         ['block6_sepconv3_bn[0][0]',  \n",
      "                                                                     'add_27[0][0]']              \n",
      "                                                                                                  \n",
      " block7_sepconv1_act (Activ  (None, 5, 5, 728)            0         ['add_28[0][0]']              \n",
      " ation)                                                                                           \n",
      "                                                                                                  \n",
      " block7_sepconv1 (Separable  (None, 5, 5, 728)            536536    ['block7_sepconv1_act[0][0]'] \n",
      " Conv2D)                                                                                          \n",
      "                                                                                                  \n",
      " block7_sepconv1_bn (BatchN  (None, 5, 5, 728)            2912      ['block7_sepconv1[0][0]']     \n",
      " ormalization)                                                                                    \n",
      "                                                                                                  \n",
      " block7_sepconv2_act (Activ  (None, 5, 5, 728)            0         ['block7_sepconv1_bn[0][0]']  \n",
      " ation)                                                                                           \n",
      "                                                                                                  \n",
      " block7_sepconv2 (Separable  (None, 5, 5, 728)            536536    ['block7_sepconv2_act[0][0]'] \n",
      " Conv2D)                                                                                          \n",
      "                                                                                                  \n",
      " block7_sepconv2_bn (BatchN  (None, 5, 5, 728)            2912      ['block7_sepconv2[0][0]']     \n",
      " ormalization)                                                                                    \n",
      "                                                                                                  \n",
      " block7_sepconv3_act (Activ  (None, 5, 5, 728)            0         ['block7_sepconv2_bn[0][0]']  \n",
      " ation)                                                                                           \n",
      "                                                                                                  \n",
      " block7_sepconv3 (Separable  (None, 5, 5, 728)            536536    ['block7_sepconv3_act[0][0]'] \n",
      " Conv2D)                                                                                          \n",
      "                                                                                                  \n",
      " block7_sepconv3_bn (BatchN  (None, 5, 5, 728)            2912      ['block7_sepconv3[0][0]']     \n",
      " ormalization)                                                                                    \n",
      "                                                                                                  \n",
      " add_29 (Add)                (None, 5, 5, 728)            0         ['block7_sepconv3_bn[0][0]',  \n",
      "                                                                     'add_28[0][0]']              \n",
      "                                                                                                  \n",
      " block8_sepconv1_act (Activ  (None, 5, 5, 728)            0         ['add_29[0][0]']              \n",
      " ation)                                                                                           \n",
      "                                                                                                  \n",
      " block8_sepconv1 (Separable  (None, 5, 5, 728)            536536    ['block8_sepconv1_act[0][0]'] \n",
      " Conv2D)                                                                                          \n",
      "                                                                                                  \n",
      " block8_sepconv1_bn (BatchN  (None, 5, 5, 728)            2912      ['block8_sepconv1[0][0]']     \n",
      " ormalization)                                                                                    \n",
      "                                                                                                  \n",
      " block8_sepconv2_act (Activ  (None, 5, 5, 728)            0         ['block8_sepconv1_bn[0][0]']  \n",
      " ation)                                                                                           \n",
      "                                                                                                  \n",
      " block8_sepconv2 (Separable  (None, 5, 5, 728)            536536    ['block8_sepconv2_act[0][0]'] \n",
      " Conv2D)                                                                                          \n",
      "                                                                                                  \n",
      " block8_sepconv2_bn (BatchN  (None, 5, 5, 728)            2912      ['block8_sepconv2[0][0]']     \n",
      " ormalization)                                                                                    \n",
      "                                                                                                  \n",
      " block8_sepconv3_act (Activ  (None, 5, 5, 728)            0         ['block8_sepconv2_bn[0][0]']  \n",
      " ation)                                                                                           \n",
      "                                                                                                  \n",
      " block8_sepconv3 (Separable  (None, 5, 5, 728)            536536    ['block8_sepconv3_act[0][0]'] \n",
      " Conv2D)                                                                                          \n",
      "                                                                                                  \n",
      " block8_sepconv3_bn (BatchN  (None, 5, 5, 728)            2912      ['block8_sepconv3[0][0]']     \n",
      " ormalization)                                                                                    \n",
      "                                                                                                  \n",
      " add_30 (Add)                (None, 5, 5, 728)            0         ['block8_sepconv3_bn[0][0]',  \n",
      "                                                                     'add_29[0][0]']              \n",
      "                                                                                                  \n",
      " block9_sepconv1_act (Activ  (None, 5, 5, 728)            0         ['add_30[0][0]']              \n",
      " ation)                                                                                           \n",
      "                                                                                                  \n",
      " block9_sepconv1 (Separable  (None, 5, 5, 728)            536536    ['block9_sepconv1_act[0][0]'] \n",
      " Conv2D)                                                                                          \n",
      "                                                                                                  \n",
      " block9_sepconv1_bn (BatchN  (None, 5, 5, 728)            2912      ['block9_sepconv1[0][0]']     \n",
      " ormalization)                                                                                    \n",
      "                                                                                                  \n",
      " block9_sepconv2_act (Activ  (None, 5, 5, 728)            0         ['block9_sepconv1_bn[0][0]']  \n",
      " ation)                                                                                           \n",
      "                                                                                                  \n",
      " block9_sepconv2 (Separable  (None, 5, 5, 728)            536536    ['block9_sepconv2_act[0][0]'] \n",
      " Conv2D)                                                                                          \n",
      "                                                                                                  \n",
      " block9_sepconv2_bn (BatchN  (None, 5, 5, 728)            2912      ['block9_sepconv2[0][0]']     \n",
      " ormalization)                                                                                    \n",
      "                                                                                                  \n",
      " block9_sepconv3_act (Activ  (None, 5, 5, 728)            0         ['block9_sepconv2_bn[0][0]']  \n",
      " ation)                                                                                           \n",
      "                                                                                                  \n",
      " block9_sepconv3 (Separable  (None, 5, 5, 728)            536536    ['block9_sepconv3_act[0][0]'] \n",
      " Conv2D)                                                                                          \n",
      "                                                                                                  \n",
      " block9_sepconv3_bn (BatchN  (None, 5, 5, 728)            2912      ['block9_sepconv3[0][0]']     \n",
      " ormalization)                                                                                    \n",
      "                                                                                                  \n",
      " add_31 (Add)                (None, 5, 5, 728)            0         ['block9_sepconv3_bn[0][0]',  \n",
      "                                                                     'add_30[0][0]']              \n",
      "                                                                                                  \n",
      " block10_sepconv1_act (Acti  (None, 5, 5, 728)            0         ['add_31[0][0]']              \n",
      " vation)                                                                                          \n",
      "                                                                                                  \n",
      " block10_sepconv1 (Separabl  (None, 5, 5, 728)            536536    ['block10_sepconv1_act[0][0]']\n",
      " eConv2D)                                                                                         \n",
      "                                                                                                  \n",
      " block10_sepconv1_bn (Batch  (None, 5, 5, 728)            2912      ['block10_sepconv1[0][0]']    \n",
      " Normalization)                                                                                   \n",
      "                                                                                                  \n",
      " block10_sepconv2_act (Acti  (None, 5, 5, 728)            0         ['block10_sepconv1_bn[0][0]'] \n",
      " vation)                                                                                          \n",
      "                                                                                                  \n",
      " block10_sepconv2 (Separabl  (None, 5, 5, 728)            536536    ['block10_sepconv2_act[0][0]']\n",
      " eConv2D)                                                                                         \n",
      "                                                                                                  \n",
      " block10_sepconv2_bn (Batch  (None, 5, 5, 728)            2912      ['block10_sepconv2[0][0]']    \n",
      " Normalization)                                                                                   \n",
      "                                                                                                  \n",
      " block10_sepconv3_act (Acti  (None, 5, 5, 728)            0         ['block10_sepconv2_bn[0][0]'] \n",
      " vation)                                                                                          \n",
      "                                                                                                  \n",
      " block10_sepconv3 (Separabl  (None, 5, 5, 728)            536536    ['block10_sepconv3_act[0][0]']\n",
      " eConv2D)                                                                                         \n",
      "                                                                                                  \n",
      " block10_sepconv3_bn (Batch  (None, 5, 5, 728)            2912      ['block10_sepconv3[0][0]']    \n",
      " Normalization)                                                                                   \n",
      "                                                                                                  \n",
      " add_32 (Add)                (None, 5, 5, 728)            0         ['block10_sepconv3_bn[0][0]', \n",
      "                                                                     'add_31[0][0]']              \n",
      "                                                                                                  \n",
      " block11_sepconv1_act (Acti  (None, 5, 5, 728)            0         ['add_32[0][0]']              \n",
      " vation)                                                                                          \n",
      "                                                                                                  \n",
      " block11_sepconv1 (Separabl  (None, 5, 5, 728)            536536    ['block11_sepconv1_act[0][0]']\n",
      " eConv2D)                                                                                         \n",
      "                                                                                                  \n",
      " block11_sepconv1_bn (Batch  (None, 5, 5, 728)            2912      ['block11_sepconv1[0][0]']    \n",
      " Normalization)                                                                                   \n",
      "                                                                                                  \n",
      " block11_sepconv2_act (Acti  (None, 5, 5, 728)            0         ['block11_sepconv1_bn[0][0]'] \n",
      " vation)                                                                                          \n",
      "                                                                                                  \n",
      " block11_sepconv2 (Separabl  (None, 5, 5, 728)            536536    ['block11_sepconv2_act[0][0]']\n",
      " eConv2D)                                                                                         \n",
      "                                                                                                  \n",
      " block11_sepconv2_bn (Batch  (None, 5, 5, 728)            2912      ['block11_sepconv2[0][0]']    \n",
      " Normalization)                                                                                   \n",
      "                                                                                                  \n",
      " block11_sepconv3_act (Acti  (None, 5, 5, 728)            0         ['block11_sepconv2_bn[0][0]'] \n",
      " vation)                                                                                          \n",
      "                                                                                                  \n",
      " block11_sepconv3 (Separabl  (None, 5, 5, 728)            536536    ['block11_sepconv3_act[0][0]']\n",
      " eConv2D)                                                                                         \n",
      "                                                                                                  \n",
      " block11_sepconv3_bn (Batch  (None, 5, 5, 728)            2912      ['block11_sepconv3[0][0]']    \n",
      " Normalization)                                                                                   \n",
      "                                                                                                  \n",
      " add_33 (Add)                (None, 5, 5, 728)            0         ['block11_sepconv3_bn[0][0]', \n",
      "                                                                     'add_32[0][0]']              \n",
      "                                                                                                  \n",
      " block12_sepconv1_act (Acti  (None, 5, 5, 728)            0         ['add_33[0][0]']              \n",
      " vation)                                                                                          \n",
      "                                                                                                  \n",
      " block12_sepconv1 (Separabl  (None, 5, 5, 728)            536536    ['block12_sepconv1_act[0][0]']\n",
      " eConv2D)                                                                                         \n",
      "                                                                                                  \n",
      " block12_sepconv1_bn (Batch  (None, 5, 5, 728)            2912      ['block12_sepconv1[0][0]']    \n",
      " Normalization)                                                                                   \n",
      "                                                                                                  \n",
      " block12_sepconv2_act (Acti  (None, 5, 5, 728)            0         ['block12_sepconv1_bn[0][0]'] \n",
      " vation)                                                                                          \n",
      "                                                                                                  \n",
      " block12_sepconv2 (Separabl  (None, 5, 5, 728)            536536    ['block12_sepconv2_act[0][0]']\n",
      " eConv2D)                                                                                         \n",
      "                                                                                                  \n",
      " block12_sepconv2_bn (Batch  (None, 5, 5, 728)            2912      ['block12_sepconv2[0][0]']    \n",
      " Normalization)                                                                                   \n",
      "                                                                                                  \n",
      " block12_sepconv3_act (Acti  (None, 5, 5, 728)            0         ['block12_sepconv2_bn[0][0]'] \n",
      " vation)                                                                                          \n",
      "                                                                                                  \n",
      " block12_sepconv3 (Separabl  (None, 5, 5, 728)            536536    ['block12_sepconv3_act[0][0]']\n",
      " eConv2D)                                                                                         \n",
      "                                                                                                  \n",
      " block12_sepconv3_bn (Batch  (None, 5, 5, 728)            2912      ['block12_sepconv3[0][0]']    \n",
      " Normalization)                                                                                   \n",
      "                                                                                                  \n",
      " add_34 (Add)                (None, 5, 5, 728)            0         ['block12_sepconv3_bn[0][0]', \n",
      "                                                                     'add_33[0][0]']              \n",
      "                                                                                                  \n",
      " block13_sepconv1_act (Acti  (None, 5, 5, 728)            0         ['add_34[0][0]']              \n",
      " vation)                                                                                          \n",
      "                                                                                                  \n",
      " block13_sepconv1 (Separabl  (None, 5, 5, 728)            536536    ['block13_sepconv1_act[0][0]']\n",
      " eConv2D)                                                                                         \n",
      "                                                                                                  \n",
      " block13_sepconv1_bn (Batch  (None, 5, 5, 728)            2912      ['block13_sepconv1[0][0]']    \n",
      " Normalization)                                                                                   \n",
      "                                                                                                  \n",
      " block13_sepconv2_act (Acti  (None, 5, 5, 728)            0         ['block13_sepconv1_bn[0][0]'] \n",
      " vation)                                                                                          \n",
      "                                                                                                  \n",
      " block13_sepconv2 (Separabl  (None, 5, 5, 1024)           752024    ['block13_sepconv2_act[0][0]']\n",
      " eConv2D)                                                                                         \n",
      "                                                                                                  \n",
      " block13_sepconv2_bn (Batch  (None, 5, 5, 1024)           4096      ['block13_sepconv2[0][0]']    \n",
      " Normalization)                                                                                   \n",
      "                                                                                                  \n",
      " conv2d_11 (Conv2D)          (None, 3, 3, 1024)           745472    ['add_34[0][0]']              \n",
      "                                                                                                  \n",
      " block13_pool (MaxPooling2D  (None, 3, 3, 1024)           0         ['block13_sepconv2_bn[0][0]'] \n",
      " )                                                                                                \n",
      "                                                                                                  \n",
      " batch_normalization_11 (Ba  (None, 3, 3, 1024)           4096      ['conv2d_11[0][0]']           \n",
      " tchNormalization)                                                                                \n",
      "                                                                                                  \n",
      " add_35 (Add)                (None, 3, 3, 1024)           0         ['block13_pool[0][0]',        \n",
      "                                                                     'batch_normalization_11[0][0]\n",
      "                                                                    ']                            \n",
      "                                                                                                  \n",
      " block14_sepconv1 (Separabl  (None, 3, 3, 1536)           1582080   ['add_35[0][0]']              \n",
      " eConv2D)                                                                                         \n",
      "                                                                                                  \n",
      " block14_sepconv1_bn (Batch  (None, 3, 3, 1536)           6144      ['block14_sepconv1[0][0]']    \n",
      " Normalization)                                                                                   \n",
      "                                                                                                  \n",
      " block14_sepconv1_act (Acti  (None, 3, 3, 1536)           0         ['block14_sepconv1_bn[0][0]'] \n",
      " vation)                                                                                          \n",
      "                                                                                                  \n",
      " block14_sepconv2 (Separabl  (None, 3, 3, 2048)           3159552   ['block14_sepconv1_act[0][0]']\n",
      " eConv2D)                                                                                         \n",
      "                                                                                                  \n",
      " block14_sepconv2_bn (Batch  (None, 3, 3, 2048)           8192      ['block14_sepconv2[0][0]']    \n",
      " Normalization)                                                                                   \n",
      "                                                                                                  \n",
      " block14_sepconv2_act (Acti  (None, 3, 3, 2048)           0         ['block14_sepconv2_bn[0][0]'] \n",
      " vation)                                                                                          \n",
      "                                                                                                  \n",
      "==================================================================================================\n",
      "Total params: 20864648 (79.59 MB)\n",
      "Trainable params: 20810120 (79.38 MB)\n",
      "Non-trainable params: 54528 (213.00 KB)\n",
      "__________________________________________________________________________________________________\n"
     ]
    }
   ],
   "source": [
    "model.summary()"
   ]
  },
  {
   "cell_type": "code",
   "execution_count": 17,
   "metadata": {},
   "outputs": [],
   "source": [
    "def WeightedCrossEntropyC(y_true, y_pred,class_weights=None, mask=None):\n",
    "    temp = -y_true * tf.math.log(y_pred + 1e-3)\n",
    "    temp_weighted = class_weights * temp\n",
    "    loss = tf.math.reduce_sum(temp_weighted, 3)\n",
    "    classifier_loss = tf.math.divide_no_nan(tf.reduce_sum(mask * loss), tf.reduce_sum(mask))\n",
    "    return classifier_loss"
   ]
  },
  {
   "cell_type": "code",
   "execution_count": 36,
   "metadata": {},
   "outputs": [
    {
     "name": "stdout",
     "output_type": "stream",
     "text": [
      "(32, 64, 64, 2)\n",
      "0.0\n"
     ]
    }
   ],
   "source": [
    "import tensorflow as tf\n",
    "import numpy as np\n",
    "\n",
    "logits = tf.random.uniform(shape=(32, 64, 64, 2))\n",
    "\n",
    "#logits = tf.constant([[4.0, 2.0], [1.0, 5.0,], [1.0, 5.0], [1.0, 6.0]])\n",
    "labels = tf.ones_like(logits)\n",
    "\n",
    "class_weights = np.ones(logits.shape)\n",
    "\n",
    "print(logits.shape)\n",
    "\n",
    "mask = np.zeros((logits.shape[0],logits.shape[1],logits.shape[2]),dtype='float32')\n",
    "\n",
    "#softmax = tf.nn.softmax(logits)\n",
    "\n",
    "result = WeightedCrossEntropyC(labels,softmax,class_weights,mask).numpy()\n",
    "\n",
    "print(result)"
   ]
  },
  {
   "cell_type": "code",
   "execution_count": 19,
   "metadata": {},
   "outputs": [
    {
     "name": "stdout",
     "output_type": "stream",
     "text": [
      "[-0.]\n",
      "-0.0\n",
      "tf.Tensor([[0.272556  0.9102269]], shape=(1, 2), dtype=float32)\n",
      "tf.Tensor([[0.272556  0.9102269]], shape=(1, 2), dtype=float32)\n"
     ]
    }
   ],
   "source": [
    "import tensorflow as tf \n",
    "\n",
    "x = tf.constant([[0.1,0.90]])\n",
    "y = tf.constant([[0.0,.0]])\n",
    "with tf.GradientTape(persistent=True) as g:\n",
    "  g.watch(x)\n",
    "  z = tf.keras.Sequential(\n",
    "         tf.keras.layers.Dense(2, activation = \"softmax\", use_bias = False)\n",
    "      )(x)\n",
    "  z1 = tf.losses.categorical_crossentropy(y, z)\n",
    "  z2 = tf.keras.losses.CategoricalCrossentropy()(y_true=y,y_pred=z)\n",
    "\n",
    "print(z1.numpy())\n",
    "print(z2.numpy())\n",
    "dz1_dx = g.gradient(z1, x)\n",
    "dz2_dx = g.gradient(z2, x)\n",
    "\n",
    "print(dz1_dx)\n",
    "print(dz2_dx)"
   ]
  },
  {
   "cell_type": "code",
   "execution_count": 114,
   "metadata": {},
   "outputs": [
    {
     "name": "stdout",
     "output_type": "stream",
     "text": [
      "-0.0\n",
      "tf.Tensor([[0. 0.]], shape=(1, 2), dtype=float32)\n"
     ]
    }
   ],
   "source": [
    "import tensorflow as tf \n",
    "\n",
    "x = tf.constant([[0.1,0.90]])\n",
    "y = tf.constant([[0.0,.0]])\n",
    "with tf.GradientTape() as g:\n",
    "  g.watch(x)\n",
    "  z = tf.keras.Sequential(\n",
    "         [tf.keras.layers.Dense(2, activation = \"linear\", use_bias = False),   \n",
    "          tf.keras.layers.Softmax()]\n",
    "      )(x)\n",
    "  #z = tf.losses.categorical_crossentropy(y, z)\n",
    "  z = tf.keras.losses.CategoricalCrossentropy()(y_true=y,y_pred=z)\n",
    "\n",
    "print(z.numpy())\n",
    "dz_dx = g.gradient(z, x)\n",
    "print(dz_dx)"
   ]
  },
  {
   "cell_type": "code",
   "execution_count": 193,
   "metadata": {},
   "outputs": [
    {
     "name": "stdout",
     "output_type": "stream",
     "text": [
      "[0.18024887]\n",
      "tf.Tensor([[0.3599367  0.04675311]], shape=(1, 2), dtype=float32)\n"
     ]
    }
   ],
   "source": [
    "import tensorflow as tf \n",
    "\n",
    "x = tf.constant([[0.1,0.90]])\n",
    "y = tf.constant([[0.0,.0]])\n",
    "\n",
    "with tf.GradientTape() as g:\n",
    "  g.watch(x)\n",
    "  z = tf.keras.Sequential([tf.keras.layers.Dense(2, activation = None, use_bias = False)])(x)\n",
    "  #z = tf.losses.categorical_crossentropy(y, z)\n",
    "  #z = tf.keras.losses.CategoricalCrossentropy(from_logits=True)(y_true=y,y_pred=z)\n",
    "  z = tf.compat.v1.nn.softmax_cross_entropy_with_logits(logits = x, labels = z)\n",
    "  #z = z * 0.\n",
    "\n",
    "print(z.numpy())\n",
    "\n",
    "dz_dx = g.gradient(z, x)\n",
    "\n",
    "print(dz_dx)"
   ]
  },
  {
   "cell_type": "code",
   "execution_count": 198,
   "metadata": {},
   "outputs": [
    {
     "name": "stdout",
     "output_type": "stream",
     "text": [
      "[ 1  4  9 16]\n",
      "[ 1  4  9 16]\n"
     ]
    }
   ],
   "source": [
    "x = tf.constant(([1, 2, 3, 4]))\n",
    "\n",
    "r = tf.math.multiply(x, x)\n",
    "r2 = x * x\n",
    "\n",
    "print(r.numpy())\n",
    "print(r2.numpy())"
   ]
  },
  {
   "cell_type": "code",
   "execution_count": 203,
   "metadata": {},
   "outputs": [
    {
     "name": "stdout",
     "output_type": "stream",
     "text": [
      "10\n",
      "20\n",
      "2.0\n",
      "5\n"
     ]
    }
   ],
   "source": [
    "x = tf.constant(([1, 2, 3, 4]))\n",
    "y = tf.constant(([2, 2, 2, 2]))\n",
    "\n",
    "z = tf.reduce_sum(x * y)\n",
    "\n",
    "z2 = tf.reduce_sum(x * y) / tf.reduce_sum(x)\n",
    "\n",
    "z3 = tf.reduce_mean(x * y)\n",
    "\n",
    "print(tf.reduce_sum(x).numpy())\n",
    "print(z.numpy())\n",
    "print(z2.numpy())\n",
    "print(z3.numpy())"
   ]
  },
  {
   "cell_type": "code",
   "execution_count": 205,
   "metadata": {},
   "outputs": [
    {
     "name": "stdout",
     "output_type": "stream",
     "text": [
      "[[0.1135049  0.08714671]\n",
      " [0.82194652 0.74931798]\n",
      " [0.24011771 0.72982647]\n",
      " [0.54372687 0.78045364]\n",
      " [0.09572338 0.70460085]\n",
      " [0.93103652 0.74013777]\n",
      " [0.51722328 0.30960864]\n",
      " [0.41615187 0.82534944]]\n",
      "[[0. 0.]\n",
      " [0. 0.]\n",
      " [0. 0.]\n",
      " [0. 0.]\n",
      " [0. 0.]\n",
      " [0. 0.]\n",
      " [0. 0.]\n",
      " [0. 0.]]\n"
     ]
    }
   ],
   "source": [
    "import numpy as np\n",
    "\n",
    "# Initialize array with shape (32, 2) with random numbers\n",
    "random_array = np.random.rand(8, 2)\n",
    "\n",
    "# Create an array of ones with shape (32, 1) based on the previous array\n",
    "ones_array = np.zero((8, 1))\n",
    "\n",
    "# Multiply both arrays\n",
    "result_array = random_array * ones_array\n",
    "\n",
    "print(random_array)\n",
    "\n",
    "print(result_array)\n"
   ]
  },
  {
   "cell_type": "code",
   "execution_count": 209,
   "metadata": {},
   "outputs": [
    {
     "name": "stdout",
     "output_type": "stream",
     "text": [
      "[[0.25895888 0.20271039]\n",
      " [0.29519131 0.98162962]\n",
      " [0.52580565 0.40439968]\n",
      " [0.05505987 0.49319569]]\n",
      "[[1. 1.]\n",
      " [1. 1.]\n",
      " [1. 1.]\n",
      " [1. 1.]]\n",
      "[[0.25895888 0.20271039]\n",
      " [0.29519131 0.98162962]\n",
      " [0.52580565 0.40439968]\n",
      " [0.05505987 0.49319569]]\n"
     ]
    }
   ],
   "source": [
    "import numpy as np\n",
    "\n",
    "# Initialize array with shape (32, 2) with random numbers\n",
    "random_array = np.random.rand(4, 2)\n",
    "\n",
    "# Create an array of ones with the same shape as random_array\n",
    "ones_array = np.ones_like(random_array)\n",
    "\n",
    "print(random_array)\n",
    "\n",
    "print(ones_array)\n",
    "\n",
    "result_array = random_array * ones_array\n",
    "\n",
    "print(result_array)\n"
   ]
  },
  {
   "cell_type": "code",
   "execution_count": 237,
   "metadata": {},
   "outputs": [
    {
     "name": "stdout",
     "output_type": "stream",
     "text": [
      "[0 1 2 3 4 0 1 2 3 4]\n",
      "True\n"
     ]
    }
   ],
   "source": [
    "index = []\n",
    "\n",
    "\n",
    "index.append(np.arange(5))\n",
    "index.append(np.arange(5))\n",
    "\n",
    "index = np.concatenate(index)\n",
    "\n",
    "print(index)\n",
    "\n",
    "print(0. == 0)\n"
   ]
  },
  {
   "cell_type": "code",
   "execution_count": 238,
   "metadata": {},
   "outputs": [
    {
     "data": {
      "text/plain": [
       "'float32'"
      ]
     },
     "execution_count": 238,
     "metadata": {},
     "output_type": "execute_result"
    }
   ],
   "source": [
    "import tensorflow as tf\n",
    "tf.keras.backend.floatx()"
   ]
  },
  {
   "cell_type": "code",
   "execution_count": 251,
   "metadata": {},
   "outputs": [
    {
     "name": "stdout",
     "output_type": "stream",
     "text": [
      "[[0.79506518]\n",
      " [0.62399501]\n",
      " [0.62136433]\n",
      " [0.66451082]]\n"
     ]
    },
    {
     "ename": "ValueError",
     "evalue": "could not broadcast input array from shape (4,1) into shape (4,2,2)",
     "output_type": "error",
     "traceback": [
      "\u001b[0;31m---------------------------------------------------------------------------\u001b[0m",
      "\u001b[0;31mValueError\u001b[0m                                Traceback (most recent call last)",
      "Cell \u001b[0;32mIn[251], line 9\u001b[0m\n\u001b[1;32m      5\u001b[0m val \u001b[38;5;241m=\u001b[39m np\u001b[38;5;241m.\u001b[39mrandom\u001b[38;5;241m.\u001b[39mrand(\u001b[38;5;241m4\u001b[39m,\u001b[38;5;241m1\u001b[39m)\n\u001b[1;32m      7\u001b[0m \u001b[38;5;28mprint\u001b[39m(val)\n\u001b[0;32m----> 9\u001b[0m domain_mask_segmentation_vl[:,:,:,\u001b[38;5;241m0\u001b[39m] \u001b[38;5;241m=\u001b[39m val\n\u001b[1;32m     11\u001b[0m \u001b[38;5;28mprint\u001b[39m(domain_mask_segmentation_vl)\n\u001b[1;32m     13\u001b[0m \u001b[38;5;28mprint\u001b[39m(domain_mask_segmentation_vl\u001b[38;5;241m.\u001b[39mshape)\n",
      "\u001b[0;31mValueError\u001b[0m: could not broadcast input array from shape (4,1) into shape (4,2,2)"
     ]
    }
   ],
   "source": [
    "import numpy as np\n",
    "\n",
    "domain_mask_segmentation_vl = np.zeros((4,2,2,2))\n",
    "\n",
    "val = np.random.rand(4,1)\n",
    "\n",
    "print(val)\n",
    "\n",
    "domain_mask_segmentation_vl[:,:,:,0] = val\n",
    "\n",
    "print(domain_mask_segmentation_vl)\n",
    "\n",
    "print(domain_mask_segmentation_vl.shape)"
   ]
  },
  {
   "cell_type": "code",
   "execution_count": 273,
   "metadata": {},
   "outputs": [
    {
     "name": "stdout",
     "output_type": "stream",
     "text": [
      "(4, 1, 1, 1)\n",
      "[[0.14077905]\n",
      " [0.70123769]\n",
      " [0.18585102]\n",
      " [0.56573741]]\n",
      "************\n"
     ]
    }
   ],
   "source": [
    "import numpy as np\n",
    "\n",
    "# Create arrays\n",
    "array_1 = np.random.rand(4, 1)  # Shape: (4, 1)\n",
    "array_2 = np.random.rand(4, 2, 2, 2)  # Shape: (4, 2, 2, 2)\n",
    "\n",
    "# Reshape array_1 to match the shape of array_2\n",
    "reshaped_array_1 = np.random.rand(4, 1)[:, np.newaxis, np.newaxis, :]  # Reshape to (4, 1, 1)\n",
    "\n",
    "print(reshaped_array_1.shape)\n",
    "\n",
    "# Assign values from reshaped_array_1 to array_2\n",
    "array_2[:, :, :, :] = reshaped_array_1  # Assign the values along the last axis (axis index 0)\n",
    "\n",
    "print(array_1)\n",
    "\n",
    "print(\"************\")\n",
    "\n",
    "\n"
   ]
  },
  {
   "cell_type": "code",
   "execution_count": 275,
   "metadata": {},
   "outputs": [
    {
     "name": "stdout",
     "output_type": "stream",
     "text": [
      "0.47782921791324184\n"
     ]
    }
   ],
   "source": [
    "print(array_2[3,1,1,1])"
   ]
  },
  {
   "cell_type": "code",
   "execution_count": 14,
   "metadata": {},
   "outputs": [
    {
     "ename": "TypeError",
     "evalue": "only integer scalar arrays can be converted to a scalar index",
     "output_type": "error",
     "traceback": [
      "\u001b[0;31m---------------------------------------------------------------------------\u001b[0m",
      "\u001b[0;31mTypeError\u001b[0m                                 Traceback (most recent call last)",
      "Cell \u001b[0;32mIn[14], line 12\u001b[0m\n\u001b[1;32m      9\u001b[0m X \u001b[38;5;241m=\u001b[39m np\u001b[38;5;241m.\u001b[39mrandom\u001b[38;5;241m.\u001b[39mnormal(loc\u001b[38;5;241m=\u001b[39m\u001b[38;5;241m0\u001b[39m, scale\u001b[38;5;241m=\u001b[39m\u001b[38;5;241m1\u001b[39m, size\u001b[38;5;241m=\u001b[39m(\u001b[38;5;241m32\u001b[39m, \u001b[38;5;241m8\u001b[39m, \u001b[38;5;241m8\u001b[39m, \u001b[38;5;241m256\u001b[39m))\n\u001b[1;32m     10\u001b[0m Y \u001b[38;5;241m=\u001b[39m np\u001b[38;5;241m.\u001b[39mrandom\u001b[38;5;241m.\u001b[39mnormal(loc\u001b[38;5;241m=\u001b[39m\u001b[38;5;241m0\u001b[39m, scale\u001b[38;5;241m=\u001b[39m\u001b[38;5;241m1\u001b[39m, size\u001b[38;5;241m=\u001b[39m(\u001b[38;5;241m32\u001b[39m,))\n\u001b[0;32m---> 12\u001b[0m res \u001b[38;5;241m=\u001b[39m \u001b[43mnp\u001b[49m\u001b[38;5;241;43m.\u001b[39;49m\u001b[43mconcatenate\u001b[49m\u001b[43m(\u001b[49m\u001b[43mX\u001b[49m\u001b[43m,\u001b[49m\u001b[43mY\u001b[49m\u001b[43m)\u001b[49m\n\u001b[1;32m     14\u001b[0m X \u001b[38;5;241m=\u001b[39m res\u001b[38;5;241m.\u001b[39mreshape(res\u001b[38;5;241m.\u001b[39mshape[\u001b[38;5;241m0\u001b[39m], \u001b[38;5;241m-\u001b[39m\u001b[38;5;241m1\u001b[39m)\n\u001b[1;32m     16\u001b[0m pca \u001b[38;5;241m=\u001b[39m PCA(n_components\u001b[38;5;241m=\u001b[39m\u001b[38;5;241m2\u001b[39m)\n",
      "File \u001b[0;32m<__array_function__ internals>:180\u001b[0m, in \u001b[0;36mconcatenate\u001b[0;34m(*args, **kwargs)\u001b[0m\n",
      "\u001b[0;31mTypeError\u001b[0m: only integer scalar arrays can be converted to a scalar index"
     ]
    }
   ],
   "source": [
    "from sklearn.manifold import TSNE\n",
    "import matplotlib.pyplot as plt\n",
    "from sklearn.decomposition import PCA\n",
    "\n",
    "import numpy as np\n",
    "\n",
    "# Example data (replace this with your own data)\n",
    "#X = np.random.rand(shape=(32, 8, 8, 256))  # 100 samples with 10 features each\n",
    "X = np.random.normal(loc=0, scale=1, size=(32, 8, 8, 256))\n",
    "Y = np.random.normal(loc=0, scale=1, size=(32,))\n",
    "\n",
    "res = np.concatenate(X,Y)\n",
    "\n",
    "X = res.reshape(res.shape[0], -1)\n",
    "\n",
    "pca = PCA(n_components=2)\n",
    "reduced_data = pca.fit_transform(X)\n",
    "\n",
    "# Instantiate t-SNE with desired parameters\n",
    "tsne = TSNE(n_components=2, perplexity=30, learning_rate=200)\n",
    "\n",
    "# Fit the model to your data\n",
    "X_embedded = tsne.fit_transform(reduced_data)\n",
    "\n",
    "# Plot the embedded data\n",
    "plt.figure(figsize=(10, 8))\n",
    "plt.scatter(X_embedded[:, 0], X_embedded[:, 1], marker='o', c='b', s=50, alpha=0.5)\n",
    "plt.title('t-SNE Visualization')\n",
    "plt.xlabel('t-SNE Dimension 1')\n",
    "plt.ylabel('t-SNE Dimension 2')\n",
    "plt.grid(True)\n",
    "plt.show()\n",
    "\n",
    "\n"
   ]
  },
  {
   "cell_type": "code",
   "execution_count": 3,
   "metadata": {},
   "outputs": [
    {
     "data": {
      "image/png": "[encoded data removed]",
      "text/plain": [
       "<Figure size 1000x800 with 1 Axes>"
      ]
     },
     "metadata": {},
     "output_type": "display_data"
    }
   ],
   "source": [
    "import numpy as np\n",
    "from sklearn.manifold import TSNE\n",
    "X = np.array([[0, 0, 0], [0, 1, 1], [1, 0, 1], [1, 1, 1]])\n",
    "X_embedded = TSNE(n_components=2, learning_rate='auto',\n",
    "                  init='random', perplexity=3).fit_transform(X)\n",
    "X_embedded.shape\n",
    "\n",
    "\n",
    "\n",
    "# Plot the embedded data\n",
    "plt.figure(figsize=(10, 8))\n",
    "plt.scatter(X_embedded[:, 0], X_embedded[:, 1], marker='o', c='b', s=50, alpha=0.5)\n",
    "plt.title('t-SNE Visualization')\n",
    "plt.xlabel('t-SNE Dimension 1')\n",
    "plt.ylabel('t-SNE Dimension 2')\n",
    "plt.grid(True)\n",
    "plt.show()"
   ]
  },
  {
   "cell_type": "code",
   "execution_count": 1,
   "metadata": {},
   "outputs": [
    {
     "name": "stdout",
     "output_type": "stream",
     "text": [
      "/device:GPU:0\n"
     ]
    },
    {
     "name": "stderr",
     "output_type": "stream",
     "text": [
      "2024-04-11 17:21:22.869140: I metal_plugin/src/device/metal_device.cc:1154] Metal device set to: Apple M2\n",
      "2024-04-11 17:21:22.869159: I metal_plugin/src/device/metal_device.cc:296] systemMemory: 8.00 GB\n",
      "2024-04-11 17:21:22.869164: I metal_plugin/src/device/metal_device.cc:313] maxCacheSize: 2.67 GB\n",
      "2024-04-11 17:21:22.869561: I tensorflow/core/common_runtime/pluggable_device/pluggable_device_factory.cc:303] Could not identify NUMA node of platform GPU ID 0, defaulting to 0. Your kernel may not have been built with NUMA support.\n",
      "2024-04-11 17:21:22.869860: I tensorflow/core/common_runtime/pluggable_device/pluggable_device_factory.cc:269] Created TensorFlow device (/device:GPU:0 with 0 MB memory) -> physical PluggableDevice (device: 0, name: METAL, pci bus id: <undefined>)\n"
     ]
    }
   ],
   "source": [
    "import tensorflow as tf\n",
    "\n",
    "print(tf.test.gpu_device_name())"
   ]
  },
  {
   "cell_type": "code",
   "execution_count": 15,
   "metadata": {},
   "outputs": [
    {
     "data": {
      "text/plain": [
       "True"
      ]
     },
     "execution_count": 15,
     "metadata": {},
     "output_type": "execute_result"
    }
   ],
   "source": [
    "'relu' == \"relu\""
   ]
  }
 ],
 "metadata": {
  "kernelspec": {
   "display_name": "tf2env",
   "language": "python",
   "name": "python3"
  },
  "language_info": {
   "codemirror_mode": {
    "name": "ipython",
    "version": 3
   },
   "file_extension": ".py",
   "mimetype": "text/x-python",
   "name": "python",
   "nbconvert_exporter": "python",
   "pygments_lexer": "ipython3",
   "version": "3.11.8"
  }
 },
 "nbformat": 4,
 "nbformat_minor": 2
}
